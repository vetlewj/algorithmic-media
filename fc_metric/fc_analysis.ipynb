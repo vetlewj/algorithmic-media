{
 "cells": [
  {
   "cell_type": "code",
   "execution_count": 26,
   "id": "initial_id",
   "metadata": {
    "ExecuteTime": {
     "end_time": "2024-11-26T18:18:41.856597Z",
     "start_time": "2024-11-26T18:18:41.188837Z"
    },
    "collapsed": true
   },
   "outputs": [],
   "source": [
    "import pandas as pd\n",
    "import numpy as np\n",
    "import seaborn as sns\n",
    "from scipy import stats\n",
    "import matplotlib.pyplot as plt"
   ]
  },
  {
   "cell_type": "code",
   "execution_count": 3,
   "id": "ccbfc2a54c7a9183",
   "metadata": {
    "ExecuteTime": {
     "end_time": "2024-11-26T18:21:42.238415Z",
     "start_time": "2024-11-26T18:21:41.593587Z"
    }
   },
   "outputs": [],
   "source": [
    "df = pd.read_csv(f\"../data/combined_for_analysis_sensationalism_jargon_categories_domain_labels.csv\")\n",
    "df_fc_scores = pd.read_csv(f\"../data/identifiers_and_abstracts/repo_filtered_data_DOIs_vetle_fc_scores.csv\")"
   ]
  },
  {
   "cell_type": "code",
   "execution_count": 7,
   "id": "30169076bdbcbe3",
   "metadata": {
    "ExecuteTime": {
     "end_time": "2024-11-26T18:21:46.274784Z",
     "start_time": "2024-11-26T18:21:46.079635Z"
    }
   },
   "outputs": [
    {
     "data": {
      "text/html": [
       "<div>\n",
       "<style scoped>\n",
       "    .dataframe tbody tr th:only-of-type {\n",
       "        vertical-align: middle;\n",
       "    }\n",
       "\n",
       "    .dataframe tbody tr th {\n",
       "        vertical-align: top;\n",
       "    }\n",
       "\n",
       "    .dataframe thead th {\n",
       "        text-align: right;\n",
       "    }\n",
       "</style>\n",
       "<table border=\"1\" class=\"dataframe\">\n",
       "  <thead>\n",
       "    <tr style=\"text-align: right;\">\n",
       "      <th></th>\n",
       "      <th>Unnamed: 0</th>\n",
       "      <th>year</th>\n",
       "      <th>month</th>\n",
       "      <th>title_x</th>\n",
       "      <th>link_flair_text</th>\n",
       "      <th>domain</th>\n",
       "      <th>score</th>\n",
       "      <th>num_comments</th>\n",
       "      <th>sensationalism_score</th>\n",
       "      <th>jargon_proportion</th>\n",
       "      <th>...</th>\n",
       "      <th>is_top_domain_unknown</th>\n",
       "      <th>label_voting_lm</th>\n",
       "      <th>label_voting_manual</th>\n",
       "      <th>top_category</th>\n",
       "      <th>title_y</th>\n",
       "      <th>url_y</th>\n",
       "      <th>identifier</th>\n",
       "      <th>sem_scholar_title</th>\n",
       "      <th>sem_scholar_abstract</th>\n",
       "      <th>fc_score</th>\n",
       "    </tr>\n",
       "  </thead>\n",
       "  <tbody>\n",
       "    <tr>\n",
       "      <th>0</th>\n",
       "      <td>5</td>\n",
       "      <td>2018</td>\n",
       "      <td>3</td>\n",
       "      <td>Firearm Injuries Drop 20 Percent When Gun Owne...</td>\n",
       "      <td>Biology</td>\n",
       "      <td>nejm.org</td>\n",
       "      <td>84</td>\n",
       "      <td>22</td>\n",
       "      <td>0.530595</td>\n",
       "      <td>0.000000</td>\n",
       "      <td>...</td>\n",
       "      <td>False</td>\n",
       "      <td>repo</td>\n",
       "      <td>repo</td>\n",
       "      <td>Life Sciences</td>\n",
       "      <td>Firearm Injuries Drop 20 Percent When Gun Owne...</td>\n",
       "      <td>http://www.nejm.org/doi/full/10.1056/NEJMc1712773</td>\n",
       "      <td>DOI:10.1056/NEJMc1712773</td>\n",
       "      <td>Reduction in Firearm Injuries during NRA Annua...</td>\n",
       "      <td>Decline in Firearm Injuries during NRA Convent...</td>\n",
       "      <td>4</td>\n",
       "    </tr>\n",
       "    <tr>\n",
       "      <th>1</th>\n",
       "      <td>19</td>\n",
       "      <td>2018</td>\n",
       "      <td>3</td>\n",
       "      <td>Supplementation with probiotics during late pr...</td>\n",
       "      <td>Health</td>\n",
       "      <td>journals.plos.org</td>\n",
       "      <td>8</td>\n",
       "      <td>1</td>\n",
       "      <td>0.482136</td>\n",
       "      <td>0.314286</td>\n",
       "      <td>...</td>\n",
       "      <td>False</td>\n",
       "      <td>scientific</td>\n",
       "      <td>scientific</td>\n",
       "      <td>Life Sciences</td>\n",
       "      <td>Supplementation with probiotics during late pr...</td>\n",
       "      <td>http://journals.plos.org/plosmedicine/article?...</td>\n",
       "      <td>DOI:10.1371/journal.pmed.1002507</td>\n",
       "      <td>Diet during pregnancy and infancy and risk of ...</td>\n",
       "      <td>Background There is uncertainty about the infl...</td>\n",
       "      <td>5</td>\n",
       "    </tr>\n",
       "    <tr>\n",
       "      <th>2</th>\n",
       "      <td>33</td>\n",
       "      <td>2018</td>\n",
       "      <td>3</td>\n",
       "      <td>Undisclosed Conflicts of Interests among Biome...</td>\n",
       "      <td>Social Science</td>\n",
       "      <td>ncbi.nlm.nih.gov</td>\n",
       "      <td>263</td>\n",
       "      <td>21</td>\n",
       "      <td>0.511708</td>\n",
       "      <td>0.086957</td>\n",
       "      <td>...</td>\n",
       "      <td>False</td>\n",
       "      <td>repo</td>\n",
       "      <td>repo</td>\n",
       "      <td>Social Sciences</td>\n",
       "      <td>Undisclosed Conflicts of Interests among Biome...</td>\n",
       "      <td>https://www.ncbi.nlm.nih.gov/pubmed/29400625</td>\n",
       "      <td>PMID:29400625</td>\n",
       "      <td>Undisclosed conflicts of interest among biomed...</td>\n",
       "      <td>ABSTRACT Background: Textbooks are a formative...</td>\n",
       "      <td>5</td>\n",
       "    </tr>\n",
       "    <tr>\n",
       "      <th>3</th>\n",
       "      <td>53</td>\n",
       "      <td>2018</td>\n",
       "      <td>3</td>\n",
       "      <td>One more species of Tardigrade (famed for thei...</td>\n",
       "      <td>Animal Science</td>\n",
       "      <td>journals.plos.org</td>\n",
       "      <td>37</td>\n",
       "      <td>8</td>\n",
       "      <td>0.525921</td>\n",
       "      <td>0.000000</td>\n",
       "      <td>...</td>\n",
       "      <td>False</td>\n",
       "      <td>scientific</td>\n",
       "      <td>scientific</td>\n",
       "      <td>Life Sciences</td>\n",
       "      <td>One more species of Tardigrade (famed for thei...</td>\n",
       "      <td>http://journals.plos.org/plosone/article?id=10...</td>\n",
       "      <td>DOI:10.1371/journal.pone.0192210</td>\n",
       "      <td>An integrative description of Macrobiotus shon...</td>\n",
       "      <td>Tardigrade research in Japan dates back over 1...</td>\n",
       "      <td>2</td>\n",
       "    </tr>\n",
       "    <tr>\n",
       "      <th>4</th>\n",
       "      <td>57</td>\n",
       "      <td>2018</td>\n",
       "      <td>3</td>\n",
       "      <td>There's a20% reduction in gun injuries during ...</td>\n",
       "      <td>Health</td>\n",
       "      <td>nejm.org</td>\n",
       "      <td>14</td>\n",
       "      <td>7</td>\n",
       "      <td>0.478481</td>\n",
       "      <td>0.058824</td>\n",
       "      <td>...</td>\n",
       "      <td>False</td>\n",
       "      <td>repo</td>\n",
       "      <td>repo</td>\n",
       "      <td>Life Sciences</td>\n",
       "      <td>There's a20% reduction in gun injuries during ...</td>\n",
       "      <td>http://www.nejm.org/doi/full/10.1056/NEJMc1712773</td>\n",
       "      <td>DOI:10.1056/NEJMc1712773</td>\n",
       "      <td>Reduction in Firearm Injuries during NRA Annua...</td>\n",
       "      <td>Decline in Firearm Injuries during NRA Convent...</td>\n",
       "      <td>4</td>\n",
       "    </tr>\n",
       "    <tr>\n",
       "      <th>...</th>\n",
       "      <td>...</td>\n",
       "      <td>...</td>\n",
       "      <td>...</td>\n",
       "      <td>...</td>\n",
       "      <td>...</td>\n",
       "      <td>...</td>\n",
       "      <td>...</td>\n",
       "      <td>...</td>\n",
       "      <td>...</td>\n",
       "      <td>...</td>\n",
       "      <td>...</td>\n",
       "      <td>...</td>\n",
       "      <td>...</td>\n",
       "      <td>...</td>\n",
       "      <td>...</td>\n",
       "      <td>...</td>\n",
       "      <td>...</td>\n",
       "      <td>...</td>\n",
       "      <td>...</td>\n",
       "      <td>...</td>\n",
       "      <td>...</td>\n",
       "    </tr>\n",
       "    <tr>\n",
       "      <th>5753</th>\n",
       "      <td>197738</td>\n",
       "      <td>2019</td>\n",
       "      <td>10</td>\n",
       "      <td>Statements about building walls, deportation a...</td>\n",
       "      <td>Social Science</td>\n",
       "      <td>journals.plos.org</td>\n",
       "      <td>0</td>\n",
       "      <td>4</td>\n",
       "      <td>0.554148</td>\n",
       "      <td>0.263158</td>\n",
       "      <td>...</td>\n",
       "      <td>False</td>\n",
       "      <td>scientific</td>\n",
       "      <td>scientific</td>\n",
       "      <td>Social Sciences</td>\n",
       "      <td>Statements about building walls, deportation a...</td>\n",
       "      <td>https://journals.plos.org/plosone/article?id=1...</td>\n",
       "      <td>DOI:10.1371/journal.pone.0222837</td>\n",
       "      <td>Declared impact of the US President’s statemen...</td>\n",
       "      <td>Statements about building walls, deportation a...</td>\n",
       "      <td>5</td>\n",
       "    </tr>\n",
       "    <tr>\n",
       "      <th>5754</th>\n",
       "      <td>197742</td>\n",
       "      <td>2019</td>\n",
       "      <td>10</td>\n",
       "      <td>Many college students will uncritically accept...</td>\n",
       "      <td>Social Science</td>\n",
       "      <td>journals.plos.org</td>\n",
       "      <td>170</td>\n",
       "      <td>25</td>\n",
       "      <td>0.543118</td>\n",
       "      <td>0.100000</td>\n",
       "      <td>...</td>\n",
       "      <td>False</td>\n",
       "      <td>scientific</td>\n",
       "      <td>scientific</td>\n",
       "      <td>Social Sciences</td>\n",
       "      <td>Many college students will uncritically accept...</td>\n",
       "      <td>https://journals.plos.org/plosone/article?id=1...</td>\n",
       "      <td>DOI:10.1371/journal.pone.0223736</td>\n",
       "      <td>When calculators lie: A demonstration of uncri...</td>\n",
       "      <td>Calculators are often unnecessary to solve rou...</td>\n",
       "      <td>4</td>\n",
       "    </tr>\n",
       "    <tr>\n",
       "      <th>5755</th>\n",
       "      <td>197760</td>\n",
       "      <td>2019</td>\n",
       "      <td>10</td>\n",
       "      <td>New method for making polymers with perfectly ...</td>\n",
       "      <td>Chemistry</td>\n",
       "      <td>pubs.acs.org</td>\n",
       "      <td>148</td>\n",
       "      <td>8</td>\n",
       "      <td>0.503372</td>\n",
       "      <td>0.171429</td>\n",
       "      <td>...</td>\n",
       "      <td>False</td>\n",
       "      <td>repo</td>\n",
       "      <td>repo</td>\n",
       "      <td>Physical Sciences</td>\n",
       "      <td>New method for making polymers with perfectly ...</td>\n",
       "      <td>https://pubs.acs.org/doi/10.1021/jacs.9b08240</td>\n",
       "      <td>DOI:10.1021/jacs.9b08240</td>\n",
       "      <td>Homogenous Synthesis of Monodisperse High Olig...</td>\n",
       "      <td>Whereas monodisperse polymers are ubiquitous i...</td>\n",
       "      <td>4</td>\n",
       "    </tr>\n",
       "    <tr>\n",
       "      <th>5756</th>\n",
       "      <td>197779</td>\n",
       "      <td>2019</td>\n",
       "      <td>10</td>\n",
       "      <td>Research Shows That Doing a Bad Job Wrapping P...</td>\n",
       "      <td>Social Science</td>\n",
       "      <td>onlinelibrary.wiley.com</td>\n",
       "      <td>175</td>\n",
       "      <td>15</td>\n",
       "      <td>0.589604</td>\n",
       "      <td>0.000000</td>\n",
       "      <td>...</td>\n",
       "      <td>False</td>\n",
       "      <td>scientific</td>\n",
       "      <td>scientific</td>\n",
       "      <td>Social Sciences</td>\n",
       "      <td>Research Shows That Doing a Bad Job Wrapping P...</td>\n",
       "      <td>https://onlinelibrary.wiley.com/doi/epdf/10.10...</td>\n",
       "      <td>DOI:10.1002/jcpy.1140</td>\n",
       "      <td>Presentation Matters: The Effect of Wrapping N...</td>\n",
       "      <td>While gift-givers typically wrap gifts prior t...</td>\n",
       "      <td>2</td>\n",
       "    </tr>\n",
       "    <tr>\n",
       "      <th>5757</th>\n",
       "      <td>197784</td>\n",
       "      <td>2019</td>\n",
       "      <td>10</td>\n",
       "      <td>New flame retardants in electronics and childr...</td>\n",
       "      <td>Environment</td>\n",
       "      <td>pubs.acs.org</td>\n",
       "      <td>1</td>\n",
       "      <td>0</td>\n",
       "      <td>0.541337</td>\n",
       "      <td>0.142857</td>\n",
       "      <td>...</td>\n",
       "      <td>False</td>\n",
       "      <td>repo</td>\n",
       "      <td>repo</td>\n",
       "      <td>Environmental Sciences</td>\n",
       "      <td>New flame retardants in electronics and childr...</td>\n",
       "      <td>https://pubs.acs.org/doi/abs/10.1021/acs.estle...</td>\n",
       "      <td>DOI:10.1021/acs.estlett.9b00582</td>\n",
       "      <td>Organophosphate Ester Flame Retardants: Are Th...</td>\n",
       "      <td>As the use of polybrominated diphenyl ethers (...</td>\n",
       "      <td>2</td>\n",
       "    </tr>\n",
       "  </tbody>\n",
       "</table>\n",
       "<p>5758 rows × 29 columns</p>\n",
       "</div>"
      ],
      "text/plain": [
       "      Unnamed: 0  year  month  \\\n",
       "0              5  2018      3   \n",
       "1             19  2018      3   \n",
       "2             33  2018      3   \n",
       "3             53  2018      3   \n",
       "4             57  2018      3   \n",
       "...          ...   ...    ...   \n",
       "5753      197738  2019     10   \n",
       "5754      197742  2019     10   \n",
       "5755      197760  2019     10   \n",
       "5756      197779  2019     10   \n",
       "5757      197784  2019     10   \n",
       "\n",
       "                                                title_x link_flair_text  \\\n",
       "0     Firearm Injuries Drop 20 Percent When Gun Owne...         Biology   \n",
       "1     Supplementation with probiotics during late pr...          Health   \n",
       "2     Undisclosed Conflicts of Interests among Biome...  Social Science   \n",
       "3     One more species of Tardigrade (famed for thei...  Animal Science   \n",
       "4     There's a20% reduction in gun injuries during ...          Health   \n",
       "...                                                 ...             ...   \n",
       "5753  Statements about building walls, deportation a...  Social Science   \n",
       "5754  Many college students will uncritically accept...  Social Science   \n",
       "5755  New method for making polymers with perfectly ...       Chemistry   \n",
       "5756  Research Shows That Doing a Bad Job Wrapping P...  Social Science   \n",
       "5757  New flame retardants in electronics and childr...     Environment   \n",
       "\n",
       "                       domain  score  num_comments  sensationalism_score  \\\n",
       "0                    nejm.org     84            22              0.530595   \n",
       "1           journals.plos.org      8             1              0.482136   \n",
       "2            ncbi.nlm.nih.gov    263            21              0.511708   \n",
       "3           journals.plos.org     37             8              0.525921   \n",
       "4                    nejm.org     14             7              0.478481   \n",
       "...                       ...    ...           ...                   ...   \n",
       "5753        journals.plos.org      0             4              0.554148   \n",
       "5754        journals.plos.org    170            25              0.543118   \n",
       "5755             pubs.acs.org    148             8              0.503372   \n",
       "5756  onlinelibrary.wiley.com    175            15              0.589604   \n",
       "5757             pubs.acs.org      1             0              0.541337   \n",
       "\n",
       "      jargon_proportion  ... is_top_domain_unknown label_voting_lm  \\\n",
       "0              0.000000  ...                 False            repo   \n",
       "1              0.314286  ...                 False      scientific   \n",
       "2              0.086957  ...                 False            repo   \n",
       "3              0.000000  ...                 False      scientific   \n",
       "4              0.058824  ...                 False            repo   \n",
       "...                 ...  ...                   ...             ...   \n",
       "5753           0.263158  ...                 False      scientific   \n",
       "5754           0.100000  ...                 False      scientific   \n",
       "5755           0.171429  ...                 False            repo   \n",
       "5756           0.000000  ...                 False      scientific   \n",
       "5757           0.142857  ...                 False            repo   \n",
       "\n",
       "      label_voting_manual            top_category  \\\n",
       "0                    repo           Life Sciences   \n",
       "1              scientific           Life Sciences   \n",
       "2                    repo         Social Sciences   \n",
       "3              scientific           Life Sciences   \n",
       "4                    repo           Life Sciences   \n",
       "...                   ...                     ...   \n",
       "5753           scientific         Social Sciences   \n",
       "5754           scientific         Social Sciences   \n",
       "5755                 repo       Physical Sciences   \n",
       "5756           scientific         Social Sciences   \n",
       "5757                 repo  Environmental Sciences   \n",
       "\n",
       "                                                title_y  \\\n",
       "0     Firearm Injuries Drop 20 Percent When Gun Owne...   \n",
       "1     Supplementation with probiotics during late pr...   \n",
       "2     Undisclosed Conflicts of Interests among Biome...   \n",
       "3     One more species of Tardigrade (famed for thei...   \n",
       "4     There's a20% reduction in gun injuries during ...   \n",
       "...                                                 ...   \n",
       "5753  Statements about building walls, deportation a...   \n",
       "5754  Many college students will uncritically accept...   \n",
       "5755  New method for making polymers with perfectly ...   \n",
       "5756  Research Shows That Doing a Bad Job Wrapping P...   \n",
       "5757  New flame retardants in electronics and childr...   \n",
       "\n",
       "                                                  url_y  \\\n",
       "0     http://www.nejm.org/doi/full/10.1056/NEJMc1712773   \n",
       "1     http://journals.plos.org/plosmedicine/article?...   \n",
       "2          https://www.ncbi.nlm.nih.gov/pubmed/29400625   \n",
       "3     http://journals.plos.org/plosone/article?id=10...   \n",
       "4     http://www.nejm.org/doi/full/10.1056/NEJMc1712773   \n",
       "...                                                 ...   \n",
       "5753  https://journals.plos.org/plosone/article?id=1...   \n",
       "5754  https://journals.plos.org/plosone/article?id=1...   \n",
       "5755      https://pubs.acs.org/doi/10.1021/jacs.9b08240   \n",
       "5756  https://onlinelibrary.wiley.com/doi/epdf/10.10...   \n",
       "5757  https://pubs.acs.org/doi/abs/10.1021/acs.estle...   \n",
       "\n",
       "                            identifier  \\\n",
       "0             DOI:10.1056/NEJMc1712773   \n",
       "1     DOI:10.1371/journal.pmed.1002507   \n",
       "2                        PMID:29400625   \n",
       "3     DOI:10.1371/journal.pone.0192210   \n",
       "4             DOI:10.1056/NEJMc1712773   \n",
       "...                                ...   \n",
       "5753  DOI:10.1371/journal.pone.0222837   \n",
       "5754  DOI:10.1371/journal.pone.0223736   \n",
       "5755          DOI:10.1021/jacs.9b08240   \n",
       "5756             DOI:10.1002/jcpy.1140   \n",
       "5757   DOI:10.1021/acs.estlett.9b00582   \n",
       "\n",
       "                                      sem_scholar_title  \\\n",
       "0     Reduction in Firearm Injuries during NRA Annua...   \n",
       "1     Diet during pregnancy and infancy and risk of ...   \n",
       "2     Undisclosed conflicts of interest among biomed...   \n",
       "3     An integrative description of Macrobiotus shon...   \n",
       "4     Reduction in Firearm Injuries during NRA Annua...   \n",
       "...                                                 ...   \n",
       "5753  Declared impact of the US President’s statemen...   \n",
       "5754  When calculators lie: A demonstration of uncri...   \n",
       "5755  Homogenous Synthesis of Monodisperse High Olig...   \n",
       "5756  Presentation Matters: The Effect of Wrapping N...   \n",
       "5757  Organophosphate Ester Flame Retardants: Are Th...   \n",
       "\n",
       "                                   sem_scholar_abstract  fc_score  \n",
       "0     Decline in Firearm Injuries during NRA Convent...         4  \n",
       "1     Background There is uncertainty about the infl...         5  \n",
       "2     ABSTRACT Background: Textbooks are a formative...         5  \n",
       "3     Tardigrade research in Japan dates back over 1...         2  \n",
       "4     Decline in Firearm Injuries during NRA Convent...         4  \n",
       "...                                                 ...       ...  \n",
       "5753  Statements about building walls, deportation a...         5  \n",
       "5754  Calculators are often unnecessary to solve rou...         4  \n",
       "5755  Whereas monodisperse polymers are ubiquitous i...         4  \n",
       "5756  While gift-givers typically wrap gifts prior t...         2  \n",
       "5757  As the use of polybrominated diphenyl ethers (...         2  \n",
       "\n",
       "[5758 rows x 29 columns]"
      ]
     },
     "execution_count": 7,
     "metadata": {},
     "output_type": "execute_result"
    }
   ],
   "source": [
    "df_combined = df.merge(df_fc_scores, on='id', how='inner')\n",
    "df_combined"
   ]
  },
  {
   "cell_type": "code",
   "execution_count": 43,
   "id": "74d61d62",
   "metadata": {},
   "outputs": [],
   "source": [
    "filtered_df = df_combined[(df_combined['score'] > 1) & (df_combined['jargon_proportion'] > 0)]"
   ]
  },
  {
   "cell_type": "code",
   "execution_count": 44,
   "id": "8aa54966",
   "metadata": {},
   "outputs": [
    {
     "data": {
      "text/html": [
       "<div>\n",
       "<style scoped>\n",
       "    .dataframe tbody tr th:only-of-type {\n",
       "        vertical-align: middle;\n",
       "    }\n",
       "\n",
       "    .dataframe tbody tr th {\n",
       "        vertical-align: top;\n",
       "    }\n",
       "\n",
       "    .dataframe thead th {\n",
       "        text-align: right;\n",
       "    }\n",
       "</style>\n",
       "<table border=\"1\" class=\"dataframe\">\n",
       "  <thead>\n",
       "    <tr style=\"text-align: right;\">\n",
       "      <th></th>\n",
       "      <th>Unnamed: 0</th>\n",
       "      <th>year</th>\n",
       "      <th>month</th>\n",
       "      <th>title_x</th>\n",
       "      <th>link_flair_text</th>\n",
       "      <th>domain</th>\n",
       "      <th>score</th>\n",
       "      <th>num_comments</th>\n",
       "      <th>sensationalism_score</th>\n",
       "      <th>jargon_proportion</th>\n",
       "      <th>...</th>\n",
       "      <th>label_voting_lm</th>\n",
       "      <th>label_voting_manual</th>\n",
       "      <th>top_category</th>\n",
       "      <th>title_y</th>\n",
       "      <th>url_y</th>\n",
       "      <th>identifier</th>\n",
       "      <th>sem_scholar_title</th>\n",
       "      <th>sem_scholar_abstract</th>\n",
       "      <th>fc_score</th>\n",
       "      <th>num_words</th>\n",
       "    </tr>\n",
       "  </thead>\n",
       "  <tbody>\n",
       "    <tr>\n",
       "      <th>1</th>\n",
       "      <td>19</td>\n",
       "      <td>2018</td>\n",
       "      <td>3</td>\n",
       "      <td>Supplementation with probiotics during late pr...</td>\n",
       "      <td>Health</td>\n",
       "      <td>journals.plos.org</td>\n",
       "      <td>8</td>\n",
       "      <td>1</td>\n",
       "      <td>0.482136</td>\n",
       "      <td>0.314286</td>\n",
       "      <td>...</td>\n",
       "      <td>scientific</td>\n",
       "      <td>scientific</td>\n",
       "      <td>Life Sciences</td>\n",
       "      <td>Supplementation with probiotics during late pr...</td>\n",
       "      <td>http://journals.plos.org/plosmedicine/article?...</td>\n",
       "      <td>DOI:10.1371/journal.pmed.1002507</td>\n",
       "      <td>Diet during pregnancy and infancy and risk of ...</td>\n",
       "      <td>Background There is uncertainty about the infl...</td>\n",
       "      <td>5</td>\n",
       "      <td>35</td>\n",
       "    </tr>\n",
       "    <tr>\n",
       "      <th>2</th>\n",
       "      <td>33</td>\n",
       "      <td>2018</td>\n",
       "      <td>3</td>\n",
       "      <td>Undisclosed Conflicts of Interests among Biome...</td>\n",
       "      <td>Social Science</td>\n",
       "      <td>ncbi.nlm.nih.gov</td>\n",
       "      <td>263</td>\n",
       "      <td>21</td>\n",
       "      <td>0.511708</td>\n",
       "      <td>0.086957</td>\n",
       "      <td>...</td>\n",
       "      <td>repo</td>\n",
       "      <td>repo</td>\n",
       "      <td>Social Sciences</td>\n",
       "      <td>Undisclosed Conflicts of Interests among Biome...</td>\n",
       "      <td>https://www.ncbi.nlm.nih.gov/pubmed/29400625</td>\n",
       "      <td>PMID:29400625</td>\n",
       "      <td>Undisclosed conflicts of interest among biomed...</td>\n",
       "      <td>ABSTRACT Background: Textbooks are a formative...</td>\n",
       "      <td>5</td>\n",
       "      <td>23</td>\n",
       "    </tr>\n",
       "    <tr>\n",
       "      <th>4</th>\n",
       "      <td>57</td>\n",
       "      <td>2018</td>\n",
       "      <td>3</td>\n",
       "      <td>There's a20% reduction in gun injuries during ...</td>\n",
       "      <td>Health</td>\n",
       "      <td>nejm.org</td>\n",
       "      <td>14</td>\n",
       "      <td>7</td>\n",
       "      <td>0.478481</td>\n",
       "      <td>0.058824</td>\n",
       "      <td>...</td>\n",
       "      <td>repo</td>\n",
       "      <td>repo</td>\n",
       "      <td>Life Sciences</td>\n",
       "      <td>There's a20% reduction in gun injuries during ...</td>\n",
       "      <td>http://www.nejm.org/doi/full/10.1056/NEJMc1712773</td>\n",
       "      <td>DOI:10.1056/NEJMc1712773</td>\n",
       "      <td>Reduction in Firearm Injuries during NRA Annua...</td>\n",
       "      <td>Decline in Firearm Injuries during NRA Convent...</td>\n",
       "      <td>4</td>\n",
       "      <td>17</td>\n",
       "    </tr>\n",
       "    <tr>\n",
       "      <th>5</th>\n",
       "      <td>130</td>\n",
       "      <td>2018</td>\n",
       "      <td>3</td>\n",
       "      <td>People who gain positive beliefs about aging f...</td>\n",
       "      <td>Psychology</td>\n",
       "      <td>doi.org</td>\n",
       "      <td>59</td>\n",
       "      <td>3</td>\n",
       "      <td>0.535586</td>\n",
       "      <td>0.173913</td>\n",
       "      <td>...</td>\n",
       "      <td>repo</td>\n",
       "      <td>repo</td>\n",
       "      <td>Social Sciences</td>\n",
       "      <td>People who gain positive beliefs about aging f...</td>\n",
       "      <td>https://doi.org/10.1371/journal.pone.0191004</td>\n",
       "      <td>DOI:10.1371/journal.pone.0191004</td>\n",
       "      <td>Positive age beliefs protect against dementia ...</td>\n",
       "      <td>One of the strongest risk factors for dementia...</td>\n",
       "      <td>5</td>\n",
       "      <td>46</td>\n",
       "    </tr>\n",
       "    <tr>\n",
       "      <th>9</th>\n",
       "      <td>239</td>\n",
       "      <td>2018</td>\n",
       "      <td>3</td>\n",
       "      <td>Hip-hop music may be influencing black America...</td>\n",
       "      <td>Social Science</td>\n",
       "      <td>tandfonline.com</td>\n",
       "      <td>17</td>\n",
       "      <td>21</td>\n",
       "      <td>0.588350</td>\n",
       "      <td>0.111111</td>\n",
       "      <td>...</td>\n",
       "      <td>repo</td>\n",
       "      <td>repo</td>\n",
       "      <td>Social Sciences</td>\n",
       "      <td>Hip-hop music may be influencing black America...</td>\n",
       "      <td>https://www.tandfonline.com/doi/full/10.1080/1...</td>\n",
       "      <td>DOI:10.1080/15332640.2018.1430646</td>\n",
       "      <td>MDMA (ecstasy/molly) use among African America...</td>\n",
       "      <td>ABSTRACT Over the past two decades, the demogr...</td>\n",
       "      <td>4</td>\n",
       "      <td>36</td>\n",
       "    </tr>\n",
       "    <tr>\n",
       "      <th>...</th>\n",
       "      <td>...</td>\n",
       "      <td>...</td>\n",
       "      <td>...</td>\n",
       "      <td>...</td>\n",
       "      <td>...</td>\n",
       "      <td>...</td>\n",
       "      <td>...</td>\n",
       "      <td>...</td>\n",
       "      <td>...</td>\n",
       "      <td>...</td>\n",
       "      <td>...</td>\n",
       "      <td>...</td>\n",
       "      <td>...</td>\n",
       "      <td>...</td>\n",
       "      <td>...</td>\n",
       "      <td>...</td>\n",
       "      <td>...</td>\n",
       "      <td>...</td>\n",
       "      <td>...</td>\n",
       "      <td>...</td>\n",
       "      <td>...</td>\n",
       "    </tr>\n",
       "    <tr>\n",
       "      <th>5749</th>\n",
       "      <td>197686</td>\n",
       "      <td>2019</td>\n",
       "      <td>10</td>\n",
       "      <td>A simple 5 minute saliva test to detect if som...</td>\n",
       "      <td>Chemistry</td>\n",
       "      <td>pubs.acs.org</td>\n",
       "      <td>2</td>\n",
       "      <td>0</td>\n",
       "      <td>0.568689</td>\n",
       "      <td>0.117647</td>\n",
       "      <td>...</td>\n",
       "      <td>repo</td>\n",
       "      <td>repo</td>\n",
       "      <td>Physical Sciences</td>\n",
       "      <td>A simple 5 minute saliva test to detect if som...</td>\n",
       "      <td>https://pubs.acs.org/doi/10.1021/acs.analchem....</td>\n",
       "      <td>DOI:10.1021/acs.analchem.9b03037</td>\n",
       "      <td>Synthetic Cannabinoid Receptor Agonists Detect...</td>\n",
       "      <td>Synthetic cannabinoid receptor agonists (SCRAs...</td>\n",
       "      <td>3</td>\n",
       "      <td>51</td>\n",
       "    </tr>\n",
       "    <tr>\n",
       "      <th>5751</th>\n",
       "      <td>197696</td>\n",
       "      <td>2019</td>\n",
       "      <td>10</td>\n",
       "      <td>Survey of all US general surgery residents sho...</td>\n",
       "      <td>Medicine</td>\n",
       "      <td>nejm.org</td>\n",
       "      <td>477</td>\n",
       "      <td>2</td>\n",
       "      <td>0.563612</td>\n",
       "      <td>0.217391</td>\n",
       "      <td>...</td>\n",
       "      <td>repo</td>\n",
       "      <td>repo</td>\n",
       "      <td>Life Sciences</td>\n",
       "      <td>Survey of all US general surgery residents sho...</td>\n",
       "      <td>https://www.nejm.org/doi/full/10.1056/NEJMsa19...</td>\n",
       "      <td>DOI:10.1056/NEJMsa1903759</td>\n",
       "      <td>Discrimination, Abuse, Harassment, and Burnout...</td>\n",
       "      <td>BACKGROUND\\nPhysicians, particularly trainees ...</td>\n",
       "      <td>5</td>\n",
       "      <td>23</td>\n",
       "    </tr>\n",
       "    <tr>\n",
       "      <th>5752</th>\n",
       "      <td>197727</td>\n",
       "      <td>2019</td>\n",
       "      <td>10</td>\n",
       "      <td>Seventy-five mosses and liverworts found froze...</td>\n",
       "      <td>Anthropology</td>\n",
       "      <td>journals.plos.org</td>\n",
       "      <td>34</td>\n",
       "      <td>0</td>\n",
       "      <td>0.536300</td>\n",
       "      <td>0.263158</td>\n",
       "      <td>...</td>\n",
       "      <td>scientific</td>\n",
       "      <td>scientific</td>\n",
       "      <td>Social Sciences</td>\n",
       "      <td>Seventy-five mosses and liverworts found froze...</td>\n",
       "      <td>https://journals.plos.org/plosone/article?id=1...</td>\n",
       "      <td>DOI:10.1371/journal.pone.0223752</td>\n",
       "      <td>Seventy-five mosses and liverworts found froze...</td>\n",
       "      <td>The Iceman site is unique in the bryology of t...</td>\n",
       "      <td>5</td>\n",
       "      <td>19</td>\n",
       "    </tr>\n",
       "    <tr>\n",
       "      <th>5754</th>\n",
       "      <td>197742</td>\n",
       "      <td>2019</td>\n",
       "      <td>10</td>\n",
       "      <td>Many college students will uncritically accept...</td>\n",
       "      <td>Social Science</td>\n",
       "      <td>journals.plos.org</td>\n",
       "      <td>170</td>\n",
       "      <td>25</td>\n",
       "      <td>0.543118</td>\n",
       "      <td>0.100000</td>\n",
       "      <td>...</td>\n",
       "      <td>scientific</td>\n",
       "      <td>scientific</td>\n",
       "      <td>Social Sciences</td>\n",
       "      <td>Many college students will uncritically accept...</td>\n",
       "      <td>https://journals.plos.org/plosone/article?id=1...</td>\n",
       "      <td>DOI:10.1371/journal.pone.0223736</td>\n",
       "      <td>When calculators lie: A demonstration of uncri...</td>\n",
       "      <td>Calculators are often unnecessary to solve rou...</td>\n",
       "      <td>4</td>\n",
       "      <td>20</td>\n",
       "    </tr>\n",
       "    <tr>\n",
       "      <th>5755</th>\n",
       "      <td>197760</td>\n",
       "      <td>2019</td>\n",
       "      <td>10</td>\n",
       "      <td>New method for making polymers with perfectly ...</td>\n",
       "      <td>Chemistry</td>\n",
       "      <td>pubs.acs.org</td>\n",
       "      <td>148</td>\n",
       "      <td>8</td>\n",
       "      <td>0.503372</td>\n",
       "      <td>0.171429</td>\n",
       "      <td>...</td>\n",
       "      <td>repo</td>\n",
       "      <td>repo</td>\n",
       "      <td>Physical Sciences</td>\n",
       "      <td>New method for making polymers with perfectly ...</td>\n",
       "      <td>https://pubs.acs.org/doi/10.1021/jacs.9b08240</td>\n",
       "      <td>DOI:10.1021/jacs.9b08240</td>\n",
       "      <td>Homogenous Synthesis of Monodisperse High Olig...</td>\n",
       "      <td>Whereas monodisperse polymers are ubiquitous i...</td>\n",
       "      <td>4</td>\n",
       "      <td>35</td>\n",
       "    </tr>\n",
       "  </tbody>\n",
       "</table>\n",
       "<p>3461 rows × 30 columns</p>\n",
       "</div>"
      ],
      "text/plain": [
       "      Unnamed: 0  year  month  \\\n",
       "1             19  2018      3   \n",
       "2             33  2018      3   \n",
       "4             57  2018      3   \n",
       "5            130  2018      3   \n",
       "9            239  2018      3   \n",
       "...          ...   ...    ...   \n",
       "5749      197686  2019     10   \n",
       "5751      197696  2019     10   \n",
       "5752      197727  2019     10   \n",
       "5754      197742  2019     10   \n",
       "5755      197760  2019     10   \n",
       "\n",
       "                                                title_x link_flair_text  \\\n",
       "1     Supplementation with probiotics during late pr...          Health   \n",
       "2     Undisclosed Conflicts of Interests among Biome...  Social Science   \n",
       "4     There's a20% reduction in gun injuries during ...          Health   \n",
       "5     People who gain positive beliefs about aging f...      Psychology   \n",
       "9     Hip-hop music may be influencing black America...  Social Science   \n",
       "...                                                 ...             ...   \n",
       "5749  A simple 5 minute saliva test to detect if som...       Chemistry   \n",
       "5751  Survey of all US general surgery residents sho...        Medicine   \n",
       "5752  Seventy-five mosses and liverworts found froze...    Anthropology   \n",
       "5754  Many college students will uncritically accept...  Social Science   \n",
       "5755  New method for making polymers with perfectly ...       Chemistry   \n",
       "\n",
       "                 domain  score  num_comments  sensationalism_score  \\\n",
       "1     journals.plos.org      8             1              0.482136   \n",
       "2      ncbi.nlm.nih.gov    263            21              0.511708   \n",
       "4              nejm.org     14             7              0.478481   \n",
       "5               doi.org     59             3              0.535586   \n",
       "9       tandfonline.com     17            21              0.588350   \n",
       "...                 ...    ...           ...                   ...   \n",
       "5749       pubs.acs.org      2             0              0.568689   \n",
       "5751           nejm.org    477             2              0.563612   \n",
       "5752  journals.plos.org     34             0              0.536300   \n",
       "5754  journals.plos.org    170            25              0.543118   \n",
       "5755       pubs.acs.org    148             8              0.503372   \n",
       "\n",
       "      jargon_proportion  ... label_voting_lm label_voting_manual  \\\n",
       "1              0.314286  ...      scientific          scientific   \n",
       "2              0.086957  ...            repo                repo   \n",
       "4              0.058824  ...            repo                repo   \n",
       "5              0.173913  ...            repo                repo   \n",
       "9              0.111111  ...            repo                repo   \n",
       "...                 ...  ...             ...                 ...   \n",
       "5749           0.117647  ...            repo                repo   \n",
       "5751           0.217391  ...            repo                repo   \n",
       "5752           0.263158  ...      scientific          scientific   \n",
       "5754           0.100000  ...      scientific          scientific   \n",
       "5755           0.171429  ...            repo                repo   \n",
       "\n",
       "           top_category                                            title_y  \\\n",
       "1         Life Sciences  Supplementation with probiotics during late pr...   \n",
       "2       Social Sciences  Undisclosed Conflicts of Interests among Biome...   \n",
       "4         Life Sciences  There's a20% reduction in gun injuries during ...   \n",
       "5       Social Sciences  People who gain positive beliefs about aging f...   \n",
       "9       Social Sciences  Hip-hop music may be influencing black America...   \n",
       "...                 ...                                                ...   \n",
       "5749  Physical Sciences  A simple 5 minute saliva test to detect if som...   \n",
       "5751      Life Sciences  Survey of all US general surgery residents sho...   \n",
       "5752    Social Sciences  Seventy-five mosses and liverworts found froze...   \n",
       "5754    Social Sciences  Many college students will uncritically accept...   \n",
       "5755  Physical Sciences  New method for making polymers with perfectly ...   \n",
       "\n",
       "                                                  url_y  \\\n",
       "1     http://journals.plos.org/plosmedicine/article?...   \n",
       "2          https://www.ncbi.nlm.nih.gov/pubmed/29400625   \n",
       "4     http://www.nejm.org/doi/full/10.1056/NEJMc1712773   \n",
       "5          https://doi.org/10.1371/journal.pone.0191004   \n",
       "9     https://www.tandfonline.com/doi/full/10.1080/1...   \n",
       "...                                                 ...   \n",
       "5749  https://pubs.acs.org/doi/10.1021/acs.analchem....   \n",
       "5751  https://www.nejm.org/doi/full/10.1056/NEJMsa19...   \n",
       "5752  https://journals.plos.org/plosone/article?id=1...   \n",
       "5754  https://journals.plos.org/plosone/article?id=1...   \n",
       "5755      https://pubs.acs.org/doi/10.1021/jacs.9b08240   \n",
       "\n",
       "                             identifier  \\\n",
       "1      DOI:10.1371/journal.pmed.1002507   \n",
       "2                         PMID:29400625   \n",
       "4              DOI:10.1056/NEJMc1712773   \n",
       "5      DOI:10.1371/journal.pone.0191004   \n",
       "9     DOI:10.1080/15332640.2018.1430646   \n",
       "...                                 ...   \n",
       "5749   DOI:10.1021/acs.analchem.9b03037   \n",
       "5751          DOI:10.1056/NEJMsa1903759   \n",
       "5752   DOI:10.1371/journal.pone.0223752   \n",
       "5754   DOI:10.1371/journal.pone.0223736   \n",
       "5755           DOI:10.1021/jacs.9b08240   \n",
       "\n",
       "                                      sem_scholar_title  \\\n",
       "1     Diet during pregnancy and infancy and risk of ...   \n",
       "2     Undisclosed conflicts of interest among biomed...   \n",
       "4     Reduction in Firearm Injuries during NRA Annua...   \n",
       "5     Positive age beliefs protect against dementia ...   \n",
       "9     MDMA (ecstasy/molly) use among African America...   \n",
       "...                                                 ...   \n",
       "5749  Synthetic Cannabinoid Receptor Agonists Detect...   \n",
       "5751  Discrimination, Abuse, Harassment, and Burnout...   \n",
       "5752  Seventy-five mosses and liverworts found froze...   \n",
       "5754  When calculators lie: A demonstration of uncri...   \n",
       "5755  Homogenous Synthesis of Monodisperse High Olig...   \n",
       "\n",
       "                                   sem_scholar_abstract  fc_score  num_words  \n",
       "1     Background There is uncertainty about the infl...         5         35  \n",
       "2     ABSTRACT Background: Textbooks are a formative...         5         23  \n",
       "4     Decline in Firearm Injuries during NRA Convent...         4         17  \n",
       "5     One of the strongest risk factors for dementia...         5         46  \n",
       "9     ABSTRACT Over the past two decades, the demogr...         4         36  \n",
       "...                                                 ...       ...        ...  \n",
       "5749  Synthetic cannabinoid receptor agonists (SCRAs...         3         51  \n",
       "5751  BACKGROUND\\nPhysicians, particularly trainees ...         5         23  \n",
       "5752  The Iceman site is unique in the bryology of t...         5         19  \n",
       "5754  Calculators are often unnecessary to solve rou...         4         20  \n",
       "5755  Whereas monodisperse polymers are ubiquitous i...         4         35  \n",
       "\n",
       "[3461 rows x 30 columns]"
      ]
     },
     "execution_count": 44,
     "metadata": {},
     "output_type": "execute_result"
    }
   ],
   "source": [
    "filtered_df"
   ]
  },
  {
   "cell_type": "code",
   "execution_count": 45,
   "id": "3c18b9e2df769cfd",
   "metadata": {
    "ExecuteTime": {
     "end_time": "2024-11-26T18:21:42.286823Z",
     "start_time": "2024-11-26T18:21:42.243939Z"
    }
   },
   "outputs": [
    {
     "name": "stdout",
     "output_type": "stream",
     "text": [
      "FC vs. Jargon:  SpearmanrResult(correlation=0.1682300566595454, pvalue=2.1788280262074102e-23)\n",
      "FC vs. Sensationalism:  SpearmanrResult(correlation=-0.32213697839016003, pvalue=2.1425465546807763e-84)\n",
      "Jargon vs. Sensationalism SpearmanrResult(correlation=-0.333711084445063, pvalue=8.449454892905883e-91)\n"
     ]
    }
   ],
   "source": [
    "#check correlations among all three metrics\n",
    "print(\"FC vs. Jargon: \", stats.spearmanr(filtered_df['fc_score'], filtered_df['jargon_proportion']))\n",
    "print(\"FC vs. Sensationalism: \", stats.spearmanr(filtered_df['sensationalism_score'], filtered_df['fc_score']))\n",
    "print(\"Jargon vs. Sensationalism\", stats.spearmanr(filtered_df['jargon_proportion'], filtered_df['sensationalism_score']))"
   ]
  },
  {
   "cell_type": "code",
   "execution_count": 46,
   "id": "eef550d7",
   "metadata": {},
   "outputs": [
    {
     "name": "stderr",
     "output_type": "stream",
     "text": [
      "/home/dwhickey/.local/lib/python3.8/site-packages/pandas/core/frame.py:3607: SettingWithCopyWarning: \n",
      "A value is trying to be set on a copy of a slice from a DataFrame.\n",
      "Try using .loc[row_indexer,col_indexer] = value instead\n",
      "\n",
      "See the caveats in the documentation: https://pandas.pydata.org/pandas-docs/stable/user_guide/indexing.html#returning-a-view-versus-a-copy\n",
      "  self._set_item(key, value)\n"
     ]
    },
    {
     "data": {
      "text/plain": [
       "<AxesSubplot:xlabel='num_words', ylabel='Count'>"
      ]
     },
     "execution_count": 46,
     "metadata": {},
     "output_type": "execute_result"
    },
    {
     "data": {
      "image/png": "[encoded data removed]",
      "text/plain": [
       "<Figure size 432x288 with 1 Axes>"
      ]
     },
     "metadata": {
      "needs_background": "light"
     },
     "output_type": "display_data"
    }
   ],
   "source": [
    "#distribution of title lengths\n",
    "filtered_df['num_words'] = filtered_df['title_x'].apply(lambda x: len(str(x).split()))\n",
    "\n",
    "sns.histplot(filtered_df['num_words'])"
   ]
  },
  {
   "cell_type": "code",
   "execution_count": 47,
   "id": "e2f15f8c",
   "metadata": {},
   "outputs": [
    {
     "name": "stdout",
     "output_type": "stream",
     "text": [
      "length vs. Jargon:  SpearmanrResult(correlation=-0.3850029421254828, pvalue=1.0993838441333412e-122)\n",
      "length vs. Sensationalism:  SpearmanrResult(correlation=0.6149982294910439, pvalue=0.0)\n",
      "length vs. FC SpearmanrResult(correlation=-0.2030750365982645, pvalue=1.547410336021952e-33)\n"
     ]
    }
   ],
   "source": [
    "#do the metrics relate to how long posts are?\n",
    "print(\"length vs. Jargon: \", stats.spearmanr(filtered_df['num_words'], filtered_df['jargon_proportion']))\n",
    "print(\"length vs. Sensationalism: \", stats.spearmanr(filtered_df['sensationalism_score'], filtered_df['num_words']))\n",
    "print(\"length vs. FC\", stats.spearmanr(filtered_df['fc_score'], filtered_df['num_words']))"
   ]
  },
  {
   "cell_type": "code",
   "execution_count": 18,
   "id": "99243a1e",
   "metadata": {},
   "outputs": [
    {
     "name": "stderr",
     "output_type": "stream",
     "text": [
      "/home/dwhickey/.local/lib/python3.8/site-packages/seaborn/_decorators.py:36: FutureWarning: Pass the following variables as keyword args: x, y. From version 0.12, the only valid positional argument will be `data`, and passing other arguments without an explicit keyword will result in an error or misinterpretation.\n",
      "  warnings.warn(\n"
     ]
    },
    {
     "data": {
      "text/plain": [
       "<AxesSubplot:xlabel='num_words', ylabel='sensationalism_score'>"
      ]
     },
     "execution_count": 18,
     "metadata": {},
     "output_type": "execute_result"
    },
    {
     "data": {
      "image/png": "[encoded data removed]",
      "text/plain": [
       "<Figure size 432x288 with 1 Axes>"
      ]
     },
     "metadata": {
      "needs_background": "light"
     },
     "output_type": "display_data"
    }
   ],
   "source": [
    "sns.scatterplot(df_combined['num_words'], df_combined['sensationalism_score'])"
   ]
  },
  {
   "cell_type": "code",
   "execution_count": 48,
   "id": "a6aff683471cc694",
   "metadata": {
    "ExecuteTime": {
     "end_time": "2024-11-26T18:24:55.903036Z",
     "start_time": "2024-11-26T18:24:55.673897Z"
    }
   },
   "outputs": [
    {
     "data": {
      "text/plain": [
       "<AxesSubplot:xlabel='fc_score', ylabel='Count'>"
      ]
     },
     "execution_count": 48,
     "metadata": {},
     "output_type": "execute_result"
    },
    {
     "data": {
      "image/png": "[encoded data removed]",
      "text/plain": [
       "<Figure size 432x288 with 1 Axes>"
      ]
     },
     "metadata": {
      "needs_background": "light"
     },
     "output_type": "display_data"
    }
   ],
   "source": [
    "sns.histplot(filtered_df, x='fc_score', hue='label_voting_manual', palette='Set2', multiple='stack')"
   ]
  },
  {
   "cell_type": "code",
   "execution_count": 29,
   "id": "d5d01a16770021a1",
   "metadata": {
    "ExecuteTime": {
     "end_time": "2024-11-26T18:25:44.731290Z",
     "start_time": "2024-11-26T18:25:44.589646Z"
    }
   },
   "outputs": [
    {
     "data": {
      "text/plain": [
       "<Axes: xlabel='label_voting_manual', ylabel='Count'>"
      ]
     },
     "execution_count": 29,
     "metadata": {},
     "output_type": "execute_result"
    },
    {
     "data": {
      "image/png": "[encoded data removed]",
      "text/plain": [
       "<Figure size 640x480 with 1 Axes>"
      ]
     },
     "metadata": {},
     "output_type": "display_data"
    }
   ],
   "source": [
    "sns.histplot(df_combined, hue='fc_score', x='label_voting_manual', palette='Set2', multiple='stack')\n"
   ]
  },
  {
   "cell_type": "code",
   "execution_count": 34,
   "id": "5d78df5a008be220",
   "metadata": {
    "ExecuteTime": {
     "end_time": "2024-11-26T18:29:41.903068Z",
     "start_time": "2024-11-26T18:29:41.888349Z"
    }
   },
   "outputs": [
    {
     "data": {
      "text/plain": [
       "(label_voting_manual\n",
       " repo          3210\n",
       " scientific    2548\n",
       " Name: count, dtype: int64,\n",
       " label_voting_manual\n",
       " scientific    27132\n",
       " repo           6725\n",
       " Name: count, dtype: int64)"
      ]
     },
     "execution_count": 34,
     "metadata": {},
     "output_type": "execute_result"
    }
   ],
   "source": [
    "# percentage of posts in repo and scientific that we covered\n",
    "df_combined[~df_combined['fc_score'].isna()]['label_voting_manual'].value_counts(), df_combined[df_combined['is_top_domain_repo'] | df_combined['is_top_domain_scientific']]['label_voting_manual'].value_counts()"
   ]
  },
  {
   "cell_type": "code",
   "execution_count": 43,
   "id": "c3526366c28a27f3",
   "metadata": {
    "ExecuteTime": {
     "end_time": "2024-11-26T18:32:49.750614Z",
     "start_time": "2024-11-26T18:32:49.735890Z"
    }
   },
   "outputs": [
    {
     "data": {
      "text/plain": [
       "domain\n",
       "doi.org                    574\n",
       "tandfonline.com            551\n",
       "pubs.acs.org               542\n",
       "nejm.org                   500\n",
       "arxiv.org                  374\n",
       "ncbi.nlm.nih.gov           336\n",
       "pubmed.ncbi.nlm.nih.gov    308\n",
       "frontiersin.org             23\n",
       "bmj.com                      2\n",
       "Name: count, dtype: int64"
      ]
     },
     "execution_count": 43,
     "metadata": {},
     "output_type": "execute_result"
    }
   ],
   "source": [
    "df_combined[~df_combined['fc_score'].isna() & (df_combined['label_voting_manual'] == 'repo')]['domain'].value_counts()"
   ]
  },
  {
   "cell_type": "code",
   "execution_count": 47,
   "id": "d7fa2b831199ca1a",
   "metadata": {
    "ExecuteTime": {
     "end_time": "2024-11-26T18:35:05.242625Z",
     "start_time": "2024-11-26T18:35:05.224570Z"
    }
   },
   "outputs": [
    {
     "data": {
      "text/plain": [
       "domain\n",
       "ncbi.nlm.nih.gov                 1401\n",
       "doi.org                          1102\n",
       "frontiersin.org                   701\n",
       "pubs.acs.org                      601\n",
       "tandfonline.com                   583\n",
       "                                 ... \n",
       "10.7554                             1\n",
       "figshare.com                        1\n",
       "m.phg.sagepub.com                   1\n",
       "docs.autismresearchcentre.com       1\n",
       "sci-hub.cc                          1\n",
       "Name: count, Length: 531, dtype: int64"
      ]
     },
     "execution_count": 47,
     "metadata": {},
     "output_type": "execute_result"
    }
   ],
   "source": [
    "df_combined[ (df_combined['label_voting_manual'] == 'repo')]['domain'].value_counts()"
   ]
  },
  {
   "cell_type": "code",
   "execution_count": 49,
   "id": "e62e42b8deb3d46a",
   "metadata": {
    "ExecuteTime": {
     "end_time": "2024-11-26T18:37:17.661067Z",
     "start_time": "2024-11-26T18:37:17.632526Z"
    }
   },
   "outputs": [
    {
     "data": {
      "text/html": [
       "<div>\n",
       "<style scoped>\n",
       "    .dataframe tbody tr th:only-of-type {\n",
       "        vertical-align: middle;\n",
       "    }\n",
       "\n",
       "    .dataframe tbody tr th {\n",
       "        vertical-align: top;\n",
       "    }\n",
       "\n",
       "    .dataframe thead th {\n",
       "        text-align: right;\n",
       "    }\n",
       "</style>\n",
       "<table border=\"1\" class=\"dataframe\">\n",
       "  <thead>\n",
       "    <tr style=\"text-align: right;\">\n",
       "      <th></th>\n",
       "      <th>count_x</th>\n",
       "      <th>count_y</th>\n",
       "    </tr>\n",
       "    <tr>\n",
       "      <th>domain</th>\n",
       "      <th></th>\n",
       "      <th></th>\n",
       "    </tr>\n",
       "  </thead>\n",
       "  <tbody>\n",
       "    <tr>\n",
       "      <th>0e33611cb8e6da737d5c-e13b5a910e105e07f9070866adaae10b.r15.cf1.rackcdn.com</th>\n",
       "      <td>2</td>\n",
       "      <td>NaN</td>\n",
       "    </tr>\n",
       "    <tr>\n",
       "      <th>10.7554</th>\n",
       "      <td>1</td>\n",
       "      <td>NaN</td>\n",
       "    </tr>\n",
       "    <tr>\n",
       "      <th>aac.asm.org</th>\n",
       "      <td>13</td>\n",
       "      <td>NaN</td>\n",
       "    </tr>\n",
       "    <tr>\n",
       "      <th>aacrjournals.org</th>\n",
       "      <td>11</td>\n",
       "      <td>NaN</td>\n",
       "    </tr>\n",
       "    <tr>\n",
       "      <th>aappublications.org</th>\n",
       "      <td>16</td>\n",
       "      <td>NaN</td>\n",
       "    </tr>\n",
       "    <tr>\n",
       "      <th>...</th>\n",
       "      <td>...</td>\n",
       "      <td>...</td>\n",
       "    </tr>\n",
       "    <tr>\n",
       "      <th>wires.onlinelibrary.wiley.com</th>\n",
       "      <td>2</td>\n",
       "      <td>NaN</td>\n",
       "    </tr>\n",
       "    <tr>\n",
       "      <th>zenodo.org</th>\n",
       "      <td>24</td>\n",
       "      <td>NaN</td>\n",
       "    </tr>\n",
       "    <tr>\n",
       "      <th>zookeys.pensoft.net</th>\n",
       "      <td>21</td>\n",
       "      <td>NaN</td>\n",
       "    </tr>\n",
       "    <tr>\n",
       "      <th>zoologicalletters.biomedcentral.com</th>\n",
       "      <td>3</td>\n",
       "      <td>NaN</td>\n",
       "    </tr>\n",
       "    <tr>\n",
       "      <th>zslpublications.onlinelibrary.wiley.com</th>\n",
       "      <td>12</td>\n",
       "      <td>NaN</td>\n",
       "    </tr>\n",
       "  </tbody>\n",
       "</table>\n",
       "<p>531 rows × 2 columns</p>\n",
       "</div>"
      ],
      "text/plain": [
       "                                                    count_x  count_y\n",
       "domain                                                              \n",
       "0e33611cb8e6da737d5c-e13b5a910e105e07f9070866ad...        2      NaN\n",
       "10.7554                                                   1      NaN\n",
       "aac.asm.org                                              13      NaN\n",
       "aacrjournals.org                                         11      NaN\n",
       "aappublications.org                                      16      NaN\n",
       "...                                                     ...      ...\n",
       "wires.onlinelibrary.wiley.com                             2      NaN\n",
       "zenodo.org                                               24      NaN\n",
       "zookeys.pensoft.net                                      21      NaN\n",
       "zoologicalletters.biomedcentral.com                       3      NaN\n",
       "zslpublications.onlinelibrary.wiley.com                  12      NaN\n",
       "\n",
       "[531 rows x 2 columns]"
      ]
     },
     "execution_count": 49,
     "metadata": {},
     "output_type": "execute_result"
    }
   ],
   "source": [
    "pd.merge(df_combined[ (df_combined['label_voting_manual'] == 'repo')]['domain'].value_counts()\n",
    ", df_combined[~df_combined['fc_score'].isna() & (df_combined['label_voting_manual'] == 'repo')]['domain'].value_counts()\n",
    ", on='domain', how='outer')"
   ]
  },
  {
   "cell_type": "code",
   "execution_count": null,
   "id": "4603ff8bbebfb54d",
   "metadata": {},
   "outputs": [],
   "source": []
  },
  {
   "cell_type": "markdown",
   "id": "c1883cba6e659c6f",
   "metadata": {},
   "source": [
    "## Let's actually run some analysis on this"
   ]
  },
  {
   "cell_type": "code",
   "execution_count": 49,
   "id": "2cb1d4e3e93aacba",
   "metadata": {
    "ExecuteTime": {
     "end_time": "2024-11-26T18:40:02.365761Z",
     "start_time": "2024-11-26T18:40:02.200779Z"
    }
   },
   "outputs": [
    {
     "data": {
      "text/plain": [
       "<AxesSubplot:xlabel='year', ylabel='fc_score'>"
      ]
     },
     "execution_count": 49,
     "metadata": {},
     "output_type": "execute_result"
    },
    {
     "data": {
      "image/png": "[encoded data removed]",
      "text/plain": [
       "<Figure size 432x288 with 1 Axes>"
      ]
     },
     "metadata": {
      "needs_background": "light"
     },
     "output_type": "display_data"
    }
   ],
   "source": [
    "sns.barplot(x='year', y='fc_score', data=filtered_df)"
   ]
  },
  {
   "cell_type": "code",
   "execution_count": 50,
   "id": "71f4209550a52394",
   "metadata": {
    "ExecuteTime": {
     "end_time": "2024-11-26T18:44:21.319815Z",
     "start_time": "2024-11-26T18:44:21.092609Z"
    }
   },
   "outputs": [
    {
     "data": {
      "text/plain": [
       "<AxesSubplot:xlabel='month', ylabel='fc_score'>"
      ]
     },
     "execution_count": 50,
     "metadata": {},
     "output_type": "execute_result"
    },
    {
     "data": {
      "image/png": "[encoded data removed]",
      "text/plain": [
       "<Figure size 432x288 with 1 Axes>"
      ]
     },
     "metadata": {
      "needs_background": "light"
     },
     "output_type": "display_data"
    }
   ],
   "source": [
    "sns.barplot(x='month', y='fc_score', data=filtered_df)"
   ]
  },
  {
   "cell_type": "markdown",
   "id": "59e2738a",
   "metadata": {},
   "source": [
    "### Factual consistency by field"
   ]
  },
  {
   "cell_type": "code",
   "execution_count": 51,
   "id": "7846275e7a085f41",
   "metadata": {
    "ExecuteTime": {
     "end_time": "2024-11-26T19:35:50.796744Z",
     "start_time": "2024-11-26T19:35:50.649293Z"
    }
   },
   "outputs": [
    {
     "data": {
      "text/plain": [
       "(array([0, 1, 2, 3, 4]),\n",
       " [Text(0, 0, 'Life Sciences'),\n",
       "  Text(1, 0, 'Social Sciences'),\n",
       "  Text(2, 0, 'Physical Sciences'),\n",
       "  Text(3, 0, 'Engineering & Technology'),\n",
       "  Text(4, 0, 'Environmental Sciences')])"
      ]
     },
     "execution_count": 51,
     "metadata": {},
     "output_type": "execute_result"
    },
    {
     "data": {
      "image/png": "[encoded data removed]",
      "text/plain": [
       "<Figure size 432x288 with 1 Axes>"
      ]
     },
     "metadata": {
      "needs_background": "light"
     },
     "output_type": "display_data"
    }
   ],
   "source": [
    "sns.barplot(x='top_category', y='fc_score', data=filtered_df)\n",
    "plt.xticks(rotation=45, rotation_mode='anchor', ha='right')"
   ]
  },
  {
   "cell_type": "code",
   "execution_count": null,
   "id": "19fe6299",
   "metadata": {},
   "outputs": [
    {
     "name": "stderr",
     "output_type": "stream",
     "text": [
      "/home/dwhickey/.local/lib/python3.8/site-packages/pandas/core/frame.py:3607: SettingWithCopyWarning: \n",
      "A value is trying to be set on a copy of a slice from a DataFrame.\n",
      "Try using .loc[row_indexer,col_indexer] = value instead\n",
      "\n",
      "See the caveats in the documentation: https://pandas.pydata.org/pandas-docs/stable/user_guide/indexing.html#returning-a-view-versus-a-copy\n",
      "  self._set_item(key, value)\n"
     ]
    }
   ],
   "source": [
    "#define a \"low quality\" threshold that binarizes the data. This allows us to see the percentages of factual inconsistencies\n",
    "filtered_df['low_quality'] = filtered_df['fc_score'] < 3"
   ]
  },
  {
   "cell_type": "code",
   "execution_count": 64,
   "id": "93230558",
   "metadata": {},
   "outputs": [
    {
     "data": {
      "text/plain": [
       "(array([0, 1, 2, 3, 4]),\n",
       " [Text(0, 0, 'Life Sciences'),\n",
       "  Text(1, 0, 'Social Sciences'),\n",
       "  Text(2, 0, 'Physical Sciences'),\n",
       "  Text(3, 0, 'Engineering & Technology'),\n",
       "  Text(4, 0, 'Environmental Sciences')])"
      ]
     },
     "execution_count": 64,
     "metadata": {},
     "output_type": "execute_result"
    },
    {
     "data": {
      "image/png": "[encoded data removed]",
      "text/plain": [
       "<Figure size 432x288 with 1 Axes>"
      ]
     },
     "metadata": {
      "needs_background": "light"
     },
     "output_type": "display_data"
    }
   ],
   "source": [
    "sns.barplot(x='top_category', y='low_quality', data=filtered_df)\n",
    "plt.xticks(rotation=45, rotation_mode='anchor', ha='right')"
   ]
  },
  {
   "cell_type": "code",
   "execution_count": 75,
   "id": "f005a575",
   "metadata": {},
   "outputs": [
    {
     "data": {
      "text/plain": [
       "<matplotlib.legend.Legend at 0x7f5661f22070>"
      ]
     },
     "execution_count": 75,
     "metadata": {},
     "output_type": "execute_result"
    },
    {
     "data": {
      "image/png": "[encoded data removed]",
      "text/plain": [
       "<Figure size 432x288 with 1 Axes>"
      ]
     },
     "metadata": {
      "needs_background": "light"
     },
     "output_type": "display_data"
    }
   ],
   "source": [
    "# Calculate percentages\n",
    "percentages = (\n",
    "    filtered_df.groupby(['top_category', 'fc_score'])\n",
    "    .size()\n",
    "    .groupby(level=0)\n",
    "    .apply(lambda x: 100 * x / x.sum())\n",
    "    .reset_index(name='percentage')\n",
    ")\n",
    "\n",
    "# Plot using seaborn\n",
    "sns.barplot(\n",
    "    data=percentages,\n",
    "    x='top_category',\n",
    "    y='percentage',\n",
    "    hue='fc_score',\n",
    "    palette='crest'\n",
    ")\n",
    "\n",
    "plt.xticks(rotation=45, rotation_mode='anchor', ha='right')\n",
    "\n",
    "plt.legend(\n",
    "    title='FC Score',\n",
    "    bbox_to_anchor=(1.05, 0.5),  # Custom location: (x, y) coordinates\n",
    "    loc='center left',           # Position relative to bbox_to_anchor\n",
    "    borderaxespad=0              # Padding between legend and axes\n",
    ")"
   ]
  },
  {
   "cell_type": "markdown",
   "id": "6f611fee",
   "metadata": {},
   "source": [
    "### Factual consistency vs. post performance"
   ]
  },
  {
   "cell_type": "code",
   "execution_count": 56,
   "id": "69d91e137738ba94",
   "metadata": {
    "ExecuteTime": {
     "end_time": "2024-11-26T18:41:47.368386Z",
     "start_time": "2024-11-26T18:41:47.071903Z"
    }
   },
   "outputs": [
    {
     "data": {
      "text/plain": [
       "<Axes: xlabel='fc_score', ylabel='score'>"
      ]
     },
     "execution_count": 56,
     "metadata": {},
     "output_type": "execute_result"
    },
    {
     "data": {
      "image/png": "[encoded data removed]",
      "text/plain": [
       "<Figure size 640x480 with 1 Axes>"
      ]
     },
     "metadata": {},
     "output_type": "display_data"
    }
   ],
   "source": [
    "\n",
    "sns.boxplot(df_combined[~df_combined['fc_score'].isna()], x='fc_score', y='score', hue='label_voting_manual', log_scale=True)"
   ]
  },
  {
   "cell_type": "code",
   "execution_count": 52,
   "id": "6eebdb30",
   "metadata": {},
   "outputs": [
    {
     "data": {
      "image/png": "[encoded data removed]",
      "text/plain": [
       "<Figure size 432x288 with 1 Axes>"
      ]
     },
     "metadata": {
      "needs_background": "light"
     },
     "output_type": "display_data"
    }
   ],
   "source": [
    "sns.boxplot(x='fc_score', y='score', data=filtered_df)\n",
    "plt.yscale('log')"
   ]
  },
  {
   "cell_type": "code",
   "execution_count": 53,
   "id": "108484dc",
   "metadata": {},
   "outputs": [
    {
     "data": {
      "image/png": "[encoded data removed]",
      "text/plain": [
       "<Figure size 432x288 with 1 Axes>"
      ]
     },
     "metadata": {
      "needs_background": "light"
     },
     "output_type": "display_data"
    }
   ],
   "source": [
    "sns.boxplot(x='fc_score', y='num_comments', data=filtered_df)\n",
    "plt.yscale('log')"
   ]
  },
  {
   "cell_type": "code",
   "execution_count": 54,
   "id": "a46b88d0",
   "metadata": {},
   "outputs": [
    {
     "data": {
      "text/plain": [
       "<AxesSubplot:xlabel='fc_score', ylabel='sensationalism_score'>"
      ]
     },
     "execution_count": 54,
     "metadata": {},
     "output_type": "execute_result"
    },
    {
     "data": {
      "image/png": "[encoded data removed]",
      "text/plain": [
       "<Figure size 432x288 with 1 Axes>"
      ]
     },
     "metadata": {
      "needs_background": "light"
     },
     "output_type": "display_data"
    }
   ],
   "source": [
    "sns.boxplot(x='fc_score', y='sensationalism_score', data=filtered_df)"
   ]
  },
  {
   "cell_type": "markdown",
   "id": "0cc89f70",
   "metadata": {},
   "source": [
    "## Temporal trends"
   ]
  },
  {
   "cell_type": "code",
   "execution_count": 55,
   "id": "af34c93c",
   "metadata": {},
   "outputs": [
    {
     "data": {
      "text/plain": [
       "<AxesSubplot:xlabel='year', ylabel='fc_score'>"
      ]
     },
     "execution_count": 55,
     "metadata": {},
     "output_type": "execute_result"
    },
    {
     "data": {
      "image/png": "[encoded data removed]",
      "text/plain": [
       "<Figure size 432x288 with 1 Axes>"
      ]
     },
     "metadata": {
      "needs_background": "light"
     },
     "output_type": "display_data"
    }
   ],
   "source": [
    "sns.lineplot(x='year', y='fc_score', data=filtered_df)"
   ]
  },
  {
   "cell_type": "code",
   "execution_count": 32,
   "id": "11227b3352b22b94",
   "metadata": {},
   "outputs": [],
   "source": [
    "df_combined[df_combined['fc_score'] == 1][['title_x', 'sem_scholar_abstract']].to_csv('really_bad_titles.csv', index=False)"
   ]
  },
  {
   "cell_type": "code",
   "execution_count": 33,
   "id": "dba77d9c",
   "metadata": {},
   "outputs": [],
   "source": [
    "df_combined[df_combined['fc_score'] == 5][['title_x', 'sem_scholar_abstract']].to_csv('really_good_titles.csv', index=False)"
   ]
  },
  {
   "cell_type": "code",
   "execution_count": null,
   "id": "2015fa70",
   "metadata": {},
   "outputs": [],
   "source": []
  }
 ],
 "metadata": {
  "kernelspec": {
   "display_name": "Python 3",
   "language": "python",
   "name": "python3"
  },
  "language_info": {
   "codemirror_mode": {
    "name": "ipython",
    "version": 3
   },
   "file_extension": ".py",
   "mimetype": "text/x-python",
   "name": "python",
   "nbconvert_exporter": "python",
   "pygments_lexer": "ipython3",
   "version": "3.8.10"
  }
 },
 "nbformat": 4,
 "nbformat_minor": 5
}
