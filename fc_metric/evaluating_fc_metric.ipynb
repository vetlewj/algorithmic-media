{
 "cells": [
  {
   "cell_type": "code",
   "id": "initial_id",
   "metadata": {
    "collapsed": true,
    "ExecuteTime": {
     "end_time": "2024-10-23T22:09:06.312320Z",
     "start_time": "2024-10-23T22:09:05.282213Z"
    }
   },
   "source": [
    "# Set environment variable for OPENAI_API_KEY in jupyter server\n",
    "from fc_metric import calculate_fc_using_gpt\n",
    "import pandas as pd\n",
    "import matplotlib.pyplot as plt"
   ],
   "outputs": [],
   "execution_count": 1
  },
  {
   "metadata": {},
   "cell_type": "markdown",
   "source": [
    "## You only need the first part of this notebook to run the LM FC metric on the dataset\n",
    "If you need to analyze an existing ranking, you can skip to second part of the notebook. "
   ],
   "id": "15b1d53434ba1779"
  },
  {
   "metadata": {},
   "cell_type": "markdown",
   "source": [
    "The data can be downloaded from [here](https://github.com/Yale-LILY/SummEval?tab=readme-ov-file#human-annotations)  \n",
    "Rename it to fit the naming (summ_eval_model_annotations.aligned.jsonl) and place it to the data folder."
   ],
   "id": "7ca613253b68d269"
  },
  {
   "metadata": {
    "ExecuteTime": {
     "end_time": "2024-10-23T22:09:28.220287Z",
     "start_time": "2024-10-23T22:09:28.111129Z"
    }
   },
   "cell_type": "code",
   "source": "df = pd.read_json('../data/summ_eval_model_annotations.aligned.jsonl', lines=True)",
   "id": "865a663eb0508d7b",
   "outputs": [],
   "execution_count": 3
  },
  {
   "metadata": {
    "ExecuteTime": {
     "end_time": "2024-10-23T22:09:29.666698Z",
     "start_time": "2024-10-23T22:09:29.636906Z"
    }
   },
   "cell_type": "code",
   "source": "df.head()\n",
   "id": "d0a678b372952700",
   "outputs": [
    {
     "data": {
      "text/plain": [
       "                                                 id  \\\n",
       "0  dm-test-8764fb95bfad8ee849274873a92fb8d6b400eee2   \n",
       "1  dm-test-8764fb95bfad8ee849274873a92fb8d6b400eee2   \n",
       "2  dm-test-8764fb95bfad8ee849274873a92fb8d6b400eee2   \n",
       "3  dm-test-8764fb95bfad8ee849274873a92fb8d6b400eee2   \n",
       "4  dm-test-8764fb95bfad8ee849274873a92fb8d6b400eee2   \n",
       "\n",
       "                                             decoded  \\\n",
       "0  paul merson was brought on with only seven min...   \n",
       "1  paul merson has restarted his row with andros ...   \n",
       "2  paul merson has restarted his row with andros ...   \n",
       "3  paul merson has restarted his row with andros ...   \n",
       "4  paul merson has restarted his row with andros ...   \n",
       "\n",
       "                                  expert_annotations  \\\n",
       "0  [{'coherence': 2, 'consistency': 1, 'fluency':...   \n",
       "1  [{'coherence': 3, 'consistency': 5, 'fluency':...   \n",
       "2  [{'coherence': 2, 'consistency': 5, 'fluency':...   \n",
       "3  [{'coherence': 2, 'consistency': 5, 'fluency':...   \n",
       "4  [{'coherence': 4, 'consistency': 5, 'fluency':...   \n",
       "\n",
       "                                  turker_annotations  \\\n",
       "0  [{'coherence': 3, 'consistency': 3, 'fluency':...   \n",
       "1  [{'coherence': 2, 'consistency': 3, 'fluency':...   \n",
       "2  [{'coherence': 4, 'consistency': 5, 'fluency':...   \n",
       "3  [{'coherence': 5, 'consistency': 5, 'fluency':...   \n",
       "4  [{'coherence': 2, 'consistency': 4, 'fluency':...   \n",
       "\n",
       "                                          references model_id  \\\n",
       "0  [Andros Townsend an 83rd minute sub in Tottenh...      M11   \n",
       "1  [Andros Townsend an 83rd minute sub in Tottenh...      M13   \n",
       "2  [Andros Townsend an 83rd minute sub in Tottenh...       M1   \n",
       "3  [Andros Townsend an 83rd minute sub in Tottenh...      M14   \n",
       "4  [Andros Townsend an 83rd minute sub in Tottenh...      M15   \n",
       "\n",
       "                                            filepath  \n",
       "0  cnndm/dailymail/stories/8764fb95bfad8ee8492748...  \n",
       "1  cnndm/dailymail/stories/8764fb95bfad8ee8492748...  \n",
       "2  cnndm/dailymail/stories/8764fb95bfad8ee8492748...  \n",
       "3  cnndm/dailymail/stories/8764fb95bfad8ee8492748...  \n",
       "4  cnndm/dailymail/stories/8764fb95bfad8ee8492748...  "
      ],
      "text/html": [
       "<div>\n",
       "<style scoped>\n",
       "    .dataframe tbody tr th:only-of-type {\n",
       "        vertical-align: middle;\n",
       "    }\n",
       "\n",
       "    .dataframe tbody tr th {\n",
       "        vertical-align: top;\n",
       "    }\n",
       "\n",
       "    .dataframe thead th {\n",
       "        text-align: right;\n",
       "    }\n",
       "</style>\n",
       "<table border=\"1\" class=\"dataframe\">\n",
       "  <thead>\n",
       "    <tr style=\"text-align: right;\">\n",
       "      <th></th>\n",
       "      <th>id</th>\n",
       "      <th>decoded</th>\n",
       "      <th>expert_annotations</th>\n",
       "      <th>turker_annotations</th>\n",
       "      <th>references</th>\n",
       "      <th>model_id</th>\n",
       "      <th>filepath</th>\n",
       "    </tr>\n",
       "  </thead>\n",
       "  <tbody>\n",
       "    <tr>\n",
       "      <th>0</th>\n",
       "      <td>dm-test-8764fb95bfad8ee849274873a92fb8d6b400eee2</td>\n",
       "      <td>paul merson was brought on with only seven min...</td>\n",
       "      <td>[{'coherence': 2, 'consistency': 1, 'fluency':...</td>\n",
       "      <td>[{'coherence': 3, 'consistency': 3, 'fluency':...</td>\n",
       "      <td>[Andros Townsend an 83rd minute sub in Tottenh...</td>\n",
       "      <td>M11</td>\n",
       "      <td>cnndm/dailymail/stories/8764fb95bfad8ee8492748...</td>\n",
       "    </tr>\n",
       "    <tr>\n",
       "      <th>1</th>\n",
       "      <td>dm-test-8764fb95bfad8ee849274873a92fb8d6b400eee2</td>\n",
       "      <td>paul merson has restarted his row with andros ...</td>\n",
       "      <td>[{'coherence': 3, 'consistency': 5, 'fluency':...</td>\n",
       "      <td>[{'coherence': 2, 'consistency': 3, 'fluency':...</td>\n",
       "      <td>[Andros Townsend an 83rd minute sub in Tottenh...</td>\n",
       "      <td>M13</td>\n",
       "      <td>cnndm/dailymail/stories/8764fb95bfad8ee8492748...</td>\n",
       "    </tr>\n",
       "    <tr>\n",
       "      <th>2</th>\n",
       "      <td>dm-test-8764fb95bfad8ee849274873a92fb8d6b400eee2</td>\n",
       "      <td>paul merson has restarted his row with andros ...</td>\n",
       "      <td>[{'coherence': 2, 'consistency': 5, 'fluency':...</td>\n",
       "      <td>[{'coherence': 4, 'consistency': 5, 'fluency':...</td>\n",
       "      <td>[Andros Townsend an 83rd minute sub in Tottenh...</td>\n",
       "      <td>M1</td>\n",
       "      <td>cnndm/dailymail/stories/8764fb95bfad8ee8492748...</td>\n",
       "    </tr>\n",
       "    <tr>\n",
       "      <th>3</th>\n",
       "      <td>dm-test-8764fb95bfad8ee849274873a92fb8d6b400eee2</td>\n",
       "      <td>paul merson has restarted his row with andros ...</td>\n",
       "      <td>[{'coherence': 2, 'consistency': 5, 'fluency':...</td>\n",
       "      <td>[{'coherence': 5, 'consistency': 5, 'fluency':...</td>\n",
       "      <td>[Andros Townsend an 83rd minute sub in Tottenh...</td>\n",
       "      <td>M14</td>\n",
       "      <td>cnndm/dailymail/stories/8764fb95bfad8ee8492748...</td>\n",
       "    </tr>\n",
       "    <tr>\n",
       "      <th>4</th>\n",
       "      <td>dm-test-8764fb95bfad8ee849274873a92fb8d6b400eee2</td>\n",
       "      <td>paul merson has restarted his row with andros ...</td>\n",
       "      <td>[{'coherence': 4, 'consistency': 5, 'fluency':...</td>\n",
       "      <td>[{'coherence': 2, 'consistency': 4, 'fluency':...</td>\n",
       "      <td>[Andros Townsend an 83rd minute sub in Tottenh...</td>\n",
       "      <td>M15</td>\n",
       "      <td>cnndm/dailymail/stories/8764fb95bfad8ee8492748...</td>\n",
       "    </tr>\n",
       "  </tbody>\n",
       "</table>\n",
       "</div>"
      ]
     },
     "execution_count": 4,
     "metadata": {},
     "output_type": "execute_result"
    }
   ],
   "execution_count": 4
  },
  {
   "metadata": {},
   "cell_type": "markdown",
   "source": [
    "Low: paul merson was brought on with only seven minutes remaining in his team 's 0-0 draw with burnley . andros townsend scored the tottenham midfielder in the 89th minute . paul merson had another dig at andros townsend after his appearance . the midfielder had been brought on to the england squad last week . click here for all the latest arsenal news news .  \n",
    "High: paul merson has restarted his row with andros townsend . the tottenham midfielder was brought on with only seven minutes remaining in his team 's 0-0 draw with burnley . andros townsend scores england 's equaliser in their 1-1 friendly draw with italy in turin .  \n",
    "High: paul merson has restarted his row with andros townsend after the tottenham midfielder was brought on with only seven minutes remaining in his team 's 0-0 draw with burnley on sunday . merson initially angered townsend for writing in his sky sports column that ` if andros townsend can get in -lrb- the england team -rrb- then it opens it up to anybody ' townsend was brought on in the 83rd minute for tottenham as they drew 0-0 against burnley .\n"
   ],
   "id": "1bb605f5efed3f2f"
  },
  {
   "metadata": {
    "ExecuteTime": {
     "end_time": "2024-10-15T01:23:15.258414Z",
     "start_time": "2024-10-15T01:23:15.136389Z"
    }
   },
   "cell_type": "code",
   "source": [
    "df[\"average_consistency_evaluation_expert\"] = df[\"expert_annotations\"].apply(lambda x: round(sum([ measure[\"consistency\"]for measure in x ])/len(x)))\n",
    "df[\"median_consistency_evaluation_expert\"] = df[\"expert_annotations\"].apply(lambda x: round(sorted([ measure[\"consistency\"]for measure in x ])[len(x)//2]))"
   ],
   "id": "17c949e78d244a22",
   "outputs": [],
   "execution_count": 25
  },
  {
   "metadata": {
    "ExecuteTime": {
     "end_time": "2024-10-15T01:23:17.981414Z",
     "start_time": "2024-10-15T01:23:17.960113Z"
    }
   },
   "cell_type": "code",
   "source": "df[\"average_consistency_evaluation_expert\"].describe()",
   "id": "cf1d000cb1d4b89e",
   "outputs": [
    {
     "data": {
      "text/plain": [
       "count    1600.000000\n",
       "mean        4.675625\n",
       "std         0.914291\n",
       "min         1.000000\n",
       "25%         5.000000\n",
       "50%         5.000000\n",
       "75%         5.000000\n",
       "max         5.000000\n",
       "Name: average_consistency_evaluation_expert, dtype: float64"
      ]
     },
     "execution_count": 26,
     "metadata": {},
     "output_type": "execute_result"
    }
   ],
   "execution_count": 26
  },
  {
   "metadata": {
    "ExecuteTime": {
     "end_time": "2024-10-23T22:09:35.650619Z",
     "start_time": "2024-10-23T22:09:35.645330Z"
    }
   },
   "cell_type": "code",
   "source": "focus = df.iloc[0:64].copy()\n",
   "id": "bfe754aef3306ac0",
   "outputs": [],
   "execution_count": 5
  },
  {
   "metadata": {
    "ExecuteTime": {
     "end_time": "2024-10-23T22:09:39.073Z",
     "start_time": "2024-10-23T22:09:38.065084Z"
    }
   },
   "cell_type": "code",
   "source": "calculate_fc_using_gpt(\"this is a summary. 12.\", \"THis is the summary of the summary. It contains the number 12.\", fail_silent=False)",
   "id": "21c96b16fe19a553",
   "outputs": [
    {
     "data": {
      "text/plain": [
       "3"
      ]
     },
     "execution_count": 6,
     "metadata": {},
     "output_type": "execute_result"
    }
   ],
   "execution_count": 6
  },
  {
   "metadata": {
    "ExecuteTime": {
     "end_time": "2024-10-15T01:24:28.713304Z",
     "start_time": "2024-10-15T01:23:21.515839Z"
    }
   },
   "cell_type": "code",
   "source": [
    "focus[\"lm_fc_rating\"] = focus.apply(lambda x: calculate_fc_using_gpt(\"; \".join(x[\"references\"]), x[\"decoded\"], fail_silent=False), axis = 1)\n",
    "timestamp = pd.Timestamp.now()\n",
    "focus.to_csv(f\"../data/temp_fc_ratings_{timestamp}.csv\")"
   ],
   "id": "90c8ad736b51d445",
   "outputs": [],
   "execution_count": 29
  },
  {
   "metadata": {},
   "cell_type": "markdown",
   "source": "## Use the following code to load previous results and analyze them",
   "id": "2399b0c437073787"
  },
  {
   "metadata": {
    "ExecuteTime": {
     "end_time": "2024-10-16T20:04:15.708372Z",
     "start_time": "2024-10-16T20:04:15.669113Z"
    }
   },
   "cell_type": "code",
   "source": [
    "#timestamp = 24\n",
    "focus = pd.read_csv(f\"../data/temp_fc_ratings_{timestamp}.csv\")"
   ],
   "id": "f1a937e13700ff08",
   "outputs": [],
   "execution_count": 4
  },
  {
   "metadata": {
    "ExecuteTime": {
     "end_time": "2024-10-16T20:04:19.840871Z",
     "start_time": "2024-10-16T20:04:19.815735Z"
    }
   },
   "cell_type": "code",
   "source": "focus[\"lm_fc_rating\"].describe()",
   "id": "3eceec7974e80e0b",
   "outputs": [
    {
     "data": {
      "text/plain": [
       "count    64.000000\n",
       "mean      3.593750\n",
       "std       0.811011\n",
       "min       1.000000\n",
       "25%       3.000000\n",
       "50%       4.000000\n",
       "75%       4.000000\n",
       "max       5.000000\n",
       "Name: lm_fc_rating, dtype: float64"
      ]
     },
     "execution_count": 5,
     "metadata": {},
     "output_type": "execute_result"
    }
   ],
   "execution_count": 5
  },
  {
   "metadata": {
    "ExecuteTime": {
     "end_time": "2024-10-16T20:04:22.102454Z",
     "start_time": "2024-10-16T20:04:22.085890Z"
    }
   },
   "cell_type": "code",
   "source": "focus[\"average_consistency_evaluation_expert\"].describe()\n",
   "id": "1b64f17be0a3571c",
   "outputs": [
    {
     "data": {
      "text/plain": [
       "count    64.000000\n",
       "mean      4.718750\n",
       "std       0.844567\n",
       "min       1.000000\n",
       "25%       5.000000\n",
       "50%       5.000000\n",
       "75%       5.000000\n",
       "max       5.000000\n",
       "Name: average_consistency_evaluation_expert, dtype: float64"
      ]
     },
     "execution_count": 6,
     "metadata": {},
     "output_type": "execute_result"
    }
   ],
   "execution_count": 6
  },
  {
   "metadata": {
    "ExecuteTime": {
     "end_time": "2024-10-16T20:04:25.549534Z",
     "start_time": "2024-10-16T20:04:25.124314Z"
    }
   },
   "cell_type": "code",
   "source": [
    "ax1 = focus[\"lm_fc_rating\"].hist(\n",
    "    alpha=0.5,\n",
    "    bins=5,\n",
    "    label=\"LM FC\"\n",
    ")\n",
    "ax2 = focus[\"average_consistency_evaluation_expert\"].hist(\n",
    "    alpha=0.5,\n",
    "    bins=5, \n",
    "    label=\"Expert Consistency Average\"\n",
    ")\n",
    "plt.xlabel(\"Rating\")\n",
    "plt.legend()\n",
    "plt.show()"
   ],
   "id": "80c4aeb50818a147",
   "outputs": [
    {
     "data": {
      "text/plain": [
       "<Figure size 640x480 with 1 Axes>"
      ],
      "image/png": "[encoded data removed]"
     },
     "metadata": {},
     "output_type": "display_data"
    }
   ],
   "execution_count": 7
  },
  {
   "metadata": {
    "ExecuteTime": {
     "end_time": "2024-10-16T20:04:34.770530Z",
     "start_time": "2024-10-16T20:04:28.038929Z"
    }
   },
   "cell_type": "code",
   "source": [
    "# correlation analysis\n",
    "focus[\"lm_fc_rating\"].corr(focus[\"average_consistency_evaluation_expert\"]), focus[\"lm_fc_rating\"].corr(focus[\"average_consistency_evaluation_expert\"], method=\"spearman\", ) "
   ],
   "id": "5874b77cfbdc8710",
   "outputs": [
    {
     "data": {
      "text/plain": [
       "(np.float64(0.456235782995921), np.float64(0.39040568490631783))"
      ]
     },
     "execution_count": 8,
     "metadata": {},
     "output_type": "execute_result"
    }
   ],
   "execution_count": 8
  },
  {
   "metadata": {
    "ExecuteTime": {
     "end_time": "2024-10-16T20:04:38.067415Z",
     "start_time": "2024-10-16T20:04:38.053236Z"
    }
   },
   "cell_type": "code",
   "source": [
    "# rank correlation with ties using scipy spearman\n",
    "from scipy.stats import spearmanr, rankdata\n",
    "import numpy as np\n",
    "\n",
    "focus[\"lm_fc_rating_rank\"] = rankdata(np.round(focus[\"lm_fc_rating\"]) )\n",
    "spearmanr(focus[\"lm_fc_rating_rank\"], focus[\"average_consistency_evaluation_expert\"])\n"
   ],
   "id": "d7600c489a935a95",
   "outputs": [
    {
     "data": {
      "text/plain": [
       "SignificanceResult(statistic=np.float64(0.39040568490631783), pvalue=np.float64(0.0014262926428106457))"
      ]
     },
     "execution_count": 9,
     "metadata": {},
     "output_type": "execute_result"
    }
   ],
   "execution_count": 9
  },
  {
   "metadata": {
    "ExecuteTime": {
     "end_time": "2024-10-16T20:05:29.700674Z",
     "start_time": "2024-10-16T20:05:29.669961Z"
    }
   },
   "cell_type": "code",
   "source": [
    "# calculating the percentage of correct rankings 4 or higher\n",
    "focus[\"lm_good\"] = focus[\"lm_fc_rating\"] >= 4\n",
    "focus[\"expert_good\"] = focus[\"average_consistency_evaluation_expert\"] >= 4\n",
    "true_positive = (focus[\"lm_good\"] & focus[\"expert_good\"]).sum() / len(focus)\n",
    "true_negative = (~focus[\"lm_good\"] & ~focus[\"expert_good\"]).sum() / len(focus)\n",
    "false_positive = (focus[\"lm_good\"] & ~focus[\"expert_good\"]).sum() / len(focus)\n",
    "false_negative = (~focus[\"lm_good\"] & focus[\"expert_good\"]).sum() / len(focus)\n",
    "precision = true_positive / (true_positive + false_positive)\n",
    "recall = true_positive / (true_positive + false_negative)\n",
    "precision, recall\n"
   ],
   "id": "5721cf2bc0157489",
   "outputs": [
    {
     "data": {
      "text/plain": [
       "(np.float64(0.975), np.float64(0.6610169491525424))"
      ]
     },
     "execution_count": 12,
     "metadata": {},
     "output_type": "execute_result"
    }
   ],
   "execution_count": 12
  },
  {
   "metadata": {},
   "cell_type": "markdown",
   "source": [
    "Precision should be interpreted as the  percentage of rankings 4 or higher by the LM, that were also ranked high by experts.  \n",
    "Recall should be interpreted as the percentage of the good rankings by experts, that the LM also ranked high."
   ],
   "id": "3e95e6e330b5da64"
  },
  {
   "metadata": {
    "ExecuteTime": {
     "end_time": "2024-10-16T20:10:32.322695Z",
     "start_time": "2024-10-16T20:10:32.108362Z"
    }
   },
   "cell_type": "code",
   "source": [
    "# average distance between predictions\n",
    "focus[\"abs_error\"] = abs(focus[\"lm_fc_rating\"] - focus[\"average_consistency_evaluation_expert\"]) \n",
    "print(\"mean abs error:\", focus[\"abs_error\"].mean())\n",
    "focus[\"abs_error\"].hist()\n",
    "focus[\"abs_error\"].describe()"
   ],
   "id": "5e4b841c8d57d469",
   "outputs": [
    {
     "name": "stdout",
     "output_type": "stream",
     "text": [
      "mean abs error: 1.21875\n"
     ]
    },
    {
     "data": {
      "text/plain": [
       "count    64.000000\n",
       "mean      1.218750\n",
       "std       0.723061\n",
       "min       0.000000\n",
       "25%       1.000000\n",
       "50%       1.000000\n",
       "75%       2.000000\n",
       "max       3.000000\n",
       "Name: abs_error, dtype: float64"
      ]
     },
     "execution_count": 14,
     "metadata": {},
     "output_type": "execute_result"
    },
    {
     "data": {
      "text/plain": [
       "<Figure size 640x480 with 1 Axes>"
      ],
      "image/png": "[encoded data removed]"
     },
     "metadata": {},
     "output_type": "display_data"
    }
   ],
   "execution_count": 14
  },
  {
   "metadata": {},
   "cell_type": "code",
   "outputs": [],
   "execution_count": null,
   "source": "",
   "id": "47f80d2874c444b8"
  }
 ],
 "metadata": {
  "kernelspec": {
   "display_name": "Python 3",
   "language": "python",
   "name": "python3"
  },
  "language_info": {
   "codemirror_mode": {
    "name": "ipython",
    "version": 2
   },
   "file_extension": ".py",
   "mimetype": "text/x-python",
   "name": "python",
   "nbconvert_exporter": "python",
   "pygments_lexer": "ipython2",
   "version": "2.7.6"
  }
 },
 "nbformat": 4,
 "nbformat_minor": 5
}
