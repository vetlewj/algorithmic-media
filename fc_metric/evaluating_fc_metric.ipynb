{
 "cells": [
  {
   "cell_type": "code",
   "id": "initial_id",
   "metadata": {
    "collapsed": true,
    "ExecuteTime": {
     "end_time": "2024-12-02T20:24:15.544571Z",
     "start_time": "2024-12-02T20:24:15.542261Z"
    }
   },
   "source": [
    "import seaborn as sns\n",
    "\n",
    "# Set environment variable for OPENAI_API_KEY in jupyter server\n",
    "from fc_metric import calculate_fc_using_gpt\n",
    "import pandas as pd\n",
    "import matplotlib.pyplot as plt"
   ],
   "outputs": [],
   "execution_count": 43
  },
  {
   "metadata": {},
   "cell_type": "markdown",
   "source": [
    "## You only need the first part of this notebook to run the LM FC metric on the dataset\n",
    "If you need to analyze an existing ranking, you can skip to second part of the notebook. "
   ],
   "id": "15b1d53434ba1779"
  },
  {
   "metadata": {},
   "cell_type": "markdown",
   "source": [
    "The data can be downloaded from [here](https://github.com/Yale-LILY/SummEval?tab=readme-ov-file#human-annotations)  \n",
    "Rename it to fit the naming (summ_eval_model_annotations.aligned.jsonl) and place it to the data folder."
   ],
   "id": "7ca613253b68d269"
  },
  {
   "metadata": {
    "ExecuteTime": {
     "end_time": "2024-12-02T19:20:01.266589Z",
     "start_time": "2024-12-02T19:20:01.201061Z"
    }
   },
   "cell_type": "code",
   "source": "df = pd.read_json('../data/eval/summ_eval_model_annotations.aligned.jsonl', lines=True)",
   "id": "865a663eb0508d7b",
   "outputs": [],
   "execution_count": 2
  },
  {
   "metadata": {
    "ExecuteTime": {
     "end_time": "2024-12-02T19:20:10.637612Z",
     "start_time": "2024-12-02T19:20:10.620964Z"
    }
   },
   "cell_type": "code",
   "source": "df\n",
   "id": "d0a678b372952700",
   "outputs": [
    {
     "data": {
      "text/plain": [
       "                                                    id  \\\n",
       "0     dm-test-8764fb95bfad8ee849274873a92fb8d6b400eee2   \n",
       "1     dm-test-8764fb95bfad8ee849274873a92fb8d6b400eee2   \n",
       "2     dm-test-8764fb95bfad8ee849274873a92fb8d6b400eee2   \n",
       "3     dm-test-8764fb95bfad8ee849274873a92fb8d6b400eee2   \n",
       "4     dm-test-8764fb95bfad8ee849274873a92fb8d6b400eee2   \n",
       "...                                                ...   \n",
       "1595  dm-test-e880fda4c25289f8325574246f0f8ed4ff5eb26b   \n",
       "1596  dm-test-e880fda4c25289f8325574246f0f8ed4ff5eb26b   \n",
       "1597  dm-test-e880fda4c25289f8325574246f0f8ed4ff5eb26b   \n",
       "1598  dm-test-e880fda4c25289f8325574246f0f8ed4ff5eb26b   \n",
       "1599  dm-test-e880fda4c25289f8325574246f0f8ed4ff5eb26b   \n",
       "\n",
       "                                                decoded  \\\n",
       "0     paul merson was brought on with only seven min...   \n",
       "1     paul merson has restarted his row with andros ...   \n",
       "2     paul merson has restarted his row with andros ...   \n",
       "3     paul merson has restarted his row with andros ...   \n",
       "4     paul merson has restarted his row with andros ...   \n",
       "...                                                 ...   \n",
       "1595  a timewarp home which has remained unchanged s...   \n",
       "1596  The collector 's paradise in Horfield , Bristo...   \n",
       "1597  the collector’s paradise in horfield , bristol...   \n",
       "1598  the collector 's paradise in horfield , bristo...   \n",
       "1599  the timewarp home has remained unchanged since...   \n",
       "\n",
       "                                     expert_annotations  \\\n",
       "0     [{'coherence': 2, 'consistency': 1, 'fluency':...   \n",
       "1     [{'coherence': 3, 'consistency': 5, 'fluency':...   \n",
       "2     [{'coherence': 2, 'consistency': 5, 'fluency':...   \n",
       "3     [{'coherence': 2, 'consistency': 5, 'fluency':...   \n",
       "4     [{'coherence': 4, 'consistency': 5, 'fluency':...   \n",
       "...                                                 ...   \n",
       "1595  [{'coherence': 5, 'consistency': 5, 'fluency':...   \n",
       "1596  [{'coherence': 3, 'consistency': 5, 'fluency':...   \n",
       "1597  [{'coherence': 5, 'consistency': 5, 'fluency':...   \n",
       "1598  [{'coherence': 3, 'consistency': 5, 'fluency':...   \n",
       "1599  [{'coherence': 3, 'consistency': 5, 'fluency':...   \n",
       "\n",
       "                                     turker_annotations  \\\n",
       "0     [{'coherence': 3, 'consistency': 3, 'fluency':...   \n",
       "1     [{'coherence': 2, 'consistency': 3, 'fluency':...   \n",
       "2     [{'coherence': 4, 'consistency': 5, 'fluency':...   \n",
       "3     [{'coherence': 5, 'consistency': 5, 'fluency':...   \n",
       "4     [{'coherence': 2, 'consistency': 4, 'fluency':...   \n",
       "...                                                 ...   \n",
       "1595  [{'coherence': 4, 'consistency': 3, 'fluency':...   \n",
       "1596  [{'coherence': 4, 'consistency': 4, 'fluency':...   \n",
       "1597  [{'coherence': 4, 'consistency': 4, 'fluency':...   \n",
       "1598  [{'coherence': 4, 'consistency': 3, 'fluency':...   \n",
       "1599  [{'coherence': 4, 'consistency': 3, 'fluency':...   \n",
       "\n",
       "                                             references model_id  \\\n",
       "0     [Andros Townsend an 83rd minute sub in Tottenh...      M11   \n",
       "1     [Andros Townsend an 83rd minute sub in Tottenh...      M13   \n",
       "2     [Andros Townsend an 83rd minute sub in Tottenh...       M1   \n",
       "3     [Andros Townsend an 83rd minute sub in Tottenh...      M14   \n",
       "4     [Andros Townsend an 83rd minute sub in Tottenh...      M15   \n",
       "...                                                 ...      ...   \n",
       "1595  [Nondescript semi-detached home for sale in Ho...       M0   \n",
       "1596  [Nondescript semi-detached home for sale in Ho...      M22   \n",
       "1597  [Nondescript semi-detached home for sale in Ho...       M8   \n",
       "1598  [Nondescript semi-detached home for sale in Ho...      M10   \n",
       "1599  [Nondescript semi-detached home for sale in Ho...       M9   \n",
       "\n",
       "                                               filepath  \\\n",
       "0     cnndm/dailymail/stories/8764fb95bfad8ee8492748...   \n",
       "1     cnndm/dailymail/stories/8764fb95bfad8ee8492748...   \n",
       "2     cnndm/dailymail/stories/8764fb95bfad8ee8492748...   \n",
       "3     cnndm/dailymail/stories/8764fb95bfad8ee8492748...   \n",
       "4     cnndm/dailymail/stories/8764fb95bfad8ee8492748...   \n",
       "...                                                 ...   \n",
       "1595  cnndm/dailymail/stories/e880fda4c25289f8325574...   \n",
       "1596  cnndm/dailymail/stories/e880fda4c25289f8325574...   \n",
       "1597  cnndm/dailymail/stories/e880fda4c25289f8325574...   \n",
       "1598  cnndm/dailymail/stories/e880fda4c25289f8325574...   \n",
       "1599  cnndm/dailymail/stories/e880fda4c25289f8325574...   \n",
       "\n",
       "      average_consistency_evaluation_expert  \\\n",
       "0                                         1   \n",
       "1                                         5   \n",
       "2                                         5   \n",
       "3                                         5   \n",
       "4                                         5   \n",
       "...                                     ...   \n",
       "1595                                      5   \n",
       "1596                                      5   \n",
       "1597                                      5   \n",
       "1598                                      5   \n",
       "1599                                      5   \n",
       "\n",
       "      median_consistency_evaluation_expert  \n",
       "0                                        1  \n",
       "1                                        5  \n",
       "2                                        5  \n",
       "3                                        5  \n",
       "4                                        5  \n",
       "...                                    ...  \n",
       "1595                                     5  \n",
       "1596                                     5  \n",
       "1597                                     5  \n",
       "1598                                     5  \n",
       "1599                                     5  \n",
       "\n",
       "[1600 rows x 9 columns]"
      ],
      "text/html": [
       "<div>\n",
       "<style scoped>\n",
       "    .dataframe tbody tr th:only-of-type {\n",
       "        vertical-align: middle;\n",
       "    }\n",
       "\n",
       "    .dataframe tbody tr th {\n",
       "        vertical-align: top;\n",
       "    }\n",
       "\n",
       "    .dataframe thead th {\n",
       "        text-align: right;\n",
       "    }\n",
       "</style>\n",
       "<table border=\"1\" class=\"dataframe\">\n",
       "  <thead>\n",
       "    <tr style=\"text-align: right;\">\n",
       "      <th></th>\n",
       "      <th>id</th>\n",
       "      <th>decoded</th>\n",
       "      <th>expert_annotations</th>\n",
       "      <th>turker_annotations</th>\n",
       "      <th>references</th>\n",
       "      <th>model_id</th>\n",
       "      <th>filepath</th>\n",
       "      <th>average_consistency_evaluation_expert</th>\n",
       "      <th>median_consistency_evaluation_expert</th>\n",
       "    </tr>\n",
       "  </thead>\n",
       "  <tbody>\n",
       "    <tr>\n",
       "      <th>0</th>\n",
       "      <td>dm-test-8764fb95bfad8ee849274873a92fb8d6b400eee2</td>\n",
       "      <td>paul merson was brought on with only seven min...</td>\n",
       "      <td>[{'coherence': 2, 'consistency': 1, 'fluency':...</td>\n",
       "      <td>[{'coherence': 3, 'consistency': 3, 'fluency':...</td>\n",
       "      <td>[Andros Townsend an 83rd minute sub in Tottenh...</td>\n",
       "      <td>M11</td>\n",
       "      <td>cnndm/dailymail/stories/8764fb95bfad8ee8492748...</td>\n",
       "      <td>1</td>\n",
       "      <td>1</td>\n",
       "    </tr>\n",
       "    <tr>\n",
       "      <th>1</th>\n",
       "      <td>dm-test-8764fb95bfad8ee849274873a92fb8d6b400eee2</td>\n",
       "      <td>paul merson has restarted his row with andros ...</td>\n",
       "      <td>[{'coherence': 3, 'consistency': 5, 'fluency':...</td>\n",
       "      <td>[{'coherence': 2, 'consistency': 3, 'fluency':...</td>\n",
       "      <td>[Andros Townsend an 83rd minute sub in Tottenh...</td>\n",
       "      <td>M13</td>\n",
       "      <td>cnndm/dailymail/stories/8764fb95bfad8ee8492748...</td>\n",
       "      <td>5</td>\n",
       "      <td>5</td>\n",
       "    </tr>\n",
       "    <tr>\n",
       "      <th>2</th>\n",
       "      <td>dm-test-8764fb95bfad8ee849274873a92fb8d6b400eee2</td>\n",
       "      <td>paul merson has restarted his row with andros ...</td>\n",
       "      <td>[{'coherence': 2, 'consistency': 5, 'fluency':...</td>\n",
       "      <td>[{'coherence': 4, 'consistency': 5, 'fluency':...</td>\n",
       "      <td>[Andros Townsend an 83rd minute sub in Tottenh...</td>\n",
       "      <td>M1</td>\n",
       "      <td>cnndm/dailymail/stories/8764fb95bfad8ee8492748...</td>\n",
       "      <td>5</td>\n",
       "      <td>5</td>\n",
       "    </tr>\n",
       "    <tr>\n",
       "      <th>3</th>\n",
       "      <td>dm-test-8764fb95bfad8ee849274873a92fb8d6b400eee2</td>\n",
       "      <td>paul merson has restarted his row with andros ...</td>\n",
       "      <td>[{'coherence': 2, 'consistency': 5, 'fluency':...</td>\n",
       "      <td>[{'coherence': 5, 'consistency': 5, 'fluency':...</td>\n",
       "      <td>[Andros Townsend an 83rd minute sub in Tottenh...</td>\n",
       "      <td>M14</td>\n",
       "      <td>cnndm/dailymail/stories/8764fb95bfad8ee8492748...</td>\n",
       "      <td>5</td>\n",
       "      <td>5</td>\n",
       "    </tr>\n",
       "    <tr>\n",
       "      <th>4</th>\n",
       "      <td>dm-test-8764fb95bfad8ee849274873a92fb8d6b400eee2</td>\n",
       "      <td>paul merson has restarted his row with andros ...</td>\n",
       "      <td>[{'coherence': 4, 'consistency': 5, 'fluency':...</td>\n",
       "      <td>[{'coherence': 2, 'consistency': 4, 'fluency':...</td>\n",
       "      <td>[Andros Townsend an 83rd minute sub in Tottenh...</td>\n",
       "      <td>M15</td>\n",
       "      <td>cnndm/dailymail/stories/8764fb95bfad8ee8492748...</td>\n",
       "      <td>5</td>\n",
       "      <td>5</td>\n",
       "    </tr>\n",
       "    <tr>\n",
       "      <th>...</th>\n",
       "      <td>...</td>\n",
       "      <td>...</td>\n",
       "      <td>...</td>\n",
       "      <td>...</td>\n",
       "      <td>...</td>\n",
       "      <td>...</td>\n",
       "      <td>...</td>\n",
       "      <td>...</td>\n",
       "      <td>...</td>\n",
       "    </tr>\n",
       "    <tr>\n",
       "      <th>1595</th>\n",
       "      <td>dm-test-e880fda4c25289f8325574246f0f8ed4ff5eb26b</td>\n",
       "      <td>a timewarp home which has remained unchanged s...</td>\n",
       "      <td>[{'coherence': 5, 'consistency': 5, 'fluency':...</td>\n",
       "      <td>[{'coherence': 4, 'consistency': 3, 'fluency':...</td>\n",
       "      <td>[Nondescript semi-detached home for sale in Ho...</td>\n",
       "      <td>M0</td>\n",
       "      <td>cnndm/dailymail/stories/e880fda4c25289f8325574...</td>\n",
       "      <td>5</td>\n",
       "      <td>5</td>\n",
       "    </tr>\n",
       "    <tr>\n",
       "      <th>1596</th>\n",
       "      <td>dm-test-e880fda4c25289f8325574246f0f8ed4ff5eb26b</td>\n",
       "      <td>The collector 's paradise in Horfield , Bristo...</td>\n",
       "      <td>[{'coherence': 3, 'consistency': 5, 'fluency':...</td>\n",
       "      <td>[{'coherence': 4, 'consistency': 4, 'fluency':...</td>\n",
       "      <td>[Nondescript semi-detached home for sale in Ho...</td>\n",
       "      <td>M22</td>\n",
       "      <td>cnndm/dailymail/stories/e880fda4c25289f8325574...</td>\n",
       "      <td>5</td>\n",
       "      <td>5</td>\n",
       "    </tr>\n",
       "    <tr>\n",
       "      <th>1597</th>\n",
       "      <td>dm-test-e880fda4c25289f8325574246f0f8ed4ff5eb26b</td>\n",
       "      <td>the collector’s paradise in horfield , bristol...</td>\n",
       "      <td>[{'coherence': 5, 'consistency': 5, 'fluency':...</td>\n",
       "      <td>[{'coherence': 4, 'consistency': 4, 'fluency':...</td>\n",
       "      <td>[Nondescript semi-detached home for sale in Ho...</td>\n",
       "      <td>M8</td>\n",
       "      <td>cnndm/dailymail/stories/e880fda4c25289f8325574...</td>\n",
       "      <td>5</td>\n",
       "      <td>5</td>\n",
       "    </tr>\n",
       "    <tr>\n",
       "      <th>1598</th>\n",
       "      <td>dm-test-e880fda4c25289f8325574246f0f8ed4ff5eb26b</td>\n",
       "      <td>the collector 's paradise in horfield , bristo...</td>\n",
       "      <td>[{'coherence': 3, 'consistency': 5, 'fluency':...</td>\n",
       "      <td>[{'coherence': 4, 'consistency': 3, 'fluency':...</td>\n",
       "      <td>[Nondescript semi-detached home for sale in Ho...</td>\n",
       "      <td>M10</td>\n",
       "      <td>cnndm/dailymail/stories/e880fda4c25289f8325574...</td>\n",
       "      <td>5</td>\n",
       "      <td>5</td>\n",
       "    </tr>\n",
       "    <tr>\n",
       "      <th>1599</th>\n",
       "      <td>dm-test-e880fda4c25289f8325574246f0f8ed4ff5eb26b</td>\n",
       "      <td>the timewarp home has remained unchanged since...</td>\n",
       "      <td>[{'coherence': 3, 'consistency': 5, 'fluency':...</td>\n",
       "      <td>[{'coherence': 4, 'consistency': 3, 'fluency':...</td>\n",
       "      <td>[Nondescript semi-detached home for sale in Ho...</td>\n",
       "      <td>M9</td>\n",
       "      <td>cnndm/dailymail/stories/e880fda4c25289f8325574...</td>\n",
       "      <td>5</td>\n",
       "      <td>5</td>\n",
       "    </tr>\n",
       "  </tbody>\n",
       "</table>\n",
       "<p>1600 rows × 9 columns</p>\n",
       "</div>"
      ]
     },
     "execution_count": 5,
     "metadata": {},
     "output_type": "execute_result"
    }
   ],
   "execution_count": 5
  },
  {
   "metadata": {},
   "cell_type": "markdown",
   "source": [
    "Low: paul merson was brought on with only seven minutes remaining in his team 's 0-0 draw with burnley . andros townsend scored the tottenham midfielder in the 89th minute . paul merson had another dig at andros townsend after his appearance . the midfielder had been brought on to the england squad last week . click here for all the latest arsenal news news .  \n",
    "High: paul merson has restarted his row with andros townsend . the tottenham midfielder was brought on with only seven minutes remaining in his team 's 0-0 draw with burnley . andros townsend scores england 's equaliser in their 1-1 friendly draw with italy in turin .  \n",
    "High: paul merson has restarted his row with andros townsend after the tottenham midfielder was brought on with only seven minutes remaining in his team 's 0-0 draw with burnley on sunday . merson initially angered townsend for writing in his sky sports column that ` if andros townsend can get in -lrb- the england team -rrb- then it opens it up to anybody ' townsend was brought on in the 83rd minute for tottenham as they drew 0-0 against burnley .\n"
   ],
   "id": "1bb605f5efed3f2f"
  },
  {
   "metadata": {
    "ExecuteTime": {
     "end_time": "2024-12-02T19:20:12.890696Z",
     "start_time": "2024-12-02T19:20:12.884968Z"
    }
   },
   "cell_type": "code",
   "source": [
    "df[\"average_consistency_evaluation_expert\"] = df[\"expert_annotations\"].apply(lambda x: round(sum([ measure[\"consistency\"]for measure in x ])/len(x)))\n",
    "df[\"median_consistency_evaluation_expert\"] = df[\"expert_annotations\"].apply(lambda x: round(sorted([ measure[\"consistency\"]for measure in x ])[len(x)//2]))"
   ],
   "id": "17c949e78d244a22",
   "outputs": [],
   "execution_count": 6
  },
  {
   "metadata": {
    "ExecuteTime": {
     "end_time": "2024-12-02T19:20:15.130220Z",
     "start_time": "2024-12-02T19:20:15.124417Z"
    }
   },
   "cell_type": "code",
   "source": "df[\"average_consistency_evaluation_expert\"].describe()",
   "id": "cf1d000cb1d4b89e",
   "outputs": [
    {
     "data": {
      "text/plain": [
       "count    1600.000000\n",
       "mean        4.675625\n",
       "std         0.914291\n",
       "min         1.000000\n",
       "25%         5.000000\n",
       "50%         5.000000\n",
       "75%         5.000000\n",
       "max         5.000000\n",
       "Name: average_consistency_evaluation_expert, dtype: float64"
      ]
     },
     "execution_count": 7,
     "metadata": {},
     "output_type": "execute_result"
    }
   ],
   "execution_count": 7
  },
  {
   "metadata": {},
   "cell_type": "markdown",
   "source": "## Running FC Metric batched on the dataset",
   "id": "e6c7b1570ab1275e"
  },
  {
   "metadata": {
    "ExecuteTime": {
     "end_time": "2024-12-02T19:28:50.278377Z",
     "start_time": "2024-12-02T19:28:50.272440Z"
    }
   },
   "cell_type": "code",
   "source": [
    "import os\n",
    "from openai import OpenAI\n",
    "\n",
    "if not os.getenv(\"OPENAI_API_KEY\"):\n",
    "    raise ValueError(\n",
    "        \"Please set the OPENAI_API_KEY environment variable before running the factual consistency metric script\"\n",
    "    )\n",
    "client = OpenAI()"
   ],
   "id": "f42feb65473095bf",
   "outputs": [],
   "execution_count": 13
  },
  {
   "metadata": {
    "ExecuteTime": {
     "end_time": "2024-12-02T19:26:08.967309Z",
     "start_time": "2024-12-02T19:26:08.918170Z"
    }
   },
   "cell_type": "code",
   "source": [
    "import json\n",
    "\n",
    "file_name = f\"requests_summ_eval.jsonl\"\n",
    "with open(file_name, \"w+\") as f:\n",
    "    for i, row in df.iterrows():\n",
    "        messages = calculate_fc_using_gpt('; '.join(row[\"references\"]), row[\"decoded\"], False, return_prompt=True)\n",
    "        input = {\n",
    "            \"custom_id\": \"row-\" + str(i) + \"-fc-id-\" + str(row[\"id\"]),\n",
    "            \"method\": \"POST\",\n",
    "            \"url\": \"/v1/chat/completions\",\n",
    "            \"body\": {\n",
    "                \"model\": \"gpt-4o-mini\",\n",
    "                \"messages\": messages\n",
    "            }\n",
    "        }\n",
    "        f.write(json.dumps(input) + \"\\n\")"
   ],
   "id": "ff700ea895f14390",
   "outputs": [],
   "execution_count": 11
  },
  {
   "metadata": {
    "ExecuteTime": {
     "end_time": "2024-12-02T19:29:22.405099Z",
     "start_time": "2024-12-02T19:29:19.744794Z"
    }
   },
   "cell_type": "code",
   "source": [
    "# Uploading a request file to OpenAI\n",
    "request_file = client.files.create(\n",
    "  file=open(file_name, \"rb\"),\n",
    "  purpose=\"batch\"\n",
    ")\n",
    "request_file"
   ],
   "id": "6e51ad372a77bef3",
   "outputs": [
    {
     "data": {
      "text/plain": [
       "FileObject(id='file-87e2Tq73TZAt7jpMm7gUK5', bytes=6020600, created_at=1733167761, filename='requests_summ_eval.jsonl', object='file', purpose='batch', status='processed', status_details=None)"
      ]
     },
     "execution_count": 14,
     "metadata": {},
     "output_type": "execute_result"
    }
   ],
   "execution_count": 14
  },
  {
   "metadata": {
    "ExecuteTime": {
     "end_time": "2024-12-02T19:30:40.740715Z",
     "start_time": "2024-12-02T19:30:39.972248Z"
    }
   },
   "cell_type": "code",
   "source": [
    "# Creating a batch request using the uploaded input file\n",
    "batch = client.batches.create(\n",
    "  input_file_id=request_file.id,\n",
    "  endpoint=\"/v1/chat/completions\",\n",
    "  completion_window=\"24h\"\n",
    ")\n",
    "batch"
   ],
   "id": "399e0f812a660b12",
   "outputs": [
    {
     "data": {
      "text/plain": [
       "Batch(id='batch_674e0ae091148190ba93a3afeb6bbc95', completion_window='24h', created_at=1733167840, endpoint='/v1/chat/completions', input_file_id='file-87e2Tq73TZAt7jpMm7gUK5', object='batch', status='validating', cancelled_at=None, cancelling_at=None, completed_at=None, error_file_id=None, errors=None, expired_at=None, expires_at=1733254240, failed_at=None, finalizing_at=None, in_progress_at=None, metadata=None, output_file_id=None, request_counts=BatchRequestCounts(completed=0, failed=0, total=0))"
      ]
     },
     "execution_count": 15,
     "metadata": {},
     "output_type": "execute_result"
    }
   ],
   "execution_count": 15
  },
  {
   "metadata": {
    "ExecuteTime": {
     "end_time": "2024-12-02T19:55:57.691286Z",
     "start_time": "2024-12-02T19:55:57.517412Z"
    }
   },
   "cell_type": "code",
   "source": [
    "batch = client.batches.retrieve(batch.id)\n",
    "batch"
   ],
   "id": "e0e1833b9ec74b47",
   "outputs": [
    {
     "data": {
      "text/plain": [
       "Batch(id='batch_674e0ae091148190ba93a3afeb6bbc95', completion_window='24h', created_at=1733167840, endpoint='/v1/chat/completions', input_file_id='file-87e2Tq73TZAt7jpMm7gUK5', object='batch', status='completed', cancelled_at=None, cancelling_at=None, completed_at=1733168987, error_file_id=None, errors=None, expired_at=None, expires_at=1733254240, failed_at=None, finalizing_at=1733168880, in_progress_at=1733167841, metadata=None, output_file_id='file-32yCJeweB5LDZs5MxiCCeB', request_counts=BatchRequestCounts(completed=1600, failed=0, total=1600))"
      ]
     },
     "execution_count": 21,
     "metadata": {},
     "output_type": "execute_result"
    }
   ],
   "execution_count": 21
  },
  {
   "metadata": {
    "ExecuteTime": {
     "end_time": "2024-12-02T19:56:01.380226Z",
     "start_time": "2024-12-02T19:56:00.708146Z"
    }
   },
   "cell_type": "code",
   "source": "response_content = client.files.content(batch.output_file_id)\n",
   "id": "2e5bf4e940dd4d4e",
   "outputs": [],
   "execution_count": 22
  },
  {
   "metadata": {
    "ExecuteTime": {
     "end_time": "2024-12-02T19:57:30.207140Z",
     "start_time": "2024-12-02T19:57:30.065496Z"
    }
   },
   "cell_type": "code",
   "source": [
    "for line in response_content.iter_lines():\n",
    "    output = json.loads(line)\n",
    "    score_json = output['response'][\"body\"][\"choices\"][0][\"message\"][\"content\"]\n",
    "    score = json.loads(score_json).get(\"score\", -2)\n",
    "    custom_id = output[\"custom_id\"]\n",
    "    row_id = int(custom_id.split(\"-\")[1])\n",
    "    post_id = custom_id.split(\"-fc-id-\")[1]\n",
    "    if df.loc[row_id, \"id\"] != post_id:\n",
    "        raise ValueError(f\"Row ID {row_id} does not match post ID {post_id}\")\n",
    "    df.loc[row_id, 'lm_fc_rating'] = score\n",
    "df"
   ],
   "id": "e4d97fbe7ae19b72",
   "outputs": [
    {
     "data": {
      "text/plain": [
       "                                                    id  \\\n",
       "0     dm-test-8764fb95bfad8ee849274873a92fb8d6b400eee2   \n",
       "1     dm-test-8764fb95bfad8ee849274873a92fb8d6b400eee2   \n",
       "2     dm-test-8764fb95bfad8ee849274873a92fb8d6b400eee2   \n",
       "3     dm-test-8764fb95bfad8ee849274873a92fb8d6b400eee2   \n",
       "4     dm-test-8764fb95bfad8ee849274873a92fb8d6b400eee2   \n",
       "...                                                ...   \n",
       "1595  dm-test-e880fda4c25289f8325574246f0f8ed4ff5eb26b   \n",
       "1596  dm-test-e880fda4c25289f8325574246f0f8ed4ff5eb26b   \n",
       "1597  dm-test-e880fda4c25289f8325574246f0f8ed4ff5eb26b   \n",
       "1598  dm-test-e880fda4c25289f8325574246f0f8ed4ff5eb26b   \n",
       "1599  dm-test-e880fda4c25289f8325574246f0f8ed4ff5eb26b   \n",
       "\n",
       "                                                decoded  \\\n",
       "0     paul merson was brought on with only seven min...   \n",
       "1     paul merson has restarted his row with andros ...   \n",
       "2     paul merson has restarted his row with andros ...   \n",
       "3     paul merson has restarted his row with andros ...   \n",
       "4     paul merson has restarted his row with andros ...   \n",
       "...                                                 ...   \n",
       "1595  a timewarp home which has remained unchanged s...   \n",
       "1596  The collector 's paradise in Horfield , Bristo...   \n",
       "1597  the collector’s paradise in horfield , bristol...   \n",
       "1598  the collector 's paradise in horfield , bristo...   \n",
       "1599  the timewarp home has remained unchanged since...   \n",
       "\n",
       "                                     expert_annotations  \\\n",
       "0     [{'coherence': 2, 'consistency': 1, 'fluency':...   \n",
       "1     [{'coherence': 3, 'consistency': 5, 'fluency':...   \n",
       "2     [{'coherence': 2, 'consistency': 5, 'fluency':...   \n",
       "3     [{'coherence': 2, 'consistency': 5, 'fluency':...   \n",
       "4     [{'coherence': 4, 'consistency': 5, 'fluency':...   \n",
       "...                                                 ...   \n",
       "1595  [{'coherence': 5, 'consistency': 5, 'fluency':...   \n",
       "1596  [{'coherence': 3, 'consistency': 5, 'fluency':...   \n",
       "1597  [{'coherence': 5, 'consistency': 5, 'fluency':...   \n",
       "1598  [{'coherence': 3, 'consistency': 5, 'fluency':...   \n",
       "1599  [{'coherence': 3, 'consistency': 5, 'fluency':...   \n",
       "\n",
       "                                     turker_annotations  \\\n",
       "0     [{'coherence': 3, 'consistency': 3, 'fluency':...   \n",
       "1     [{'coherence': 2, 'consistency': 3, 'fluency':...   \n",
       "2     [{'coherence': 4, 'consistency': 5, 'fluency':...   \n",
       "3     [{'coherence': 5, 'consistency': 5, 'fluency':...   \n",
       "4     [{'coherence': 2, 'consistency': 4, 'fluency':...   \n",
       "...                                                 ...   \n",
       "1595  [{'coherence': 4, 'consistency': 3, 'fluency':...   \n",
       "1596  [{'coherence': 4, 'consistency': 4, 'fluency':...   \n",
       "1597  [{'coherence': 4, 'consistency': 4, 'fluency':...   \n",
       "1598  [{'coherence': 4, 'consistency': 3, 'fluency':...   \n",
       "1599  [{'coherence': 4, 'consistency': 3, 'fluency':...   \n",
       "\n",
       "                                             references model_id  \\\n",
       "0     [Andros Townsend an 83rd minute sub in Tottenh...      M11   \n",
       "1     [Andros Townsend an 83rd minute sub in Tottenh...      M13   \n",
       "2     [Andros Townsend an 83rd minute sub in Tottenh...       M1   \n",
       "3     [Andros Townsend an 83rd minute sub in Tottenh...      M14   \n",
       "4     [Andros Townsend an 83rd minute sub in Tottenh...      M15   \n",
       "...                                                 ...      ...   \n",
       "1595  [Nondescript semi-detached home for sale in Ho...       M0   \n",
       "1596  [Nondescript semi-detached home for sale in Ho...      M22   \n",
       "1597  [Nondescript semi-detached home for sale in Ho...       M8   \n",
       "1598  [Nondescript semi-detached home for sale in Ho...      M10   \n",
       "1599  [Nondescript semi-detached home for sale in Ho...       M9   \n",
       "\n",
       "                                               filepath  \\\n",
       "0     cnndm/dailymail/stories/8764fb95bfad8ee8492748...   \n",
       "1     cnndm/dailymail/stories/8764fb95bfad8ee8492748...   \n",
       "2     cnndm/dailymail/stories/8764fb95bfad8ee8492748...   \n",
       "3     cnndm/dailymail/stories/8764fb95bfad8ee8492748...   \n",
       "4     cnndm/dailymail/stories/8764fb95bfad8ee8492748...   \n",
       "...                                                 ...   \n",
       "1595  cnndm/dailymail/stories/e880fda4c25289f8325574...   \n",
       "1596  cnndm/dailymail/stories/e880fda4c25289f8325574...   \n",
       "1597  cnndm/dailymail/stories/e880fda4c25289f8325574...   \n",
       "1598  cnndm/dailymail/stories/e880fda4c25289f8325574...   \n",
       "1599  cnndm/dailymail/stories/e880fda4c25289f8325574...   \n",
       "\n",
       "      average_consistency_evaluation_expert  \\\n",
       "0                                         1   \n",
       "1                                         5   \n",
       "2                                         5   \n",
       "3                                         5   \n",
       "4                                         5   \n",
       "...                                     ...   \n",
       "1595                                      5   \n",
       "1596                                      5   \n",
       "1597                                      5   \n",
       "1598                                      5   \n",
       "1599                                      5   \n",
       "\n",
       "      median_consistency_evaluation_expert  lm_fc_rating  \n",
       "0                                        1           2.0  \n",
       "1                                        5           4.0  \n",
       "2                                        5           4.0  \n",
       "3                                        5           4.0  \n",
       "4                                        5           4.0  \n",
       "...                                    ...           ...  \n",
       "1595                                     5           5.0  \n",
       "1596                                     5           5.0  \n",
       "1597                                     5           4.0  \n",
       "1598                                     5           4.0  \n",
       "1599                                     5           5.0  \n",
       "\n",
       "[1600 rows x 10 columns]"
      ],
      "text/html": [
       "<div>\n",
       "<style scoped>\n",
       "    .dataframe tbody tr th:only-of-type {\n",
       "        vertical-align: middle;\n",
       "    }\n",
       "\n",
       "    .dataframe tbody tr th {\n",
       "        vertical-align: top;\n",
       "    }\n",
       "\n",
       "    .dataframe thead th {\n",
       "        text-align: right;\n",
       "    }\n",
       "</style>\n",
       "<table border=\"1\" class=\"dataframe\">\n",
       "  <thead>\n",
       "    <tr style=\"text-align: right;\">\n",
       "      <th></th>\n",
       "      <th>id</th>\n",
       "      <th>decoded</th>\n",
       "      <th>expert_annotations</th>\n",
       "      <th>turker_annotations</th>\n",
       "      <th>references</th>\n",
       "      <th>model_id</th>\n",
       "      <th>filepath</th>\n",
       "      <th>average_consistency_evaluation_expert</th>\n",
       "      <th>median_consistency_evaluation_expert</th>\n",
       "      <th>lm_fc_rating</th>\n",
       "    </tr>\n",
       "  </thead>\n",
       "  <tbody>\n",
       "    <tr>\n",
       "      <th>0</th>\n",
       "      <td>dm-test-8764fb95bfad8ee849274873a92fb8d6b400eee2</td>\n",
       "      <td>paul merson was brought on with only seven min...</td>\n",
       "      <td>[{'coherence': 2, 'consistency': 1, 'fluency':...</td>\n",
       "      <td>[{'coherence': 3, 'consistency': 3, 'fluency':...</td>\n",
       "      <td>[Andros Townsend an 83rd minute sub in Tottenh...</td>\n",
       "      <td>M11</td>\n",
       "      <td>cnndm/dailymail/stories/8764fb95bfad8ee8492748...</td>\n",
       "      <td>1</td>\n",
       "      <td>1</td>\n",
       "      <td>2.0</td>\n",
       "    </tr>\n",
       "    <tr>\n",
       "      <th>1</th>\n",
       "      <td>dm-test-8764fb95bfad8ee849274873a92fb8d6b400eee2</td>\n",
       "      <td>paul merson has restarted his row with andros ...</td>\n",
       "      <td>[{'coherence': 3, 'consistency': 5, 'fluency':...</td>\n",
       "      <td>[{'coherence': 2, 'consistency': 3, 'fluency':...</td>\n",
       "      <td>[Andros Townsend an 83rd minute sub in Tottenh...</td>\n",
       "      <td>M13</td>\n",
       "      <td>cnndm/dailymail/stories/8764fb95bfad8ee8492748...</td>\n",
       "      <td>5</td>\n",
       "      <td>5</td>\n",
       "      <td>4.0</td>\n",
       "    </tr>\n",
       "    <tr>\n",
       "      <th>2</th>\n",
       "      <td>dm-test-8764fb95bfad8ee849274873a92fb8d6b400eee2</td>\n",
       "      <td>paul merson has restarted his row with andros ...</td>\n",
       "      <td>[{'coherence': 2, 'consistency': 5, 'fluency':...</td>\n",
       "      <td>[{'coherence': 4, 'consistency': 5, 'fluency':...</td>\n",
       "      <td>[Andros Townsend an 83rd minute sub in Tottenh...</td>\n",
       "      <td>M1</td>\n",
       "      <td>cnndm/dailymail/stories/8764fb95bfad8ee8492748...</td>\n",
       "      <td>5</td>\n",
       "      <td>5</td>\n",
       "      <td>4.0</td>\n",
       "    </tr>\n",
       "    <tr>\n",
       "      <th>3</th>\n",
       "      <td>dm-test-8764fb95bfad8ee849274873a92fb8d6b400eee2</td>\n",
       "      <td>paul merson has restarted his row with andros ...</td>\n",
       "      <td>[{'coherence': 2, 'consistency': 5, 'fluency':...</td>\n",
       "      <td>[{'coherence': 5, 'consistency': 5, 'fluency':...</td>\n",
       "      <td>[Andros Townsend an 83rd minute sub in Tottenh...</td>\n",
       "      <td>M14</td>\n",
       "      <td>cnndm/dailymail/stories/8764fb95bfad8ee8492748...</td>\n",
       "      <td>5</td>\n",
       "      <td>5</td>\n",
       "      <td>4.0</td>\n",
       "    </tr>\n",
       "    <tr>\n",
       "      <th>4</th>\n",
       "      <td>dm-test-8764fb95bfad8ee849274873a92fb8d6b400eee2</td>\n",
       "      <td>paul merson has restarted his row with andros ...</td>\n",
       "      <td>[{'coherence': 4, 'consistency': 5, 'fluency':...</td>\n",
       "      <td>[{'coherence': 2, 'consistency': 4, 'fluency':...</td>\n",
       "      <td>[Andros Townsend an 83rd minute sub in Tottenh...</td>\n",
       "      <td>M15</td>\n",
       "      <td>cnndm/dailymail/stories/8764fb95bfad8ee8492748...</td>\n",
       "      <td>5</td>\n",
       "      <td>5</td>\n",
       "      <td>4.0</td>\n",
       "    </tr>\n",
       "    <tr>\n",
       "      <th>...</th>\n",
       "      <td>...</td>\n",
       "      <td>...</td>\n",
       "      <td>...</td>\n",
       "      <td>...</td>\n",
       "      <td>...</td>\n",
       "      <td>...</td>\n",
       "      <td>...</td>\n",
       "      <td>...</td>\n",
       "      <td>...</td>\n",
       "      <td>...</td>\n",
       "    </tr>\n",
       "    <tr>\n",
       "      <th>1595</th>\n",
       "      <td>dm-test-e880fda4c25289f8325574246f0f8ed4ff5eb26b</td>\n",
       "      <td>a timewarp home which has remained unchanged s...</td>\n",
       "      <td>[{'coherence': 5, 'consistency': 5, 'fluency':...</td>\n",
       "      <td>[{'coherence': 4, 'consistency': 3, 'fluency':...</td>\n",
       "      <td>[Nondescript semi-detached home for sale in Ho...</td>\n",
       "      <td>M0</td>\n",
       "      <td>cnndm/dailymail/stories/e880fda4c25289f8325574...</td>\n",
       "      <td>5</td>\n",
       "      <td>5</td>\n",
       "      <td>5.0</td>\n",
       "    </tr>\n",
       "    <tr>\n",
       "      <th>1596</th>\n",
       "      <td>dm-test-e880fda4c25289f8325574246f0f8ed4ff5eb26b</td>\n",
       "      <td>The collector 's paradise in Horfield , Bristo...</td>\n",
       "      <td>[{'coherence': 3, 'consistency': 5, 'fluency':...</td>\n",
       "      <td>[{'coherence': 4, 'consistency': 4, 'fluency':...</td>\n",
       "      <td>[Nondescript semi-detached home for sale in Ho...</td>\n",
       "      <td>M22</td>\n",
       "      <td>cnndm/dailymail/stories/e880fda4c25289f8325574...</td>\n",
       "      <td>5</td>\n",
       "      <td>5</td>\n",
       "      <td>5.0</td>\n",
       "    </tr>\n",
       "    <tr>\n",
       "      <th>1597</th>\n",
       "      <td>dm-test-e880fda4c25289f8325574246f0f8ed4ff5eb26b</td>\n",
       "      <td>the collector’s paradise in horfield , bristol...</td>\n",
       "      <td>[{'coherence': 5, 'consistency': 5, 'fluency':...</td>\n",
       "      <td>[{'coherence': 4, 'consistency': 4, 'fluency':...</td>\n",
       "      <td>[Nondescript semi-detached home for sale in Ho...</td>\n",
       "      <td>M8</td>\n",
       "      <td>cnndm/dailymail/stories/e880fda4c25289f8325574...</td>\n",
       "      <td>5</td>\n",
       "      <td>5</td>\n",
       "      <td>4.0</td>\n",
       "    </tr>\n",
       "    <tr>\n",
       "      <th>1598</th>\n",
       "      <td>dm-test-e880fda4c25289f8325574246f0f8ed4ff5eb26b</td>\n",
       "      <td>the collector 's paradise in horfield , bristo...</td>\n",
       "      <td>[{'coherence': 3, 'consistency': 5, 'fluency':...</td>\n",
       "      <td>[{'coherence': 4, 'consistency': 3, 'fluency':...</td>\n",
       "      <td>[Nondescript semi-detached home for sale in Ho...</td>\n",
       "      <td>M10</td>\n",
       "      <td>cnndm/dailymail/stories/e880fda4c25289f8325574...</td>\n",
       "      <td>5</td>\n",
       "      <td>5</td>\n",
       "      <td>4.0</td>\n",
       "    </tr>\n",
       "    <tr>\n",
       "      <th>1599</th>\n",
       "      <td>dm-test-e880fda4c25289f8325574246f0f8ed4ff5eb26b</td>\n",
       "      <td>the timewarp home has remained unchanged since...</td>\n",
       "      <td>[{'coherence': 3, 'consistency': 5, 'fluency':...</td>\n",
       "      <td>[{'coherence': 4, 'consistency': 3, 'fluency':...</td>\n",
       "      <td>[Nondescript semi-detached home for sale in Ho...</td>\n",
       "      <td>M9</td>\n",
       "      <td>cnndm/dailymail/stories/e880fda4c25289f8325574...</td>\n",
       "      <td>5</td>\n",
       "      <td>5</td>\n",
       "      <td>5.0</td>\n",
       "    </tr>\n",
       "  </tbody>\n",
       "</table>\n",
       "<p>1600 rows × 10 columns</p>\n",
       "</div>"
      ]
     },
     "execution_count": 30,
     "metadata": {},
     "output_type": "execute_result"
    }
   ],
   "execution_count": 30
  },
  {
   "metadata": {
    "ExecuteTime": {
     "end_time": "2024-12-02T20:01:07.064068Z",
     "start_time": "2024-12-02T20:01:06.982767Z"
    }
   },
   "cell_type": "code",
   "source": "df.to_csv(\"../data/eval/summ_eval_model_annotations.aligned.with_lm_fc.csv\")",
   "id": "8c64886f22ae3b99",
   "outputs": [],
   "execution_count": 31
  },
  {
   "metadata": {},
   "cell_type": "markdown",
   "source": "## Old fashioned individual running:",
   "id": "4651bf14f28b9005"
  },
  {
   "metadata": {
    "ExecuteTime": {
     "end_time": "2024-10-23T22:09:35.650619Z",
     "start_time": "2024-10-23T22:09:35.645330Z"
    }
   },
   "cell_type": "code",
   "source": "focus = df.iloc[0:64].copy()\n",
   "id": "bfe754aef3306ac0",
   "outputs": [],
   "execution_count": 5
  },
  {
   "metadata": {
    "ExecuteTime": {
     "end_time": "2024-10-23T22:09:39.073Z",
     "start_time": "2024-10-23T22:09:38.065084Z"
    }
   },
   "cell_type": "code",
   "source": "calculate_fc_using_gpt(\"this is a summary. 12.\", \"THis is the summary of the summary. It contains the number 12.\", fail_silent=False)",
   "id": "21c96b16fe19a553",
   "outputs": [
    {
     "data": {
      "text/plain": [
       "3"
      ]
     },
     "execution_count": 6,
     "metadata": {},
     "output_type": "execute_result"
    }
   ],
   "execution_count": 6
  },
  {
   "metadata": {
    "ExecuteTime": {
     "end_time": "2024-10-15T01:24:28.713304Z",
     "start_time": "2024-10-15T01:23:21.515839Z"
    }
   },
   "cell_type": "code",
   "source": [
    "focus[\"lm_fc_rating\"] = focus.apply(lambda x: calculate_fc_using_gpt(\"; \".join(x[\"references\"]), x[\"decoded\"], fail_silent=False), axis = 1)\n",
    "timestamp = pd.Timestamp.now()\n",
    "focus.to_csv(f\"../data/temp_fc_ratings_{timestamp}.csv\")"
   ],
   "id": "90c8ad736b51d445",
   "outputs": [],
   "execution_count": 29
  },
  {
   "metadata": {},
   "cell_type": "markdown",
   "source": "## Use the following code to load previous results and analyze them",
   "id": "2399b0c437073787"
  },
  {
   "metadata": {
    "ExecuteTime": {
     "end_time": "2024-10-16T20:04:15.708372Z",
     "start_time": "2024-10-16T20:04:15.669113Z"
    }
   },
   "cell_type": "code",
   "source": [
    "#timestamp = 24\n",
    "df = pd.read_csv(f\"../data/eval/summ_eval_model_annotations.aligned.with_lm_fc.csv\")"
   ],
   "id": "f1a937e13700ff08",
   "outputs": [],
   "execution_count": 4
  },
  {
   "metadata": {
    "ExecuteTime": {
     "end_time": "2024-12-02T20:07:43.298162Z",
     "start_time": "2024-12-02T20:07:43.284529Z"
    }
   },
   "cell_type": "code",
   "source": "df[\"lm_fc_rating\"].describe()",
   "id": "3eceec7974e80e0b",
   "outputs": [
    {
     "data": {
      "text/plain": [
       "count    1600.000000\n",
       "mean        4.043750\n",
       "std         1.073572\n",
       "min         1.000000\n",
       "25%         4.000000\n",
       "50%         4.000000\n",
       "75%         5.000000\n",
       "max         5.000000\n",
       "Name: lm_fc_rating, dtype: float64"
      ]
     },
     "execution_count": 32,
     "metadata": {},
     "output_type": "execute_result"
    }
   ],
   "execution_count": 32
  },
  {
   "metadata": {
    "ExecuteTime": {
     "end_time": "2024-10-16T20:04:22.102454Z",
     "start_time": "2024-10-16T20:04:22.085890Z"
    }
   },
   "cell_type": "code",
   "source": "focus[\"average_consistency_evaluation_expert\"].describe()\n",
   "id": "1b64f17be0a3571c",
   "outputs": [
    {
     "data": {
      "text/plain": [
       "count    64.000000\n",
       "mean      4.718750\n",
       "std       0.844567\n",
       "min       1.000000\n",
       "25%       5.000000\n",
       "50%       5.000000\n",
       "75%       5.000000\n",
       "max       5.000000\n",
       "Name: average_consistency_evaluation_expert, dtype: float64"
      ]
     },
     "execution_count": 6,
     "metadata": {},
     "output_type": "execute_result"
    }
   ],
   "execution_count": 6
  },
  {
   "metadata": {
    "ExecuteTime": {
     "end_time": "2024-12-02T20:07:55.816808Z",
     "start_time": "2024-12-02T20:07:55.713518Z"
    }
   },
   "cell_type": "code",
   "source": [
    "ax1 = df[\"lm_fc_rating\"].hist(\n",
    "    alpha=0.5,\n",
    "    bins=5,\n",
    "    label=\"LM FC\"\n",
    ")\n",
    "ax2 = df[\"average_consistency_evaluation_expert\"].hist(\n",
    "    alpha=0.5,\n",
    "    bins=5, \n",
    "    label=\"Expert Consistency Average\"\n",
    ")\n",
    "plt.xlabel(\"Rating\")\n",
    "plt.legend()\n",
    "plt.show()"
   ],
   "id": "80c4aeb50818a147",
   "outputs": [
    {
     "data": {
      "text/plain": [
       "<Figure size 640x480 with 1 Axes>"
      ],
      "image/png": "[encoded data removed]"
     },
     "metadata": {},
     "output_type": "display_data"
    }
   ],
   "execution_count": 33
  },
  {
   "metadata": {
    "ExecuteTime": {
     "end_time": "2024-12-02T20:08:34.851054Z",
     "start_time": "2024-12-02T20:08:34.843463Z"
    }
   },
   "cell_type": "code",
   "source": [
    "#  Spearman\n",
    "from scipy.stats import spearmanr\n",
    "\n",
    "spearmanr(df[\"lm_fc_rating\"], df[\"average_consistency_evaluation_expert\"])"
   ],
   "id": "5874b77cfbdc8710",
   "outputs": [
    {
     "data": {
      "text/plain": [
       "SignificanceResult(statistic=np.float64(0.38896159444248707), pvalue=np.float64(6.122162401277891e-59))"
      ]
     },
     "execution_count": 34,
     "metadata": {},
     "output_type": "execute_result"
    }
   ],
   "execution_count": 34
  },
  {
   "metadata": {
    "ExecuteTime": {
     "end_time": "2024-12-02T20:09:36.332938Z",
     "start_time": "2024-12-02T20:09:36.325670Z"
    }
   },
   "cell_type": "code",
   "source": [
    "# Pearson\n",
    "from scipy.stats import pearsonr\n",
    "\n",
    "pearsonr(df[\"lm_fc_rating\"], df[\"average_consistency_evaluation_expert\"])"
   ],
   "id": "58af5785d4054167",
   "outputs": [
    {
     "data": {
      "text/plain": [
       "PearsonRResult(statistic=np.float64(0.4795804476860899), pvalue=np.float64(8.42513214420449e-93))"
      ]
     },
     "execution_count": 35,
     "metadata": {},
     "output_type": "execute_result"
    }
   ],
   "execution_count": 35
  },
  {
   "metadata": {
    "ExecuteTime": {
     "end_time": "2024-12-02T20:09:54.326336Z",
     "start_time": "2024-12-02T20:09:54.318519Z"
    }
   },
   "cell_type": "code",
   "source": [
    "# Kendall\n",
    "from scipy.stats import kendalltau\n",
    "\n",
    "kendalltau(df[\"lm_fc_rating\"], df[\"average_consistency_evaluation_expert\"])"
   ],
   "id": "422eeaef9d51add4",
   "outputs": [
    {
     "data": {
      "text/plain": [
       "SignificanceResult(statistic=np.float64(0.3551256012906246), pvalue=np.float64(2.501860383229093e-55))"
      ]
     },
     "execution_count": 36,
     "metadata": {},
     "output_type": "execute_result"
    }
   ],
   "execution_count": 36
  },
  {
   "metadata": {
    "ExecuteTime": {
     "end_time": "2024-12-02T20:17:43.389515Z",
     "start_time": "2024-12-02T20:17:43.382339Z"
    }
   },
   "cell_type": "code",
   "source": [
    "# calculating the percentage of correct rankings 4 or higher\n",
    "df[\"lm_good\"] = df[\"lm_fc_rating\"] >= 4\n",
    "df[\"expert_good\"] = df[\"average_consistency_evaluation_expert\"] >= 4\n",
    "true_positive = (df[\"lm_good\"] & df[\"expert_good\"]).sum() / len(df)\n",
    "true_negative = (~df[\"lm_good\"] & ~df[\"expert_good\"]).sum() / len(df)\n",
    "false_positive = (df[\"lm_good\"] & ~df[\"expert_good\"]).sum() / len(df)\n",
    "false_negative = (~df[\"lm_good\"] & df[\"expert_good\"]).sum() / len(df)\n",
    "precision = true_positive / (true_positive + false_positive)\n",
    "recall = true_positive / (true_positive + false_negative)\n",
    "precision, recall\n"
   ],
   "id": "5721cf2bc0157489",
   "outputs": [
    {
     "data": {
      "text/plain": [
       "(np.float64(0.9710743801652892), np.float64(0.8125864453665284))"
      ]
     },
     "execution_count": 37,
     "metadata": {},
     "output_type": "execute_result"
    }
   ],
   "execution_count": 37
  },
  {
   "metadata": {},
   "cell_type": "markdown",
   "source": [
    "Precision should be interpreted as the  percentage of rankings 4 or higher by the LM, that were also ranked high by experts.  \n",
    "Recall should be interpreted as the percentage of the good rankings by experts, that the LM also ranked high."
   ],
   "id": "3e95e6e330b5da64"
  },
  {
   "metadata": {
    "ExecuteTime": {
     "end_time": "2024-12-02T20:26:00.232999Z",
     "start_time": "2024-12-02T20:26:00.228995Z"
    }
   },
   "cell_type": "code",
   "source": [
    "# same as above but for 2 or lower\n",
    "df[\"lm_bad\"] = df[\"lm_fc_rating\"] <= 2\n",
    "df[\"expert_bad\"] = df[\"average_consistency_evaluation_expert\"] <= 2\n",
    "true_positive = (df[\"lm_bad\"] & df[\"expert_bad\"]).sum() / len(df)\n",
    "true_negative = (~df[\"lm_bad\"] & ~df[\"expert_bad\"]).sum() / len(df)\n",
    "false_positive = (df[\"lm_bad\"] & ~df[\"expert_bad\"]).sum() / len(df)\n",
    "false_negative = (~df[\"lm_bad\"] & df[\"expert_bad\"]).sum() / len(df)\n",
    "precision = true_positive / (true_positive + false_positive)\n",
    "recall = true_positive / (true_positive + false_negative)\n",
    "precision, recall"
   ],
   "id": "d696598f53a114e8",
   "outputs": [
    {
     "data": {
      "text/plain": [
       "(np.float64(0.37435897435897436), np.float64(0.6239316239316239))"
      ]
     },
     "execution_count": 47,
     "metadata": {},
     "output_type": "execute_result"
    }
   ],
   "execution_count": 47
  },
  {
   "metadata": {
    "ExecuteTime": {
     "end_time": "2024-12-02T20:20:07.752453Z",
     "start_time": "2024-12-02T20:20:07.675206Z"
    }
   },
   "cell_type": "code",
   "source": [
    "# average distance between predictions\n",
    "df[\"abs_error\"] = abs(df[\"lm_fc_rating\"] - df[\"average_consistency_evaluation_expert\"])\n",
    "print(\"mean abs error:\", df[\"abs_error\"].mean())\n",
    "df[\"abs_error\"].hist()\n",
    "print(df[\"abs_error\"].describe())"
   ],
   "id": "5e4b841c8d57d469",
   "outputs": [
    {
     "name": "stdout",
     "output_type": "stream",
     "text": [
      "mean abs error: 0.788125\n",
      "count    1600.000000\n",
      "mean        0.788125\n",
      "std         0.908295\n",
      "min         0.000000\n",
      "25%         0.000000\n",
      "50%         1.000000\n",
      "75%         1.000000\n",
      "max         4.000000\n",
      "Name: abs_error, dtype: float64\n"
     ]
    },
    {
     "data": {
      "text/plain": [
       "<Figure size 640x480 with 1 Axes>"
      ],
      "image/png": "[encoded data removed]"
     },
     "metadata": {},
     "output_type": "display_data"
    }
   ],
   "execution_count": 39
  },
  {
   "metadata": {
    "ExecuteTime": {
     "end_time": "2024-12-02T20:21:30.809616Z",
     "start_time": "2024-12-02T20:21:30.807033Z"
    }
   },
   "cell_type": "code",
   "source": "(df[\"abs_error\"] > 2).sum() / len(df)",
   "id": "47f80d2874c444b8",
   "outputs": [
    {
     "data": {
      "text/plain": [
       "np.float64(0.066875)"
      ]
     },
     "execution_count": 41,
     "metadata": {},
     "output_type": "execute_result"
    }
   ],
   "execution_count": 41
  },
  {
   "metadata": {
    "ExecuteTime": {
     "end_time": "2024-12-02T20:33:18.038046Z",
     "start_time": "2024-12-02T20:33:17.925109Z"
    }
   },
   "cell_type": "code",
   "source": "sns.histplot(df, x='abs_error', hue='lm_good', palette='Set2', multiple='stack')",
   "id": "1bace20de629db89",
   "outputs": [
    {
     "data": {
      "text/plain": [
       "<Axes: xlabel='abs_error', ylabel='Count'>"
      ]
     },
     "execution_count": 49,
     "metadata": {},
     "output_type": "execute_result"
    },
    {
     "data": {
      "text/plain": [
       "<Figure size 640x480 with 1 Axes>"
      ],
      "image/png": "[encoded data removed]"
     },
     "metadata": {},
     "output_type": "display_data"
    }
   ],
   "execution_count": 49
  },
  {
   "metadata": {
    "ExecuteTime": {
     "end_time": "2024-12-02T20:33:24.902981Z",
     "start_time": "2024-12-02T20:33:24.900578Z"
    }
   },
   "cell_type": "code",
   "source": "",
   "id": "a876e59ab56925a7",
   "outputs": [],
   "execution_count": null
  },
  {
   "metadata": {},
   "cell_type": "code",
   "outputs": [],
   "execution_count": null,
   "source": "",
   "id": "c173fa8a8c85954c"
  }
 ],
 "metadata": {
  "kernelspec": {
   "display_name": "Python 3",
   "language": "python",
   "name": "python3"
  },
  "language_info": {
   "codemirror_mode": {
    "name": "ipython",
    "version": 2
   },
   "file_extension": ".py",
   "mimetype": "text/x-python",
   "name": "python",
   "nbconvert_exporter": "python",
   "pygments_lexer": "ipython2",
   "version": "2.7.6"
  }
 },
 "nbformat": 4,
 "nbformat_minor": 5
}
