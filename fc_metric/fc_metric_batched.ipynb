{
 "cells": [
  {
   "cell_type": "code",
   "id": "initial_id",
   "metadata": {
    "collapsed": true,
    "ExecuteTime": {
     "end_time": "2024-11-25T19:51:37.011626Z",
     "start_time": "2024-11-25T19:51:37.008665Z"
    }
   },
   "source": [
    "import json\n",
    "\n",
    "from openai import OpenAI\n",
    "import os\n",
    "import pandas as pd\n",
    "from fc_metric import calculate_fc_using_gpt"
   ],
   "outputs": [],
   "execution_count": 10
  },
  {
   "metadata": {
    "ExecuteTime": {
     "end_time": "2024-11-25T19:47:18.504974Z",
     "start_time": "2024-11-25T19:47:18.503209Z"
    }
   },
   "cell_type": "code",
   "source": [
    "if not os.getenv(\"OPENAI_API_KEY\"):\n",
    "    raise ValueError(\n",
    "        \"Please set the OPENAI_API_KEY environment variable before running the factual consistency metric script\"\n",
    "    )\n",
    "client = OpenAI()"
   ],
   "id": "57a1fe7f16701090",
   "outputs": [],
   "execution_count": 2
  },
  {
   "metadata": {
    "ExecuteTime": {
     "end_time": "2024-11-25T22:26:56.315932Z",
     "start_time": "2024-11-25T22:26:56.313580Z"
    }
   },
   "cell_type": "code",
   "source": "abstracts_file_name = 'filtered_data_with_abstracts'",
   "id": "5f54ac0fb80dc452",
   "outputs": [],
   "execution_count": 73
  },
  {
   "metadata": {
    "ExecuteTime": {
     "end_time": "2024-11-25T19:47:18.629365Z",
     "start_time": "2024-11-25T19:47:18.565879Z"
    }
   },
   "cell_type": "code",
   "outputs": [
    {
     "data": {
      "text/plain": [
       "          id                                              title  \\\n",
       "0     811az5  Firearm Injuries Drop 20 Percent When Gun Owne...   \n",
       "1     814dwi  Supplementation with probiotics during late pr...   \n",
       "2     815lr6  Undisclosed Conflicts of Interests among Biome...   \n",
       "3     817tfx  One more species of Tardigrade (famed for thei...   \n",
       "4     8183ly  There's a20% reduction in gun injuries during ...   \n",
       "...      ...                                                ...   \n",
       "5753  dpnj23  Statements about building walls, deportation a...   \n",
       "5754  dpnu7e  Many college students will uncritically accept...   \n",
       "5755  dpqhem  New method for making polymers with perfectly ...   \n",
       "5756  dptk4o  Research Shows That Doing a Bad Job Wrapping P...   \n",
       "5757  dpuxb6  New flame retardants in electronics and childr...   \n",
       "\n",
       "                                                    url  \\\n",
       "0     http://www.nejm.org/doi/full/10.1056/NEJMc1712773   \n",
       "1     http://journals.plos.org/plosmedicine/article?...   \n",
       "2          https://www.ncbi.nlm.nih.gov/pubmed/29400625   \n",
       "3     http://journals.plos.org/plosone/article?id=10...   \n",
       "4     http://www.nejm.org/doi/full/10.1056/NEJMc1712773   \n",
       "...                                                 ...   \n",
       "5753  https://journals.plos.org/plosone/article?id=1...   \n",
       "5754  https://journals.plos.org/plosone/article?id=1...   \n",
       "5755      https://pubs.acs.org/doi/10.1021/jacs.9b08240   \n",
       "5756  https://onlinelibrary.wiley.com/doi/epdf/10.10...   \n",
       "5757  https://pubs.acs.org/doi/abs/10.1021/acs.estle...   \n",
       "\n",
       "                            identifier  \\\n",
       "0             DOI:10.1056/NEJMc1712773   \n",
       "1     DOI:10.1371/journal.pmed.1002507   \n",
       "2                        PMID:29400625   \n",
       "3     DOI:10.1371/journal.pone.0192210   \n",
       "4             DOI:10.1056/NEJMc1712773   \n",
       "...                                ...   \n",
       "5753  DOI:10.1371/journal.pone.0222837   \n",
       "5754  DOI:10.1371/journal.pone.0223736   \n",
       "5755          DOI:10.1021/jacs.9b08240   \n",
       "5756             DOI:10.1002/jcpy.1140   \n",
       "5757   DOI:10.1021/acs.estlett.9b00582   \n",
       "\n",
       "                                      sem_scholar_title  \\\n",
       "0     Reduction in Firearm Injuries during NRA Annua...   \n",
       "1     Diet during pregnancy and infancy and risk of ...   \n",
       "2     Undisclosed conflicts of interest among biomed...   \n",
       "3     An integrative description of Macrobiotus shon...   \n",
       "4     Reduction in Firearm Injuries during NRA Annua...   \n",
       "...                                                 ...   \n",
       "5753  Declared impact of the US President’s statemen...   \n",
       "5754  When calculators lie: A demonstration of uncri...   \n",
       "5755  Homogenous Synthesis of Monodisperse High Olig...   \n",
       "5756  Presentation Matters: The Effect of Wrapping N...   \n",
       "5757  Organophosphate Ester Flame Retardants: Are Th...   \n",
       "\n",
       "                                   sem_scholar_abstract  \n",
       "0     Decline in Firearm Injuries during NRA Convent...  \n",
       "1     Background There is uncertainty about the infl...  \n",
       "2     ABSTRACT Background: Textbooks are a formative...  \n",
       "3     Tardigrade research in Japan dates back over 1...  \n",
       "4     Decline in Firearm Injuries during NRA Convent...  \n",
       "...                                                 ...  \n",
       "5753  Statements about building walls, deportation a...  \n",
       "5754  Calculators are often unnecessary to solve rou...  \n",
       "5755  Whereas monodisperse polymers are ubiquitous i...  \n",
       "5756  While gift-givers typically wrap gifts prior t...  \n",
       "5757  As the use of polybrominated diphenyl ethers (...  \n",
       "\n",
       "[5758 rows x 6 columns]"
      ],
      "text/html": [
       "<div>\n",
       "<style scoped>\n",
       "    .dataframe tbody tr th:only-of-type {\n",
       "        vertical-align: middle;\n",
       "    }\n",
       "\n",
       "    .dataframe tbody tr th {\n",
       "        vertical-align: top;\n",
       "    }\n",
       "\n",
       "    .dataframe thead th {\n",
       "        text-align: right;\n",
       "    }\n",
       "</style>\n",
       "<table border=\"1\" class=\"dataframe\">\n",
       "  <thead>\n",
       "    <tr style=\"text-align: right;\">\n",
       "      <th></th>\n",
       "      <th>id</th>\n",
       "      <th>title</th>\n",
       "      <th>url</th>\n",
       "      <th>identifier</th>\n",
       "      <th>sem_scholar_title</th>\n",
       "      <th>sem_scholar_abstract</th>\n",
       "    </tr>\n",
       "  </thead>\n",
       "  <tbody>\n",
       "    <tr>\n",
       "      <th>0</th>\n",
       "      <td>811az5</td>\n",
       "      <td>Firearm Injuries Drop 20 Percent When Gun Owne...</td>\n",
       "      <td>http://www.nejm.org/doi/full/10.1056/NEJMc1712773</td>\n",
       "      <td>DOI:10.1056/NEJMc1712773</td>\n",
       "      <td>Reduction in Firearm Injuries during NRA Annua...</td>\n",
       "      <td>Decline in Firearm Injuries during NRA Convent...</td>\n",
       "    </tr>\n",
       "    <tr>\n",
       "      <th>1</th>\n",
       "      <td>814dwi</td>\n",
       "      <td>Supplementation with probiotics during late pr...</td>\n",
       "      <td>http://journals.plos.org/plosmedicine/article?...</td>\n",
       "      <td>DOI:10.1371/journal.pmed.1002507</td>\n",
       "      <td>Diet during pregnancy and infancy and risk of ...</td>\n",
       "      <td>Background There is uncertainty about the infl...</td>\n",
       "    </tr>\n",
       "    <tr>\n",
       "      <th>2</th>\n",
       "      <td>815lr6</td>\n",
       "      <td>Undisclosed Conflicts of Interests among Biome...</td>\n",
       "      <td>https://www.ncbi.nlm.nih.gov/pubmed/29400625</td>\n",
       "      <td>PMID:29400625</td>\n",
       "      <td>Undisclosed conflicts of interest among biomed...</td>\n",
       "      <td>ABSTRACT Background: Textbooks are a formative...</td>\n",
       "    </tr>\n",
       "    <tr>\n",
       "      <th>3</th>\n",
       "      <td>817tfx</td>\n",
       "      <td>One more species of Tardigrade (famed for thei...</td>\n",
       "      <td>http://journals.plos.org/plosone/article?id=10...</td>\n",
       "      <td>DOI:10.1371/journal.pone.0192210</td>\n",
       "      <td>An integrative description of Macrobiotus shon...</td>\n",
       "      <td>Tardigrade research in Japan dates back over 1...</td>\n",
       "    </tr>\n",
       "    <tr>\n",
       "      <th>4</th>\n",
       "      <td>8183ly</td>\n",
       "      <td>There's a20% reduction in gun injuries during ...</td>\n",
       "      <td>http://www.nejm.org/doi/full/10.1056/NEJMc1712773</td>\n",
       "      <td>DOI:10.1056/NEJMc1712773</td>\n",
       "      <td>Reduction in Firearm Injuries during NRA Annua...</td>\n",
       "      <td>Decline in Firearm Injuries during NRA Convent...</td>\n",
       "    </tr>\n",
       "    <tr>\n",
       "      <th>...</th>\n",
       "      <td>...</td>\n",
       "      <td>...</td>\n",
       "      <td>...</td>\n",
       "      <td>...</td>\n",
       "      <td>...</td>\n",
       "      <td>...</td>\n",
       "    </tr>\n",
       "    <tr>\n",
       "      <th>5753</th>\n",
       "      <td>dpnj23</td>\n",
       "      <td>Statements about building walls, deportation a...</td>\n",
       "      <td>https://journals.plos.org/plosone/article?id=1...</td>\n",
       "      <td>DOI:10.1371/journal.pone.0222837</td>\n",
       "      <td>Declared impact of the US President’s statemen...</td>\n",
       "      <td>Statements about building walls, deportation a...</td>\n",
       "    </tr>\n",
       "    <tr>\n",
       "      <th>5754</th>\n",
       "      <td>dpnu7e</td>\n",
       "      <td>Many college students will uncritically accept...</td>\n",
       "      <td>https://journals.plos.org/plosone/article?id=1...</td>\n",
       "      <td>DOI:10.1371/journal.pone.0223736</td>\n",
       "      <td>When calculators lie: A demonstration of uncri...</td>\n",
       "      <td>Calculators are often unnecessary to solve rou...</td>\n",
       "    </tr>\n",
       "    <tr>\n",
       "      <th>5755</th>\n",
       "      <td>dpqhem</td>\n",
       "      <td>New method for making polymers with perfectly ...</td>\n",
       "      <td>https://pubs.acs.org/doi/10.1021/jacs.9b08240</td>\n",
       "      <td>DOI:10.1021/jacs.9b08240</td>\n",
       "      <td>Homogenous Synthesis of Monodisperse High Olig...</td>\n",
       "      <td>Whereas monodisperse polymers are ubiquitous i...</td>\n",
       "    </tr>\n",
       "    <tr>\n",
       "      <th>5756</th>\n",
       "      <td>dptk4o</td>\n",
       "      <td>Research Shows That Doing a Bad Job Wrapping P...</td>\n",
       "      <td>https://onlinelibrary.wiley.com/doi/epdf/10.10...</td>\n",
       "      <td>DOI:10.1002/jcpy.1140</td>\n",
       "      <td>Presentation Matters: The Effect of Wrapping N...</td>\n",
       "      <td>While gift-givers typically wrap gifts prior t...</td>\n",
       "    </tr>\n",
       "    <tr>\n",
       "      <th>5757</th>\n",
       "      <td>dpuxb6</td>\n",
       "      <td>New flame retardants in electronics and childr...</td>\n",
       "      <td>https://pubs.acs.org/doi/abs/10.1021/acs.estle...</td>\n",
       "      <td>DOI:10.1021/acs.estlett.9b00582</td>\n",
       "      <td>Organophosphate Ester Flame Retardants: Are Th...</td>\n",
       "      <td>As the use of polybrominated diphenyl ethers (...</td>\n",
       "    </tr>\n",
       "  </tbody>\n",
       "</table>\n",
       "<p>5758 rows × 6 columns</p>\n",
       "</div>"
      ]
     },
     "execution_count": 3,
     "metadata": {},
     "output_type": "execute_result"
    }
   ],
   "execution_count": 3,
   "source": [
    "df = pd.read_csv(f\"../data/{abstracts_file_name}.csv\")\n",
    "df"
   ],
   "id": "8bfc363f835e416a"
  },
  {
   "metadata": {},
   "cell_type": "code",
   "outputs": [],
   "execution_count": null,
   "source": [
    "df['fc_score'] = -1\n",
    "if not os.path.exists(f\"{abstracts_file_name}_fc_scores.csv\"):\n",
    "    df_out = df.copy()\n",
    "else:\n",
    "    df_out = pd.read_csv(f\"{abstracts_file_name}_fc_scores.csv\")"
   ],
   "id": "6914b9044f6d1e56"
  },
  {
   "metadata": {},
   "cell_type": "markdown",
   "source": "## Creating a batch request for the factual consistency metric using the lines from min to max",
   "id": "442463b94cac6315"
  },
  {
   "metadata": {
    "ExecuteTime": {
     "end_time": "2024-11-25T22:27:15.826784Z",
     "start_time": "2024-11-25T22:27:15.707092Z"
    }
   },
   "cell_type": "code",
   "source": [
    "min = 3000\n",
    "max = 6000\n",
    "file_name = f\"request_abstracts_{abstracts_file_name}_{min}_{max}.jsonl\"\n",
    "with open(file_name, \"w+\") as f:\n",
    "    for i, row in df.iterrows():\n",
    "        if i <= min:\n",
    "            continue\n",
    "        if i > max:\n",
    "            break\n",
    "        messages = calculate_fc_using_gpt(row[\"sem_scholar_abstract\"], row[\"title\"], row[\"sem_scholar_title\"], False, return_prompt=True)\n",
    "        input = {\n",
    "            \"custom_id\": \"row-\" + str(i) + \"-fc-id-\" + str(row[\"id\"]),\n",
    "            \"method\": \"POST\",\n",
    "            \"url\": \"/v1/chat/completions\",\n",
    "            \"body\": {\n",
    "                \"model\": \"gpt-4o-mini\",\n",
    "                \"messages\": messages\n",
    "            }\n",
    "        }\n",
    "        f.write(json.dumps(input) + \"\\n\")"
   ],
   "id": "e35b3d42d6e4388",
   "outputs": [],
   "execution_count": 74
  },
  {
   "metadata": {
    "ExecuteTime": {
     "end_time": "2024-11-25T22:28:18.736375Z",
     "start_time": "2024-11-25T22:27:49.650882Z"
    }
   },
   "cell_type": "code",
   "source": [
    "# Uploading a request file to OpenAI\n",
    "request_file = client.files.create(\n",
    "  file=open(file_name, \"rb\"),\n",
    "  purpose=\"batch\"\n",
    ")\n",
    "request_file"
   ],
   "id": "aa5c1817f89deded",
   "outputs": [
    {
     "data": {
      "text/plain": [
       "FileObject(id='file-8R1SEAsykzgRP9YDUhTNUw', bytes=7142857, created_at=1732573698, filename='request_abstracts_filtered_data_with_abstracts_3000_6000.jsonl', object='file', purpose='batch', status='processed', status_details=None)"
      ]
     },
     "execution_count": 75,
     "metadata": {},
     "output_type": "execute_result"
    }
   ],
   "execution_count": 75
  },
  {
   "metadata": {
    "ExecuteTime": {
     "end_time": "2024-11-25T22:20:24.071484Z",
     "start_time": "2024-11-25T22:20:22.265848Z"
    }
   },
   "cell_type": "code",
   "source": [
    "# Creating a batch request using the uploaded input file\n",
    "batch = client.batches.create(\n",
    "  input_file_id=request_file.id,\n",
    "  endpoint=\"/v1/chat/completions\",\n",
    "  completion_window=\"24h\"\n",
    ")\n",
    "batch"
   ],
   "id": "465d561be4a40001",
   "outputs": [
    {
     "data": {
      "text/plain": [
       "Batch(id='batch_6744f82785548190a21d820dc6be5ec8', completion_window='24h', created_at=1732573223, endpoint='/v1/chat/completions', input_file_id='file-VNGtb539pWqoEPAqzFxf11', object='batch', status='validating', cancelled_at=None, cancelling_at=None, completed_at=None, error_file_id=None, errors=None, expired_at=None, expires_at=1732659623, failed_at=None, finalizing_at=None, in_progress_at=None, metadata=None, output_file_id=None, request_counts=BatchRequestCounts(completed=0, failed=0, total=0))"
      ]
     },
     "execution_count": 70,
     "metadata": {},
     "output_type": "execute_result"
    }
   ],
   "execution_count": 70
  },
  {
   "metadata": {},
   "cell_type": "markdown",
   "source": "## Retrieving the batch to find out about the completion status",
   "id": "6c2bdbc47af84903"
  },
  {
   "metadata": {
    "ExecuteTime": {
     "end_time": "2024-11-25T22:28:25.863642Z",
     "start_time": "2024-11-25T22:28:25.557685Z"
    }
   },
   "cell_type": "code",
   "source": [
    "batch = client.batches.retrieve(batch.id)\n",
    "batch"
   ],
   "id": "3685b46299342059",
   "outputs": [
    {
     "data": {
      "text/plain": [
       "Batch(id='batch_6744f82785548190a21d820dc6be5ec8', completion_window='24h', created_at=1732573223, endpoint='/v1/chat/completions', input_file_id='file-VNGtb539pWqoEPAqzFxf11', object='batch', status='in_progress', cancelled_at=None, cancelling_at=None, completed_at=None, error_file_id=None, errors=None, expired_at=None, expires_at=1732659623, failed_at=None, finalizing_at=None, in_progress_at=1732573225, metadata=None, output_file_id=None, request_counts=BatchRequestCounts(completed=0, failed=0, total=2500))"
      ]
     },
     "execution_count": 76,
     "metadata": {},
     "output_type": "execute_result"
    }
   ],
   "execution_count": 76
  },
  {
   "metadata": {},
   "cell_type": "markdown",
   "source": "## Downloading the output file to get the factual consistency scores and adding them to the output_dataframe",
   "id": "f7c2f981177361a2"
  },
  {
   "metadata": {
    "ExecuteTime": {
     "end_time": "2024-11-25T22:04:36.566897Z",
     "start_time": "2024-11-25T22:04:33.937884Z"
    }
   },
   "cell_type": "code",
   "outputs": [],
   "execution_count": 52,
   "source": "response_content = client.files.content(batch.output_file_id)",
   "id": "49ba94acaacc0e68"
  },
  {
   "metadata": {
    "ExecuteTime": {
     "end_time": "2024-11-25T22:07:49.253033Z",
     "start_time": "2024-11-25T22:07:49.212373Z"
    }
   },
   "cell_type": "code",
   "source": [
    "for line in response_content.iter_lines():\n",
    "    output = json.loads(line)\n",
    "    score_json = output['response'][\"body\"][\"choices\"][0][\"message\"][\"content\"]\n",
    "    score = json.loads(score_json).get(\"score\", -2)\n",
    "    custom_id = output[\"custom_id\"]\n",
    "    row_id = int(custom_id.split(\"-\")[1])\n",
    "    post_id = custom_id.split(\"-\")[4]\n",
    "    if df.loc[row_id, \"id\"] != post_id:\n",
    "        raise ValueError(f\"Row ID {row_id} does not match post ID {post_id}\")\n",
    "    df_out.loc[row_id, 'fc_score'] = score\n",
    "df_out"
   ],
   "id": "91eecb7d56db7fca",
   "outputs": [
    {
     "data": {
      "text/plain": [
       "          id                                              title  \\\n",
       "0     811az5  Firearm Injuries Drop 20 Percent When Gun Owne...   \n",
       "1     814dwi  Supplementation with probiotics during late pr...   \n",
       "2     815lr6  Undisclosed Conflicts of Interests among Biome...   \n",
       "3     817tfx  One more species of Tardigrade (famed for thei...   \n",
       "4     8183ly  There's a20% reduction in gun injuries during ...   \n",
       "...      ...                                                ...   \n",
       "5753  dpnj23  Statements about building walls, deportation a...   \n",
       "5754  dpnu7e  Many college students will uncritically accept...   \n",
       "5755  dpqhem  New method for making polymers with perfectly ...   \n",
       "5756  dptk4o  Research Shows That Doing a Bad Job Wrapping P...   \n",
       "5757  dpuxb6  New flame retardants in electronics and childr...   \n",
       "\n",
       "                                                    url  \\\n",
       "0     http://www.nejm.org/doi/full/10.1056/NEJMc1712773   \n",
       "1     http://journals.plos.org/plosmedicine/article?...   \n",
       "2          https://www.ncbi.nlm.nih.gov/pubmed/29400625   \n",
       "3     http://journals.plos.org/plosone/article?id=10...   \n",
       "4     http://www.nejm.org/doi/full/10.1056/NEJMc1712773   \n",
       "...                                                 ...   \n",
       "5753  https://journals.plos.org/plosone/article?id=1...   \n",
       "5754  https://journals.plos.org/plosone/article?id=1...   \n",
       "5755      https://pubs.acs.org/doi/10.1021/jacs.9b08240   \n",
       "5756  https://onlinelibrary.wiley.com/doi/epdf/10.10...   \n",
       "5757  https://pubs.acs.org/doi/abs/10.1021/acs.estle...   \n",
       "\n",
       "                            identifier  \\\n",
       "0             DOI:10.1056/NEJMc1712773   \n",
       "1     DOI:10.1371/journal.pmed.1002507   \n",
       "2                        PMID:29400625   \n",
       "3     DOI:10.1371/journal.pone.0192210   \n",
       "4             DOI:10.1056/NEJMc1712773   \n",
       "...                                ...   \n",
       "5753  DOI:10.1371/journal.pone.0222837   \n",
       "5754  DOI:10.1371/journal.pone.0223736   \n",
       "5755          DOI:10.1021/jacs.9b08240   \n",
       "5756             DOI:10.1002/jcpy.1140   \n",
       "5757   DOI:10.1021/acs.estlett.9b00582   \n",
       "\n",
       "                                      sem_scholar_title  \\\n",
       "0     Reduction in Firearm Injuries during NRA Annua...   \n",
       "1     Diet during pregnancy and infancy and risk of ...   \n",
       "2     Undisclosed conflicts of interest among biomed...   \n",
       "3     An integrative description of Macrobiotus shon...   \n",
       "4     Reduction in Firearm Injuries during NRA Annua...   \n",
       "...                                                 ...   \n",
       "5753  Declared impact of the US President’s statemen...   \n",
       "5754  When calculators lie: A demonstration of uncri...   \n",
       "5755  Homogenous Synthesis of Monodisperse High Olig...   \n",
       "5756  Presentation Matters: The Effect of Wrapping N...   \n",
       "5757  Organophosphate Ester Flame Retardants: Are Th...   \n",
       "\n",
       "                                   sem_scholar_abstract  fc_score  \n",
       "0     Decline in Firearm Injuries during NRA Convent...         4  \n",
       "1     Background There is uncertainty about the infl...         5  \n",
       "2     ABSTRACT Background: Textbooks are a formative...         5  \n",
       "3     Tardigrade research in Japan dates back over 1...         2  \n",
       "4     Decline in Firearm Injuries during NRA Convent...         4  \n",
       "...                                                 ...       ...  \n",
       "5753  Statements about building walls, deportation a...        -1  \n",
       "5754  Calculators are often unnecessary to solve rou...        -1  \n",
       "5755  Whereas monodisperse polymers are ubiquitous i...        -1  \n",
       "5756  While gift-givers typically wrap gifts prior t...        -1  \n",
       "5757  As the use of polybrominated diphenyl ethers (...        -1  \n",
       "\n",
       "[5758 rows x 7 columns]"
      ],
      "text/html": [
       "<div>\n",
       "<style scoped>\n",
       "    .dataframe tbody tr th:only-of-type {\n",
       "        vertical-align: middle;\n",
       "    }\n",
       "\n",
       "    .dataframe tbody tr th {\n",
       "        vertical-align: top;\n",
       "    }\n",
       "\n",
       "    .dataframe thead th {\n",
       "        text-align: right;\n",
       "    }\n",
       "</style>\n",
       "<table border=\"1\" class=\"dataframe\">\n",
       "  <thead>\n",
       "    <tr style=\"text-align: right;\">\n",
       "      <th></th>\n",
       "      <th>id</th>\n",
       "      <th>title</th>\n",
       "      <th>url</th>\n",
       "      <th>identifier</th>\n",
       "      <th>sem_scholar_title</th>\n",
       "      <th>sem_scholar_abstract</th>\n",
       "      <th>fc_score</th>\n",
       "    </tr>\n",
       "  </thead>\n",
       "  <tbody>\n",
       "    <tr>\n",
       "      <th>0</th>\n",
       "      <td>811az5</td>\n",
       "      <td>Firearm Injuries Drop 20 Percent When Gun Owne...</td>\n",
       "      <td>http://www.nejm.org/doi/full/10.1056/NEJMc1712773</td>\n",
       "      <td>DOI:10.1056/NEJMc1712773</td>\n",
       "      <td>Reduction in Firearm Injuries during NRA Annua...</td>\n",
       "      <td>Decline in Firearm Injuries during NRA Convent...</td>\n",
       "      <td>4</td>\n",
       "    </tr>\n",
       "    <tr>\n",
       "      <th>1</th>\n",
       "      <td>814dwi</td>\n",
       "      <td>Supplementation with probiotics during late pr...</td>\n",
       "      <td>http://journals.plos.org/plosmedicine/article?...</td>\n",
       "      <td>DOI:10.1371/journal.pmed.1002507</td>\n",
       "      <td>Diet during pregnancy and infancy and risk of ...</td>\n",
       "      <td>Background There is uncertainty about the infl...</td>\n",
       "      <td>5</td>\n",
       "    </tr>\n",
       "    <tr>\n",
       "      <th>2</th>\n",
       "      <td>815lr6</td>\n",
       "      <td>Undisclosed Conflicts of Interests among Biome...</td>\n",
       "      <td>https://www.ncbi.nlm.nih.gov/pubmed/29400625</td>\n",
       "      <td>PMID:29400625</td>\n",
       "      <td>Undisclosed conflicts of interest among biomed...</td>\n",
       "      <td>ABSTRACT Background: Textbooks are a formative...</td>\n",
       "      <td>5</td>\n",
       "    </tr>\n",
       "    <tr>\n",
       "      <th>3</th>\n",
       "      <td>817tfx</td>\n",
       "      <td>One more species of Tardigrade (famed for thei...</td>\n",
       "      <td>http://journals.plos.org/plosone/article?id=10...</td>\n",
       "      <td>DOI:10.1371/journal.pone.0192210</td>\n",
       "      <td>An integrative description of Macrobiotus shon...</td>\n",
       "      <td>Tardigrade research in Japan dates back over 1...</td>\n",
       "      <td>2</td>\n",
       "    </tr>\n",
       "    <tr>\n",
       "      <th>4</th>\n",
       "      <td>8183ly</td>\n",
       "      <td>There's a20% reduction in gun injuries during ...</td>\n",
       "      <td>http://www.nejm.org/doi/full/10.1056/NEJMc1712773</td>\n",
       "      <td>DOI:10.1056/NEJMc1712773</td>\n",
       "      <td>Reduction in Firearm Injuries during NRA Annua...</td>\n",
       "      <td>Decline in Firearm Injuries during NRA Convent...</td>\n",
       "      <td>4</td>\n",
       "    </tr>\n",
       "    <tr>\n",
       "      <th>...</th>\n",
       "      <td>...</td>\n",
       "      <td>...</td>\n",
       "      <td>...</td>\n",
       "      <td>...</td>\n",
       "      <td>...</td>\n",
       "      <td>...</td>\n",
       "      <td>...</td>\n",
       "    </tr>\n",
       "    <tr>\n",
       "      <th>5753</th>\n",
       "      <td>dpnj23</td>\n",
       "      <td>Statements about building walls, deportation a...</td>\n",
       "      <td>https://journals.plos.org/plosone/article?id=1...</td>\n",
       "      <td>DOI:10.1371/journal.pone.0222837</td>\n",
       "      <td>Declared impact of the US President’s statemen...</td>\n",
       "      <td>Statements about building walls, deportation a...</td>\n",
       "      <td>-1</td>\n",
       "    </tr>\n",
       "    <tr>\n",
       "      <th>5754</th>\n",
       "      <td>dpnu7e</td>\n",
       "      <td>Many college students will uncritically accept...</td>\n",
       "      <td>https://journals.plos.org/plosone/article?id=1...</td>\n",
       "      <td>DOI:10.1371/journal.pone.0223736</td>\n",
       "      <td>When calculators lie: A demonstration of uncri...</td>\n",
       "      <td>Calculators are often unnecessary to solve rou...</td>\n",
       "      <td>-1</td>\n",
       "    </tr>\n",
       "    <tr>\n",
       "      <th>5755</th>\n",
       "      <td>dpqhem</td>\n",
       "      <td>New method for making polymers with perfectly ...</td>\n",
       "      <td>https://pubs.acs.org/doi/10.1021/jacs.9b08240</td>\n",
       "      <td>DOI:10.1021/jacs.9b08240</td>\n",
       "      <td>Homogenous Synthesis of Monodisperse High Olig...</td>\n",
       "      <td>Whereas monodisperse polymers are ubiquitous i...</td>\n",
       "      <td>-1</td>\n",
       "    </tr>\n",
       "    <tr>\n",
       "      <th>5756</th>\n",
       "      <td>dptk4o</td>\n",
       "      <td>Research Shows That Doing a Bad Job Wrapping P...</td>\n",
       "      <td>https://onlinelibrary.wiley.com/doi/epdf/10.10...</td>\n",
       "      <td>DOI:10.1002/jcpy.1140</td>\n",
       "      <td>Presentation Matters: The Effect of Wrapping N...</td>\n",
       "      <td>While gift-givers typically wrap gifts prior t...</td>\n",
       "      <td>-1</td>\n",
       "    </tr>\n",
       "    <tr>\n",
       "      <th>5757</th>\n",
       "      <td>dpuxb6</td>\n",
       "      <td>New flame retardants in electronics and childr...</td>\n",
       "      <td>https://pubs.acs.org/doi/abs/10.1021/acs.estle...</td>\n",
       "      <td>DOI:10.1021/acs.estlett.9b00582</td>\n",
       "      <td>Organophosphate Ester Flame Retardants: Are Th...</td>\n",
       "      <td>As the use of polybrominated diphenyl ethers (...</td>\n",
       "      <td>-1</td>\n",
       "    </tr>\n",
       "  </tbody>\n",
       "</table>\n",
       "<p>5758 rows × 7 columns</p>\n",
       "</div>"
      ]
     },
     "execution_count": 64,
     "metadata": {},
     "output_type": "execute_result"
    }
   ],
   "execution_count": 64
  },
  {
   "metadata": {
    "ExecuteTime": {
     "end_time": "2024-11-25T22:08:49.031851Z",
     "start_time": "2024-11-25T22:08:48.917856Z"
    }
   },
   "cell_type": "code",
   "source": "df_out.to_csv(\"filtered_data_with_abstracts_fc_scores.csv\", index=False)",
   "id": "5b5c6930428d078c",
   "outputs": [],
   "execution_count": 65
  },
  {
   "metadata": {},
   "cell_type": "code",
   "outputs": [],
   "execution_count": null,
   "source": "",
   "id": "5b0261b65c81d42f"
  }
 ],
 "metadata": {
  "kernelspec": {
   "display_name": "Python 3",
   "language": "python",
   "name": "python3"
  },
  "language_info": {
   "codemirror_mode": {
    "name": "ipython",
    "version": 2
   },
   "file_extension": ".py",
   "mimetype": "text/x-python",
   "name": "python",
   "nbconvert_exporter": "python",
   "pygments_lexer": "ipython2",
   "version": "2.7.6"
  }
 },
 "nbformat": 4,
 "nbformat_minor": 5
}
