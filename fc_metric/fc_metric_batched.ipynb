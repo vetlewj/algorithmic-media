{
 "cells": [
  {
   "metadata": {},
   "cell_type": "markdown",
   "source": [
    "Using openai batch processing to run fc metric on a large dataset\n",
    "This is cheaper and the laptop does not have to be on all the time."
   ],
   "id": "138f080c45a86ee1"
  },
  {
   "cell_type": "code",
   "id": "initial_id",
   "metadata": {
    "collapsed": true,
    "ExecuteTime": {
     "end_time": "2024-12-01T21:12:44.130863Z",
     "start_time": "2024-12-01T21:12:44.128486Z"
    }
   },
   "source": [
    "import json\n",
    "\n",
    "from openai import OpenAI\n",
    "import os\n",
    "import pandas as pd\n",
    "from fc_metric import calculate_fc_using_gpt"
   ],
   "outputs": [],
   "execution_count": 20
  },
  {
   "metadata": {
    "ExecuteTime": {
     "end_time": "2024-12-01T21:17:27.490473Z",
     "start_time": "2024-12-01T21:17:27.481835Z"
    }
   },
   "cell_type": "code",
   "source": [
    "if not os.getenv(\"OPENAI_API_KEY\"):\n",
    "    raise ValueError(\n",
    "        \"Please set the OPENAI_API_KEY environment variable before running the factual consistency metric script\"\n",
    "    )\n",
    "client = OpenAI()"
   ],
   "id": "57a1fe7f16701090",
   "outputs": [],
   "execution_count": 32
  },
  {
   "metadata": {
    "ExecuteTime": {
     "end_time": "2024-12-01T21:17:27.852328Z",
     "start_time": "2024-12-01T21:17:27.849750Z"
    }
   },
   "cell_type": "code",
   "source": "abstracts_file_name = 'scientific_nature_DOIs'",
   "id": "5f54ac0fb80dc452",
   "outputs": [],
   "execution_count": 33
  },
  {
   "metadata": {
    "ExecuteTime": {
     "end_time": "2024-12-01T21:17:28.721100Z",
     "start_time": "2024-12-01T21:17:28.635330Z"
    }
   },
   "cell_type": "code",
   "source": [
    "df = pd.read_csv(f\"../data/identifiers_and_abstracts/{abstracts_file_name}.csv\")\n",
    "df.dropna(subset=[\"sem_scholar_abstract\"], inplace=True, ignore_index=True)\n",
    "df"
   ],
   "id": "8bfc363f835e416a",
   "outputs": [
    {
     "data": {
      "text/plain": [
       "          id    category                                              title  \\\n",
       "0     815vqz  scientific  Signal detected from the first stars in the un...   \n",
       "1     81ymjh  scientific  Artificial intelligence techniques able to lea...   \n",
       "2     82bpf1  scientific  Thrombin@Fe 3 O 4 nanoparticles for use as a h...   \n",
       "3     82dzyr  scientific  Scientists have found a breakthrough technique...   \n",
       "4     82es30  scientific  Simulating Uneven Trails Provides Insight Into...   \n",
       "...      ...         ...                                                ...   \n",
       "6813  dph7bi  scientific  Neoceroplatus betaryiensisnov. sp. (Diptera: K...   \n",
       "6814  dpi8uf  scientific  In this mouse model of epilepsy, the temperatu...   \n",
       "6815  dppdhj  scientific  Based on brain scans data from 1,774 people wi...   \n",
       "6816  dpstjb  scientific  Researchers demonstrate generation of 2D &amp;...   \n",
       "6817  dpvjbr  scientific  Memory editing from science fiction to clinica...   \n",
       "\n",
       "                                                    url  \\\n",
       "0           https://www.nature.com/articles/nature25791   \n",
       "1     https://www.nature.com/articles/s41567-018-0048-5   \n",
       "2     https://www.nature.com/articles/s41598-017-186...   \n",
       "3     https://www.nature.com/articles/s41557-018-0009-8   \n",
       "4     https://www.nature.com/articles/s41598-018-210...   \n",
       "...                                                 ...   \n",
       "6813  https://www.nature.com/articles/s41598-019-477...   \n",
       "6814  https://www.nature.com/articles/s41374-019-0335-5   \n",
       "6815  https://www.nature.com/articles/s41467-019-130...   \n",
       "6816  https://www.nature.com/articles/s41377-019-0201-7   \n",
       "6817  https://www.nature.com/articles/s41586-019-1433-7   \n",
       "\n",
       "                          identifier  \\\n",
       "0            DOI:10.1038/nature25791   \n",
       "1      DOI:10.1038/s41567-018-0048-5   \n",
       "2     DOI:10.1038/s41598-017-18665-4   \n",
       "3      DOI:10.1038/s41557-018-0009-8   \n",
       "4     DOI:10.1038/s41598-018-21018-4   \n",
       "...                              ...   \n",
       "6813  DOI:10.1038/s41598-019-47753-w   \n",
       "6814   DOI:10.1038/s41374-019-0335-5   \n",
       "6815  DOI:10.1038/s41467-019-13005-8   \n",
       "6816   DOI:10.1038/s41377-019-0201-7   \n",
       "6817   DOI:10.1038/s41586-019-1433-7   \n",
       "\n",
       "                                      sem_scholar_title  \\\n",
       "0     Possible interaction between baryons and dark-...   \n",
       "1               Neural-network quantum state tomography   \n",
       "2     Thrombin@Fe3O4 nanoparticles for use as a hemo...   \n",
       "3     Control over phase separation and nucleation u...   \n",
       "4     Challenging human locomotion: stability and mo...   \n",
       "...                                                 ...   \n",
       "6813  Neoceroplatus betaryiensis nov. sp. (Diptera: ...   \n",
       "6814  Temperature elevation in epileptogenic foci ex...   \n",
       "6815  Altered structural brain asymmetry in autism s...   \n",
       "6816  Dielectric metasurfaces for complete and indep...   \n",
       "6817  Memory editing from science fiction to clinica...   \n",
       "\n",
       "                                   sem_scholar_abstract  \n",
       "0     The cosmic radio-frequency spectrum is expecte...  \n",
       "1     The experimental realization of increasingly c...  \n",
       "2     Bleeding remains one of the main causes of pre...  \n",
       "3     Control over the nucleation of new phases is h...  \n",
       "4     The need to move over uneven terrain is a dail...  \n",
       "...                                                 ...  \n",
       "6813  Blue shining fungus gnats (Diptera) had been l...  \n",
       "6814  Physiological brain temperature is an importan...  \n",
       "6815  Altered structural brain asymmetry in autism s...  \n",
       "6816  Metasurfaces are optically thin metamaterials ...  \n",
       "6817  Science fiction notions of altering problemati...  \n",
       "\n",
       "[6818 rows x 7 columns]"
      ],
      "text/html": [
       "<div>\n",
       "<style scoped>\n",
       "    .dataframe tbody tr th:only-of-type {\n",
       "        vertical-align: middle;\n",
       "    }\n",
       "\n",
       "    .dataframe tbody tr th {\n",
       "        vertical-align: top;\n",
       "    }\n",
       "\n",
       "    .dataframe thead th {\n",
       "        text-align: right;\n",
       "    }\n",
       "</style>\n",
       "<table border=\"1\" class=\"dataframe\">\n",
       "  <thead>\n",
       "    <tr style=\"text-align: right;\">\n",
       "      <th></th>\n",
       "      <th>id</th>\n",
       "      <th>category</th>\n",
       "      <th>title</th>\n",
       "      <th>url</th>\n",
       "      <th>identifier</th>\n",
       "      <th>sem_scholar_title</th>\n",
       "      <th>sem_scholar_abstract</th>\n",
       "    </tr>\n",
       "  </thead>\n",
       "  <tbody>\n",
       "    <tr>\n",
       "      <th>0</th>\n",
       "      <td>815vqz</td>\n",
       "      <td>scientific</td>\n",
       "      <td>Signal detected from the first stars in the un...</td>\n",
       "      <td>https://www.nature.com/articles/nature25791</td>\n",
       "      <td>DOI:10.1038/nature25791</td>\n",
       "      <td>Possible interaction between baryons and dark-...</td>\n",
       "      <td>The cosmic radio-frequency spectrum is expecte...</td>\n",
       "    </tr>\n",
       "    <tr>\n",
       "      <th>1</th>\n",
       "      <td>81ymjh</td>\n",
       "      <td>scientific</td>\n",
       "      <td>Artificial intelligence techniques able to lea...</td>\n",
       "      <td>https://www.nature.com/articles/s41567-018-0048-5</td>\n",
       "      <td>DOI:10.1038/s41567-018-0048-5</td>\n",
       "      <td>Neural-network quantum state tomography</td>\n",
       "      <td>The experimental realization of increasingly c...</td>\n",
       "    </tr>\n",
       "    <tr>\n",
       "      <th>2</th>\n",
       "      <td>82bpf1</td>\n",
       "      <td>scientific</td>\n",
       "      <td>Thrombin@Fe 3 O 4 nanoparticles for use as a h...</td>\n",
       "      <td>https://www.nature.com/articles/s41598-017-186...</td>\n",
       "      <td>DOI:10.1038/s41598-017-18665-4</td>\n",
       "      <td>Thrombin@Fe3O4 nanoparticles for use as a hemo...</td>\n",
       "      <td>Bleeding remains one of the main causes of pre...</td>\n",
       "    </tr>\n",
       "    <tr>\n",
       "      <th>3</th>\n",
       "      <td>82dzyr</td>\n",
       "      <td>scientific</td>\n",
       "      <td>Scientists have found a breakthrough technique...</td>\n",
       "      <td>https://www.nature.com/articles/s41557-018-0009-8</td>\n",
       "      <td>DOI:10.1038/s41557-018-0009-8</td>\n",
       "      <td>Control over phase separation and nucleation u...</td>\n",
       "      <td>Control over the nucleation of new phases is h...</td>\n",
       "    </tr>\n",
       "    <tr>\n",
       "      <th>4</th>\n",
       "      <td>82es30</td>\n",
       "      <td>scientific</td>\n",
       "      <td>Simulating Uneven Trails Provides Insight Into...</td>\n",
       "      <td>https://www.nature.com/articles/s41598-018-210...</td>\n",
       "      <td>DOI:10.1038/s41598-018-21018-4</td>\n",
       "      <td>Challenging human locomotion: stability and mo...</td>\n",
       "      <td>The need to move over uneven terrain is a dail...</td>\n",
       "    </tr>\n",
       "    <tr>\n",
       "      <th>...</th>\n",
       "      <td>...</td>\n",
       "      <td>...</td>\n",
       "      <td>...</td>\n",
       "      <td>...</td>\n",
       "      <td>...</td>\n",
       "      <td>...</td>\n",
       "      <td>...</td>\n",
       "    </tr>\n",
       "    <tr>\n",
       "      <th>6813</th>\n",
       "      <td>dph7bi</td>\n",
       "      <td>scientific</td>\n",
       "      <td>Neoceroplatus betaryiensisnov. sp. (Diptera: K...</td>\n",
       "      <td>https://www.nature.com/articles/s41598-019-477...</td>\n",
       "      <td>DOI:10.1038/s41598-019-47753-w</td>\n",
       "      <td>Neoceroplatus betaryiensis nov. sp. (Diptera: ...</td>\n",
       "      <td>Blue shining fungus gnats (Diptera) had been l...</td>\n",
       "    </tr>\n",
       "    <tr>\n",
       "      <th>6814</th>\n",
       "      <td>dpi8uf</td>\n",
       "      <td>scientific</td>\n",
       "      <td>In this mouse model of epilepsy, the temperatu...</td>\n",
       "      <td>https://www.nature.com/articles/s41374-019-0335-5</td>\n",
       "      <td>DOI:10.1038/s41374-019-0335-5</td>\n",
       "      <td>Temperature elevation in epileptogenic foci ex...</td>\n",
       "      <td>Physiological brain temperature is an importan...</td>\n",
       "    </tr>\n",
       "    <tr>\n",
       "      <th>6815</th>\n",
       "      <td>dppdhj</td>\n",
       "      <td>scientific</td>\n",
       "      <td>Based on brain scans data from 1,774 people wi...</td>\n",
       "      <td>https://www.nature.com/articles/s41467-019-130...</td>\n",
       "      <td>DOI:10.1038/s41467-019-13005-8</td>\n",
       "      <td>Altered structural brain asymmetry in autism s...</td>\n",
       "      <td>Altered structural brain asymmetry in autism s...</td>\n",
       "    </tr>\n",
       "    <tr>\n",
       "      <th>6816</th>\n",
       "      <td>dpstjb</td>\n",
       "      <td>scientific</td>\n",
       "      <td>Researchers demonstrate generation of 2D &amp;amp;...</td>\n",
       "      <td>https://www.nature.com/articles/s41377-019-0201-7</td>\n",
       "      <td>DOI:10.1038/s41377-019-0201-7</td>\n",
       "      <td>Dielectric metasurfaces for complete and indep...</td>\n",
       "      <td>Metasurfaces are optically thin metamaterials ...</td>\n",
       "    </tr>\n",
       "    <tr>\n",
       "      <th>6817</th>\n",
       "      <td>dpvjbr</td>\n",
       "      <td>scientific</td>\n",
       "      <td>Memory editing from science fiction to clinica...</td>\n",
       "      <td>https://www.nature.com/articles/s41586-019-1433-7</td>\n",
       "      <td>DOI:10.1038/s41586-019-1433-7</td>\n",
       "      <td>Memory editing from science fiction to clinica...</td>\n",
       "      <td>Science fiction notions of altering problemati...</td>\n",
       "    </tr>\n",
       "  </tbody>\n",
       "</table>\n",
       "<p>6818 rows × 7 columns</p>\n",
       "</div>"
      ]
     },
     "execution_count": 34,
     "metadata": {},
     "output_type": "execute_result"
    }
   ],
   "execution_count": 34
  },
  {
   "metadata": {
    "ExecuteTime": {
     "end_time": "2024-12-01T21:17:35.007821Z",
     "start_time": "2024-12-01T21:17:35.003844Z"
    }
   },
   "cell_type": "code",
   "source": [
    "df['fc_score'] = -1\n",
    "if not os.path.exists(f\"{abstracts_file_name}_fc_scores.csv\"):\n",
    "    df_out = df.copy()\n",
    "else:\n",
    "    df_out = pd.read_csv(f\"{abstracts_file_name}_fc_scores.csv\")"
   ],
   "id": "6914b9044f6d1e56",
   "outputs": [],
   "execution_count": 35
  },
  {
   "metadata": {},
   "cell_type": "markdown",
   "source": "## Creating a batch request for the factual consistency metric using the lines from min to max",
   "id": "442463b94cac6315"
  },
  {
   "metadata": {
    "ExecuteTime": {
     "end_time": "2024-12-01T21:14:02.696202Z",
     "start_time": "2024-12-01T21:14:02.624494Z"
    }
   },
   "cell_type": "code",
   "source": [
    "min = 0\n",
    "max = 3000\n",
    "file_name = f\"request_abstracts_{abstracts_file_name}_{min}_{max}.jsonl\"\n",
    "with open(file_name, \"w+\") as f:\n",
    "    for i, row in df.iterrows():\n",
    "        if i < min:\n",
    "            continue\n",
    "        if i >= max:\n",
    "            break\n",
    "        messages = calculate_fc_using_gpt(row[\"sem_scholar_abstract\"], row[\"title\"], row[\"sem_scholar_title\"], False, return_prompt=True)\n",
    "        input = {\n",
    "            \"custom_id\": \"row-\" + str(i) + \"-fc-id-\" + str(row[\"id\"]),\n",
    "            \"method\": \"POST\",\n",
    "            \"url\": \"/v1/chat/completions\",\n",
    "            \"body\": {\n",
    "                \"model\": \"gpt-4o-mini\",\n",
    "                \"messages\": messages\n",
    "            }\n",
    "        }\n",
    "        f.write(json.dumps(input) + \"\\n\")"
   ],
   "id": "e35b3d42d6e4388",
   "outputs": [],
   "execution_count": 28
  },
  {
   "metadata": {
    "ExecuteTime": {
     "end_time": "2024-12-01T21:14:05.552093Z",
     "start_time": "2024-12-01T21:14:04.026458Z"
    }
   },
   "cell_type": "code",
   "source": [
    "# Uploading a request file to OpenAI\n",
    "request_file = client.files.create(\n",
    "  file=open(file_name, \"rb\"),\n",
    "  purpose=\"batch\"\n",
    ")\n",
    "request_file"
   ],
   "id": "aa5c1817f89deded",
   "outputs": [
    {
     "data": {
      "text/plain": [
       "FileObject(id='file-6qBtq8dnbE2fmrsH8HVR7G', bytes=4890289, created_at=1733087645, filename='request_abstracts_scientific_DOIs_0_3000.jsonl', object='file', purpose='batch', status='processed', status_details=None)"
      ]
     },
     "execution_count": 29,
     "metadata": {},
     "output_type": "execute_result"
    }
   ],
   "execution_count": 29
  },
  {
   "metadata": {
    "ExecuteTime": {
     "end_time": "2024-12-01T21:14:08.334084Z",
     "start_time": "2024-12-01T21:14:07.713131Z"
    }
   },
   "cell_type": "code",
   "source": [
    "# Creating a batch request using the uploaded input file\n",
    "batch = client.batches.create(\n",
    "  input_file_id=request_file.id,\n",
    "  endpoint=\"/v1/chat/completions\",\n",
    "  completion_window=\"24h\"\n",
    ")\n",
    "batch"
   ],
   "id": "465d561be4a40001",
   "outputs": [
    {
     "data": {
      "text/plain": [
       "Batch(id='batch_674cd1a00c3c819094b7b752bc3c2dfb', completion_window='24h', created_at=1733087648, endpoint='/v1/chat/completions', input_file_id='file-6qBtq8dnbE2fmrsH8HVR7G', object='batch', status='validating', cancelled_at=None, cancelling_at=None, completed_at=None, error_file_id=None, errors=None, expired_at=None, expires_at=1733174048, failed_at=None, finalizing_at=None, in_progress_at=None, metadata=None, output_file_id=None, request_counts=BatchRequestCounts(completed=0, failed=0, total=0))"
      ]
     },
     "execution_count": 30,
     "metadata": {},
     "output_type": "execute_result"
    }
   ],
   "execution_count": 30
  },
  {
   "metadata": {},
   "cell_type": "markdown",
   "source": "## Retrieving the batch to find out about the completion status",
   "id": "6c2bdbc47af84903"
  },
  {
   "metadata": {
    "ExecuteTime": {
     "end_time": "2024-12-01T21:11:28.234805Z",
     "start_time": "2024-12-01T21:11:28.082568Z"
    }
   },
   "cell_type": "code",
   "source": [
    "batch = client.batches.retrieve(batch.id)\n",
    "batch"
   ],
   "id": "3685b46299342059",
   "outputs": [
    {
     "data": {
      "text/plain": [
       "Batch(id='batch_674cd0728f788190a60e7438d277162a', completion_window='24h', created_at=1733087346, endpoint='/v1/chat/completions', input_file_id='file-JMVY314E73zFt8k2DNvDcy', object='batch', status='in_progress', cancelled_at=None, cancelling_at=None, completed_at=None, error_file_id=None, errors=None, expired_at=None, expires_at=1733173746, failed_at=None, finalizing_at=None, in_progress_at=1733087347, metadata=None, output_file_id=None, request_counts=BatchRequestCounts(completed=0, failed=0, total=571))"
      ]
     },
     "execution_count": 19,
     "metadata": {},
     "output_type": "execute_result"
    }
   ],
   "execution_count": 19
  },
  {
   "metadata": {},
   "cell_type": "markdown",
   "source": "## Downloading the output file to get the factual consistency scores and adding them to the output_dataframe",
   "id": "f7c2f981177361a2"
  },
  {
   "metadata": {
    "ExecuteTime": {
     "end_time": "2024-11-26T18:12:07.004338Z",
     "start_time": "2024-11-26T18:12:05.566314Z"
    }
   },
   "cell_type": "code",
   "source": "response_content = client.files.content(batch.output_file_id)",
   "id": "49ba94acaacc0e68",
   "outputs": [],
   "execution_count": 92
  },
  {
   "metadata": {
    "ExecuteTime": {
     "end_time": "2024-11-26T18:12:11.455611Z",
     "start_time": "2024-11-26T18:12:11.284797Z"
    }
   },
   "cell_type": "code",
   "source": [
    "for line in response_content.iter_lines():\n",
    "    output = json.loads(line)\n",
    "    score_json = output['response'][\"body\"][\"choices\"][0][\"message\"][\"content\"]\n",
    "    score = json.loads(score_json).get(\"score\", -2)\n",
    "    custom_id = output[\"custom_id\"]\n",
    "    row_id = int(custom_id.split(\"-\")[1])\n",
    "    post_id = custom_id.split(\"-\")[4]\n",
    "    if df.loc[row_id, \"id\"] != post_id:\n",
    "        raise ValueError(f\"Row ID {row_id} does not match post ID {post_id}\")\n",
    "    df_out.loc[row_id, 'fc_score'] = score\n",
    "df_out"
   ],
   "id": "91eecb7d56db7fca",
   "outputs": [
    {
     "data": {
      "text/plain": [
       "          id                                              title  \\\n",
       "0     811az5  Firearm Injuries Drop 20 Percent When Gun Owne...   \n",
       "1     814dwi  Supplementation with probiotics during late pr...   \n",
       "2     815lr6  Undisclosed Conflicts of Interests among Biome...   \n",
       "3     817tfx  One more species of Tardigrade (famed for thei...   \n",
       "4     8183ly  There's a20% reduction in gun injuries during ...   \n",
       "...      ...                                                ...   \n",
       "5753  dpnj23  Statements about building walls, deportation a...   \n",
       "5754  dpnu7e  Many college students will uncritically accept...   \n",
       "5755  dpqhem  New method for making polymers with perfectly ...   \n",
       "5756  dptk4o  Research Shows That Doing a Bad Job Wrapping P...   \n",
       "5757  dpuxb6  New flame retardants in electronics and childr...   \n",
       "\n",
       "                                                    url  \\\n",
       "0     http://www.nejm.org/doi/full/10.1056/NEJMc1712773   \n",
       "1     http://journals.plos.org/plosmedicine/article?...   \n",
       "2          https://www.ncbi.nlm.nih.gov/pubmed/29400625   \n",
       "3     http://journals.plos.org/plosone/article?id=10...   \n",
       "4     http://www.nejm.org/doi/full/10.1056/NEJMc1712773   \n",
       "...                                                 ...   \n",
       "5753  https://journals.plos.org/plosone/article?id=1...   \n",
       "5754  https://journals.plos.org/plosone/article?id=1...   \n",
       "5755      https://pubs.acs.org/doi/10.1021/jacs.9b08240   \n",
       "5756  https://onlinelibrary.wiley.com/doi/epdf/10.10...   \n",
       "5757  https://pubs.acs.org/doi/abs/10.1021/acs.estle...   \n",
       "\n",
       "                            identifier  \\\n",
       "0             DOI:10.1056/NEJMc1712773   \n",
       "1     DOI:10.1371/journal.pmed.1002507   \n",
       "2                        PMID:29400625   \n",
       "3     DOI:10.1371/journal.pone.0192210   \n",
       "4             DOI:10.1056/NEJMc1712773   \n",
       "...                                ...   \n",
       "5753  DOI:10.1371/journal.pone.0222837   \n",
       "5754  DOI:10.1371/journal.pone.0223736   \n",
       "5755          DOI:10.1021/jacs.9b08240   \n",
       "5756             DOI:10.1002/jcpy.1140   \n",
       "5757   DOI:10.1021/acs.estlett.9b00582   \n",
       "\n",
       "                                      sem_scholar_title  \\\n",
       "0     Reduction in Firearm Injuries during NRA Annua...   \n",
       "1     Diet during pregnancy and infancy and risk of ...   \n",
       "2     Undisclosed conflicts of interest among biomed...   \n",
       "3     An integrative description of Macrobiotus shon...   \n",
       "4     Reduction in Firearm Injuries during NRA Annua...   \n",
       "...                                                 ...   \n",
       "5753  Declared impact of the US President’s statemen...   \n",
       "5754  When calculators lie: A demonstration of uncri...   \n",
       "5755  Homogenous Synthesis of Monodisperse High Olig...   \n",
       "5756  Presentation Matters: The Effect of Wrapping N...   \n",
       "5757  Organophosphate Ester Flame Retardants: Are Th...   \n",
       "\n",
       "                                   sem_scholar_abstract  fc_score  \n",
       "0     Decline in Firearm Injuries during NRA Convent...         4  \n",
       "1     Background There is uncertainty about the infl...         5  \n",
       "2     ABSTRACT Background: Textbooks are a formative...         5  \n",
       "3     Tardigrade research in Japan dates back over 1...         2  \n",
       "4     Decline in Firearm Injuries during NRA Convent...         4  \n",
       "...                                                 ...       ...  \n",
       "5753  Statements about building walls, deportation a...         5  \n",
       "5754  Calculators are often unnecessary to solve rou...         4  \n",
       "5755  Whereas monodisperse polymers are ubiquitous i...         4  \n",
       "5756  While gift-givers typically wrap gifts prior t...         2  \n",
       "5757  As the use of polybrominated diphenyl ethers (...         2  \n",
       "\n",
       "[5758 rows x 7 columns]"
      ],
      "text/html": [
       "<div>\n",
       "<style scoped>\n",
       "    .dataframe tbody tr th:only-of-type {\n",
       "        vertical-align: middle;\n",
       "    }\n",
       "\n",
       "    .dataframe tbody tr th {\n",
       "        vertical-align: top;\n",
       "    }\n",
       "\n",
       "    .dataframe thead th {\n",
       "        text-align: right;\n",
       "    }\n",
       "</style>\n",
       "<table border=\"1\" class=\"dataframe\">\n",
       "  <thead>\n",
       "    <tr style=\"text-align: right;\">\n",
       "      <th></th>\n",
       "      <th>id</th>\n",
       "      <th>title</th>\n",
       "      <th>url</th>\n",
       "      <th>identifier</th>\n",
       "      <th>sem_scholar_title</th>\n",
       "      <th>sem_scholar_abstract</th>\n",
       "      <th>fc_score</th>\n",
       "    </tr>\n",
       "  </thead>\n",
       "  <tbody>\n",
       "    <tr>\n",
       "      <th>0</th>\n",
       "      <td>811az5</td>\n",
       "      <td>Firearm Injuries Drop 20 Percent When Gun Owne...</td>\n",
       "      <td>http://www.nejm.org/doi/full/10.1056/NEJMc1712773</td>\n",
       "      <td>DOI:10.1056/NEJMc1712773</td>\n",
       "      <td>Reduction in Firearm Injuries during NRA Annua...</td>\n",
       "      <td>Decline in Firearm Injuries during NRA Convent...</td>\n",
       "      <td>4</td>\n",
       "    </tr>\n",
       "    <tr>\n",
       "      <th>1</th>\n",
       "      <td>814dwi</td>\n",
       "      <td>Supplementation with probiotics during late pr...</td>\n",
       "      <td>http://journals.plos.org/plosmedicine/article?...</td>\n",
       "      <td>DOI:10.1371/journal.pmed.1002507</td>\n",
       "      <td>Diet during pregnancy and infancy and risk of ...</td>\n",
       "      <td>Background There is uncertainty about the infl...</td>\n",
       "      <td>5</td>\n",
       "    </tr>\n",
       "    <tr>\n",
       "      <th>2</th>\n",
       "      <td>815lr6</td>\n",
       "      <td>Undisclosed Conflicts of Interests among Biome...</td>\n",
       "      <td>https://www.ncbi.nlm.nih.gov/pubmed/29400625</td>\n",
       "      <td>PMID:29400625</td>\n",
       "      <td>Undisclosed conflicts of interest among biomed...</td>\n",
       "      <td>ABSTRACT Background: Textbooks are a formative...</td>\n",
       "      <td>5</td>\n",
       "    </tr>\n",
       "    <tr>\n",
       "      <th>3</th>\n",
       "      <td>817tfx</td>\n",
       "      <td>One more species of Tardigrade (famed for thei...</td>\n",
       "      <td>http://journals.plos.org/plosone/article?id=10...</td>\n",
       "      <td>DOI:10.1371/journal.pone.0192210</td>\n",
       "      <td>An integrative description of Macrobiotus shon...</td>\n",
       "      <td>Tardigrade research in Japan dates back over 1...</td>\n",
       "      <td>2</td>\n",
       "    </tr>\n",
       "    <tr>\n",
       "      <th>4</th>\n",
       "      <td>8183ly</td>\n",
       "      <td>There's a20% reduction in gun injuries during ...</td>\n",
       "      <td>http://www.nejm.org/doi/full/10.1056/NEJMc1712773</td>\n",
       "      <td>DOI:10.1056/NEJMc1712773</td>\n",
       "      <td>Reduction in Firearm Injuries during NRA Annua...</td>\n",
       "      <td>Decline in Firearm Injuries during NRA Convent...</td>\n",
       "      <td>4</td>\n",
       "    </tr>\n",
       "    <tr>\n",
       "      <th>...</th>\n",
       "      <td>...</td>\n",
       "      <td>...</td>\n",
       "      <td>...</td>\n",
       "      <td>...</td>\n",
       "      <td>...</td>\n",
       "      <td>...</td>\n",
       "      <td>...</td>\n",
       "    </tr>\n",
       "    <tr>\n",
       "      <th>5753</th>\n",
       "      <td>dpnj23</td>\n",
       "      <td>Statements about building walls, deportation a...</td>\n",
       "      <td>https://journals.plos.org/plosone/article?id=1...</td>\n",
       "      <td>DOI:10.1371/journal.pone.0222837</td>\n",
       "      <td>Declared impact of the US President’s statemen...</td>\n",
       "      <td>Statements about building walls, deportation a...</td>\n",
       "      <td>5</td>\n",
       "    </tr>\n",
       "    <tr>\n",
       "      <th>5754</th>\n",
       "      <td>dpnu7e</td>\n",
       "      <td>Many college students will uncritically accept...</td>\n",
       "      <td>https://journals.plos.org/plosone/article?id=1...</td>\n",
       "      <td>DOI:10.1371/journal.pone.0223736</td>\n",
       "      <td>When calculators lie: A demonstration of uncri...</td>\n",
       "      <td>Calculators are often unnecessary to solve rou...</td>\n",
       "      <td>4</td>\n",
       "    </tr>\n",
       "    <tr>\n",
       "      <th>5755</th>\n",
       "      <td>dpqhem</td>\n",
       "      <td>New method for making polymers with perfectly ...</td>\n",
       "      <td>https://pubs.acs.org/doi/10.1021/jacs.9b08240</td>\n",
       "      <td>DOI:10.1021/jacs.9b08240</td>\n",
       "      <td>Homogenous Synthesis of Monodisperse High Olig...</td>\n",
       "      <td>Whereas monodisperse polymers are ubiquitous i...</td>\n",
       "      <td>4</td>\n",
       "    </tr>\n",
       "    <tr>\n",
       "      <th>5756</th>\n",
       "      <td>dptk4o</td>\n",
       "      <td>Research Shows That Doing a Bad Job Wrapping P...</td>\n",
       "      <td>https://onlinelibrary.wiley.com/doi/epdf/10.10...</td>\n",
       "      <td>DOI:10.1002/jcpy.1140</td>\n",
       "      <td>Presentation Matters: The Effect of Wrapping N...</td>\n",
       "      <td>While gift-givers typically wrap gifts prior t...</td>\n",
       "      <td>2</td>\n",
       "    </tr>\n",
       "    <tr>\n",
       "      <th>5757</th>\n",
       "      <td>dpuxb6</td>\n",
       "      <td>New flame retardants in electronics and childr...</td>\n",
       "      <td>https://pubs.acs.org/doi/abs/10.1021/acs.estle...</td>\n",
       "      <td>DOI:10.1021/acs.estlett.9b00582</td>\n",
       "      <td>Organophosphate Ester Flame Retardants: Are Th...</td>\n",
       "      <td>As the use of polybrominated diphenyl ethers (...</td>\n",
       "      <td>2</td>\n",
       "    </tr>\n",
       "  </tbody>\n",
       "</table>\n",
       "<p>5758 rows × 7 columns</p>\n",
       "</div>"
      ]
     },
     "execution_count": 93,
     "metadata": {},
     "output_type": "execute_result"
    }
   ],
   "execution_count": 93
  },
  {
   "metadata": {
    "ExecuteTime": {
     "end_time": "2024-11-26T18:12:57.376263Z",
     "start_time": "2024-11-26T18:12:57.261803Z"
    }
   },
   "cell_type": "code",
   "source": "df_out.to_csv(f\"{file_name}_fc_scores.csv\", index=False)",
   "id": "5b5c6930428d078c",
   "outputs": [],
   "execution_count": 94
  },
  {
   "metadata": {},
   "cell_type": "code",
   "outputs": [],
   "execution_count": null,
   "source": "",
   "id": "3998914da9e029b8"
  }
 ],
 "metadata": {
  "kernelspec": {
   "display_name": "Python 3",
   "language": "python",
   "name": "python3"
  },
  "language_info": {
   "codemirror_mode": {
    "name": "ipython",
    "version": 2
   },
   "file_extension": ".py",
   "mimetype": "text/x-python",
   "name": "python",
   "nbconvert_exporter": "python",
   "pygments_lexer": "ipython2",
   "version": "2.7.6"
  }
 },
 "nbformat": 4,
 "nbformat_minor": 5
}
