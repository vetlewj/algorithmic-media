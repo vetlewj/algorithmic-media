{
 "cells": [
  {
   "metadata": {},
   "cell_type": "markdown",
   "source": " # Notebook to get abstracts from Semantic Scholar using DOIs, PMIDs, or PMCIDs ",
   "id": "8bf2bd89a8de8175"
  },
  {
   "cell_type": "code",
   "id": "initial_id",
   "metadata": {
    "collapsed": true,
    "ExecuteTime": {
     "end_time": "2024-11-21T20:57:03.540509Z",
     "start_time": "2024-11-21T20:57:03.537949Z"
    }
   },
   "source": "import pandas as pd",
   "outputs": [],
   "execution_count": 14
  },
  {
   "metadata": {
    "ExecuteTime": {
     "end_time": "2024-11-21T20:57:03.647923Z",
     "start_time": "2024-11-21T20:57:03.568823Z"
    }
   },
   "cell_type": "code",
   "source": [
    "inp_df = pd.read_csv('data/filtered_data_with_identifiers.csv')\n",
    "print(inp_df.shape)\n",
    "inp_df.head()"
   ],
   "id": "eb96d3e29e8e983f",
   "outputs": [
    {
     "name": "stdout",
     "output_type": "stream",
     "text": [
      "(8299, 23)\n"
     ]
    },
    {
     "data": {
      "text/plain": [
       "   Unnamed: 0  year  month                                              title  \\\n",
       "0           5  2018      3  Firearm Injuries Drop 20 Percent When Gun Owne...   \n",
       "1          19  2018      3  Supplementation with probiotics during late pr...   \n",
       "2          25  2018      3  Study finds that bee venom could be a useful p...   \n",
       "3          31  2018      3  The interplay of gene flow, population size va...   \n",
       "4          33  2018      3  Undisclosed Conflicts of Interests among Biome...   \n",
       "\n",
       "  link_flair_text                   domain  score  num_comments  \\\n",
       "0         Biology                 nejm.org     84            22   \n",
       "1          Health        journals.plos.org      8             1   \n",
       "2        Medicine         ncbi.nlm.nih.gov     27             9   \n",
       "3         Biology  onlinelibrary.wiley.com      6             0   \n",
       "4  Social Science         ncbi.nlm.nih.gov    263            21   \n",
       "\n",
       "   sensationalism_score  jargon_proportion  ... is_top_domain_scientific  \\\n",
       "0              0.530595           0.000000  ...                    False   \n",
       "1              0.482136           0.314286  ...                     True   \n",
       "2              0.507827           0.333333  ...                    False   \n",
       "3              0.433548           0.352941  ...                     True   \n",
       "4              0.511708           0.086957  ...                    False   \n",
       "\n",
       "  is_top_domain_news  is_top_domain_repo  is_top_domain_scam  \\\n",
       "0              False                True               False   \n",
       "1              False               False               False   \n",
       "2              False                True               False   \n",
       "3              False               False               False   \n",
       "4              False                True               False   \n",
       "\n",
       "   is_top_domain_unknown  is_top_domain_indecisive  is_top_domain_less_than_2  \\\n",
       "0                  False                     False                      False   \n",
       "1                  False                     False                      False   \n",
       "2                  False                     False                      False   \n",
       "3                  False                     False                      False   \n",
       "4                  False                     False                      False   \n",
       "\n",
       "   label_voting_lm  label_voting_manual                        identifier  \n",
       "0             repo                 repo          DOI:10.1056/NEJMc1712773  \n",
       "1       scientific           scientific  DOI:10.1371/journal.pmed.1002507  \n",
       "2             repo                 repo                  PMCID:PMC5793096  \n",
       "3       scientific           scientific    DOI:10.1111/evo.13435/abstract  \n",
       "4             repo                 repo                     PMID:29400625  \n",
       "\n",
       "[5 rows x 23 columns]"
      ],
      "text/html": [
       "<div>\n",
       "<style scoped>\n",
       "    .dataframe tbody tr th:only-of-type {\n",
       "        vertical-align: middle;\n",
       "    }\n",
       "\n",
       "    .dataframe tbody tr th {\n",
       "        vertical-align: top;\n",
       "    }\n",
       "\n",
       "    .dataframe thead th {\n",
       "        text-align: right;\n",
       "    }\n",
       "</style>\n",
       "<table border=\"1\" class=\"dataframe\">\n",
       "  <thead>\n",
       "    <tr style=\"text-align: right;\">\n",
       "      <th></th>\n",
       "      <th>Unnamed: 0</th>\n",
       "      <th>year</th>\n",
       "      <th>month</th>\n",
       "      <th>title</th>\n",
       "      <th>link_flair_text</th>\n",
       "      <th>domain</th>\n",
       "      <th>score</th>\n",
       "      <th>num_comments</th>\n",
       "      <th>sensationalism_score</th>\n",
       "      <th>jargon_proportion</th>\n",
       "      <th>...</th>\n",
       "      <th>is_top_domain_scientific</th>\n",
       "      <th>is_top_domain_news</th>\n",
       "      <th>is_top_domain_repo</th>\n",
       "      <th>is_top_domain_scam</th>\n",
       "      <th>is_top_domain_unknown</th>\n",
       "      <th>is_top_domain_indecisive</th>\n",
       "      <th>is_top_domain_less_than_2</th>\n",
       "      <th>label_voting_lm</th>\n",
       "      <th>label_voting_manual</th>\n",
       "      <th>identifier</th>\n",
       "    </tr>\n",
       "  </thead>\n",
       "  <tbody>\n",
       "    <tr>\n",
       "      <th>0</th>\n",
       "      <td>5</td>\n",
       "      <td>2018</td>\n",
       "      <td>3</td>\n",
       "      <td>Firearm Injuries Drop 20 Percent When Gun Owne...</td>\n",
       "      <td>Biology</td>\n",
       "      <td>nejm.org</td>\n",
       "      <td>84</td>\n",
       "      <td>22</td>\n",
       "      <td>0.530595</td>\n",
       "      <td>0.000000</td>\n",
       "      <td>...</td>\n",
       "      <td>False</td>\n",
       "      <td>False</td>\n",
       "      <td>True</td>\n",
       "      <td>False</td>\n",
       "      <td>False</td>\n",
       "      <td>False</td>\n",
       "      <td>False</td>\n",
       "      <td>repo</td>\n",
       "      <td>repo</td>\n",
       "      <td>DOI:10.1056/NEJMc1712773</td>\n",
       "    </tr>\n",
       "    <tr>\n",
       "      <th>1</th>\n",
       "      <td>19</td>\n",
       "      <td>2018</td>\n",
       "      <td>3</td>\n",
       "      <td>Supplementation with probiotics during late pr...</td>\n",
       "      <td>Health</td>\n",
       "      <td>journals.plos.org</td>\n",
       "      <td>8</td>\n",
       "      <td>1</td>\n",
       "      <td>0.482136</td>\n",
       "      <td>0.314286</td>\n",
       "      <td>...</td>\n",
       "      <td>True</td>\n",
       "      <td>False</td>\n",
       "      <td>False</td>\n",
       "      <td>False</td>\n",
       "      <td>False</td>\n",
       "      <td>False</td>\n",
       "      <td>False</td>\n",
       "      <td>scientific</td>\n",
       "      <td>scientific</td>\n",
       "      <td>DOI:10.1371/journal.pmed.1002507</td>\n",
       "    </tr>\n",
       "    <tr>\n",
       "      <th>2</th>\n",
       "      <td>25</td>\n",
       "      <td>2018</td>\n",
       "      <td>3</td>\n",
       "      <td>Study finds that bee venom could be a useful p...</td>\n",
       "      <td>Medicine</td>\n",
       "      <td>ncbi.nlm.nih.gov</td>\n",
       "      <td>27</td>\n",
       "      <td>9</td>\n",
       "      <td>0.507827</td>\n",
       "      <td>0.333333</td>\n",
       "      <td>...</td>\n",
       "      <td>False</td>\n",
       "      <td>False</td>\n",
       "      <td>True</td>\n",
       "      <td>False</td>\n",
       "      <td>False</td>\n",
       "      <td>False</td>\n",
       "      <td>False</td>\n",
       "      <td>repo</td>\n",
       "      <td>repo</td>\n",
       "      <td>PMCID:PMC5793096</td>\n",
       "    </tr>\n",
       "    <tr>\n",
       "      <th>3</th>\n",
       "      <td>31</td>\n",
       "      <td>2018</td>\n",
       "      <td>3</td>\n",
       "      <td>The interplay of gene flow, population size va...</td>\n",
       "      <td>Biology</td>\n",
       "      <td>onlinelibrary.wiley.com</td>\n",
       "      <td>6</td>\n",
       "      <td>0</td>\n",
       "      <td>0.433548</td>\n",
       "      <td>0.352941</td>\n",
       "      <td>...</td>\n",
       "      <td>True</td>\n",
       "      <td>False</td>\n",
       "      <td>False</td>\n",
       "      <td>False</td>\n",
       "      <td>False</td>\n",
       "      <td>False</td>\n",
       "      <td>False</td>\n",
       "      <td>scientific</td>\n",
       "      <td>scientific</td>\n",
       "      <td>DOI:10.1111/evo.13435/abstract</td>\n",
       "    </tr>\n",
       "    <tr>\n",
       "      <th>4</th>\n",
       "      <td>33</td>\n",
       "      <td>2018</td>\n",
       "      <td>3</td>\n",
       "      <td>Undisclosed Conflicts of Interests among Biome...</td>\n",
       "      <td>Social Science</td>\n",
       "      <td>ncbi.nlm.nih.gov</td>\n",
       "      <td>263</td>\n",
       "      <td>21</td>\n",
       "      <td>0.511708</td>\n",
       "      <td>0.086957</td>\n",
       "      <td>...</td>\n",
       "      <td>False</td>\n",
       "      <td>False</td>\n",
       "      <td>True</td>\n",
       "      <td>False</td>\n",
       "      <td>False</td>\n",
       "      <td>False</td>\n",
       "      <td>False</td>\n",
       "      <td>repo</td>\n",
       "      <td>repo</td>\n",
       "      <td>PMID:29400625</td>\n",
       "    </tr>\n",
       "  </tbody>\n",
       "</table>\n",
       "<p>5 rows × 23 columns</p>\n",
       "</div>"
      ]
     },
     "execution_count": 15,
     "metadata": {},
     "output_type": "execute_result"
    }
   ],
   "execution_count": 15
  },
  {
   "metadata": {
    "ExecuteTime": {
     "end_time": "2024-11-21T20:57:03.697744Z",
     "start_time": "2024-11-21T20:57:03.694857Z"
    }
   },
   "cell_type": "code",
   "source": [
    "# Using semantic scholar bulk API to get abstracts\n",
    "import requests\n",
    "import time\n",
    "import os"
   ],
   "id": "7a8cdefacfb67e76",
   "outputs": [],
   "execution_count": 16
  },
  {
   "metadata": {
    "ExecuteTime": {
     "end_time": "2024-11-21T20:57:03.746758Z",
     "start_time": "2024-11-21T20:57:03.744173Z"
    }
   },
   "cell_type": "code",
   "source": [
    "# TODO: Get the API key from the environment variable\n",
    "SEM_SCHOLAR_API_KEY = os.getenv('SEM_SCHOLAR_API_KEY')"
   ],
   "id": "154aebfcae2ab811",
   "outputs": [],
   "execution_count": 17
  },
  {
   "metadata": {
    "ExecuteTime": {
     "end_time": "2024-11-21T20:57:05.199935Z",
     "start_time": "2024-11-21T20:57:03.801129Z"
    }
   },
   "cell_type": "code",
   "source": [
    "# API endpoint: https://api.semanticscholar.org/graph/v1/paper/batch\n",
    "headers = {\n",
    "    'x-api-key': SEM_SCHOLAR_API_KEY\n",
    "}\n",
    "\n",
    "def fetch_paper_details(ids):\n",
    "    url = 'https://api.semanticscholar.org/graph/v1/paper/batch'\n",
    "    params = {\n",
    "        'fields': 'title,abstract'\n",
    "    }\n",
    "    response = requests.post(url, headers=headers, json={'ids': ids}, params=params)\n",
    "    if response.status_code == 200:\n",
    "        return response.json()\n",
    "    else:\n",
    "        print(f\"Error: {response.status_code} for IDs: {ids}\")\n",
    "        return []\n",
    "\n",
    "\n",
    "batch_size = 100\n",
    "results = []\n",
    "# for i in range(0, len(inp_df), batch_size):\n",
    "for i in range(0, 2, batch_size): # for testing purposes\n",
    "    batch_ids = inp_df['identifier'].iloc[i:i + batch_size].tolist()\n",
    "    data = fetch_paper_details(batch_ids)\n",
    "    results.extend(data)\n",
    "    time.sleep(1)  # Max 1 request per second\n"
   ],
   "id": "e9aabfc329640e2d",
   "outputs": [],
   "execution_count": 18
  },
  {
   "metadata": {
    "ExecuteTime": {
     "end_time": "2024-11-21T20:57:05.220389Z",
     "start_time": "2024-11-21T20:57:05.217518Z"
    }
   },
   "cell_type": "code",
   "source": "print(len(results))",
   "id": "5aae9fd317622094",
   "outputs": [
    {
     "name": "stdout",
     "output_type": "stream",
     "text": [
      "100\n"
     ]
    }
   ],
   "execution_count": 19
  },
  {
   "metadata": {
    "ExecuteTime": {
     "end_time": "2024-11-21T20:57:05.300363Z",
     "start_time": "2024-11-21T20:57:05.296885Z"
    }
   },
   "cell_type": "code",
   "source": "results[0]",
   "id": "63bff2950ac5158e",
   "outputs": [
    {
     "data": {
      "text/plain": [
       "{'paperId': 'b7658773f34dc8247f9f768be58257d9014c7dd1',\n",
       " 'title': 'Reduction in Firearm Injuries during NRA Annual Conventions.',\n",
       " 'abstract': 'Decline in Firearm Injuries during NRA Conventions Analyses of a large national database show reductions in firearm injuries during annual conventions of the National Rifle Association, which are attended by thousands of firearm owners.'}"
      ]
     },
     "execution_count": 20,
     "metadata": {},
     "output_type": "execute_result"
    }
   ],
   "execution_count": 20
  },
  {
   "metadata": {
    "ExecuteTime": {
     "end_time": "2024-11-21T20:57:06.046137Z",
     "start_time": "2024-11-21T20:57:05.337423Z"
    }
   },
   "cell_type": "code",
   "source": "abstract_df = pd.DataFrame(results)",
   "id": "32be98db58214659",
   "outputs": [
    {
     "ename": "AttributeError",
     "evalue": "'NoneType' object has no attribute 'keys'",
     "output_type": "error",
     "traceback": [
      "\u001B[0;31m---------------------------------------------------------------------------\u001B[0m",
      "\u001B[0;31mAttributeError\u001B[0m                            Traceback (most recent call last)",
      "Cell \u001B[0;32mIn[21], line 1\u001B[0m\n\u001B[0;32m----> 1\u001B[0m abstract_df \u001B[38;5;241m=\u001B[39m \u001B[43mpd\u001B[49m\u001B[38;5;241;43m.\u001B[39;49m\u001B[43mDataFrame\u001B[49m\u001B[43m(\u001B[49m\u001B[43mresults\u001B[49m\u001B[43m)\u001B[49m\n",
      "File \u001B[0;32m~/Documents/2024_h/cs294/project/jargon-metric/venv/lib/python3.12/site-packages/pandas/core/frame.py:806\u001B[0m, in \u001B[0;36mDataFrame.__init__\u001B[0;34m(self, data, index, columns, dtype, copy)\u001B[0m\n\u001B[1;32m    804\u001B[0m     \u001B[38;5;28;01mif\u001B[39;00m columns \u001B[38;5;129;01mis\u001B[39;00m \u001B[38;5;129;01mnot\u001B[39;00m \u001B[38;5;28;01mNone\u001B[39;00m:\n\u001B[1;32m    805\u001B[0m         columns \u001B[38;5;241m=\u001B[39m ensure_index(columns)\n\u001B[0;32m--> 806\u001B[0m     arrays, columns, index \u001B[38;5;241m=\u001B[39m \u001B[43mnested_data_to_arrays\u001B[49m\u001B[43m(\u001B[49m\n\u001B[1;32m    807\u001B[0m \u001B[43m        \u001B[49m\u001B[38;5;66;43;03m# error: Argument 3 to \"nested_data_to_arrays\" has incompatible\u001B[39;49;00m\n\u001B[1;32m    808\u001B[0m \u001B[43m        \u001B[49m\u001B[38;5;66;43;03m# type \"Optional[Collection[Any]]\"; expected \"Optional[Index]\"\u001B[39;49;00m\n\u001B[1;32m    809\u001B[0m \u001B[43m        \u001B[49m\u001B[43mdata\u001B[49m\u001B[43m,\u001B[49m\n\u001B[1;32m    810\u001B[0m \u001B[43m        \u001B[49m\u001B[43mcolumns\u001B[49m\u001B[43m,\u001B[49m\n\u001B[1;32m    811\u001B[0m \u001B[43m        \u001B[49m\u001B[43mindex\u001B[49m\u001B[43m,\u001B[49m\u001B[43m  \u001B[49m\u001B[38;5;66;43;03m# type: ignore[arg-type]\u001B[39;49;00m\n\u001B[1;32m    812\u001B[0m \u001B[43m        \u001B[49m\u001B[43mdtype\u001B[49m\u001B[43m,\u001B[49m\n\u001B[1;32m    813\u001B[0m \u001B[43m    \u001B[49m\u001B[43m)\u001B[49m\n\u001B[1;32m    814\u001B[0m     mgr \u001B[38;5;241m=\u001B[39m arrays_to_mgr(\n\u001B[1;32m    815\u001B[0m         arrays,\n\u001B[1;32m    816\u001B[0m         columns,\n\u001B[0;32m   (...)\u001B[0m\n\u001B[1;32m    819\u001B[0m         typ\u001B[38;5;241m=\u001B[39mmanager,\n\u001B[1;32m    820\u001B[0m     )\n\u001B[1;32m    821\u001B[0m \u001B[38;5;28;01melse\u001B[39;00m:\n",
      "File \u001B[0;32m~/Documents/2024_h/cs294/project/jargon-metric/venv/lib/python3.12/site-packages/pandas/core/internals/construction.py:520\u001B[0m, in \u001B[0;36mnested_data_to_arrays\u001B[0;34m(data, columns, index, dtype)\u001B[0m\n\u001B[1;32m    517\u001B[0m \u001B[38;5;28;01mif\u001B[39;00m is_named_tuple(data[\u001B[38;5;241m0\u001B[39m]) \u001B[38;5;129;01mand\u001B[39;00m columns \u001B[38;5;129;01mis\u001B[39;00m \u001B[38;5;28;01mNone\u001B[39;00m:\n\u001B[1;32m    518\u001B[0m     columns \u001B[38;5;241m=\u001B[39m ensure_index(data[\u001B[38;5;241m0\u001B[39m]\u001B[38;5;241m.\u001B[39m_fields)\n\u001B[0;32m--> 520\u001B[0m arrays, columns \u001B[38;5;241m=\u001B[39m \u001B[43mto_arrays\u001B[49m\u001B[43m(\u001B[49m\u001B[43mdata\u001B[49m\u001B[43m,\u001B[49m\u001B[43m \u001B[49m\u001B[43mcolumns\u001B[49m\u001B[43m,\u001B[49m\u001B[43m \u001B[49m\u001B[43mdtype\u001B[49m\u001B[38;5;241;43m=\u001B[39;49m\u001B[43mdtype\u001B[49m\u001B[43m)\u001B[49m\n\u001B[1;32m    521\u001B[0m columns \u001B[38;5;241m=\u001B[39m ensure_index(columns)\n\u001B[1;32m    523\u001B[0m \u001B[38;5;28;01mif\u001B[39;00m index \u001B[38;5;129;01mis\u001B[39;00m \u001B[38;5;28;01mNone\u001B[39;00m:\n",
      "File \u001B[0;32m~/Documents/2024_h/cs294/project/jargon-metric/venv/lib/python3.12/site-packages/pandas/core/internals/construction.py:837\u001B[0m, in \u001B[0;36mto_arrays\u001B[0;34m(data, columns, dtype)\u001B[0m\n\u001B[1;32m    835\u001B[0m     arr \u001B[38;5;241m=\u001B[39m _list_to_arrays(data)\n\u001B[1;32m    836\u001B[0m \u001B[38;5;28;01melif\u001B[39;00m \u001B[38;5;28misinstance\u001B[39m(data[\u001B[38;5;241m0\u001B[39m], abc\u001B[38;5;241m.\u001B[39mMapping):\n\u001B[0;32m--> 837\u001B[0m     arr, columns \u001B[38;5;241m=\u001B[39m \u001B[43m_list_of_dict_to_arrays\u001B[49m\u001B[43m(\u001B[49m\u001B[43mdata\u001B[49m\u001B[43m,\u001B[49m\u001B[43m \u001B[49m\u001B[43mcolumns\u001B[49m\u001B[43m)\u001B[49m\n\u001B[1;32m    838\u001B[0m \u001B[38;5;28;01melif\u001B[39;00m \u001B[38;5;28misinstance\u001B[39m(data[\u001B[38;5;241m0\u001B[39m], ABCSeries):\n\u001B[1;32m    839\u001B[0m     arr, columns \u001B[38;5;241m=\u001B[39m _list_of_series_to_arrays(data, columns)\n",
      "File \u001B[0;32m~/Documents/2024_h/cs294/project/jargon-metric/venv/lib/python3.12/site-packages/pandas/core/internals/construction.py:917\u001B[0m, in \u001B[0;36m_list_of_dict_to_arrays\u001B[0;34m(data, columns)\u001B[0m\n\u001B[1;32m    915\u001B[0m     gen \u001B[38;5;241m=\u001B[39m (\u001B[38;5;28mlist\u001B[39m(x\u001B[38;5;241m.\u001B[39mkeys()) \u001B[38;5;28;01mfor\u001B[39;00m x \u001B[38;5;129;01min\u001B[39;00m data)\n\u001B[1;32m    916\u001B[0m     sort \u001B[38;5;241m=\u001B[39m \u001B[38;5;129;01mnot\u001B[39;00m \u001B[38;5;28many\u001B[39m(\u001B[38;5;28misinstance\u001B[39m(d, \u001B[38;5;28mdict\u001B[39m) \u001B[38;5;28;01mfor\u001B[39;00m d \u001B[38;5;129;01min\u001B[39;00m data)\n\u001B[0;32m--> 917\u001B[0m     pre_cols \u001B[38;5;241m=\u001B[39m \u001B[43mlib\u001B[49m\u001B[38;5;241;43m.\u001B[39;49m\u001B[43mfast_unique_multiple_list_gen\u001B[49m\u001B[43m(\u001B[49m\u001B[43mgen\u001B[49m\u001B[43m,\u001B[49m\u001B[43m \u001B[49m\u001B[43msort\u001B[49m\u001B[38;5;241;43m=\u001B[39;49m\u001B[43msort\u001B[49m\u001B[43m)\u001B[49m\n\u001B[1;32m    918\u001B[0m     columns \u001B[38;5;241m=\u001B[39m ensure_index(pre_cols)\n\u001B[1;32m    920\u001B[0m \u001B[38;5;66;03m# assure that they are of the base dict class and not of derived\u001B[39;00m\n\u001B[1;32m    921\u001B[0m \u001B[38;5;66;03m# classes\u001B[39;00m\n",
      "File \u001B[0;32mlib.pyx:393\u001B[0m, in \u001B[0;36mpandas._libs.lib.fast_unique_multiple_list_gen\u001B[0;34m()\u001B[0m\n",
      "File \u001B[0;32m~/Documents/2024_h/cs294/project/jargon-metric/venv/lib/python3.12/site-packages/pandas/core/internals/construction.py:915\u001B[0m, in \u001B[0;36m<genexpr>\u001B[0;34m(.0)\u001B[0m\n\u001B[1;32m    895\u001B[0m \u001B[38;5;250m\u001B[39m\u001B[38;5;124;03m\"\"\"\u001B[39;00m\n\u001B[1;32m    896\u001B[0m \u001B[38;5;124;03mConvert list of dicts to numpy arrays\u001B[39;00m\n\u001B[1;32m    897\u001B[0m \n\u001B[0;32m   (...)\u001B[0m\n\u001B[1;32m    912\u001B[0m \u001B[38;5;124;03mcolumns : Index\u001B[39;00m\n\u001B[1;32m    913\u001B[0m \u001B[38;5;124;03m\"\"\"\u001B[39;00m\n\u001B[1;32m    914\u001B[0m \u001B[38;5;28;01mif\u001B[39;00m columns \u001B[38;5;129;01mis\u001B[39;00m \u001B[38;5;28;01mNone\u001B[39;00m:\n\u001B[0;32m--> 915\u001B[0m     gen \u001B[38;5;241m=\u001B[39m (\u001B[38;5;28mlist\u001B[39m(\u001B[43mx\u001B[49m\u001B[38;5;241;43m.\u001B[39;49m\u001B[43mkeys\u001B[49m()) \u001B[38;5;28;01mfor\u001B[39;00m x \u001B[38;5;129;01min\u001B[39;00m data)\n\u001B[1;32m    916\u001B[0m     sort \u001B[38;5;241m=\u001B[39m \u001B[38;5;129;01mnot\u001B[39;00m \u001B[38;5;28many\u001B[39m(\u001B[38;5;28misinstance\u001B[39m(d, \u001B[38;5;28mdict\u001B[39m) \u001B[38;5;28;01mfor\u001B[39;00m d \u001B[38;5;129;01min\u001B[39;00m data)\n\u001B[1;32m    917\u001B[0m     pre_cols \u001B[38;5;241m=\u001B[39m lib\u001B[38;5;241m.\u001B[39mfast_unique_multiple_list_gen(gen, sort\u001B[38;5;241m=\u001B[39msort)\n",
      "\u001B[0;31mAttributeError\u001B[0m: 'NoneType' object has no attribute 'keys'"
     ]
    }
   ],
   "execution_count": 21
  },
  {
   "metadata": {},
   "cell_type": "code",
   "outputs": [],
   "execution_count": null,
   "source": "",
   "id": "206b3df76e704911"
  }
 ],
 "metadata": {
  "kernelspec": {
   "display_name": "Python 3",
   "language": "python",
   "name": "python3"
  },
  "language_info": {
   "codemirror_mode": {
    "name": "ipython",
    "version": 2
   },
   "file_extension": ".py",
   "mimetype": "text/x-python",
   "name": "python",
   "nbconvert_exporter": "python",
   "pygments_lexer": "ipython2",
   "version": "2.7.6"
  }
 },
 "nbformat": 4,
 "nbformat_minor": 5
}
