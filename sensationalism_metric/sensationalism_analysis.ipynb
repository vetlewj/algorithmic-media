{
 "cells": [
  {
   "metadata": {},
   "cell_type": "raw",
   "source": [
    "import pandas as pd\n",
    "import numpy as np\n",
    "import matplotlib.pyplot as plt\n",
    "import seaborn as sns\n",
    "\n",
    "df = pd.read_csv(\"../data/combined_for_analysis_sensationalism_jargon_categories_domain_labels.csv\")\n",
    "df[\"log_score\"] = np.log(df[\"score\"] + 1)\n",
    "df.dropna(inplace=True)\n",
    "df.info()\n",
    "# sns light mode\n",
    "sns.set_theme(style=\"whitegrid\")"
   ],
   "id": "e34d41b8702963de"
  },
  {
   "metadata": {},
   "cell_type": "code",
   "outputs": [],
   "execution_count": null,
   "source": [
    "domain_order_for_hue = [\"repo\", \"scientific\", \"news\", \"social_media\", \"scam\"]\n",
    "selected_categories = [\"Medicine\", \"Engineering\", \"Economics\", \"Social Science\", \"Computer Science\", \"Epidemiology\"]\n",
    "top_categories_order = [\"Life Sciences\", \"Social Sciences\", \"Environmental Sciences\", \"Engineering & Technology\", \"Physical Sciences\"]\n"
   ],
   "id": "30c1bff4e53f0cf3"
  },
  {
   "metadata": {},
   "cell_type": "code",
   "outputs": [],
   "execution_count": null,
   "source": "df['link_flair_text'].value_counts()",
   "id": "6913d24eabe8bc3c"
  },
  {
   "metadata": {},
   "cell_type": "markdown",
   "source": "# Sensationalism over different domains and categories\n",
   "id": "a5f97d4977ca2e77"
  },
  {
   "metadata": {},
   "cell_type": "code",
   "outputs": [],
   "execution_count": null,
   "source": [
    "plt.figure(figsize=(12, 6))\n",
    "\n",
    "sns_plot = sns.barplot(data=df, x = \"year\", y = \"sensationalism_score\", hue=\"label_voting_manual\", hue_order=domain_order_for_hue)\n",
    "plt.title(\"Sens Score over Different Domains over time\")\n",
    "plt.xlabel(\"Year\")\n",
    "plt.ylabel(\"Sensationalism\")\n",
    "plt.legend(title=\"Domain Category\", loc=\"upper right\", handles = sns_plot.get_legend_handles_labels()[0] + [plt.Line2D([], [], color=\"black\", label=\"Confidence Interval (99%)\")])\n",
    "plt.legend(bbox_to_anchor=(1.05, .95), loc='upper left')\n",
    "plt.ylim(0.426, .55)  # Set y-axis limits to show only the relevant range\n",
    "plt.show()"
   ],
   "id": "fada1293016802ed"
  },
  {
   "metadata": {},
   "cell_type": "code",
   "outputs": [],
   "execution_count": null,
   "source": [
    "plt.figure(figsize=(12, 6))\n",
    "sns_plot = sns.barplot(data=df, x=\"top_category\", y=\"sensationalism_score\", hue=\"label_voting_manual\",  hue_order=[\"repo\", \"scientific\", \"news\", \"social_media\", \"scam\"], order=top_categories_order, errorbar=(\"ci\", 99), legend=True, palette='Set2')\n",
    "plt.xticks(rotation=45)\n",
    "handles = sns_plot.get_legend_handles_labels()\n",
    "# add error bars for the 50th percentile to the legend\n",
    "plt.legend(bbox_to_anchor=(1.3, .95), title=\"Domain Category\", loc=\"upper right\", handles = handles[0] + [plt.Line2D([], [], color=\"black\", label=\"Confidence Interval (99%)\")])\n",
    "plt.title(\"Sensationalism Score over Different Categories and Domains\")\n",
    "plt.xlabel(\"Category\")\n",
    "plt.ylabel(\"Sens Score\")\n",
    "plt.ylim((0.44, 0.56))\n",
    "plt.show()\n"
   ],
   "id": "1dd7c8f9009b7e19"
  },
  {
   "metadata": {},
   "cell_type": "code",
   "outputs": [],
   "execution_count": null,
   "source": [
    "plt.figure(figsize=(8, 6))\n",
    "sns_plot = sns.barplot(data=df, y=\"sensationalism_score\", hue=\"label_voting_manual\",  hue_order=[\"repo\", \"scientific\", \"news\", \"social_media\", \"scam\"], errorbar=(\"ci\", 99), legend=False, palette='Set2')\n",
    "plt.xticks(rotation=45)\n",
    "handles = sns_plot.get_legend_handles_labels()\n",
    "# add error bars for the 50th percentile to the legend\n",
    "#plt.legend(title=\"Domain Category\", loc=\"upper right\", handles = handles[0] + [plt.Line2D([], [], color=\"black\", label=\"Confidence Interval (99%)\")])\n",
    "plt.title(\"Sensationalism Score over Different Domains\")\n",
    "plt.xlabel(\"Category\")\n",
    "plt.ylabel(\"Sens Score\")\n",
    "plt.ylim((0.44, 0.56))\n",
    "plt.show()\n"
   ],
   "id": "a95e68216b6657a6"
  },
  {
   "metadata": {},
   "cell_type": "markdown",
   "source": "News generally have more sensationalism than other domains. We also see that social sciences and environmental sciences have more sensationsalism than engieneering & technology and physical sciences",
   "id": "e52078df1dffd9d1"
  },
  {
   "metadata": {},
   "cell_type": "code",
   "outputs": [],
   "execution_count": null,
   "source": [
    "\n",
    "plt.figure(figsize=(12, 6))\n",
    "sns_plot = sns.barplot(data=df[df[\"link_flair_text\"].isin(selected_categories)], x=\"link_flair_text\", y=\"sensationalism_score\", hue=\"label_voting_manual\",  hue_order=domain_order_for_hue, order=selected_categories, legend=True)\n",
    "plt.legend(title=\"Domain Category\", loc=\"upper right\", handles = sns_plot.get_legend_handles_labels()[0] + [plt.Line2D([], [], color=\"black\", label=\"Confidence Interval (99%)\")])\n",
    "plt.xticks(rotation=45)\n",
    "plt.xlabel('Field')\n",
    "plt.ylim((0.44, 0.56))\n",
    "plt.ylabel('Sensationalism Score')\n",
    "plt.show()"
   ],
   "id": "ad7df8e9cbd0a5f9"
  },
  {
   "metadata": {},
   "cell_type": "code",
   "outputs": [],
   "execution_count": null,
   "source": [
    "sns_plot = sns.lineplot(data=df, x=\"year\", y=\"sensationalism_score\", hue=\"link_flair_text\", palette =\"Set2\", hue_order=selected_categories)\n",
    "sns_plot.legend(bbox_to_anchor=(1.05, .95), loc='upper left')\n",
    "plt.axvline(x=2020, color='r', linestyle='--') # COVID year\n",
    "plt.ylabel('Sensationalism Score')\n",
    "plt.xlabel('Year')\n",
    "plt.title('Sensationalism vs. Years in Selected Fields')\n",
    "sns.set_theme(style=\"whitegrid\")\n"
   ],
   "id": "b4dced443e6aac9b"
  },
  {
   "metadata": {},
   "cell_type": "code",
   "outputs": [],
   "execution_count": null,
   "source": [
    "sns_plot = sns.lineplot(data=df, x=\"year\", y=\"sensationalism_score\", hue=\"top_category\", palette =\"Set2\")\n",
    "sns_plot.legend(bbox_to_anchor=(1.05, .95), loc='upper left')\n",
    "plt.axvline(x=2020, color='r', linestyle='--') # COVID year\n",
    "\n"
   ],
   "id": "733e497c4d72b082"
  },
  {
   "metadata": {},
   "cell_type": "markdown",
   "source": "We see a clear dip in 2020 (COVID?) and a slight rise again in 2021 across the board. Especially for epidemology and medicine there is a clear dip in 2020, which makes a lot of sense considering COVID and the need for clear and accurate information that does not spread panic (assuming that sensationalism may cause more panic/stress). ",
   "id": "9e4e7072581127f8"
  },
  {
   "metadata": {},
   "cell_type": "code",
   "outputs": [],
   "execution_count": null,
   "source": [
    "sns_plot = sns.lineplot(data=df, x=\"month\", y=\"sensationalism_score\", hue=\"year\", palette=\"magma\")\n",
    "\n",
    "# place legend outside of box: https://www.statology.org/seaborn-legend-position/\n",
    "sns_plot.legend(bbox_to_anchor=(1.05, .95), loc='upper left')"
   ],
   "id": "b1225209c67b9313"
  },
  {
   "metadata": {},
   "cell_type": "markdown",
   "source": "Too high variance in the data to see a clear trend over the months. Seems to be slightly higher for 2018 and 2019?",
   "id": "64a8954cf33c5991"
  },
  {
   "metadata": {},
   "cell_type": "code",
   "outputs": [],
   "execution_count": null,
   "source": "sns_plot = sns.boxplot(data=df, hue=\"month\", y=\"sensationalism_score\", palette=\"magma\")\n",
   "id": "fabb5106ed05db7d"
  },
  {
   "metadata": {},
   "cell_type": "code",
   "outputs": [],
   "execution_count": null,
   "source": [
    "sns_plot = sns.boxplot(data=df, hue=\"year\", y=\"sensationalism_score\", palette=\"magma\")\n",
    "\n",
    "# place legend outside of box: https://www.statology.org/seaborn-legend-position/\n",
    "sns_plot.legend(bbox_to_anchor=(1.05, .95), loc='upper left')"
   ],
   "id": "a91330a567035e8b"
  },
  {
   "metadata": {},
   "cell_type": "markdown",
   "source": "Too high variance in the data to see a clear trend over the months. Seems to be slightly higher for 2018 and 2019?",
   "id": "cb3f15b3efce3032"
  },
  {
   "metadata": {},
   "cell_type": "code",
   "outputs": [],
   "execution_count": null,
   "source": [
    "yearly_averages = df.groupby(\"year\")[\"sensationalism_score\"].mean()\n",
    "df[\"sens_norm_year\"] = df.apply(\n",
    "    lambda x : x[\"sensationalism_score\"] - yearly_averages[x[\"year\"]],\n",
    "    axis=1\n",
    ")"
   ],
   "id": "678ee35e892170ad"
  },
  {
   "metadata": {},
   "cell_type": "code",
   "outputs": [],
   "execution_count": null,
   "source": "sns_plot = sns.boxplot(data=df, hue=\"month\", y=\"sens_norm_year\", palette=\"magma\")\n",
   "id": "d09445cd6f4299c9"
  },
  {
   "metadata": {},
   "cell_type": "code",
   "outputs": [],
   "execution_count": null,
   "source": [
    "# Plot the distribution of sensationalism scores over the years\n",
    "sns_plot = sns.violinplot(data=df, x=\"year\", y=\"sensationalism_score\", palette=\"bright\", hue=\"year\")\n",
    "sns_plot.legend(bbox_to_anchor=(1.05, .95), loc='upper left', borderaxespad=0.)\n",
    "plt.axhline(df[\"sensationalism_score\"].median(), color='r', linestyle='--')\n"
   ],
   "id": "bd8d72f4279bf9d8"
  },
  {
   "metadata": {},
   "cell_type": "markdown",
   "source": "Sensationalism seems to be consistent over the years, looking how most of the posts are distributed.",
   "id": "3113aa1cfe83d870"
  },
  {
   "metadata": {},
   "cell_type": "markdown",
   "source": "# Sensationalism over different categories.",
   "id": "390beed63ffeda6e"
  },
  {
   "metadata": {},
   "cell_type": "code",
   "outputs": [],
   "execution_count": null,
   "source": [
    "\n",
    "average_sensationalism = df.groupby(\"top_category\")[\"sensationalism_score\"].mean().sort_values(ascending=False)\n",
    "median_sensationalism = df.groupby(\"top_category\")[\"sensationalism_score\"].median().sort_values(ascending=False)\n",
    "median_df = pd.DataFrame({\n",
    "    \"top_category\": median_sensationalism.index,\n",
    "    \"median_sensationalism\": median_sensationalism.values\n",
    "})\n"
   ],
   "id": "3433a882066c9cfe"
  },
  {
   "metadata": {},
   "cell_type": "code",
   "outputs": [],
   "execution_count": null,
   "source": [
    "plt.figure(figsize=(12, 6))\n",
    "sns.boxplot(data=df,\n",
    "                       #x=\"top_category\",\n",
    "                       y=\"sensationalism_score\", \n",
    "                       palette=\"bright\", \n",
    "                       hue=\"top_category\", \n",
    "                       dodge=True, \n",
    "                        showfliers=False)\n",
    "plt.xticks(rotation=45)\n",
    "plt.axhline(df[\"sensationalism_score\"].median(), color='r', linestyle='--')"
   ],
   "id": "43873902d7606f6c"
  },
  {
   "metadata": {},
   "cell_type": "markdown",
   "source": "",
   "id": "6f89d1483b87ba1e"
  },
  {
   "metadata": {},
   "cell_type": "code",
   "outputs": [],
   "execution_count": null,
   "source": [
    "plt.figure(figsize=(12, 6))\n",
    "sns.boxplot(data=df[df[\"score\"] >= 100],\n",
    "                       #x=\"top_category\",\n",
    "                       y=\"sensationalism_score\", \n",
    "                       palette=\"bright\", \n",
    "                       hue=\"top_category\",\n",
    "                       dodge=True, \n",
    "                       showfliers=False)\n",
    "plt.xticks(rotation=45)\n",
    "plt.axhline(df[\"sensationalism_score\"].median(), color='r', linestyle='--')"
   ],
   "id": "7a9a9cc460283493"
  },
  {
   "metadata": {},
   "cell_type": "markdown",
   "source": "",
   "id": "7de79c55bd409ed"
  },
  {
   "metadata": {},
   "cell_type": "code",
   "outputs": [],
   "execution_count": null,
   "source": [
    "df_high_score = df[df[\"score\"] >= 100].copy()\n",
    "df_low_score = df[df[\"score\"] < 100].copy()\n",
    "\n",
    "df_high_score['dataset'] = 'Score >= 100'\n",
    "df_low_score['dataset'] = 'Score < 100'\n",
    "\n",
    "combined_df = pd.concat([df_low_score, df_high_score])\n",
    "\n",
    "plt.figure(figsize=(12, 6))\n",
    "sns.boxplot(data=combined_df, \n",
    "            x=\"top_category\", \n",
    "            y=\"sensationalism_score\", \n",
    "            hue=\"dataset\", \n",
    "            palette=\"rocket\", \n",
    "            dodge=True, \n",
    "            showfliers=False\n",
    "            )\n",
    "plt.xticks(rotation=45)\n",
    "plt.axhline(df[\"sensationalism_score\"].median(), color='r', linestyle='--', label='Median Sensationalism (All)')\n",
    "plt.legend(bbox_to_anchor=(1.05, 1), loc='upper left')\n",
    "plt.title(\"Sensationalism Score by Category: Score under vs over 100\")\n",
    "plt.tight_layout()\n",
    "plt.show()\n"
   ],
   "id": "c3637cf1f312826a"
  },
  {
   "metadata": {},
   "cell_type": "markdown",
   "source": "Sensationalism is consistently higher for higher-scoring posts (defined as posts over 100 upvotes). This is consistent across all categories.",
   "id": "4b2e40e965baff55"
  },
  {
   "metadata": {},
   "cell_type": "code",
   "outputs": [],
   "execution_count": null,
   "source": [
    "plt.figure(figsize=(12, 6))\n",
    "average_jargon = df.groupby(\"link_flair_text\")[\"sensationalism_score\"].mean().sort_values(ascending=False)\n",
    "median_jargon = df.groupby(\"link_flair_text\")[\"sensationalism_score\"].median().sort_values(ascending=False)\n",
    "median_df = pd.DataFrame({\n",
    "    \"link_flair_text\": median_jargon.index,\n",
    "    \"median_sens\": median_jargon.values\n",
    "})\n",
    "\n",
    "plot = sns.boxplot(data=df, x=\"link_flair_text\", y=\"sensationalism_score\",  order=average_jargon.index, palette=\"rocket\")\n",
    "plot.set_xticklabels(plot.get_xticklabels(), rotation=45)\n",
    "plt.title(\"Sensationalism by Reddit Category\")\n",
    "# add legend for error\n",
    "plt.xlabel(\"Category\")\n",
    "plt.ylabel(\"Sensationalism\")\n",
    "# add a dot for the median in this\n",
    "sns.scatterplot(data=median_df, x=\"link_flair_text\", y=\"median_sens\", s=10, hue=\"link_flair_text\", palette=\"rocket_r\", legend=False)"
   ],
   "id": "acb6c9825edb43e9"
  },
  {
   "metadata": {},
   "cell_type": "code",
   "outputs": [],
   "execution_count": null,
   "source": [
    "g = sns.FacetGrid(df, col=\"top_category\", col_wrap=2, height=4, sharey=True)\n",
    "\n",
    "def plot_table(data, color, **kwargs):\n",
    "    average_jargon = data.groupby(\"link_flair_text\")[\"sensationalism_score\"].mean().sort_values(ascending=False)\n",
    "    top_category = data[\"top_category\"].iloc[0]\n",
    "    palette = sns.color_palette(\"Set2\", len(average_jargon))\n",
    "    sns_plot = sns.lineplot(data=data, x=\"year\", y=\"sensationalism_score\", hue=\"link_flair_text\", **kwargs, legend=False, palette=palette,hue_order=average_jargon.index)\n",
    "    sns_plot.legend(title=top_category, loc=\"upper right\", handles = [ plt.Line2D([], [], color=palette[i], label=flair) for (i, flair) in enumerate(average_jargon.index)])\n",
    "    sns_plot.set_title(top_category)\n",
    "    plt.ylabel(\"Sensationalism\")\n",
    "\n",
    "\n",
    "\n",
    "g.map_dataframe(plot_table)\n",
    "unique_top_categories = df[\"top_category\"].unique()\n",
    "# Create a custom legend\n",
    "handles = []\n",
    "for i, cat in enumerate(unique_top_categories):\n",
    "    flairs = df[df[\"top_category\"] == cat][\"link_flair_text\"].unique()\n",
    "    handles.append(plt.Line2D([], [], color=\"white\", label=f\"\\n{cat}\"))\n",
    "    palette = sns.color_palette('Set2', len(flairs))\n",
    "    for i, flair in enumerate(flairs):\n",
    "        handles.append(\n",
    "            plt.Line2D([], [], color=palette[i], label=flair)\n",
    "        )\n",
    "\n",
    "plt.legend(handles=handles, title=\"Reddit Categories (Grouped by Field)\", loc=\"center left\", bbox_to_anchor=(1, 0.5), ncol=2)\n",
    "plt.subplots_adjust(right=0.85)"
   ],
   "id": "192c16bc9cba3454"
  },
  {
   "metadata": {},
   "cell_type": "markdown",
   "source": "# Sensationalisms correlation with score",
   "id": "f4e8fbd0c771fe18"
  },
  {
   "metadata": {},
   "cell_type": "markdown",
   "source": "Plot showing the distribution of sensationalism score over the log-scaled score of the posts.",
   "id": "67657267c56bed75"
  },
  {
   "metadata": {},
   "cell_type": "code",
   "outputs": [],
   "execution_count": null,
   "source": [
    "df['score_bin'] = pd.cut(df['score'], bins=np.logspace(0, 5, num=10), right=False)\n",
    "\n",
    "plt.figure(figsize=(10, 6))\n",
    "sns.boxplot(data=df,\n",
    "            x='score_bin',\n",
    "            y='sensationalism_score',\n",
    "            palette='pastel',\n",
    "            showfliers=False,\n",
    "            # hue='top_category'\n",
    "            )\n",
    "plt.title('Box Plot of Sensationalism Score Across Log-Scaled Score Bins')\n",
    "plt.xlabel('Log-Scaled Score Bins')\n",
    "plt.ylabel('Sensationalism Score')\n",
    "plt.xticks(rotation=45, ha='right')\n",
    "plt.grid(axis='y', linestyle='--', alpha=0.6)\n",
    "plt.axhline(df['sensationalism_score'].mean(), color='r', linestyle='--')\n",
    "plt.tight_layout()\n",
    "plt.show()"
   ],
   "id": "da134e578598b453"
  },
  {
   "metadata": {},
   "cell_type": "markdown",
   "source": [
    "The score is log-scaled to better visualize the \"bracket\" of score that the postts fall into, from very low on the left, to very high on the right. Each bracket is a log-scaled bin of the score.\n",
    "\n",
    "From reading this plot we can see that higher scores have less variance in the sensationalism score, while also having a higher average sensationalism score."
   ],
   "id": "a359030a61385893"
  },
  {
   "metadata": {},
   "cell_type": "code",
   "outputs": [],
   "execution_count": null,
   "source": [
    "bins = [30, 35, 40, 45, 50, 55, 60, 65, 70]\n",
    "labels = ['30-35%', '35-40%', '40-45%', '45-50%', '50-55%', '55-60%', '60-65%', '65-70%']\n",
    "\n",
    "# Create the sens_interval column with intervals closed on the left\n",
    "df['sens_interval'] = pd.cut(df['sensationalism_score'] * 100, bins=bins, labels=labels, right=False)\n",
    "\n",
    "# Plot the boxplot\n",
    "plt.figure(figsize=(12, 6))\n",
    "sns.boxplot(data=df, x='sens_interval', y='score')\n",
    "plt.title('Boxplot of Scores for Each Interval of Sensationalism')\n",
    "plt.xlabel('Sensationalism Interval (%)')\n",
    "plt.ylabel('Score')\n",
    "plt.yscale(\"log\")\n",
    "plt.xticks(rotation=45)\n",
    "plt.show()"
   ],
   "id": "f7aaea823664aff1"
  },
  {
   "metadata": {},
   "cell_type": "code",
   "outputs": [],
   "execution_count": null,
   "source": [
    "bins = [30, 35, 40, 45, 50, 55, 60, 65, 70]\n",
    "labels = ['30-35%', '35-40%', '40-45%', '45-50%', '50-55%', '55-60%', '60-65%', '65-70%']\n",
    "\n",
    "# Create the sens_interval column with intervals closed on the left\n",
    "df['sens_interval'] = pd.cut(df[df['label_voting_manual'].isin(['repo', 'scientific', 'news'])]['sensationalism_score'] * 100, bins=bins, labels=labels, right=False)\n",
    "\n",
    "# Plot the boxplot\n",
    "plt.figure(figsize=(12, 6))\n",
    "sns.boxplot(data=df, x='sens_interval', y='score', hue='label_voting_manual', fliersize=0)\n",
    "plt.title('Boxplot of Scores for Each Interval of Sensationalism')\n",
    "plt.xlabel('Sensationalism Interval (%)')\n",
    "plt.ylabel('Score')\n",
    "plt.yscale(\"log\")\n",
    "plt.xticks(rotation=45)\n",
    "plt.show()"
   ],
   "id": "3f7d1a7e82732f9b"
  },
  {
   "metadata": {},
   "cell_type": "markdown",
   "source": [
    "Even for the less_than_2 category, which mostly correlates to scam, this seems effective.\n",
    "Apart from that the effect seems similar over all domains"
   ],
   "id": "d19d74238363e6a9"
  },
  {
   "metadata": {},
   "cell_type": "code",
   "outputs": [],
   "execution_count": null,
   "source": [
    "plt.figure(figsize=(12,6))\n",
    "line_kws = {'linestyle': '--', 'linewidth': 2}\n",
    "sns_plot = sns.lmplot(df[df['score'] > 1], x= \"sensationalism_score\", y = \"score\", hue='sens_interval', scatter=False, line_kws=line_kws, legend=False)\n",
    "sns.kdeplot(df, x= \"sensationalism_score\", y = \"score\", legend=False, levels=4)\n",
    "sns_plot.add_legend(title='Sens. Interval')\n",
    "plt.yscale('log')\n",
    "plt.ylabel('Score')\n",
    "plt.xlabel('Sensationalism Score')"
   ],
   "id": "7d3b2bfd58fd4370"
  },
  {
   "metadata": {},
   "cell_type": "code",
   "outputs": [],
   "execution_count": null,
   "source": "sns.kdeplot(df, x=\"sensationalism_score\")",
   "id": "2243a4e73bc32c82"
  },
  {
   "metadata": {},
   "cell_type": "code",
   "outputs": [],
   "execution_count": null,
   "source": [
    "plt.figure(figsize=(12, 6))\n",
    "sns_plot = sns.lmplot(data=df, x=\"sensationalism_score\", y=\"log_score\", hue=\"label_voting_manual\", hue_order=domain_order_for_hue, legend=False, palette='Set2', scatter=False)\n",
    "sns.kdeplot(data=df, x=\"sensationalism_score\", y=\"log_score\", levels=3, alpha=0.5, legend=False, hue_order=domain_order_for_hue, hue=\"label_voting_manual\", palette='Set2')\n",
    "handles = [plt.Line2D([], [], color=sns.color_palette('Set2', len(domain_order_for_hue))[i], label=domain) for i, domain in enumerate(domain_order_for_hue)]\n",
    "sns_plot.add_legend(title=\"Domain Category\", handles=handles)\n",
    "plt.ylabel(\"Log-transformed Score\")\n",
    "plt.xlabel(\"Sensationalism\")\n"
   ],
   "id": "8daf8fd6da699889"
  },
  {
   "metadata": {},
   "cell_type": "code",
   "outputs": [],
   "execution_count": null,
   "source": [
    "plt.figure(figsize=(12, 6))\n",
    "sns_plot = sns.lmplot(data=df, x=\"sensationalism_score\", y=\"log_score\", hue=\"top_category\", palette='Set2', scatter=False, legend=False)\n",
    "\n",
    "sns.kdeplot(data=df, x=\"sensationalism_score\", y=\"log_score\", levels=3, alpha=0.5, legend=False, hue=\"top_category\", palette='Set2')\n",
    "sns_plot.add_legend(title='Science Field')\n",
    "plt.ylabel(\"Log-transformed Score\")\n",
    "plt.xlabel(\"Sensationalism\")\n"
   ],
   "id": "6427ba5b7e86c2cb"
  },
  {
   "metadata": {},
   "cell_type": "markdown",
   "source": "# Linear regression",
   "id": "1c8cfb73dc18c929"
  },
  {
   "metadata": {},
   "cell_type": "code",
   "outputs": [],
   "execution_count": null,
   "source": "",
   "id": "b0507ffa508a3ba4"
  }
 ],
 "metadata": {
  "kernelspec": {
   "display_name": "Python 3",
   "language": "python",
   "name": "python3"
  },
  "language_info": {
   "codemirror_mode": {
    "name": "ipython",
    "version": 2
   },
   "file_extension": ".py",
   "mimetype": "text/x-python",
   "name": "python",
   "nbconvert_exporter": "python",
   "pygments_lexer": "ipython2",
   "version": "2.7.6"
  }
 },
 "nbformat": 4,
 "nbformat_minor": 5
}
