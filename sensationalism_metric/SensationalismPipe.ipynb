{
 "nbformat": 4,
 "nbformat_minor": 0,
 "metadata": {
  "colab": {
   "provenance": [],
   "collapsed_sections": [
    "WD6IOMcKEbRE",
    "De_6CahkEefu"
   ],
   "gpuType": "T4"
  },
  "kernelspec": {
   "name": "python3",
   "display_name": "Python 3"
  },
  "language_info": {
   "name": "python"
  },
  "accelerator": "GPU"
 },
 "cells": [
  {
   "metadata": {},
   "cell_type": "markdown",
   "source": [
    "!! This is best used with a T4 on colab at the moment. !!\n",
    "https://colab.research.google.com/drive/1BF_e_MeH1eESmkB0WiQ9G31-18X_eyd4?usp=sharing"
   ]
  },
  {
   "cell_type": "markdown",
   "source": [
    "## Setup:"
   ],
   "metadata": {
    "id": "WD6IOMcKEbRE"
   }
  },
  {
   "cell_type": "code",
   "source": [
    "# Only missing dependency on colab\n",
    "!pip install datasets\n"
   ],
   "metadata": {
    "colab": {
     "base_uri": "https://localhost:8080/"
    },
    "collapsed": true,
    "id": "mx5Yqd2Qmyg5",
    "outputId": "9e132e30-260f-4f1b-db5c-3cec8cd98bef"
   },
   "execution_count": null,
   "outputs": [
    {
     "output_type": "stream",
     "name": "stdout",
     "text": [
      "Collecting datasets\n",
      "  Downloading datasets-3.1.0-py3-none-any.whl.metadata (20 kB)\n",
      "Requirement already satisfied: filelock in /usr/local/lib/python3.10/dist-packages (from datasets) (3.16.1)\n",
      "Requirement already satisfied: numpy>=1.17 in /usr/local/lib/python3.10/dist-packages (from datasets) (1.26.4)\n",
      "Requirement already satisfied: pyarrow>=15.0.0 in /usr/local/lib/python3.10/dist-packages (from datasets) (17.0.0)\n",
      "Collecting dill<0.3.9,>=0.3.0 (from datasets)\n",
      "  Downloading dill-0.3.8-py3-none-any.whl.metadata (10 kB)\n",
      "Requirement already satisfied: pandas in /usr/local/lib/python3.10/dist-packages (from datasets) (2.2.2)\n",
      "Requirement already satisfied: requests>=2.32.2 in /usr/local/lib/python3.10/dist-packages (from datasets) (2.32.3)\n",
      "Requirement already satisfied: tqdm>=4.66.3 in /usr/local/lib/python3.10/dist-packages (from datasets) (4.66.6)\n",
      "Collecting xxhash (from datasets)\n",
      "  Downloading xxhash-3.5.0-cp310-cp310-manylinux_2_17_x86_64.manylinux2014_x86_64.whl.metadata (12 kB)\n",
      "Collecting multiprocess<0.70.17 (from datasets)\n",
      "  Downloading multiprocess-0.70.16-py310-none-any.whl.metadata (7.2 kB)\n",
      "Collecting fsspec<=2024.9.0,>=2023.1.0 (from fsspec[http]<=2024.9.0,>=2023.1.0->datasets)\n",
      "  Downloading fsspec-2024.9.0-py3-none-any.whl.metadata (11 kB)\n",
      "Requirement already satisfied: aiohttp in /usr/local/lib/python3.10/dist-packages (from datasets) (3.10.10)\n",
      "Requirement already satisfied: huggingface-hub>=0.23.0 in /usr/local/lib/python3.10/dist-packages (from datasets) (0.24.7)\n",
      "Requirement already satisfied: packaging in /usr/local/lib/python3.10/dist-packages (from datasets) (24.1)\n",
      "Requirement already satisfied: pyyaml>=5.1 in /usr/local/lib/python3.10/dist-packages (from datasets) (6.0.2)\n",
      "Requirement already satisfied: aiohappyeyeballs>=2.3.0 in /usr/local/lib/python3.10/dist-packages (from aiohttp->datasets) (2.4.3)\n",
      "Requirement already satisfied: aiosignal>=1.1.2 in /usr/local/lib/python3.10/dist-packages (from aiohttp->datasets) (1.3.1)\n",
      "Requirement already satisfied: attrs>=17.3.0 in /usr/local/lib/python3.10/dist-packages (from aiohttp->datasets) (24.2.0)\n",
      "Requirement already satisfied: frozenlist>=1.1.1 in /usr/local/lib/python3.10/dist-packages (from aiohttp->datasets) (1.5.0)\n",
      "Requirement already satisfied: multidict<7.0,>=4.5 in /usr/local/lib/python3.10/dist-packages (from aiohttp->datasets) (6.1.0)\n",
      "Requirement already satisfied: yarl<2.0,>=1.12.0 in /usr/local/lib/python3.10/dist-packages (from aiohttp->datasets) (1.17.0)\n",
      "Requirement already satisfied: async-timeout<5.0,>=4.0 in /usr/local/lib/python3.10/dist-packages (from aiohttp->datasets) (4.0.3)\n",
      "Requirement already satisfied: typing-extensions>=3.7.4.3 in /usr/local/lib/python3.10/dist-packages (from huggingface-hub>=0.23.0->datasets) (4.12.2)\n",
      "Requirement already satisfied: charset-normalizer<4,>=2 in /usr/local/lib/python3.10/dist-packages (from requests>=2.32.2->datasets) (3.4.0)\n",
      "Requirement already satisfied: idna<4,>=2.5 in /usr/local/lib/python3.10/dist-packages (from requests>=2.32.2->datasets) (3.10)\n",
      "Requirement already satisfied: urllib3<3,>=1.21.1 in /usr/local/lib/python3.10/dist-packages (from requests>=2.32.2->datasets) (2.2.3)\n",
      "Requirement already satisfied: certifi>=2017.4.17 in /usr/local/lib/python3.10/dist-packages (from requests>=2.32.2->datasets) (2024.8.30)\n",
      "Requirement already satisfied: python-dateutil>=2.8.2 in /usr/local/lib/python3.10/dist-packages (from pandas->datasets) (2.8.2)\n",
      "Requirement already satisfied: pytz>=2020.1 in /usr/local/lib/python3.10/dist-packages (from pandas->datasets) (2024.2)\n",
      "Requirement already satisfied: tzdata>=2022.7 in /usr/local/lib/python3.10/dist-packages (from pandas->datasets) (2024.2)\n",
      "Requirement already satisfied: six>=1.5 in /usr/local/lib/python3.10/dist-packages (from python-dateutil>=2.8.2->pandas->datasets) (1.16.0)\n",
      "Requirement already satisfied: propcache>=0.2.0 in /usr/local/lib/python3.10/dist-packages (from yarl<2.0,>=1.12.0->aiohttp->datasets) (0.2.0)\n",
      "Downloading datasets-3.1.0-py3-none-any.whl (480 kB)\n",
      "\u001B[2K   \u001B[90m━━━━━━━━━━━━━━━━━━━━━━━━━━━━━━━━━━━━━━━━\u001B[0m \u001B[32m480.6/480.6 kB\u001B[0m \u001B[31m10.7 MB/s\u001B[0m eta \u001B[36m0:00:00\u001B[0m\n",
      "\u001B[?25hDownloading dill-0.3.8-py3-none-any.whl (116 kB)\n",
      "\u001B[2K   \u001B[90m━━━━━━━━━━━━━━━━━━━━━━━━━━━━━━━━━━━━━━━━\u001B[0m \u001B[32m116.3/116.3 kB\u001B[0m \u001B[31m6.0 MB/s\u001B[0m eta \u001B[36m0:00:00\u001B[0m\n",
      "\u001B[?25hDownloading fsspec-2024.9.0-py3-none-any.whl (179 kB)\n",
      "\u001B[2K   \u001B[90m━━━━━━━━━━━━━━━━━━━━━━━━━━━━━━━━━━━━━━━━\u001B[0m \u001B[32m179.3/179.3 kB\u001B[0m \u001B[31m5.7 MB/s\u001B[0m eta \u001B[36m0:00:00\u001B[0m\n",
      "\u001B[?25hDownloading multiprocess-0.70.16-py310-none-any.whl (134 kB)\n",
      "\u001B[2K   \u001B[90m━━━━━━━━━━━━━━━━━━━━━━━━━━━━━━━━━━━━━━━━\u001B[0m \u001B[32m134.8/134.8 kB\u001B[0m \u001B[31m3.1 MB/s\u001B[0m eta \u001B[36m0:00:00\u001B[0m\n",
      "\u001B[?25hDownloading xxhash-3.5.0-cp310-cp310-manylinux_2_17_x86_64.manylinux2014_x86_64.whl (194 kB)\n",
      "\u001B[2K   \u001B[90m━━━━━━━━━━━━━━━━━━━━━━━━━━━━━━━━━━━━━━━━\u001B[0m \u001B[32m194.1/194.1 kB\u001B[0m \u001B[31m6.8 MB/s\u001B[0m eta \u001B[36m0:00:00\u001B[0m\n",
      "\u001B[?25hInstalling collected packages: xxhash, fsspec, dill, multiprocess, datasets\n",
      "  Attempting uninstall: fsspec\n",
      "    Found existing installation: fsspec 2024.10.0\n",
      "    Uninstalling fsspec-2024.10.0:\n",
      "      Successfully uninstalled fsspec-2024.10.0\n",
      "\u001B[31mERROR: pip's dependency resolver does not currently take into account all the packages that are installed. This behaviour is the source of the following dependency conflicts.\n",
      "gcsfs 2024.10.0 requires fsspec==2024.10.0, but you have fsspec 2024.9.0 which is incompatible.\u001B[0m\u001B[31m\n",
      "\u001B[0mSuccessfully installed datasets-3.1.0 dill-0.3.8 fsspec-2024.9.0 multiprocess-0.70.16 xxhash-3.5.0\n"
     ]
    }
   ]
  },
  {
   "cell_type": "code",
   "source": [
    "from google.colab import drive\n",
    "import random\n",
    "import pandas as pd\n",
    "import numpy as np # should be lower than 2 that's why I'm running on colab\n",
    "import torch\n",
    "import seaborn as sns\n",
    "import os\n",
    "from tqdm import tqdm\n",
    "from transformers import AutoTokenizer\n",
    "from transformers import pipeline\n",
    "from transformers.pipelines.pt_utils import KeyDataset\n",
    "import datasets"
   ],
   "metadata": {
    "id": "7bFbiRUgm-b3"
   },
   "execution_count": null,
   "outputs": []
  },
  {
   "cell_type": "code",
   "source": [
    "drive.mount('/content/drive') # Do everything on drive not local sessionn\n",
    "\n",
    "seed = 100\n",
    "\n",
    "# TODO: Set the following directories up\n",
    "model = \"/content/drive/MyDrive/sensationalism/model\" # Pointing towards the model folder containing the weights etc.\n",
    "data_dir = \"/content/drive/MyDrive/sensationalism/failed_sep\" # Pointing to the data directory containing all csv files with reddit posts and titles\n",
    "new_data_dir = \"/content/drive/MyDrive/sensationalism/new_data\" # Output directory"
   ],
   "metadata": {
    "colab": {
     "base_uri": "https://localhost:8080/"
    },
    "id": "pIqm1GjJDDmg",
    "outputId": "5b5816fd-c41e-44ed-f084-e0e9ed5839f6"
   },
   "execution_count": null,
   "outputs": [
    {
     "output_type": "stream",
     "name": "stdout",
     "text": [
      "Drive already mounted at /content/drive; to attempt to forcibly remount, call drive.mount(\"/content/drive\", force_remount=True).\n"
     ]
    }
   ]
  },
  {
   "cell_type": "code",
   "source": [
    "def enforce_reproducibility(seed=1000):\n",
    "    # Sets seed manually for both CPU and CUDA\n",
    "    torch.manual_seed(seed)\n",
    "    torch.cuda.manual_seed_all(seed)\n",
    "    # For atomic operations there is currently\n",
    "    # no simple way to enforce determinism, as\n",
    "    # the order of parallel operations is not known.\n",
    "    # CUDNN\n",
    "    torch.backends.cudnn.deterministic = True\n",
    "    torch.backends.cudnn.benchmark = False\n",
    "    # System based\n",
    "    random.seed(seed)\n",
    "    np.random.seed(seed)"
   ],
   "metadata": {
    "id": "sL5lORLDn4Lz"
   },
   "execution_count": null,
   "outputs": []
  },
  {
   "cell_type": "markdown",
   "source": [
    "## Testing and WIP"
   ],
   "metadata": {
    "id": "De_6CahkEefu"
   }
  },
  {
   "cell_type": "code",
   "source": [
    "\n",
    "device = torch.device(\"cpu\")\n",
    "if torch.cuda.is_available():\n",
    "    print(\"Using CUDA\")\n",
    "    device = torch.device(\"cuda\")\n",
    "\n",
    "seed = 100\n",
    "enforce_reproducibility(seed)\n",
    "model = \"/content/drive/MyDrive/sensationalism/model\"\n",
    "\n",
    "tk = AutoTokenizer.from_pretrained(model)\n",
    "\n",
    "pipe = pipeline(\n",
    "    model=model,\n",
    "    tokenizer=tk,\n",
    "    device=device,\n",
    "    task=\"text-classification\",\n",
    "    # function_to_apply='none' if args.task == 'sensationalism' else 'softmax', # Regression\n",
    "    truncation=\"longest_first\",\n",
    "    max_length=512,\n",
    ")"
   ],
   "metadata": {
    "id": "eVYTvZSrnwtB"
   },
   "execution_count": null,
   "outputs": []
  },
  {
   "cell_type": "code",
   "source": [
    "df = pd.read_csv(\"/content/drive/MyDrive/sensationalism/data/science_submissions_2016_01.csv_jargon.csv\")\n",
    "df.head()\n"
   ],
   "metadata": {
    "colab": {
     "base_uri": "https://localhost:8080/",
     "height": 487
    },
    "id": "5aocSuVzvGiR",
    "outputId": "a6020610-b1b5-4ab9-c711-b2aadf63e2f1"
   },
   "execution_count": null,
   "outputs": [
    {
     "output_type": "execute_result",
     "data": {
      "text/plain": [
       "       id          author  created_utc subreddit  score  \\\n",
       "0  3yyyen    CUniversidad   1451608428   science      1   \n",
       "1  3yz2zm  rachid-science   1451611151   science      1   \n",
       "2  3yz3yw       margobra8   1451611750   science      7   \n",
       "3  3yz50u    Computatrum_   1451612385   science      8   \n",
       "4  3yz7qg        mahir369   1451614082   science      1   \n",
       "\n",
       "                                                 url  \\\n",
       "0        https://www.youtube.com/watch?v=CAqE61zrApA   \n",
       "1  https://www.youtube.com/attribution_link?a=W5Y...   \n",
       "2  http://gizmodo.com/japanese-physicists-win-nam...   \n",
       "3  http://www.dailymail.co.uk/sciencetech/article...   \n",
       "4                           http://imgur.com/ACHML4D   \n",
       "\n",
       "                                               title           domain  ups  \\\n",
       "0                                         comunicion      youtube.com    1   \n",
       "1             chimie expérimentale (La distillation)      youtube.com    1   \n",
       "2  Japanese Physicists Win Naming Rights for Elem...      gizmodo.com    7   \n",
       "3  Researchers captured the first recording of a ...  dailymail.co.uk    8   \n",
       "4                       If Willy Wonka taught Calc 3        imgur.com    1   \n",
       "\n",
       "   downs link_flair_text author_flair_text  num_comments comment_id  \\\n",
       "0      0             NaN               NaN           2.0        NaN   \n",
       "1      0             NaN               NaN           1.0        NaN   \n",
       "2      0       Chemistry               NaN           8.0        NaN   \n",
       "3      0    Neuroscience               NaN           3.0    cyhwx5e   \n",
       "4      0             NaN               NaN           1.0        NaN   \n",
       "\n",
       "                                             comment comment_url  \\\n",
       "0                                                NaN         NaN   \n",
       "1                                                NaN         NaN   \n",
       "2                                                NaN         NaN   \n",
       "3  I noticed that as well. Tricked me into scroll...         NaN   \n",
       "4                                                NaN         NaN   \n",
       "\n",
       "   jargon_proportion  \n",
       "0                NaN  \n",
       "1                NaN  \n",
       "2               0.00  \n",
       "3               0.12  \n",
       "4                NaN  "
      ],
      "text/html": [
       "\n",
       "  <div id=\"df-afe91778-a6ae-4e52-a3d8-2b519dd910a9\" class=\"colab-df-container\">\n",
       "    <div>\n",
       "<style scoped>\n",
       "    .dataframe tbody tr th:only-of-type {\n",
       "        vertical-align: middle;\n",
       "    }\n",
       "\n",
       "    .dataframe tbody tr th {\n",
       "        vertical-align: top;\n",
       "    }\n",
       "\n",
       "    .dataframe thead th {\n",
       "        text-align: right;\n",
       "    }\n",
       "</style>\n",
       "<table border=\"1\" class=\"dataframe\">\n",
       "  <thead>\n",
       "    <tr style=\"text-align: right;\">\n",
       "      <th></th>\n",
       "      <th>id</th>\n",
       "      <th>author</th>\n",
       "      <th>created_utc</th>\n",
       "      <th>subreddit</th>\n",
       "      <th>score</th>\n",
       "      <th>url</th>\n",
       "      <th>title</th>\n",
       "      <th>domain</th>\n",
       "      <th>ups</th>\n",
       "      <th>downs</th>\n",
       "      <th>link_flair_text</th>\n",
       "      <th>author_flair_text</th>\n",
       "      <th>num_comments</th>\n",
       "      <th>comment_id</th>\n",
       "      <th>comment</th>\n",
       "      <th>comment_url</th>\n",
       "      <th>jargon_proportion</th>\n",
       "    </tr>\n",
       "  </thead>\n",
       "  <tbody>\n",
       "    <tr>\n",
       "      <th>0</th>\n",
       "      <td>3yyyen</td>\n",
       "      <td>CUniversidad</td>\n",
       "      <td>1451608428</td>\n",
       "      <td>science</td>\n",
       "      <td>1</td>\n",
       "      <td>https://www.youtube.com/watch?v=CAqE61zrApA</td>\n",
       "      <td>comunicion</td>\n",
       "      <td>youtube.com</td>\n",
       "      <td>1</td>\n",
       "      <td>0</td>\n",
       "      <td>NaN</td>\n",
       "      <td>NaN</td>\n",
       "      <td>2.0</td>\n",
       "      <td>NaN</td>\n",
       "      <td>NaN</td>\n",
       "      <td>NaN</td>\n",
       "      <td>NaN</td>\n",
       "    </tr>\n",
       "    <tr>\n",
       "      <th>1</th>\n",
       "      <td>3yz2zm</td>\n",
       "      <td>rachid-science</td>\n",
       "      <td>1451611151</td>\n",
       "      <td>science</td>\n",
       "      <td>1</td>\n",
       "      <td>https://www.youtube.com/attribution_link?a=W5Y...</td>\n",
       "      <td>chimie expérimentale (La distillation)</td>\n",
       "      <td>youtube.com</td>\n",
       "      <td>1</td>\n",
       "      <td>0</td>\n",
       "      <td>NaN</td>\n",
       "      <td>NaN</td>\n",
       "      <td>1.0</td>\n",
       "      <td>NaN</td>\n",
       "      <td>NaN</td>\n",
       "      <td>NaN</td>\n",
       "      <td>NaN</td>\n",
       "    </tr>\n",
       "    <tr>\n",
       "      <th>2</th>\n",
       "      <td>3yz3yw</td>\n",
       "      <td>margobra8</td>\n",
       "      <td>1451611750</td>\n",
       "      <td>science</td>\n",
       "      <td>7</td>\n",
       "      <td>http://gizmodo.com/japanese-physicists-win-nam...</td>\n",
       "      <td>Japanese Physicists Win Naming Rights for Elem...</td>\n",
       "      <td>gizmodo.com</td>\n",
       "      <td>7</td>\n",
       "      <td>0</td>\n",
       "      <td>Chemistry</td>\n",
       "      <td>NaN</td>\n",
       "      <td>8.0</td>\n",
       "      <td>NaN</td>\n",
       "      <td>NaN</td>\n",
       "      <td>NaN</td>\n",
       "      <td>0.00</td>\n",
       "    </tr>\n",
       "    <tr>\n",
       "      <th>3</th>\n",
       "      <td>3yz50u</td>\n",
       "      <td>Computatrum_</td>\n",
       "      <td>1451612385</td>\n",
       "      <td>science</td>\n",
       "      <td>8</td>\n",
       "      <td>http://www.dailymail.co.uk/sciencetech/article...</td>\n",
       "      <td>Researchers captured the first recording of a ...</td>\n",
       "      <td>dailymail.co.uk</td>\n",
       "      <td>8</td>\n",
       "      <td>0</td>\n",
       "      <td>Neuroscience</td>\n",
       "      <td>NaN</td>\n",
       "      <td>3.0</td>\n",
       "      <td>cyhwx5e</td>\n",
       "      <td>I noticed that as well. Tricked me into scroll...</td>\n",
       "      <td>NaN</td>\n",
       "      <td>0.12</td>\n",
       "    </tr>\n",
       "    <tr>\n",
       "      <th>4</th>\n",
       "      <td>3yz7qg</td>\n",
       "      <td>mahir369</td>\n",
       "      <td>1451614082</td>\n",
       "      <td>science</td>\n",
       "      <td>1</td>\n",
       "      <td>http://imgur.com/ACHML4D</td>\n",
       "      <td>If Willy Wonka taught Calc 3</td>\n",
       "      <td>imgur.com</td>\n",
       "      <td>1</td>\n",
       "      <td>0</td>\n",
       "      <td>NaN</td>\n",
       "      <td>NaN</td>\n",
       "      <td>1.0</td>\n",
       "      <td>NaN</td>\n",
       "      <td>NaN</td>\n",
       "      <td>NaN</td>\n",
       "      <td>NaN</td>\n",
       "    </tr>\n",
       "  </tbody>\n",
       "</table>\n",
       "</div>\n",
       "    <div class=\"colab-df-buttons\">\n",
       "\n",
       "  <div class=\"colab-df-container\">\n",
       "    <button class=\"colab-df-convert\" onclick=\"convertToInteractive('df-afe91778-a6ae-4e52-a3d8-2b519dd910a9')\"\n",
       "            title=\"Convert this dataframe to an interactive table.\"\n",
       "            style=\"display:none;\">\n",
       "\n",
       "  <svg xmlns=\"http://www.w3.org/2000/svg\" height=\"24px\" viewBox=\"0 -960 960 960\">\n",
       "    <path d=\"M120-120v-720h720v720H120Zm60-500h600v-160H180v160Zm220 220h160v-160H400v160Zm0 220h160v-160H400v160ZM180-400h160v-160H180v160Zm440 0h160v-160H620v160ZM180-180h160v-160H180v160Zm440 0h160v-160H620v160Z\"/>\n",
       "  </svg>\n",
       "    </button>\n",
       "\n",
       "  <style>\n",
       "    .colab-df-container {\n",
       "      display:flex;\n",
       "      gap: 12px;\n",
       "    }\n",
       "\n",
       "    .colab-df-convert {\n",
       "      background-color: #E8F0FE;\n",
       "      border: none;\n",
       "      border-radius: 50%;\n",
       "      cursor: pointer;\n",
       "      display: none;\n",
       "      fill: #1967D2;\n",
       "      height: 32px;\n",
       "      padding: 0 0 0 0;\n",
       "      width: 32px;\n",
       "    }\n",
       "\n",
       "    .colab-df-convert:hover {\n",
       "      background-color: #E2EBFA;\n",
       "      box-shadow: 0px 1px 2px rgba(60, 64, 67, 0.3), 0px 1px 3px 1px rgba(60, 64, 67, 0.15);\n",
       "      fill: #174EA6;\n",
       "    }\n",
       "\n",
       "    .colab-df-buttons div {\n",
       "      margin-bottom: 4px;\n",
       "    }\n",
       "\n",
       "    [theme=dark] .colab-df-convert {\n",
       "      background-color: #3B4455;\n",
       "      fill: #D2E3FC;\n",
       "    }\n",
       "\n",
       "    [theme=dark] .colab-df-convert:hover {\n",
       "      background-color: #434B5C;\n",
       "      box-shadow: 0px 1px 3px 1px rgba(0, 0, 0, 0.15);\n",
       "      filter: drop-shadow(0px 1px 2px rgba(0, 0, 0, 0.3));\n",
       "      fill: #FFFFFF;\n",
       "    }\n",
       "  </style>\n",
       "\n",
       "    <script>\n",
       "      const buttonEl =\n",
       "        document.querySelector('#df-afe91778-a6ae-4e52-a3d8-2b519dd910a9 button.colab-df-convert');\n",
       "      buttonEl.style.display =\n",
       "        google.colab.kernel.accessAllowed ? 'block' : 'none';\n",
       "\n",
       "      async function convertToInteractive(key) {\n",
       "        const element = document.querySelector('#df-afe91778-a6ae-4e52-a3d8-2b519dd910a9');\n",
       "        const dataTable =\n",
       "          await google.colab.kernel.invokeFunction('convertToInteractive',\n",
       "                                                    [key], {});\n",
       "        if (!dataTable) return;\n",
       "\n",
       "        const docLinkHtml = 'Like what you see? Visit the ' +\n",
       "          '<a target=\"_blank\" href=https://colab.research.google.com/notebooks/data_table.ipynb>data table notebook</a>'\n",
       "          + ' to learn more about interactive tables.';\n",
       "        element.innerHTML = '';\n",
       "        dataTable['output_type'] = 'display_data';\n",
       "        await google.colab.output.renderOutput(dataTable, element);\n",
       "        const docLink = document.createElement('div');\n",
       "        docLink.innerHTML = docLinkHtml;\n",
       "        element.appendChild(docLink);\n",
       "      }\n",
       "    </script>\n",
       "  </div>\n",
       "\n",
       "\n",
       "<div id=\"df-28232a2c-5382-42ce-b513-963818332974\">\n",
       "  <button class=\"colab-df-quickchart\" onclick=\"quickchart('df-28232a2c-5382-42ce-b513-963818332974')\"\n",
       "            title=\"Suggest charts\"\n",
       "            style=\"display:none;\">\n",
       "\n",
       "<svg xmlns=\"http://www.w3.org/2000/svg\" height=\"24px\"viewBox=\"0 0 24 24\"\n",
       "     width=\"24px\">\n",
       "    <g>\n",
       "        <path d=\"M19 3H5c-1.1 0-2 .9-2 2v14c0 1.1.9 2 2 2h14c1.1 0 2-.9 2-2V5c0-1.1-.9-2-2-2zM9 17H7v-7h2v7zm4 0h-2V7h2v10zm4 0h-2v-4h2v4z\"/>\n",
       "    </g>\n",
       "</svg>\n",
       "  </button>\n",
       "\n",
       "<style>\n",
       "  .colab-df-quickchart {\n",
       "      --bg-color: #E8F0FE;\n",
       "      --fill-color: #1967D2;\n",
       "      --hover-bg-color: #E2EBFA;\n",
       "      --hover-fill-color: #174EA6;\n",
       "      --disabled-fill-color: #AAA;\n",
       "      --disabled-bg-color: #DDD;\n",
       "  }\n",
       "\n",
       "  [theme=dark] .colab-df-quickchart {\n",
       "      --bg-color: #3B4455;\n",
       "      --fill-color: #D2E3FC;\n",
       "      --hover-bg-color: #434B5C;\n",
       "      --hover-fill-color: #FFFFFF;\n",
       "      --disabled-bg-color: #3B4455;\n",
       "      --disabled-fill-color: #666;\n",
       "  }\n",
       "\n",
       "  .colab-df-quickchart {\n",
       "    background-color: var(--bg-color);\n",
       "    border: none;\n",
       "    border-radius: 50%;\n",
       "    cursor: pointer;\n",
       "    display: none;\n",
       "    fill: var(--fill-color);\n",
       "    height: 32px;\n",
       "    padding: 0;\n",
       "    width: 32px;\n",
       "  }\n",
       "\n",
       "  .colab-df-quickchart:hover {\n",
       "    background-color: var(--hover-bg-color);\n",
       "    box-shadow: 0 1px 2px rgba(60, 64, 67, 0.3), 0 1px 3px 1px rgba(60, 64, 67, 0.15);\n",
       "    fill: var(--button-hover-fill-color);\n",
       "  }\n",
       "\n",
       "  .colab-df-quickchart-complete:disabled,\n",
       "  .colab-df-quickchart-complete:disabled:hover {\n",
       "    background-color: var(--disabled-bg-color);\n",
       "    fill: var(--disabled-fill-color);\n",
       "    box-shadow: none;\n",
       "  }\n",
       "\n",
       "  .colab-df-spinner {\n",
       "    border: 2px solid var(--fill-color);\n",
       "    border-color: transparent;\n",
       "    border-bottom-color: var(--fill-color);\n",
       "    animation:\n",
       "      spin 1s steps(1) infinite;\n",
       "  }\n",
       "\n",
       "  @keyframes spin {\n",
       "    0% {\n",
       "      border-color: transparent;\n",
       "      border-bottom-color: var(--fill-color);\n",
       "      border-left-color: var(--fill-color);\n",
       "    }\n",
       "    20% {\n",
       "      border-color: transparent;\n",
       "      border-left-color: var(--fill-color);\n",
       "      border-top-color: var(--fill-color);\n",
       "    }\n",
       "    30% {\n",
       "      border-color: transparent;\n",
       "      border-left-color: var(--fill-color);\n",
       "      border-top-color: var(--fill-color);\n",
       "      border-right-color: var(--fill-color);\n",
       "    }\n",
       "    40% {\n",
       "      border-color: transparent;\n",
       "      border-right-color: var(--fill-color);\n",
       "      border-top-color: var(--fill-color);\n",
       "    }\n",
       "    60% {\n",
       "      border-color: transparent;\n",
       "      border-right-color: var(--fill-color);\n",
       "    }\n",
       "    80% {\n",
       "      border-color: transparent;\n",
       "      border-right-color: var(--fill-color);\n",
       "      border-bottom-color: var(--fill-color);\n",
       "    }\n",
       "    90% {\n",
       "      border-color: transparent;\n",
       "      border-bottom-color: var(--fill-color);\n",
       "    }\n",
       "  }\n",
       "</style>\n",
       "\n",
       "  <script>\n",
       "    async function quickchart(key) {\n",
       "      const quickchartButtonEl =\n",
       "        document.querySelector('#' + key + ' button');\n",
       "      quickchartButtonEl.disabled = true;  // To prevent multiple clicks.\n",
       "      quickchartButtonEl.classList.add('colab-df-spinner');\n",
       "      try {\n",
       "        const charts = await google.colab.kernel.invokeFunction(\n",
       "            'suggestCharts', [key], {});\n",
       "      } catch (error) {\n",
       "        console.error('Error during call to suggestCharts:', error);\n",
       "      }\n",
       "      quickchartButtonEl.classList.remove('colab-df-spinner');\n",
       "      quickchartButtonEl.classList.add('colab-df-quickchart-complete');\n",
       "    }\n",
       "    (() => {\n",
       "      let quickchartButtonEl =\n",
       "        document.querySelector('#df-28232a2c-5382-42ce-b513-963818332974 button');\n",
       "      quickchartButtonEl.style.display =\n",
       "        google.colab.kernel.accessAllowed ? 'block' : 'none';\n",
       "    })();\n",
       "  </script>\n",
       "</div>\n",
       "\n",
       "    </div>\n",
       "  </div>\n"
      ],
      "application/vnd.google.colaboratory.intrinsic+json": {
       "type": "dataframe",
       "variable_name": "df",
       "summary": "{\n  \"name\": \"df\",\n  \"rows\": 6788,\n  \"fields\": [\n    {\n      \"column\": \"id\",\n      \"properties\": {\n        \"dtype\": \"string\",\n        \"num_unique_values\": 5089,\n        \"samples\": [\n          \"3zlgqt\",\n          \"42xm3i\",\n          \"3zinwx\"\n        ],\n        \"semantic_type\": \"\",\n        \"description\": \"\"\n      }\n    },\n    {\n      \"column\": \"author\",\n      \"properties\": {\n        \"dtype\": \"category\",\n        \"num_unique_values\": 2216,\n        \"samples\": [\n          \"fencerman\",\n          \"unsilviu\",\n          \"GabyPolisalud\"\n        ],\n        \"semantic_type\": \"\",\n        \"description\": \"\"\n      }\n    },\n    {\n      \"column\": \"created_utc\",\n      \"properties\": {\n        \"dtype\": \"number\",\n        \"std\": 743823,\n        \"min\": 1451608428,\n        \"max\": 1454283858,\n        \"num_unique_values\": 5088,\n        \"samples\": [\n          1452021126,\n          1452225802,\n          1451651025\n        ],\n        \"semantic_type\": \"\",\n        \"description\": \"\"\n      }\n    },\n    {\n      \"column\": \"subreddit\",\n      \"properties\": {\n        \"dtype\": \"category\",\n        \"num_unique_values\": 1,\n        \"samples\": [\n          \"science\"\n        ],\n        \"semantic_type\": \"\",\n        \"description\": \"\"\n      }\n    },\n    {\n      \"column\": \"score\",\n      \"properties\": {\n        \"dtype\": \"number\",\n        \"std\": 1319,\n        \"min\": 0,\n        \"max\": 6703,\n        \"num_unique_values\": 398,\n        \"samples\": [\n          1732\n        ],\n        \"semantic_type\": \"\",\n        \"description\": \"\"\n      }\n    },\n    {\n      \"column\": \"url\",\n      \"properties\": {\n        \"dtype\": \"string\",\n        \"num_unique_values\": 4910,\n        \"samples\": [\n          \"https://www.quantamagazine.org/20160112-string-theory-meets-loop-quantum-gravity/\"\n        ],\n        \"semantic_type\": \"\",\n        \"description\": \"\"\n      }\n    },\n    {\n      \"column\": \"title\",\n      \"properties\": {\n        \"dtype\": \"string\",\n        \"num_unique_values\": 4938,\n        \"samples\": [\n          \"Ancient DNA and the rewriting of human history: be sparing with Occam\\u2019s razor\"\n        ],\n        \"semantic_type\": \"\",\n        \"description\": \"\"\n      }\n    },\n    {\n      \"column\": \"domain\",\n      \"properties\": {\n        \"dtype\": \"category\",\n        \"num_unique_values\": 1704,\n        \"samples\": [\n          \"fee.org\"\n        ],\n        \"semantic_type\": \"\",\n        \"description\": \"\"\n      }\n    },\n    {\n      \"column\": \"ups\",\n      \"properties\": {\n        \"dtype\": \"number\",\n        \"std\": 1319,\n        \"min\": 0,\n        \"max\": 6703,\n        \"num_unique_values\": 398,\n        \"samples\": [\n          1732\n        ],\n        \"semantic_type\": \"\",\n        \"description\": \"\"\n      }\n    },\n    {\n      \"column\": \"downs\",\n      \"properties\": {\n        \"dtype\": \"number\",\n        \"std\": 0,\n        \"min\": 0,\n        \"max\": 0,\n        \"num_unique_values\": 1,\n        \"samples\": [\n          0\n        ],\n        \"semantic_type\": \"\",\n        \"description\": \"\"\n      }\n    },\n    {\n      \"column\": \"link_flair_text\",\n      \"properties\": {\n        \"dtype\": \"category\",\n        \"num_unique_values\": 40,\n        \"samples\": [\n          \"Epidemiology\"\n        ],\n        \"semantic_type\": \"\",\n        \"description\": \"\"\n      }\n    },\n    {\n      \"column\": \"author_flair_text\",\n      \"properties\": {\n        \"dtype\": \"category\",\n        \"num_unique_values\": 63,\n        \"samples\": [\n          \"Grad Student|Neurobiology|Genetics\"\n        ],\n        \"semantic_type\": \"\",\n        \"description\": \"\"\n      }\n    },\n    {\n      \"column\": \"num_comments\",\n      \"properties\": {\n        \"dtype\": \"number\",\n        \"std\": 202.89613265876523,\n        \"min\": 0.0,\n        \"max\": 3232.0,\n        \"num_unique_values\": 194,\n        \"samples\": [\n          161.0\n        ],\n        \"semantic_type\": \"\",\n        \"description\": \"\"\n      }\n    },\n    {\n      \"column\": \"comment_id\",\n      \"properties\": {\n        \"dtype\": \"category\",\n        \"num_unique_values\": 1780,\n        \"samples\": [\n          \"czg9v95\"\n        ],\n        \"semantic_type\": \"\",\n        \"description\": \"\"\n      }\n    },\n    {\n      \"column\": \"comment\",\n      \"properties\": {\n        \"dtype\": \"category\",\n        \"num_unique_values\": 1770,\n        \"samples\": [\n          \"A few lessons learned over the years:\\n\\n- Make chemistry part of the conversation. With Reactions, we work to find topics that people are talking about, and then highlight the chemistry behind those topics. We recently made a video highlighting some of the chemistry behind life in a vault, timed for release right before Fallout 4 came out. Fallout was a great hook to launch a conversation on high-tech materials, radiation and even the nitrogen cycle. We\\u2019re always looking for other hooks like this to grab viewers who might not ordinarily watch a video about chemistry.\\n\\n- Like that Bill Nye quote I mentioned at the top of the AMA, if you want to educate people through video, you have to entertain them. The moment we started doing both, our videos began to take off.\\n\\n- Based on our analytics, here are the chemistry topics that most resonate with viewers:\\n\\n    - Food chemistry\\n\\n    - \\u201cWeird science\\u201d \\u2014 i.e. is it OK to pee in the ocean/pool?\\n\\n    - Videos that explain the chemistry of the stuff they love (examples: our episodes on the chemistry of the iPhone, slasher films, cats, etc.)\\n\\n    - Videos that debunk common chemistry misconceptions (\\\"microwaving is bad for food,\\\" etc.)\"\n        ],\n        \"semantic_type\": \"\",\n        \"description\": \"\"\n      }\n    },\n    {\n      \"column\": \"comment_url\",\n      \"properties\": {\n        \"dtype\": \"category\",\n        \"num_unique_values\": 418,\n        \"samples\": [\n          \"http://journals.lww.com/nsca-scj/Fulltext/2015/12000/Protecting_the_Metabolic_Health_of_Football.12.aspx\"\n        ],\n        \"semantic_type\": \"\",\n        \"description\": \"\"\n      }\n    },\n    {\n      \"column\": \"jargon_proportion\",\n      \"properties\": {\n        \"dtype\": \"number\",\n        \"std\": 0.13079907196632445,\n        \"min\": 0.0,\n        \"max\": 0.7777777777777778,\n        \"num_unique_values\": 205,\n        \"samples\": [\n          0.3333333333333333\n        ],\n        \"semantic_type\": \"\",\n        \"description\": \"\"\n      }\n    }\n  ]\n}"
      }
     },
     "metadata": {},
     "execution_count": 10
    }
   ]
  },
  {
   "cell_type": "code",
   "source": [
    "sns.histplot(df[\"score\"], kde=True)"
   ],
   "metadata": {
    "colab": {
     "base_uri": "https://localhost:8080/",
     "height": 467
    },
    "id": "tJ_bmNaUZn1y",
    "outputId": "51a235f7-4326-43cc-e01d-2cf4c40ef9cc"
   },
   "execution_count": null,
   "outputs": [
    {
     "output_type": "execute_result",
     "data": {
      "text/plain": [
       "<Axes: xlabel='score', ylabel='Count'>"
      ]
     },
     "metadata": {},
     "execution_count": 19
    },
    {
     "output_type": "display_data",
     "data": {
      "text/plain": [
       "<Figure size 640x480 with 1 Axes>"
      ],
      "image/png": "[encoded data removed]"
     },
     "metadata": {}
    }
   ]
  },
  {
   "cell_type": "code",
   "source": [
    "df.to_csv(\"/content/drive/MyDrive/sensationalism/new_data/science_submissions_2016_01.csv_jargon_score.csv\")"
   ],
   "metadata": {
    "id": "d2iph4pVaJb2"
   },
   "execution_count": null,
   "outputs": []
  },
  {
   "cell_type": "markdown",
   "source": [
    "## Running this on scale:"
   ],
   "metadata": {
    "id": "tnjfyKA9EVL-"
   }
  },
  {
   "cell_type": "code",
   "source": [],
   "metadata": {
    "id": "5buAYB7Fy8AP"
   },
   "execution_count": null,
   "outputs": []
  },
  {
   "cell_type": "code",
   "source": [
    "if torch.cuda.is_available():\n",
    "    print(\"Using CUDA\")\n",
    "    device = torch.device(\"cuda\")\n",
    "else:\n",
    "    print(\"Using CPU\")\n",
    "    raise Warning(\"Using CPU! This could be way faster on a T4 runtime by google\")\n",
    "    device = torch.device(\"cpu\")\n",
    "\n",
    "enforce_reproducibility(seed)\n",
    "\n",
    "tk = AutoTokenizer.from_pretrained(model)\n",
    "\n",
    "pipe = pipeline(\n",
    "    model=model,\n",
    "    tokenizer=tk,\n",
    "    device=device,\n",
    "    task=\"text-classification\",\n",
    "    truncation=\"longest_first\",\n",
    "    max_length=512,\n",
    ")\n",
    "\n",
    "i = 1\n",
    "for filename in tqdm(os.listdir(data_dir)):\n",
    "\n",
    "    if filename.endswith(\".csv\"):\n",
    "        input_file = os.path.join(data_dir, filename)\n",
    "        output_file = os.path.join(new_data_dir, filename[:-4] + \"_sensationalism_score.csv\")\n",
    "\n",
    "        if not os.path.exists(output_file):\n",
    "            print(f\"Processing {filename} ({i} out of {len(os.listdir(data_dir))})\")\n",
    "            try:\n",
    "              df = pd.read_csv(input_file)\n",
    "              if device == torch.device(\"cuda\"):\n",
    "                dataset = datasets.Dataset.from_pandas(df)\n",
    "                df[\"sensationalism_score\"] = pipe(dataset[\"title\"], truncation=True)\n",
    "                df[\"sensationalism_score\"] = df[\"sensationalism_score\"].apply(lambda x: x[\"score\"])\n",
    "              else:\n",
    "                df[\"sensationalism_score\"] = 0.0\n",
    "                for row in tqdm(df.itertuples(), total=df.shape[0]):\n",
    "                  score = pipe(row.title)[0][\"score\"]\n",
    "                  df.loc[row.Index, \"sensationalism_score\"] = score\n",
    "              df.to_csv(output_file)\n",
    "              print(f\"\\nSaved results to {output_file}\")\n",
    "            except Exception as e:\n",
    "              print(f\"Error processing {filename}: {e}\")\n",
    "        else:\n",
    "            print(f\"Skipping {filename} - already processed.\")\n",
    "    i += 1"
   ],
   "metadata": {
    "colab": {
     "base_uri": "https://localhost:8080/"
    },
    "collapsed": true,
    "outputId": "01b27972-d82e-4ce9-978e-b47635c70428",
    "id": "9_aRGvAAlB7m"
   },
   "execution_count": null,
   "outputs": [
    {
     "output_type": "stream",
     "name": "stdout",
     "text": [
      "Using CUDA\n"
     ]
    },
    {
     "output_type": "stream",
     "name": "stderr",
     "text": [
      "\r  0%|          | 0/1 [00:00<?, ?it/s]"
     ]
    },
    {
     "output_type": "stream",
     "name": "stdout",
     "text": [
      "Processing science_submissions_2017_09.csv_jargon - science_submissions_2017_09.csv_jargon.csv (1 out of 1)\n"
     ]
    },
    {
     "output_type": "stream",
     "name": "stderr",
     "text": [
      "100%|██████████| 1/1 [01:18<00:00, 78.06s/it]"
     ]
    },
    {
     "output_type": "stream",
     "name": "stdout",
     "text": [
      "\n",
      "Saved results to /content/drive/MyDrive/sensationalism/new_data/science_submissions_2017_09.csv_jargon - science_submissions_2017_09.csv_jargon_sensationalism_score.csv\n"
     ]
    },
    {
     "output_type": "stream",
     "name": "stderr",
     "text": [
      "\n"
     ]
    }
   ]
  },
  {
   "cell_type": "code",
   "source": [],
   "metadata": {
    "id": "nEmM-SLkG3p0"
   },
   "execution_count": null,
   "outputs": []
  }
 ]
}
