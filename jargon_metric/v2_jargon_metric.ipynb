{
 "cells": [
  {
   "metadata": {
    "ExecuteTime": {
     "end_time": "2024-10-24T07:43:13.238221Z",
     "start_time": "2024-10-24T07:43:12.619204Z"
    }
   },
   "cell_type": "code",
   "source": [
    "import json\n",
    "import os\n",
    "import pandas as pd"
   ],
   "id": "2f62a332fe8ab512",
   "outputs": [],
   "execution_count": 2
  },
  {
   "metadata": {
    "collapsed": true,
    "ExecuteTime": {
     "end_time": "2024-10-24T07:43:13.288989Z",
     "start_time": "2024-10-24T07:43:13.242959Z"
    }
   },
   "cell_type": "code",
   "source": [
    "# Get an overview of the updated dataset\n",
    "\n",
    "# Load the dataset\n",
    "df = pd.read_csv('./data/science_submissions_2022_10.csv')"
   ],
   "id": "initial_id",
   "outputs": [],
   "execution_count": 3
  },
  {
   "metadata": {
    "ExecuteTime": {
     "end_time": "2024-10-24T07:43:13.333276Z",
     "start_time": "2024-10-24T07:43:13.314345Z"
    }
   },
   "cell_type": "code",
   "source": "df.head()",
   "id": "ca7cdc5d6dde1df7",
   "outputs": [
    {
     "data": {
      "text/plain": [
       "       id            author  created_utc subreddit  score  \\\n",
       "0  xsl4ut      MistWeaver80   1664595769   science  20794   \n",
       "1  xsmhqo         [deleted]   1664600103   science      1   \n",
       "2  xsmuda  BoundariesAreFun   1664601279   science    145   \n",
       "3  xsmxjz    TurretLauncher   1664601581   science    365   \n",
       "4  xsmxjz    TurretLauncher   1664601581   science    365   \n",
       "\n",
       "                                                 url  \\\n",
       "0  https://link.springer.com/article/10.1007/s108...   \n",
       "1                                                NaN   \n",
       "2  https://www.insidehighered.com/news/2022/09/29...   \n",
       "3          https://pubmed.ncbi.nlm.nih.gov/36175792/   \n",
       "4          https://pubmed.ncbi.nlm.nih.gov/36175792/   \n",
       "\n",
       "                                               title                   domain  \\\n",
       "0  A new look at an extremely rare female infant ...        link.springer.com   \n",
       "1  Dogs can discriminate between human baseline a...                      NaN   \n",
       "2  New study explores why people drop out or don'...       insidehighered.com   \n",
       "3  Researchers identify the sodium leak channel n...  pubmed.ncbi.nlm.nih.gov   \n",
       "4  Researchers identify the sodium leak channel n...  pubmed.ncbi.nlm.nih.gov   \n",
       "\n",
       "   upvote_ratio link_flair_text author_flair_text  num_comments comment_id  \\\n",
       "0          0.95    Anthropology               NaN         556.0        NaN   \n",
       "1          1.00  Animal Science               NaN           2.0        NaN   \n",
       "2          0.87  Social Science               NaN          62.0        NaN   \n",
       "3          0.94        Medicine               NaN          11.0    iqlc1th   \n",
       "4          0.94        Medicine               NaN          11.0    iqlcbfk   \n",
       "\n",
       "                                             comment comment_url  \n",
       "0                                                NaN         NaN  \n",
       "1                                                NaN         NaN  \n",
       "2                                                NaN         NaN  \n",
       "3  **Abstract**\\n\\nWe identify the sodium leak ch...         NaN  \n",
       "4  **Potential cancer breakthrough as scientists ...         NaN  "
      ],
      "text/html": [
       "<div>\n",
       "<style scoped>\n",
       "    .dataframe tbody tr th:only-of-type {\n",
       "        vertical-align: middle;\n",
       "    }\n",
       "\n",
       "    .dataframe tbody tr th {\n",
       "        vertical-align: top;\n",
       "    }\n",
       "\n",
       "    .dataframe thead th {\n",
       "        text-align: right;\n",
       "    }\n",
       "</style>\n",
       "<table border=\"1\" class=\"dataframe\">\n",
       "  <thead>\n",
       "    <tr style=\"text-align: right;\">\n",
       "      <th></th>\n",
       "      <th>id</th>\n",
       "      <th>author</th>\n",
       "      <th>created_utc</th>\n",
       "      <th>subreddit</th>\n",
       "      <th>score</th>\n",
       "      <th>url</th>\n",
       "      <th>title</th>\n",
       "      <th>domain</th>\n",
       "      <th>upvote_ratio</th>\n",
       "      <th>link_flair_text</th>\n",
       "      <th>author_flair_text</th>\n",
       "      <th>num_comments</th>\n",
       "      <th>comment_id</th>\n",
       "      <th>comment</th>\n",
       "      <th>comment_url</th>\n",
       "    </tr>\n",
       "  </thead>\n",
       "  <tbody>\n",
       "    <tr>\n",
       "      <th>0</th>\n",
       "      <td>xsl4ut</td>\n",
       "      <td>MistWeaver80</td>\n",
       "      <td>1664595769</td>\n",
       "      <td>science</td>\n",
       "      <td>20794</td>\n",
       "      <td>https://link.springer.com/article/10.1007/s108...</td>\n",
       "      <td>A new look at an extremely rare female infant ...</td>\n",
       "      <td>link.springer.com</td>\n",
       "      <td>0.95</td>\n",
       "      <td>Anthropology</td>\n",
       "      <td>NaN</td>\n",
       "      <td>556.0</td>\n",
       "      <td>NaN</td>\n",
       "      <td>NaN</td>\n",
       "      <td>NaN</td>\n",
       "    </tr>\n",
       "    <tr>\n",
       "      <th>1</th>\n",
       "      <td>xsmhqo</td>\n",
       "      <td>[deleted]</td>\n",
       "      <td>1664600103</td>\n",
       "      <td>science</td>\n",
       "      <td>1</td>\n",
       "      <td>NaN</td>\n",
       "      <td>Dogs can discriminate between human baseline a...</td>\n",
       "      <td>NaN</td>\n",
       "      <td>1.00</td>\n",
       "      <td>Animal Science</td>\n",
       "      <td>NaN</td>\n",
       "      <td>2.0</td>\n",
       "      <td>NaN</td>\n",
       "      <td>NaN</td>\n",
       "      <td>NaN</td>\n",
       "    </tr>\n",
       "    <tr>\n",
       "      <th>2</th>\n",
       "      <td>xsmuda</td>\n",
       "      <td>BoundariesAreFun</td>\n",
       "      <td>1664601279</td>\n",
       "      <td>science</td>\n",
       "      <td>145</td>\n",
       "      <td>https://www.insidehighered.com/news/2022/09/29...</td>\n",
       "      <td>New study explores why people drop out or don'...</td>\n",
       "      <td>insidehighered.com</td>\n",
       "      <td>0.87</td>\n",
       "      <td>Social Science</td>\n",
       "      <td>NaN</td>\n",
       "      <td>62.0</td>\n",
       "      <td>NaN</td>\n",
       "      <td>NaN</td>\n",
       "      <td>NaN</td>\n",
       "    </tr>\n",
       "    <tr>\n",
       "      <th>3</th>\n",
       "      <td>xsmxjz</td>\n",
       "      <td>TurretLauncher</td>\n",
       "      <td>1664601581</td>\n",
       "      <td>science</td>\n",
       "      <td>365</td>\n",
       "      <td>https://pubmed.ncbi.nlm.nih.gov/36175792/</td>\n",
       "      <td>Researchers identify the sodium leak channel n...</td>\n",
       "      <td>pubmed.ncbi.nlm.nih.gov</td>\n",
       "      <td>0.94</td>\n",
       "      <td>Medicine</td>\n",
       "      <td>NaN</td>\n",
       "      <td>11.0</td>\n",
       "      <td>iqlc1th</td>\n",
       "      <td>**Abstract**\\n\\nWe identify the sodium leak ch...</td>\n",
       "      <td>NaN</td>\n",
       "    </tr>\n",
       "    <tr>\n",
       "      <th>4</th>\n",
       "      <td>xsmxjz</td>\n",
       "      <td>TurretLauncher</td>\n",
       "      <td>1664601581</td>\n",
       "      <td>science</td>\n",
       "      <td>365</td>\n",
       "      <td>https://pubmed.ncbi.nlm.nih.gov/36175792/</td>\n",
       "      <td>Researchers identify the sodium leak channel n...</td>\n",
       "      <td>pubmed.ncbi.nlm.nih.gov</td>\n",
       "      <td>0.94</td>\n",
       "      <td>Medicine</td>\n",
       "      <td>NaN</td>\n",
       "      <td>11.0</td>\n",
       "      <td>iqlcbfk</td>\n",
       "      <td>**Potential cancer breakthrough as scientists ...</td>\n",
       "      <td>NaN</td>\n",
       "    </tr>\n",
       "  </tbody>\n",
       "</table>\n",
       "</div>"
      ]
     },
     "execution_count": 4,
     "metadata": {},
     "output_type": "execute_result"
    }
   ],
   "execution_count": 4
  },
  {
   "metadata": {
    "ExecuteTime": {
     "end_time": "2024-10-24T07:43:16.482565Z",
     "start_time": "2024-10-24T07:43:13.360543Z"
    }
   },
   "cell_type": "code",
   "source": [
    "# For each post, we will evaluate the jargon metric for the title. We will evaluate the jargon metric for all the subcategories in the belonging category from the link_flair_text column\n",
    "from jargon_metric import jargon_proportions as jp"
   ],
   "id": "8089006085aa3147",
   "outputs": [],
   "execution_count": 5
  },
  {
   "metadata": {
    "ExecuteTime": {
     "end_time": "2024-10-24T07:43:57.077555Z",
     "start_time": "2024-10-24T07:43:57.073302Z"
    }
   },
   "cell_type": "code",
   "source": "",
   "id": "647f444a7ddb7f3",
   "outputs": [
    {
     "name": "stdout",
     "output_type": "stream",
     "text": [
      "0\n",
      "link_flair_text\n",
      "Health               984\n",
      "Environment          285\n",
      "Psychology           259\n",
      "Medicine             246\n",
      "Social Science       246\n",
      "Biology              200\n",
      "Astronomy            174\n",
      "Neuroscience         154\n",
      "Animal Science       133\n",
      "Computer Science     130\n",
      "Cancer                91\n",
      "Earth Science         89\n",
      "Physics               81\n",
      "Epidemiology          74\n",
      "Genetics              69\n",
      "Engineering           51\n",
      "Economics             44\n",
      "Chemistry             41\n",
      "Materials Science     30\n",
      "Anthropology          28\n",
      "Paleontology          24\n",
      "Nanoscience           22\n",
      "Mathematics           13\n",
      "Geology               11\n",
      "Breaking News          5\n",
      "Name: count, dtype: int64\n"
     ]
    }
   ],
   "execution_count": 9
  },
  {
   "metadata": {
    "ExecuteTime": {
     "end_time": "2024-10-24T08:10:18.933427Z",
     "start_time": "2024-10-24T08:10:18.887143Z"
    }
   },
   "cell_type": "code",
   "source": [
    "# For all the posts in each of the files in ./data/science_csvs, calculate the proportion of jargon words (jargon words for the category are defined in reddit_categories_pmi folder with a file named <link_flair_text>) in the title of the post\n",
    "# The results will be saved in a new column in the dataframe\n",
    "\n",
    "# Load the jargon words for each category\n",
    "jargon_words = {}\n",
    "\n",
    "for file in os.listdir('./data/reddit_categories_pmi'):\n",
    "    # Each file contains a list of jargon words for the category with its name. The words are separated by a newline character\n",
    "    with open(f'./data/reddit_categories_pmi/{file}', 'r') as f:\n",
    "        jargon_words[file] = f.read().split('\\n')\n"
   ],
   "id": "1dd411e02e889920",
   "outputs": [],
   "execution_count": 14
  },
  {
   "metadata": {
    "ExecuteTime": {
     "end_time": "2024-10-24T08:10:21.028612Z",
     "start_time": "2024-10-24T08:10:21.025388Z"
    }
   },
   "cell_type": "code",
   "source": "print(jargon_words.keys())",
   "id": "9df7bb1e17d35aee",
   "outputs": [
    {
     "name": "stdout",
     "output_type": "stream",
     "text": [
      "dict_keys(['Anthropology', 'Nanoscience', 'Neuroscience', 'Astronomy', 'Chemistry', 'Health', 'Psychology', 'Mathematics', 'Paleontology', 'Earth Science', 'Epidemiology', 'Materials Science', 'Geology', 'Cancer', 'Computer Science', 'Medicine', 'Economics', 'Environment', 'Genetics', 'Physics', 'Social Science', 'Engineering', 'Animal Science', 'Biology'])\n"
     ]
    }
   ],
   "execution_count": 15
  },
  {
   "metadata": {
    "ExecuteTime": {
     "end_time": "2024-10-24T08:55:08.895354Z",
     "start_time": "2024-10-24T08:55:08.891698Z"
    }
   },
   "cell_type": "code",
   "source": [
    "def calculate_jargon_proportion(text: str, category: str):\n",
    "    \"\"\"\n",
    "    Calculate the proportion of jargon words in the text for the category\n",
    "    \"\"\"\n",
    "    # if category is not a string: return 0\n",
    "    if not isinstance(category, str):\n",
    "        return 0\n",
    "    # Get the jargon words for the category\n",
    "    jargon_words_for_cat = jargon_words[category]\n",
    "    # Calculaate the proportion of jargon words in the text compared to the total amount of words in the text\n",
    "    words = text.split()\n",
    "    num_words = len(words)\n",
    "    if num_words == 0:\n",
    "        return 0\n",
    "    num_jargon_words = len(set(words).intersection(set(jargon_words_for_cat)))\n",
    "    proportion = num_jargon_words / num_words\n",
    "    return proportion\n",
    "\n",
    "    "
   ],
   "id": "64a74b64da81ee6c",
   "outputs": [],
   "execution_count": 37
  },
  {
   "metadata": {},
   "cell_type": "code",
   "source": [
    "\n",
    "num_no_category = 0\n",
    "num_no_title = 0\n",
    "num_no_jargon_words = 0\n",
    "invalid_files = set()\n",
    "invalid_categories = {}\n",
    "invalid_posts = []\n",
    "\n",
    "for file in os.listdir('./data/science_csvs'):\n",
    "    try: \n",
    "        df = pd.read_csv(f'./data/science_csvs/{file}')\n",
    "    except Exception as e:\n",
    "        print(\"Invalid file: \", file)\n",
    "        invalid_files.add(file)\n",
    "        continue\n",
    "    for i, row in df.iterrows():\n",
    "        category = row['link_flair_text']\n",
    "        title = row['title']\n",
    "        if not title:\n",
    "            num_no_title += 1\n",
    "            continue\n",
    "        if not category:\n",
    "            num_no_category += 1\n",
    "            continue\n",
    "        try: \n",
    "            jargon_proportion = calculate_jargon_proportion(title, category)\n",
    "        except KeyError as e:\n",
    "            print(\"Invalid category: \", category)\n",
    "            invalid_posts.append(row[\"id\"])\n",
    "            if category in invalid_categories:\n",
    "                invalid_categories[category] += 1\n",
    "            else:\n",
    "                invalid_categories[category] = 1\n",
    "            continue\n",
    "        df.at[i, 'jargon_proportion'] = jargon_proportion\n",
    "    df.to_csv(f'./data/r_science_jargon_metrics/{file}_jargon.csv', index=False)"
   ],
   "id": "1122dc07baa14a5c",
   "outputs": [],
   "execution_count": null
  },
  {
   "metadata": {
    "ExecuteTime": {
     "end_time": "2024-10-24T09:36:40.255009Z",
     "start_time": "2024-10-24T09:36:40.248803Z"
    }
   },
   "cell_type": "code",
   "source": [
    "# Number of fails: \n",
    "print(f\"Number of invalid categories: {len(invalid_categories)}\")\n",
    "print(f\"Number of invalid posts: {len(invalid_posts)}\")\n",
    "print(f\"Number of posts with no title: {num_no_title}\")\n",
    "print(f\"Number of posts with no category: {num_no_category}\")\n",
    "print(f\"Number of invalid files: {len(invalid_files)}\")\n",
    "\n",
    "#Number of unique invalid posts: \n",
    "print(f\"Number of unique invalid posts: {len(set(invalid_posts))}\")\n",
    "# Number of invalid categories that do not end with AMA:\n",
    "print(f\"Number of invalid categories that do not end with AMA: {len([category for category in invalid_categories.keys() if not category.endswith('AMA')])}\")"
   ],
   "id": "c0cec5857e772ce8",
   "outputs": [
    {
     "name": "stdout",
     "output_type": "stream",
     "text": [
      "Number of invalid categories: 630\n",
      "Number of invalid posts: 49986\n",
      "Number of posts with no title: 0\n",
      "Number of posts with no category: 0\n",
      "Number of invalid files: 1\n",
      "Number of unique invalid posts: 981\n",
      "Number of invalid categories that do not end with AMA: 107\n"
     ]
    }
   ],
   "execution_count": 51
  },
  {
   "metadata": {
    "ExecuteTime": {
     "end_time": "2024-10-24T09:14:54.598109Z",
     "start_time": "2024-10-24T09:14:54.594795Z"
    }
   },
   "cell_type": "code",
   "source": [
    "# print the invalid categories that do not end with AMA: \n",
    "\n"
   ],
   "id": "ac869bfd2f02e77c",
   "outputs": [
    {
     "name": "stdout",
     "output_type": "stream",
     "text": [
      "107\n",
      "['DNA Day Series | Genomics', 'Best of r/science', 'Food Chemistry', 'Social Media Discussion', 'Race in Applied Science Discussion', 'Air Purification', 'Meta', 'Computer Sci', 'Science Discussion', 'Deaths + injuries', 'Diversity in Stem Discussion', 'Marine Ecology in Coastal Systems', 'Includes treatment', 'Police Discussion', 'Climate Discussion', 'Ape Communication', 'March for Science Discussion', 'Breaking News', 'Realistic Robots', 'CRISPR Babies Discussion', 'Citizen science and the Flint water crisis', 'Extremophiles', 'Psychology - Author in Comments', 'Nobel Prize Discussion', 'Pet for Better Mental Health', 'Health Inequity Discussion', 'Science Communication', 'Science Political Action', 'NASA Kepler Mission', 'DNA Day Series | The Cancer Genome Atlas', 'Possibly Misleading', 'Personal Genomics Discussion', 'RETRACTED - Biology', 'Harmful Algal Bloom Oceanography', 'Announcement', 'Traumatic Brain Injury Discussion', 'Climate Change Communication', 'RETRACTED - Social Science', 'History of Science', 'Subreddit Feature', 'Modpost', 'Extending the healthy lifespan', 'test', 'Diversity in STEM', 'News', 'Science AMA Policies', 'Economic Inequity Discussion', 'Net Neutrality', 'Antarctic Paleontology', 'Test post, ignore', 'Mechanical Engineering', 'DNA Day Series | National Society of Genetic Counselors', 'American Geophysical Union', 'AMA Audio', 'DNA Research Discussion', 'Swimming Pool Chemistry', 'Discussion', 'RETRACTED - Medicine', 'Animal Model Discussion', 'COVID-19 Discussion', 'Retraction', 'Water Discussion', 'RETRACTED - Epidemiology', 'In a Petri Dish', 'fucntion test ama', 'Psychology Discussion', 'Speech, Music, Mind Discussion', 'Underwater Robots', 'Subreddit Policy', 'RETRACTED - Health', 'Psychopathic Behavior', 'Fungal Pathogens', 'Subreddit Rule Change', 'In Mice', 'DNA Day Series | National Institutes of Health', 'Planetary Exploration', 'Cannabis Discussion', 'Misleading', 'Conservation Panel Discussion ', 'Adolescent Health', 'Building the World’s Largest Telescope', '/r/science @ SXSW', 'Subreddit News', 'Official /r/Science Experiment Results', 'Dietary Guidelines', 'Subreddit Discussion', 'Unanswered Questions in Science', 'AMA: Microbes, Health, and Society', 'PDF - Psychology', 'Health Disparities Discussion', 'DNA Day Series | Regeneron Pharmaceuticals', 'Neuroscience training', 'Misleading Title', 'Hurricane Research', 'Ice on Mars', 'Forensic Chemistry', 'Tornado! Talk Severe Weather Research &amp; Prediction with NOAA', 'Psychology: Potentially Misleading Title', 'Neutrinos Discussion', 'Computational Science', 'Sonia and Eric | Prion Disease | Broad Institute', 'Microbes and Gut Health Discussion', 'Sexual Health Discussion', 'Black Mental Health Discussion', 'Battery Discussion Series', 'Not-quite-crazy Physics', 'COVID-19 Research Discussion']\n"
     ]
    }
   ],
   "execution_count": 46
  },
  {
   "metadata": {},
   "cell_type": "code",
   "outputs": [],
   "execution_count": null,
   "source": "",
   "id": "686688a70b18d506"
  }
 ],
 "metadata": {
  "kernelspec": {
   "display_name": "Python 3",
   "language": "python",
   "name": "python3"
  },
  "language_info": {
   "codemirror_mode": {
    "name": "ipython",
    "version": 2
   },
   "file_extension": ".py",
   "mimetype": "text/x-python",
   "name": "python",
   "nbconvert_exporter": "python",
   "pygments_lexer": "ipython2",
   "version": "2.7.6"
  }
 },
 "nbformat": 4,
 "nbformat_minor": 5
}
