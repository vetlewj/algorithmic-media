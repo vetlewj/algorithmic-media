{
 "cells": [
  {
   "metadata": {
    "ExecuteTime": {
     "end_time": "2024-10-21T06:00:54.786337Z",
     "start_time": "2024-10-21T06:00:54.783565Z"
    }
   },
   "cell_type": "code",
   "source": [
    "import json\n",
    "import os\n",
    "import pandas as pd"
   ],
   "id": "2f62a332fe8ab512",
   "outputs": [],
   "execution_count": 10
  },
  {
   "metadata": {
    "collapsed": true,
    "ExecuteTime": {
     "end_time": "2024-10-21T05:40:51.369726Z",
     "start_time": "2024-10-21T05:40:51.328033Z"
    }
   },
   "cell_type": "code",
   "source": [
    "# Get an overview of the updated dataset\n",
    "\n",
    "# Load the dataset\n",
    "df = pd.read_csv('./data/science_submissions_2022_10.csv')"
   ],
   "id": "initial_id",
   "outputs": [],
   "execution_count": 3
  },
  {
   "metadata": {
    "ExecuteTime": {
     "end_time": "2024-10-21T05:41:03.659246Z",
     "start_time": "2024-10-21T05:41:03.651718Z"
    }
   },
   "cell_type": "code",
   "source": "print(df.head())",
   "id": "ca7cdc5d6dde1df7",
   "outputs": [
    {
     "name": "stdout",
     "output_type": "stream",
     "text": [
      "       id            author  created_utc subreddit  score  \\\n",
      "0  xsl4ut      MistWeaver80   1664595769   science  20794   \n",
      "1  xsmhqo         [deleted]   1664600103   science      1   \n",
      "2  xsmuda  BoundariesAreFun   1664601279   science    145   \n",
      "3  xsmxjz    TurretLauncher   1664601581   science    365   \n",
      "4  xsmxjz    TurretLauncher   1664601581   science    365   \n",
      "\n",
      "                                                 url  \\\n",
      "0  https://link.springer.com/article/10.1007/s108...   \n",
      "1                                                NaN   \n",
      "2  https://www.insidehighered.com/news/2022/09/29...   \n",
      "3          https://pubmed.ncbi.nlm.nih.gov/36175792/   \n",
      "4          https://pubmed.ncbi.nlm.nih.gov/36175792/   \n",
      "\n",
      "                                               title                   domain  \\\n",
      "0  A new look at an extremely rare female infant ...        link.springer.com   \n",
      "1  Dogs can discriminate between human baseline a...                      NaN   \n",
      "2  New study explores why people drop out or don'...       insidehighered.com   \n",
      "3  Researchers identify the sodium leak channel n...  pubmed.ncbi.nlm.nih.gov   \n",
      "4  Researchers identify the sodium leak channel n...  pubmed.ncbi.nlm.nih.gov   \n",
      "\n",
      "   upvote_ratio link_flair_text author_flair_text  num_comments comment_id  \\\n",
      "0          0.95    Anthropology               NaN         556.0        NaN   \n",
      "1          1.00  Animal Science               NaN           2.0        NaN   \n",
      "2          0.87  Social Science               NaN          62.0        NaN   \n",
      "3          0.94        Medicine               NaN          11.0    iqlc1th   \n",
      "4          0.94        Medicine               NaN          11.0    iqlcbfk   \n",
      "\n",
      "                                             comment comment_url  \n",
      "0                                                NaN         NaN  \n",
      "1                                                NaN         NaN  \n",
      "2                                                NaN         NaN  \n",
      "3  **Abstract**\\n\\nWe identify the sodium leak ch...         NaN  \n",
      "4  **Potential cancer breakthrough as scientists ...         NaN  \n"
     ]
    }
   ],
   "execution_count": 4
  },
  {
   "metadata": {
    "ExecuteTime": {
     "end_time": "2024-10-21T05:45:01.526129Z",
     "start_time": "2024-10-21T05:45:01.521553Z"
    }
   },
   "cell_type": "code",
   "source": [
    "# These are the available categories at r/science: \n",
    "\"\"\" \n",
    "Animal Science\n",
    "Anthropology\n",
    "Astronomy\n",
    "Biology\n",
    "Cancer\n",
    "Chemistry\n",
    "Computer Science\n",
    "Earth Science\n",
    "Economics\n",
    "Engineering\n",
    "Environment\n",
    "Epidemiology\n",
    "Genetics\n",
    "Geology\n",
    "Health\n",
    "Materials Science\n",
    "Mathematics\n",
    "Medicine\n",
    "Nanoscience\n",
    "Neuroscience\n",
    "Paleontology\n",
    "Physics\n",
    "Psychology\n",
    "Social Science\n",
    "\"\"\"\n",
    "\n",
    "# Available categories in data/category folder: \n",
    "categories = os.listdir('./data/category')\n",
    "print(categories)\n",
    "print(len(categories))"
   ],
   "id": "958d6cdb774ca10b",
   "outputs": [
    {
     "name": "stdout",
     "output_type": "stream",
     "text": [
      "['OTHER mathematics', 'statistics', 'orthodontics', 'machine learning', 'programming language', 'background', 'cardiology', 'mathematical analysis', 'accounting', 'embedded system', 'nanotechnology', 'gender studies', 'OTHER computer science', 'database', 'control theory', 'pedagogy', 'public administration', 'topology', 'OTHER chemistry', 'geomorphology', 'data mining', 'computational biology', 'engineering drawing', 'visual arts', 'parallel computing', 'economy', 'transport engineering', 'actuarial science', 'knowledge management', 'natural resource economics', 'neuroscience', 'archaeology', 'public relations', 'engineering ethics', 'computational physics', 'food science', 'astronomy', 'oceanography', 'classics', 'process management', 'psychoanalysis', 'astrophysics', 'artificial intelligence', 'nuclear chemistry', 'quantum mechanics', 'literature', 'physical geography', 'environmental economics', 'anatomy', 'labour economics', 'human–computer interaction', 'OTHER environmental science', 'geotechnical engineering', 'chemical physics', 'management science', 'endocrinology', 'financial economics', 'particle physics', 'meteorology', 'stereochemistry', 'international trade', 'evolutionary biology', 'computer vision', 'family medicine', 'humanities', 'hydrology', 'political economy', 'risk analysis (engineering)', 'process engineering', 'demographic economics', 'world wide web', 'microeconomics', 'computer graphics (images)', 'chromatography', 'metallurgy', 'theoretical physics', 'industrial organization', 'acoustics', 'analytical chemistry', 'electronic engineering', 'operating system', 'applied psychology', 'theoretical computer science', 'library science', 'natural language processing', 'economic growth', 'internet privacy', 'fishery', 'OTHER materials science', 'clinical psychology', 'law', 'chemical engineering', 'agronomy', 'reliability engineering', 'economic system', 'manufacturing engineering', 'radiology', 'cell biology', 'developmental psychology', 'nuclear medicine', 'distributed computing', 'OTHER business', 'crystallography', 'surgery', 'mathematics education', 'agricultural economics', 'management', 'physiology', 'OTHER philosophy', 'media studies', 'simulation', 'environmental health', 'photochemistry', 'econometrics', 'biotechnology', 'mechanics', 'thermodynamics', 'paleontology', 'art history', 'cognitive science', 'monetary economics', 'filename_0.1', 'statistical physics', 'OTHER sociology', 'general surgery', 'nuclear magnetic resonance', 'obstetrics', 'mathematical optimization', 'combinatorial chemistry', 'algorithm', 'organic chemistry', 'condensed matter physics', 'gynecology', 'botany', 'OTHER physics', 'structural engineering', 'operations research', 'veterinary medicine', 'speech recognition', 'immunology', 'ancient history', 'pharmacology', 'applied mathematics', 'biomedical engineering', 'pathology', 'andrology', 'OTHER engineering', 'agroforestry', 'nursing', 'biochemistry', 'forensic engineering', 'OTHER medicine', 'physical chemistry', 'civil engineering', 'anesthesia', 'molecular physics', 'OTHER psychology', 'medical education', 'operations management', 'atomic physics', 'marine engineering', 'biological system', 'molecular biology', 'OTHER political science', 'microbiology', 'physical therapy', 'soil science', 'data science', 'medical emergency', 'waste management', 'demography', 'criminology', 'traditional medicine', 'toxicology', 'pulp and paper industry', 'pattern recognition', 'law and economics', 'public economics', 'real-time computing', 'multimedia', 'environmental ethics', 'market economy', 'computer network', 'computer security', 'OTHER geography', 'medicinal chemistry', 'mathematical physics', 'optoelectronics', 'computer hardware', 'linguistics', 'composite material', 'combinatorics', 'OTHER biology', 'horticulture', 'pure mathematics', 'epistemology', 'climatology', 'polymer chemistry', 'advertising', 'environmental resource management', 'psychotherapist', 'marketing', 'oncology', 'gerontology', 'emergency medicine', 'finance', 'cancer research', 'petroleum engineering', 'remote sensing', 'inorganic chemistry', 'computational chemistry', 'internal medicine', 'social psychology', 'discrete mathematics', 'automotive engineering', 'genetics', 'OTHER geology', 'ecology', 'gastroenterology', 'ophthalmology', 'biophysics', 'control engineering', 'geometry', 'pediatrics', 'virology', 'communication', 'mechanical engineering', 'development economics', 'information retrieval', 'environmental chemistry', 'medical physics', 'intensive care medicine', 'cognitive psychology', 'urology', 'nuclear engineering', 'environmental engineering', 'dentistry', 'zoology', 'environmental planning', 'aesthetics', 'OTHER history', 'electrical engineering', 'classical mechanics', 'OTHER none', 'socioeconomics', 'bioinformatics', 'social science', 'mineralogy', 'physical medicine and rehabilitation', 'OTHER economics', 'geochemistry', 'telecommunications', 'environmental protection', 'dermatology', 'nuclear physics', 'seismology', 'psychiatry', 'animal science', 'algebra', 'software engineering', 'optics', 'systems engineering', 'engineering management', 'atmospheric sciences', 'audiology']\n",
      "265\n"
     ]
    }
   ],
   "execution_count": 9
  },
  {
   "metadata": {
    "ExecuteTime": {
     "end_time": "2024-10-21T06:01:07.842967Z",
     "start_time": "2024-10-21T06:01:07.840116Z"
    }
   },
   "cell_type": "code",
   "source": [
    "# Categories were categorized by ChatGPT o1-preview: https://chatgpt.com/share/6715ed13-80b0-8004-b9d1-878e5cbb5051\n",
    "# The categories have not been evaluated and are at the moment only meant for testing purposes\n",
    "\n",
    "with open('science_dict_categories.json', 'r') as file:\n",
    "    data = json.load(file)"
   ],
   "id": "496e4651aa504909",
   "outputs": [],
   "execution_count": 12
  },
  {
   "metadata": {
    "ExecuteTime": {
     "end_time": "2024-10-21T06:06:58.769600Z",
     "start_time": "2024-10-21T06:06:58.766653Z"
    }
   },
   "cell_type": "code",
   "source": [
    "# Check the categories\n",
    "\n",
    "# The categories that chatgpt was not able to recognize are in the 'other' category\n",
    "print(data['Other'])\n",
    "\n"
   ],
   "id": "b7eee48f58f2fabf",
   "outputs": [
    {
     "name": "stdout",
     "output_type": "stream",
     "text": [
      "['background', 'visual arts', 'classics', 'literature', 'art history', 'media studies', 'filename_0.1', 'law', 'management', 'library science', 'marketing', 'knowledge management', 'epistemology', 'aesthetics', 'communication', 'OTHER sociology', 'OTHER philosophy', 'OTHER history', 'OTHER geography', 'OTHER business', 'OTHER none', 'OTHER political science', 'ancient history', 'law', 'public relations', 'epistemology', 'management', 'filename_0.1', 'literature', 'visual arts', 'art history', 'classics', 'aesthetics', 'communication', 'library science', 'media studies', 'epistemology']\n"
     ]
    }
   ],
   "execution_count": 17
  },
  {
   "metadata": {
    "ExecuteTime": {
     "end_time": "2024-10-21T06:05:28.391308Z",
     "start_time": "2024-10-21T06:05:28.384986Z"
    }
   },
   "cell_type": "code",
   "source": [
    "# The posts' categories in the dataset is in the 'link_flair_text' column\n",
    "print(df['link_flair_text'].unique())"
   ],
   "id": "d61aa11e9b30a0b1",
   "outputs": [
    {
     "name": "stdout",
     "output_type": "stream",
     "text": [
      "['Anthropology' 'Animal Science' 'Social Science' 'Medicine' 'Psychology'\n",
      " 'Materials Science' 'Environment' 'Health' 'Cancer' 'Earth Science'\n",
      " 'Genetics' 'Engineering' 'Nanoscience' 'Computer Science' 'Economics'\n",
      " 'Epidemiology' 'Biology' 'Neuroscience' 'Chemistry' 'Astronomy' 'Physics'\n",
      " 'Geology' 'Mathematics' 'Paleontology' 'Breaking News']\n"
     ]
    }
   ],
   "execution_count": 14
  },
  {
   "metadata": {},
   "cell_type": "code",
   "outputs": [],
   "execution_count": null,
   "source": "",
   "id": "8089006085aa3147"
  }
 ],
 "metadata": {
  "kernelspec": {
   "display_name": "Python 3",
   "language": "python",
   "name": "python3"
  },
  "language_info": {
   "codemirror_mode": {
    "name": "ipython",
    "version": 2
   },
   "file_extension": ".py",
   "mimetype": "text/x-python",
   "name": "python",
   "nbconvert_exporter": "python",
   "pygments_lexer": "ipython2",
   "version": "2.7.6"
  }
 },
 "nbformat": 4,
 "nbformat_minor": 5
}
