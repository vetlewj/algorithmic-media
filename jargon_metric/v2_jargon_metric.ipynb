{
 "cells": [
  {
   "metadata": {
    "ExecuteTime": {
     "end_time": "2024-10-25T18:15:30.984787Z",
     "start_time": "2024-10-25T18:15:30.404985Z"
    }
   },
   "cell_type": "code",
   "source": [
    "import json\n",
    "import os\n",
    "import pandas as pd\n",
    "from jedi.inference.helpers import is_string"
   ],
   "id": "2f62a332fe8ab512",
   "outputs": [],
   "execution_count": 1
  },
  {
   "metadata": {
    "collapsed": true,
    "ExecuteTime": {
     "end_time": "2024-10-25T18:15:31.046424Z",
     "start_time": "2024-10-25T18:15:30.996352Z"
    }
   },
   "cell_type": "code",
   "source": [
    "# Get an overview of the updated dataset\n",
    "\n",
    "# Load the dataset\n",
    "df = pd.read_csv('./data/science_submissions_2022_10.csv')"
   ],
   "id": "initial_id",
   "outputs": [],
   "execution_count": 2
  },
  {
   "metadata": {
    "ExecuteTime": {
     "end_time": "2024-10-25T18:15:31.221933Z",
     "start_time": "2024-10-25T18:15:31.206312Z"
    }
   },
   "cell_type": "code",
   "source": "df.head()",
   "id": "ca7cdc5d6dde1df7",
   "outputs": [
    {
     "data": {
      "text/plain": [
       "       id            author  created_utc subreddit  score  \\\n",
       "0  xsl4ut      MistWeaver80   1664595769   science  20794   \n",
       "1  xsmhqo         [deleted]   1664600103   science      1   \n",
       "2  xsmuda  BoundariesAreFun   1664601279   science    145   \n",
       "3  xsmxjz    TurretLauncher   1664601581   science    365   \n",
       "4  xsmxjz    TurretLauncher   1664601581   science    365   \n",
       "\n",
       "                                                 url  \\\n",
       "0  https://link.springer.com/article/10.1007/s108...   \n",
       "1                                                NaN   \n",
       "2  https://www.insidehighered.com/news/2022/09/29...   \n",
       "3          https://pubmed.ncbi.nlm.nih.gov/36175792/   \n",
       "4          https://pubmed.ncbi.nlm.nih.gov/36175792/   \n",
       "\n",
       "                                               title                   domain  \\\n",
       "0  A new look at an extremely rare female infant ...        link.springer.com   \n",
       "1  Dogs can discriminate between human baseline a...                      NaN   \n",
       "2  New study explores why people drop out or don'...       insidehighered.com   \n",
       "3  Researchers identify the sodium leak channel n...  pubmed.ncbi.nlm.nih.gov   \n",
       "4  Researchers identify the sodium leak channel n...  pubmed.ncbi.nlm.nih.gov   \n",
       "\n",
       "   upvote_ratio link_flair_text author_flair_text  num_comments comment_id  \\\n",
       "0          0.95    Anthropology               NaN         556.0        NaN   \n",
       "1          1.00  Animal Science               NaN           2.0        NaN   \n",
       "2          0.87  Social Science               NaN          62.0        NaN   \n",
       "3          0.94        Medicine               NaN          11.0    iqlc1th   \n",
       "4          0.94        Medicine               NaN          11.0    iqlcbfk   \n",
       "\n",
       "                                             comment comment_url  \n",
       "0                                                NaN         NaN  \n",
       "1                                                NaN         NaN  \n",
       "2                                                NaN         NaN  \n",
       "3  **Abstract**\\n\\nWe identify the sodium leak ch...         NaN  \n",
       "4  **Potential cancer breakthrough as scientists ...         NaN  "
      ],
      "text/html": [
       "<div>\n",
       "<style scoped>\n",
       "    .dataframe tbody tr th:only-of-type {\n",
       "        vertical-align: middle;\n",
       "    }\n",
       "\n",
       "    .dataframe tbody tr th {\n",
       "        vertical-align: top;\n",
       "    }\n",
       "\n",
       "    .dataframe thead th {\n",
       "        text-align: right;\n",
       "    }\n",
       "</style>\n",
       "<table border=\"1\" class=\"dataframe\">\n",
       "  <thead>\n",
       "    <tr style=\"text-align: right;\">\n",
       "      <th></th>\n",
       "      <th>id</th>\n",
       "      <th>author</th>\n",
       "      <th>created_utc</th>\n",
       "      <th>subreddit</th>\n",
       "      <th>score</th>\n",
       "      <th>url</th>\n",
       "      <th>title</th>\n",
       "      <th>domain</th>\n",
       "      <th>upvote_ratio</th>\n",
       "      <th>link_flair_text</th>\n",
       "      <th>author_flair_text</th>\n",
       "      <th>num_comments</th>\n",
       "      <th>comment_id</th>\n",
       "      <th>comment</th>\n",
       "      <th>comment_url</th>\n",
       "    </tr>\n",
       "  </thead>\n",
       "  <tbody>\n",
       "    <tr>\n",
       "      <th>0</th>\n",
       "      <td>xsl4ut</td>\n",
       "      <td>MistWeaver80</td>\n",
       "      <td>1664595769</td>\n",
       "      <td>science</td>\n",
       "      <td>20794</td>\n",
       "      <td>https://link.springer.com/article/10.1007/s108...</td>\n",
       "      <td>A new look at an extremely rare female infant ...</td>\n",
       "      <td>link.springer.com</td>\n",
       "      <td>0.95</td>\n",
       "      <td>Anthropology</td>\n",
       "      <td>NaN</td>\n",
       "      <td>556.0</td>\n",
       "      <td>NaN</td>\n",
       "      <td>NaN</td>\n",
       "      <td>NaN</td>\n",
       "    </tr>\n",
       "    <tr>\n",
       "      <th>1</th>\n",
       "      <td>xsmhqo</td>\n",
       "      <td>[deleted]</td>\n",
       "      <td>1664600103</td>\n",
       "      <td>science</td>\n",
       "      <td>1</td>\n",
       "      <td>NaN</td>\n",
       "      <td>Dogs can discriminate between human baseline a...</td>\n",
       "      <td>NaN</td>\n",
       "      <td>1.00</td>\n",
       "      <td>Animal Science</td>\n",
       "      <td>NaN</td>\n",
       "      <td>2.0</td>\n",
       "      <td>NaN</td>\n",
       "      <td>NaN</td>\n",
       "      <td>NaN</td>\n",
       "    </tr>\n",
       "    <tr>\n",
       "      <th>2</th>\n",
       "      <td>xsmuda</td>\n",
       "      <td>BoundariesAreFun</td>\n",
       "      <td>1664601279</td>\n",
       "      <td>science</td>\n",
       "      <td>145</td>\n",
       "      <td>https://www.insidehighered.com/news/2022/09/29...</td>\n",
       "      <td>New study explores why people drop out or don'...</td>\n",
       "      <td>insidehighered.com</td>\n",
       "      <td>0.87</td>\n",
       "      <td>Social Science</td>\n",
       "      <td>NaN</td>\n",
       "      <td>62.0</td>\n",
       "      <td>NaN</td>\n",
       "      <td>NaN</td>\n",
       "      <td>NaN</td>\n",
       "    </tr>\n",
       "    <tr>\n",
       "      <th>3</th>\n",
       "      <td>xsmxjz</td>\n",
       "      <td>TurretLauncher</td>\n",
       "      <td>1664601581</td>\n",
       "      <td>science</td>\n",
       "      <td>365</td>\n",
       "      <td>https://pubmed.ncbi.nlm.nih.gov/36175792/</td>\n",
       "      <td>Researchers identify the sodium leak channel n...</td>\n",
       "      <td>pubmed.ncbi.nlm.nih.gov</td>\n",
       "      <td>0.94</td>\n",
       "      <td>Medicine</td>\n",
       "      <td>NaN</td>\n",
       "      <td>11.0</td>\n",
       "      <td>iqlc1th</td>\n",
       "      <td>**Abstract**\\n\\nWe identify the sodium leak ch...</td>\n",
       "      <td>NaN</td>\n",
       "    </tr>\n",
       "    <tr>\n",
       "      <th>4</th>\n",
       "      <td>xsmxjz</td>\n",
       "      <td>TurretLauncher</td>\n",
       "      <td>1664601581</td>\n",
       "      <td>science</td>\n",
       "      <td>365</td>\n",
       "      <td>https://pubmed.ncbi.nlm.nih.gov/36175792/</td>\n",
       "      <td>Researchers identify the sodium leak channel n...</td>\n",
       "      <td>pubmed.ncbi.nlm.nih.gov</td>\n",
       "      <td>0.94</td>\n",
       "      <td>Medicine</td>\n",
       "      <td>NaN</td>\n",
       "      <td>11.0</td>\n",
       "      <td>iqlcbfk</td>\n",
       "      <td>**Potential cancer breakthrough as scientists ...</td>\n",
       "      <td>NaN</td>\n",
       "    </tr>\n",
       "  </tbody>\n",
       "</table>\n",
       "</div>"
      ]
     },
     "execution_count": 3,
     "metadata": {},
     "output_type": "execute_result"
    }
   ],
   "execution_count": 3
  },
  {
   "metadata": {
    "ExecuteTime": {
     "end_time": "2024-10-25T18:15:34.266171Z",
     "start_time": "2024-10-25T18:15:31.248229Z"
    }
   },
   "cell_type": "code",
   "source": [
    "# For each post, we will evaluate the jargon metric for the title. We will evaluate the jargon metric for all the subcategories in the belonging category from the link_flair_text column\n",
    "from jargon_metric import jargon_proportions as jp"
   ],
   "id": "8089006085aa3147",
   "outputs": [],
   "execution_count": 4
  },
  {
   "metadata": {
    "ExecuteTime": {
     "end_time": "2024-10-25T18:15:34.300562Z",
     "start_time": "2024-10-25T18:15:34.298775Z"
    }
   },
   "cell_type": "code",
   "source": "",
   "id": "647f444a7ddb7f3",
   "outputs": [],
   "execution_count": null
  },
  {
   "metadata": {
    "ExecuteTime": {
     "end_time": "2024-10-25T18:15:34.357888Z",
     "start_time": "2024-10-25T18:15:34.304253Z"
    }
   },
   "cell_type": "code",
   "source": [
    "# For all the posts in each of the files in ./data/science_csvs, calculate the proportion of jargon words (jargon words for the category are defined in reddit_categories_pmi folder with a file named <link_flair_text>) in the title of the post\n",
    "# The results will be saved in a new column in the dataframe\n",
    "\n",
    "# Load the jargon words for each category\n",
    "jargon_words = {}\n",
    "\n",
    "for file in os.listdir('./data/reddit_categories_pmi'):\n",
    "    # Each file contains a list of jargon words for the category with its name. The words are separated by a newline character\n",
    "    with open(f'./data/reddit_categories_pmi/{file}', 'r') as f:\n",
    "        jargon_words[file] = f.read().split('\\n')\n"
   ],
   "id": "1dd411e02e889920",
   "outputs": [],
   "execution_count": 5
  },
  {
   "metadata": {
    "ExecuteTime": {
     "end_time": "2024-10-25T18:15:34.404491Z",
     "start_time": "2024-10-25T18:15:34.401693Z"
    }
   },
   "cell_type": "code",
   "source": "print(jargon_words.keys())",
   "id": "9df7bb1e17d35aee",
   "outputs": [
    {
     "name": "stdout",
     "output_type": "stream",
     "text": [
      "dict_keys(['Anthropology', 'Nanoscience', 'Neuroscience', 'Astronomy', 'Chemistry', 'Health', 'Psychology', 'Mathematics', 'Paleontology', 'Earth Science', 'Epidemiology', 'Materials Science', 'Geology', 'Cancer', 'Computer Science', 'Medicine', 'Economics', 'Environment', 'Genetics', 'Physics', 'Social Science', 'Engineering', 'Animal Science', 'Biology'])\n"
     ]
    }
   ],
   "execution_count": 6
  },
  {
   "metadata": {
    "ExecuteTime": {
     "end_time": "2024-10-25T18:15:34.414809Z",
     "start_time": "2024-10-25T18:15:34.411660Z"
    }
   },
   "cell_type": "code",
   "source": [
    "def calculate_jargon_proportion(text: str, category: str):\n",
    "    \"\"\"\n",
    "    Calculate the proportion of jargon words in the text for the category\n",
    "    \"\"\"\n",
    "    # if category is not a string: return 0\n",
    "    if not isinstance(category, str):\n",
    "        return 0\n",
    "    # Get the jargon words for the category\n",
    "    jargon_words_for_cat = jargon_words[category]\n",
    "    # Calculaate the proportion of jargon words in the text compared to the total amount of words in the text\n",
    "    words = text.split()\n",
    "    num_words = len(words)\n",
    "    if num_words == 0:\n",
    "        return 0\n",
    "    num_jargon_words = len(set(words).intersection(set(jargon_words_for_cat)))\n",
    "    proportion = num_jargon_words / num_words\n",
    "    return proportion\n",
    "\n",
    "    "
   ],
   "id": "64a74b64da81ee6c",
   "outputs": [],
   "execution_count": 7
  },
  {
   "metadata": {
    "ExecuteTime": {
     "end_time": "2024-10-25T18:28:48.311536Z",
     "start_time": "2024-10-25T18:23:25.397878Z"
    }
   },
   "cell_type": "code",
   "source": [
    "\n",
    "num_no_category = 0\n",
    "num_no_title = 0\n",
    "num_no_jargon_words = 0\n",
    "invalid_files = set()\n",
    "invalid_categories = {}\n",
    "invalid_posts = []\n",
    "posts_read = set()\n",
    "num_irrelevant_categories = 0\n",
    "\n",
    "for file in os.listdir('./data/science_csvs'):\n",
    "    try: \n",
    "        df = pd.read_csv(f'./data/science_csvs/{file}')\n",
    "    except Exception as e:\n",
    "        print(\"Invalid file: \", file)\n",
    "        invalid_files.add(file)\n",
    "        continue\n",
    "    for i, row in df.iterrows():\n",
    "        post_id = row['id']\n",
    "        if post_id in posts_read:\n",
    "            continue\n",
    "        category = row['link_flair_text']\n",
    "        # filter away categories we dont want to include\n",
    "        # We dont want to include AMA categories (they end with AMA), or dicussion categories\n",
    "        if not category or not isinstance(category, str) or category.endswith('AMA') or category.endswith('Discussion'):\n",
    "            num_irrelevant_categories += 1\n",
    "            continue\n",
    "        if category == \"Computer Sci\": \n",
    "            category = \"Computer Science\"\n",
    "        title = row['title']\n",
    "        posts_read.add(post_id)\n",
    "        if not title:\n",
    "            num_no_title += 1\n",
    "            continue\n",
    "        if not category:\n",
    "            num_no_category += 1\n",
    "            continue\n",
    "        try: \n",
    "            jargon_proportion = calculate_jargon_proportion(title, category)\n",
    "        except KeyError as e:\n",
    "            invalid_posts.append(id)\n",
    "            if category in invalid_categories:\n",
    "                invalid_categories[category] += 1\n",
    "            else:\n",
    "                invalid_categories[category] = 1\n",
    "            continue\n",
    "        df.at[i, 'jargon_proportion'] = jargon_proportion\n",
    "    df.to_csv(f'./data/r_science_jargon_metrics/{file}_jargon.csv', index=False)"
   ],
   "id": "1122dc07baa14a5c",
   "outputs": [
    {
     "name": "stdout",
     "output_type": "stream",
     "text": [
      "Invalid category:  Planetary Exploration\n",
      "Invalid category:  Ape Communication\n",
      "Invalid category:  Swimming Pool Chemistry\n",
      "Invalid category:  Meta\n",
      "Invalid category:  Meta\n",
      "Invalid category:  Meta\n",
      "Invalid category:  History of Science\n",
      "Invalid category:  Diversity in STEM\n",
      "Invalid category:  Diversity in STEM\n",
      "Invalid category:  Possibly Misleading\n",
      "Invalid category:  Meta\n",
      "Invalid category:  Science Communication\n",
      "Invalid category:  Marine Ecology in Coastal Systems\n",
      "Invalid category:  Hurricane Research\n",
      "Invalid category:  News\n",
      "Invalid category:  Subreddit News\n",
      "Invalid file:  .DS_Store\n",
      "Invalid category:  Best of r/science\n",
      "Invalid category:  Misleading Title\n",
      "Invalid category:  Misleading Title\n",
      "Invalid category:  Battery Discussion Series\n",
      "Invalid category:  Breaking News\n",
      "Invalid category:  Breaking News\n",
      "Invalid category:  Breaking News\n",
      "Invalid category:  Breaking News\n",
      "Invalid category:  Best of r/science\n",
      "Invalid category:  Science Political Action\n",
      "Invalid category:  Breaking News\n",
      "Invalid category:  Retraction\n",
      "Invalid category:  Misleading Title\n",
      "Invalid category:  Misleading Title\n",
      "Invalid category:  AMA: Microbes, Health, and Society\n",
      "Invalid category:  Net Neutrality\n",
      "Invalid category:  Citizen science and the Flint water crisis\n",
      "Invalid category:  Test post, ignore\n",
      "Invalid category:  Extremophiles\n",
      "Invalid category:  Adolescent Health\n",
      "Invalid category:  RETRACTED - Epidemiology\n",
      "Invalid category:  RETRACTED - Medicine\n",
      "Invalid category:  Retraction\n",
      "Invalid category:  Retraction\n",
      "Invalid category:  Breaking News\n",
      "Invalid category:  Retraction\n",
      "Invalid category:  RETRACTED - Health\n",
      "Invalid category:  RETRACTED - Medicine\n",
      "Invalid category:  RETRACTED - Biology\n",
      "Invalid category:  RETRACTED - Epidemiology\n",
      "Invalid category:  RETRACTED - Biology\n",
      "Invalid category:  RETRACTED - Medicine\n",
      "Invalid category:  Subreddit Policy\n",
      "Invalid category:  Unanswered Questions in Science\n",
      "Invalid category:  Modpost\n",
      "Invalid category:  Breaking News\n",
      "Invalid category:  Breaking News\n",
      "Invalid category:  Breaking News\n",
      "Invalid category:  Breaking News\n",
      "Invalid category:  Computational Science\n",
      "Invalid category:  Breaking News\n",
      "Invalid category:  Best of r/science\n",
      "Invalid category:  Deaths + injuries\n",
      "Invalid category:  Subreddit News\n",
      "Invalid category:  PDF - Psychology\n",
      "Invalid category:  Misleading\n",
      "Invalid category:  Pet for Better Mental Health\n",
      "Invalid category:  Tornado! Talk Severe Weather Research &amp; Prediction with NOAA\n",
      "Invalid category:  Retraction\n",
      "Invalid category:  Subreddit News\n",
      "Invalid category:  Forensic Chemistry\n",
      "Invalid category:  fucntion test ama\n",
      "Invalid category:  fucntion test ama\n",
      "Invalid category:  Subreddit Feature\n",
      "Invalid category:  Conservation Panel Discussion \n",
      "Invalid category:  Conservation Panel Discussion \n",
      "Invalid category:  Conservation Panel Discussion \n",
      "Invalid category:  Conservation Panel Discussion \n",
      "Invalid category:  Conservation Panel Discussion \n",
      "Invalid category:  Conservation Panel Discussion \n",
      "Invalid category:  Conservation Panel Discussion \n",
      "Invalid category:  Conservation Panel Discussion \n",
      "Invalid category:  Conservation Panel Discussion \n",
      "Invalid category:  Psychology - Author in Comments\n",
      "Invalid category:  Conservation Panel Discussion \n",
      "Invalid category:  Breaking News\n",
      "Invalid category:  Antarctic Paleontology\n",
      "Invalid category:  Subreddit Feature\n",
      "Invalid category:  Subreddit Feature\n",
      "Invalid category:  Underwater Robots\n",
      "Invalid category:  /r/science @ SXSW\n",
      "Invalid category:  American Geophysical Union\n",
      "Invalid category:  Realistic Robots\n",
      "Invalid category:  Not-quite-crazy Physics\n",
      "Invalid category:  Mechanical Engineering\n",
      "Invalid category:  In Mice\n",
      "Invalid category:  Subreddit Rule Change\n",
      "Invalid category:  In Mice\n",
      "Invalid category:  Dietary Guidelines\n",
      "Invalid category:  Air Purification\n",
      "Invalid category:  Breaking News\n",
      "Invalid category:  Includes treatment\n",
      "Invalid category:  Subreddit News\n",
      "Invalid category:  Subreddit News\n",
      "Invalid category:  Breaking News\n",
      "Invalid category:  Breaking News\n",
      "Invalid category:  Breaking News\n",
      "Invalid category:  Breaking News\n",
      "Invalid category:  Subreddit News\n",
      "Invalid category:  Best of r/science\n",
      "Invalid category:  Subreddit News\n",
      "Invalid category:  Breaking News\n",
      "Invalid category:  Retraction\n",
      "Invalid category:  Breaking News\n",
      "Invalid category:  Breaking News\n",
      "Invalid category:  Breaking News\n",
      "Invalid category:  Breaking News\n",
      "Invalid category:  Extending the healthy lifespan\n",
      "Invalid category:  DNA Day Series | Genomics\n",
      "Invalid category:  DNA Day Series | Regeneron Pharmaceuticals\n",
      "Invalid category:  DNA Day Series | National Society of Genetic Counselors\n",
      "Invalid category:  DNA Day Series | The Cancer Genome Atlas\n",
      "Invalid category:  DNA Day Series | National Institutes of Health\n",
      "Invalid category:  Sonia and Eric | Prion Disease | Broad Institute\n",
      "Invalid category:  Psychology: Potentially Misleading Title\n",
      "Invalid category:  Official /r/Science Experiment Results\n",
      "Invalid category:  Fungal Pathogens\n",
      "Invalid category:  News\n",
      "Invalid category:  RETRACTED - Social Science\n",
      "Invalid category:  RETRACTED - Social Science\n",
      "Invalid category:  RETRACTED - Epidemiology\n",
      "Invalid category:  Breaking News\n",
      "Invalid category:  Breaking News\n",
      "Invalid category:  Breaking News\n",
      "Invalid category:  Breaking News\n",
      "Invalid category:  News\n",
      "Invalid category:  test\n",
      "Invalid category:  test\n",
      "Invalid category:  Food Chemistry\n",
      "Invalid category:  NASA Kepler Mission\n",
      "Invalid category:  Harmful Algal Bloom Oceanography\n",
      "Invalid category:  Subreddit Policy\n",
      "Invalid category:  Best of r/science\n",
      "Invalid category:  Best of r/science\n",
      "Invalid category:  Meta\n",
      "Invalid category:  Psychopathic Behavior\n",
      "Invalid category:  Building the World’s Largest Telescope\n",
      "Invalid category:  Meta\n",
      "Invalid category:  Best of r/science\n",
      "Invalid category:  Announcement\n",
      "Invalid category:  Meta\n",
      "Invalid category:  Climate Change Communication\n",
      "Invalid category:  AMA Audio\n",
      "Invalid category:  Neuroscience training\n",
      "Invalid category:  Subreddit Feature\n",
      "Invalid category:  Science AMA Policies\n",
      "Invalid category:  In a Petri Dish\n",
      "Invalid category:  Meta\n",
      "Invalid category:  Ice on Mars\n",
      "Invalid category:  Subreddit News\n",
      "Invalid category:  Breaking News\n",
      "Invalid category:  Breaking News\n",
      "Invalid category:  Breaking News\n",
      "Invalid category:  Breaking News\n",
      "Invalid category:  Breaking News\n",
      "Invalid category:  Breaking News\n",
      "Invalid category:  Breaking News\n",
      "Invalid category:  Breaking News\n"
     ]
    }
   ],
   "execution_count": 11
  },
  {
   "metadata": {
    "ExecuteTime": {
     "end_time": "2024-10-25T18:28:52.819494Z",
     "start_time": "2024-10-25T18:28:52.815177Z"
    }
   },
   "cell_type": "code",
   "source": [
    "# Number of fails: \n",
    "print(f\"Number of invalid categories: {len(invalid_categories)}\")\n",
    "print(f\"Number of invalid posts: {len(invalid_posts)}\")\n",
    "print(f\"Number of posts with no title: {num_no_title}\")\n",
    "print(f\"Number of posts with no category: {num_no_category}\")\n",
    "print(f\"Number of invalid files: {len(invalid_files)}\")\n",
    "print(f\"Number of irrelevant categories: {num_irrelevant_categories}\")"
   ],
   "id": "c0cec5857e772ce8",
   "outputs": [
    {
     "name": "stdout",
     "output_type": "stream",
     "text": [
      "Number of invalid categories: 78\n",
      "Number of invalid posts: 164\n",
      "Number of posts with no title: 0\n",
      "Number of posts with no category: 0\n",
      "Number of invalid files: 1\n",
      "Number of irrelevant categories: 121544\n"
     ]
    }
   ],
   "execution_count": 12
  },
  {
   "metadata": {
    "ExecuteTime": {
     "end_time": "2024-10-25T18:30:36.363573Z",
     "start_time": "2024-10-25T18:30:36.359743Z"
    }
   },
   "cell_type": "code",
   "source": [
    "# Sort invalid categories by number of occurences\n",
    "sorted_invalid_categories = sorted(invalid_categories.items(), key=lambda x: x[1], reverse=True)\n",
    "print(sorted_invalid_categories)\n"
   ],
   "id": "ac869bfd2f02e77c",
   "outputs": [
    {
     "name": "stdout",
     "output_type": "stream",
     "text": [
      "[('Breaking News', 34), ('Conservation Panel Discussion ', 10), ('Meta', 8), ('Subreddit News', 8), ('Best of r/science', 7), ('Retraction', 6), ('Misleading Title', 4), ('Subreddit Feature', 4), ('News', 3), ('RETRACTED - Epidemiology', 3), ('RETRACTED - Medicine', 3), ('Diversity in STEM', 2), ('RETRACTED - Biology', 2), ('Subreddit Policy', 2), ('fucntion test ama', 2), ('In Mice', 2), ('RETRACTED - Social Science', 2), ('test', 2), ('Planetary Exploration', 1), ('Ape Communication', 1), ('Swimming Pool Chemistry', 1), ('History of Science', 1), ('Possibly Misleading', 1), ('Science Communication', 1), ('Marine Ecology in Coastal Systems', 1), ('Hurricane Research', 1), ('Battery Discussion Series', 1), ('Science Political Action', 1), ('AMA: Microbes, Health, and Society', 1), ('Net Neutrality', 1), ('Citizen science and the Flint water crisis', 1), ('Test post, ignore', 1), ('Extremophiles', 1), ('Adolescent Health', 1), ('RETRACTED - Health', 1), ('Unanswered Questions in Science', 1), ('Modpost', 1), ('Computational Science', 1), ('Deaths + injuries', 1), ('PDF - Psychology', 1), ('Misleading', 1), ('Pet for Better Mental Health', 1), ('Tornado! Talk Severe Weather Research &amp; Prediction with NOAA', 1), ('Forensic Chemistry', 1), ('Psychology - Author in Comments', 1), ('Antarctic Paleontology', 1), ('Underwater Robots', 1), ('/r/science @ SXSW', 1), ('American Geophysical Union', 1), ('Realistic Robots', 1), ('Not-quite-crazy Physics', 1), ('Mechanical Engineering', 1), ('Subreddit Rule Change', 1), ('Dietary Guidelines', 1), ('Air Purification', 1), ('Includes treatment', 1), ('Extending the healthy lifespan', 1), ('DNA Day Series | Genomics', 1), ('DNA Day Series | Regeneron Pharmaceuticals', 1), ('DNA Day Series | National Society of Genetic Counselors', 1), ('DNA Day Series | The Cancer Genome Atlas', 1), ('DNA Day Series | National Institutes of Health', 1), ('Sonia and Eric | Prion Disease | Broad Institute', 1), ('Psychology: Potentially Misleading Title', 1), ('Official /r/Science Experiment Results', 1), ('Fungal Pathogens', 1), ('Food Chemistry', 1), ('NASA Kepler Mission', 1), ('Harmful Algal Bloom Oceanography', 1), ('Psychopathic Behavior', 1), ('Building the World’s Largest Telescope', 1), ('Announcement', 1), ('Climate Change Communication', 1), ('AMA Audio', 1), ('Neuroscience training', 1), ('Science AMA Policies', 1), ('In a Petri Dish', 1), ('Ice on Mars', 1)]\n"
     ]
    }
   ],
   "execution_count": 16
  },
  {
   "metadata": {},
   "cell_type": "code",
   "outputs": [],
   "execution_count": null,
   "source": "",
   "id": "686688a70b18d506"
  }
 ],
 "metadata": {
  "kernelspec": {
   "display_name": "Python 3",
   "language": "python",
   "name": "python3"
  },
  "language_info": {
   "codemirror_mode": {
    "name": "ipython",
    "version": 2
   },
   "file_extension": ".py",
   "mimetype": "text/x-python",
   "name": "python",
   "nbconvert_exporter": "python",
   "pygments_lexer": "ipython2",
   "version": "2.7.6"
  }
 },
 "nbformat": 4,
 "nbformat_minor": 5
}
