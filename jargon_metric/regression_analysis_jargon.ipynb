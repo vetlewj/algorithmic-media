{
 "cells": [
  {
   "cell_type": "code",
   "id": "initial_id",
   "metadata": {
    "collapsed": true,
    "ExecuteTime": {
     "end_time": "2024-10-28T18:16:03.828652Z",
     "start_time": "2024-10-28T18:16:03.602874Z"
    }
   },
   "source": [
    "import os\n",
    "\n",
    "import pandas as pd\n",
    "import numpy as np\n",
    "import matplotlib.pyplot as plt\n",
    "import seaborn as sns\n",
    "import statsmodels.api as sm\n",
    "from statsmodels.formula.api import ols\n",
    "from sklearn.linear_model import LinearRegression\n",
    "from sklearn.model_selection import train_test_split\n",
    "from sklearn.metrics import mean_squared_error\n",
    "from sklearn.metrics import r2_score\n",
    "from tqdm import tqdm"
   ],
   "outputs": [],
   "execution_count": 25
  },
  {
   "metadata": {
    "ExecuteTime": {
     "end_time": "2024-10-28T18:17:59.991207Z",
     "start_time": "2024-10-28T18:17:52.892517Z"
    }
   },
   "cell_type": "code",
   "source": [
    "# Load data\n",
    "data = pd.DataFrame(columns=['jargon_proportion', 'score', 'num_comments', 'link_flair_text', 'year', 'month'])\n",
    "for file in tqdm(os.listdir('../data/r_science_jargon_metrics/')):\n",
    "    year = file.split('_')[2]\n",
    "    month = file.split('_')[3].split('.')[0]\n",
    "    df = pd.read_csv(f'../data/r_science_jargon_metrics/{file}')\n",
    "    df = df[['jargon_proportion', 'score', 'num_comments', 'link_flair_text']]\n",
    "    df.dropna(inplace=True)\n",
    "    df[\"year\"] = year\n",
    "    df[\"month\"] = month\n",
    "    data = pd.concat([data, df])\n",
    "# save to csv\n",
    "data.to_csv('../data/summed_for_regression.csv')\n",
    "        "
   ],
   "id": "6a404656e4fe6394",
   "outputs": [
    {
     "name": "stderr",
     "output_type": "stream",
     "text": [
      "  0%|          | 0/83 [00:00<?, ?it/s]/var/folders/mj/c1h2qjbd7xxbxxm05x_mmd580000gn/T/ipykernel_46617/2645736411.py:11: FutureWarning: The behavior of DataFrame concatenation with empty or all-NA entries is deprecated. In a future version, this will no longer exclude empty or all-NA columns when determining the result dtypes. To retain the old behavior, exclude the relevant entries before the concat operation.\n",
      "  data = pd.concat([data, df])\n",
      "100%|██████████| 83/83 [00:05<00:00, 14.11it/s]\n"
     ]
    }
   ],
   "execution_count": 30
  },
  {
   "metadata": {
    "ExecuteTime": {
     "end_time": "2024-10-28T18:18:02.597948Z",
     "start_time": "2024-10-28T18:18:02.584710Z"
    }
   },
   "cell_type": "code",
   "source": "data.head()\n",
   "id": "f28292bde6a80752",
   "outputs": [
    {
     "data": {
      "text/plain": [
       "   jargon_proportion score  num_comments link_flair_text  year month\n",
       "0           0.176471     1           0.0      Psychology  2017    06\n",
       "2           0.171429    39           7.0      Psychology  2017    06\n",
       "4           0.000000     2           0.0     Nanoscience  2017    06\n",
       "6           0.285714     1           0.0       Chemistry  2017    06\n",
       "8           0.000000     1           1.0        Medicine  2017    06"
      ],
      "text/html": [
       "<div>\n",
       "<style scoped>\n",
       "    .dataframe tbody tr th:only-of-type {\n",
       "        vertical-align: middle;\n",
       "    }\n",
       "\n",
       "    .dataframe tbody tr th {\n",
       "        vertical-align: top;\n",
       "    }\n",
       "\n",
       "    .dataframe thead th {\n",
       "        text-align: right;\n",
       "    }\n",
       "</style>\n",
       "<table border=\"1\" class=\"dataframe\">\n",
       "  <thead>\n",
       "    <tr style=\"text-align: right;\">\n",
       "      <th></th>\n",
       "      <th>jargon_proportion</th>\n",
       "      <th>score</th>\n",
       "      <th>num_comments</th>\n",
       "      <th>link_flair_text</th>\n",
       "      <th>year</th>\n",
       "      <th>month</th>\n",
       "    </tr>\n",
       "  </thead>\n",
       "  <tbody>\n",
       "    <tr>\n",
       "      <th>0</th>\n",
       "      <td>0.176471</td>\n",
       "      <td>1</td>\n",
       "      <td>0.0</td>\n",
       "      <td>Psychology</td>\n",
       "      <td>2017</td>\n",
       "      <td>06</td>\n",
       "    </tr>\n",
       "    <tr>\n",
       "      <th>2</th>\n",
       "      <td>0.171429</td>\n",
       "      <td>39</td>\n",
       "      <td>7.0</td>\n",
       "      <td>Psychology</td>\n",
       "      <td>2017</td>\n",
       "      <td>06</td>\n",
       "    </tr>\n",
       "    <tr>\n",
       "      <th>4</th>\n",
       "      <td>0.000000</td>\n",
       "      <td>2</td>\n",
       "      <td>0.0</td>\n",
       "      <td>Nanoscience</td>\n",
       "      <td>2017</td>\n",
       "      <td>06</td>\n",
       "    </tr>\n",
       "    <tr>\n",
       "      <th>6</th>\n",
       "      <td>0.285714</td>\n",
       "      <td>1</td>\n",
       "      <td>0.0</td>\n",
       "      <td>Chemistry</td>\n",
       "      <td>2017</td>\n",
       "      <td>06</td>\n",
       "    </tr>\n",
       "    <tr>\n",
       "      <th>8</th>\n",
       "      <td>0.000000</td>\n",
       "      <td>1</td>\n",
       "      <td>1.0</td>\n",
       "      <td>Medicine</td>\n",
       "      <td>2017</td>\n",
       "      <td>06</td>\n",
       "    </tr>\n",
       "  </tbody>\n",
       "</table>\n",
       "</div>"
      ]
     },
     "execution_count": 31,
     "metadata": {},
     "output_type": "execute_result"
    }
   ],
   "execution_count": 31
  },
  {
   "metadata": {
    "ExecuteTime": {
     "end_time": "2024-10-28T17:14:21.349441Z",
     "start_time": "2024-10-28T17:14:21.152550Z"
    }
   },
   "cell_type": "code",
   "source": "data.corr()",
   "id": "558e2e943647a469",
   "outputs": [
    {
     "data": {
      "text/plain": [
       "                   jargon_proportion     score  num_comments      year  \\\n",
       "jargon_proportion           1.000000  0.018308      0.016920  0.021668   \n",
       "score                       0.018308  1.000000      0.648986  0.052664   \n",
       "num_comments                0.016920  0.648986      1.000000  0.047010   \n",
       "year                        0.021668  0.052664      0.047010  1.000000   \n",
       "month                       0.006009  0.011895      0.012083  0.009016   \n",
       "\n",
       "                      month  \n",
       "jargon_proportion  0.006009  \n",
       "score              0.011895  \n",
       "num_comments       0.012083  \n",
       "year               0.009016  \n",
       "month              1.000000  "
      ],
      "text/html": [
       "<div>\n",
       "<style scoped>\n",
       "    .dataframe tbody tr th:only-of-type {\n",
       "        vertical-align: middle;\n",
       "    }\n",
       "\n",
       "    .dataframe tbody tr th {\n",
       "        vertical-align: top;\n",
       "    }\n",
       "\n",
       "    .dataframe thead th {\n",
       "        text-align: right;\n",
       "    }\n",
       "</style>\n",
       "<table border=\"1\" class=\"dataframe\">\n",
       "  <thead>\n",
       "    <tr style=\"text-align: right;\">\n",
       "      <th></th>\n",
       "      <th>jargon_proportion</th>\n",
       "      <th>score</th>\n",
       "      <th>num_comments</th>\n",
       "      <th>year</th>\n",
       "      <th>month</th>\n",
       "    </tr>\n",
       "  </thead>\n",
       "  <tbody>\n",
       "    <tr>\n",
       "      <th>jargon_proportion</th>\n",
       "      <td>1.000000</td>\n",
       "      <td>0.018308</td>\n",
       "      <td>0.016920</td>\n",
       "      <td>0.021668</td>\n",
       "      <td>0.006009</td>\n",
       "    </tr>\n",
       "    <tr>\n",
       "      <th>score</th>\n",
       "      <td>0.018308</td>\n",
       "      <td>1.000000</td>\n",
       "      <td>0.648986</td>\n",
       "      <td>0.052664</td>\n",
       "      <td>0.011895</td>\n",
       "    </tr>\n",
       "    <tr>\n",
       "      <th>num_comments</th>\n",
       "      <td>0.016920</td>\n",
       "      <td>0.648986</td>\n",
       "      <td>1.000000</td>\n",
       "      <td>0.047010</td>\n",
       "      <td>0.012083</td>\n",
       "    </tr>\n",
       "    <tr>\n",
       "      <th>year</th>\n",
       "      <td>0.021668</td>\n",
       "      <td>0.052664</td>\n",
       "      <td>0.047010</td>\n",
       "      <td>1.000000</td>\n",
       "      <td>0.009016</td>\n",
       "    </tr>\n",
       "    <tr>\n",
       "      <th>month</th>\n",
       "      <td>0.006009</td>\n",
       "      <td>0.011895</td>\n",
       "      <td>0.012083</td>\n",
       "      <td>0.009016</td>\n",
       "      <td>1.000000</td>\n",
       "    </tr>\n",
       "  </tbody>\n",
       "</table>\n",
       "</div>"
      ]
     },
     "execution_count": 14,
     "metadata": {},
     "output_type": "execute_result"
    }
   ],
   "execution_count": 14
  },
  {
   "metadata": {
    "ExecuteTime": {
     "end_time": "2024-10-28T17:16:15.085571Z",
     "start_time": "2024-10-28T17:16:14.831724Z"
    }
   },
   "cell_type": "code",
   "source": [
    "\n",
    "model = ols(\"score ~ jargon_proportion\", data=data)\n",
    "results = model.fit()\n",
    "print(results.summary())\n"
   ],
   "id": "f8aad9001ff3f3df",
   "outputs": [
    {
     "name": "stdout",
     "output_type": "stream",
     "text": [
      "                            OLS Regression Results                            \n",
      "==============================================================================\n",
      "Dep. Variable:                  score   R-squared:                       0.000\n",
      "Model:                            OLS   Adj. R-squared:                  0.000\n",
      "Method:                 Least Squares   F-statistic:                     66.71\n",
      "Date:                Mon, 28 Oct 2024   Prob (F-statistic):           3.16e-16\n",
      "Time:                        10:16:15   Log-Likelihood:            -2.0009e+06\n",
      "No. Observations:              198977   AIC:                         4.002e+06\n",
      "Df Residuals:                  198975   BIC:                         4.002e+06\n",
      "Df Model:                           1                                         \n",
      "Covariance Type:            nonrobust                                         \n",
      "=====================================================================================\n",
      "                        coef    std err          t      P>|t|      [0.025      0.975]\n",
      "-------------------------------------------------------------------------------------\n",
      "Intercept           861.6893     17.855     48.262      0.000     826.695     896.684\n",
      "jargon_proportion   821.4894    100.575      8.168      0.000     624.364    1018.614\n",
      "==============================================================================\n",
      "Omnibus:                   276280.227   Durbin-Watson:                   2.038\n",
      "Prob(Omnibus):                  0.000   Jarque-Bera (JB):         60249241.608\n",
      "Skew:                           8.348   Prob(JB):                         0.00\n",
      "Kurtosis:                      86.596   Cond. No.                         8.09\n",
      "==============================================================================\n",
      "\n",
      "Notes:\n",
      "[1] Standard Errors assume that the covariance matrix of the errors is correctly specified.\n"
     ]
    }
   ],
   "execution_count": 18
  },
  {
   "metadata": {},
   "cell_type": "code",
   "outputs": [],
   "execution_count": null,
   "source": "",
   "id": "3acf9d3d1776c114"
  }
 ],
 "metadata": {
  "kernelspec": {
   "display_name": "Python 3",
   "language": "python",
   "name": "python3"
  },
  "language_info": {
   "codemirror_mode": {
    "name": "ipython",
    "version": 2
   },
   "file_extension": ".py",
   "mimetype": "text/x-python",
   "name": "python",
   "nbconvert_exporter": "python",
   "pygments_lexer": "ipython2",
   "version": "2.7.6"
  }
 },
 "nbformat": 4,
 "nbformat_minor": 5
}
