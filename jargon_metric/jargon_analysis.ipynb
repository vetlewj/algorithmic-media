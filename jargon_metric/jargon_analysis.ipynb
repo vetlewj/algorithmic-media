{
 "cells": [
  {
   "metadata": {},
   "cell_type": "code",
   "outputs": [],
   "execution_count": null,
   "source": [
    "import pandas as pd\n",
    "import numpy as np\n",
    "import matplotlib.pyplot as plt\n",
    "import seaborn as sns\n",
    "\n",
    "df = pd.read_csv(\"../data/combined_for_analysis_sensationalism_jargon_categories_domain_labels.csv\")\n",
    "df[\"log_score\"] = np.log(df[\"score\"] + 1)\n",
    "\n",
    "df.dropna(inplace=True)\n",
    "df[\"top_domain\"] = \"other\"\n",
    "for domain in [\"is_top_domain_repo\", \"is_top_domain_news\", \"is_top_domain_scientific\", \"is_top_domain_social_media\",\"is_top_domain_scam\"]:\n",
    "    # set domain column to a value\n",
    "    df.loc[df[domain], \"top_domain\"] = \" \".join(domain.split(\"_\")[3:])\n",
    "df.info()\n",
    "df"
   ],
   "id": "bfc4905674b76bd0"
  },
  {
   "metadata": {},
   "cell_type": "code",
   "outputs": [],
   "execution_count": null,
   "source": [
    "domain_order_for_hue = [\"repo\", \"scientific\", \"news\", \"social_media\", \"scam\"]\n",
    "selected_categories = [\"Medicine\", \"Engineering\", \"Economics\", \"Social Science\", \"Computer Science\", \"Epidemiology\"]\n",
    "top_categories_order = [\"Life Sciences\", \"Social Sciences\", \"Environmental Sciences\", \"Engineering & Technology\", \"Physical Sciences\"]"
   ],
   "id": "a423407dd139ad2f"
  },
  {
   "metadata": {},
   "cell_type": "markdown",
   "source": "# Jargon over different domains and categories",
   "id": "130d908c1e48948"
  },
  {
   "metadata": {},
   "cell_type": "code",
   "outputs": [],
   "execution_count": null,
   "source": [
    "plt.figure(figsize=(12, 6))\n",
    "\n",
    "sns_plot = sns.barplot(data=df, x = \"year\", y = \"jargon_proportion\", hue=\"label_voting_manual\", hue_order=domain_order_for_hue)\n",
    "plt.title(\"Jargon Proportion over Different Domains over time\")\n",
    "plt.xlabel(\"Year\")\n",
    "plt.ylabel(\"Jargon Proportion\")\n",
    "plt.legend(title=\"Domain Category\", loc=\"upper right\", handles = sns_plot.get_legend_handles_labels()[0] + [plt.Line2D([], [], color=\"black\", label=\"Confidence Interval (99%)\")])\n",
    "# add line for the jargon proportion trends\n",
    "#sns.lineplot(data=df, x=\"year\", y=\"jargon_proportion\", hue=\"label_voting_manual\", hue_order=domain_order_for_hue, legend=False)\n",
    "plt.show()\n",
    "# TODO regress jargon on the domain"
   ],
   "id": "f0934019bdf04acf"
  },
  {
   "metadata": {},
   "cell_type": "code",
   "outputs": [],
   "execution_count": null,
   "source": [
    "# How does jargon in domains relate over different link flairs\n",
    "# fig width\n",
    "plt.figure(figsize=(12, 6))\n",
    "sns_plot = sns.barplot(data=df, x=\"top_category\", y=\"jargon_proportion\", hue=\"label_voting_manual\",  hue_order=[\"repo\", \"scientific\", \"news\", \"social_media\", \"scam\"], order=top_categories_order, errorbar=(\"ci\", 99))\n",
    "plt.xticks(rotation=45)\n",
    "handles = sns_plot.get_legend_handles_labels()\n",
    "# add error bars for the 50th percentile to the legend\n",
    "plt.legend(title=\"Domain Category\", loc=\"upper right\", handles = handles[0] + [plt.Line2D([], [], color=\"black\", label=\"Confidence Interval (99%)\")])\n",
    "plt.title(\"Jargon Proportion over Different Categories and Domains\")\n",
    "plt.xlabel(\"Category\")\n",
    "plt.ylabel(\"Jargon Proportion\")"
   ],
   "id": "f79f0ff9bad6ba55"
  },
  {
   "metadata": {},
   "cell_type": "code",
   "outputs": [],
   "execution_count": null,
   "source": [
    "\n",
    "plt.figure(figsize=(12, 6))\n",
    "sns_plot = sns.barplot(data=df[df[\"link_flair_text\"].isin(selected_categories)], x=\"link_flair_text\", y=\"jargon_proportion\", hue=\"label_voting_manual\",  hue_order=domain_order_for_hue, order=selected_categories)\n",
    "plt.legend(title=\"Domain Category\", loc=\"upper right\", handles = sns_plot.get_legend_handles_labels()[0] + [plt.Line2D([], [], color=\"black\", label=\"Confidence Interval (99%)\")])\n",
    "plt.xticks(rotation=45)"
   ],
   "id": "650620f8f20351e4"
  },
  {
   "metadata": {},
   "cell_type": "code",
   "outputs": [],
   "execution_count": null,
   "source": [
    "\n",
    "plt.figure(figsize=(12, 6))\n",
    "sns_plot = sns.barplot(data=df[df[\"link_flair_text\"].isin(selected_categories)], x=\"link_flair_text\", y=\"score\", hue=\"label_voting_manual\",  hue_order=domain_order_for_hue, order=selected_categories)\n",
    "plt.legend(title=\"Domain Category\", loc=\"upper right\", handles = sns_plot.get_legend_handles_labels()[0] + [plt.Line2D([], [], color=\"black\", label=\"Confidence Interval (99%)\")])\n",
    "plt.xticks(rotation=45)\n",
    "# TODO does this also translate to the score?"
   ],
   "id": "4fab12b8a97ceae4"
  },
  {
   "metadata": {},
   "cell_type": "code",
   "outputs": [],
   "execution_count": null,
   "source": [
    "sns_plot = sns.lineplot(data=df, x=\"year\", y=\"jargon_proportion\", hue=\"link_flair_text\", palette =\"rocket\", hue_order=selected_categories)\n",
    "sns_plot.legend(bbox_to_anchor=(1.05, .95), loc='upper left', borderaxespad=0.)\n"
   ],
   "id": "2210631fd6eb9850"
  },
  {
   "metadata": {},
   "cell_type": "markdown",
   "source": "# Jargon Development over the years",
   "id": "9994bd1bb03e1a77"
  },
  {
   "metadata": {},
   "cell_type": "code",
   "outputs": [],
   "execution_count": null,
   "source": [
    "pal_id = \"Set2\"\n",
    "\n",
    "sns_plot = sns.lineplot(data=df, x=\"year\", y=\"jargon_proportion\", hue=\"top_category\")\n",
    "\n",
    "sns_plot.legend(bbox_to_anchor=(1.05, .95), loc='upper left', borderaxespad=0.)\n",
    "plt.title(\"Jargon Proportion in Scientific Domains over years\")\n",
    "plt.xlabel(\"Year\")\n",
    "plt.ylabel(\"Jargon Proportion\")\n",
    "\n",
    "\n"
   ],
   "id": "b644cb1161db0614"
  },
  {
   "metadata": {},
   "cell_type": "code",
   "outputs": [],
   "execution_count": null,
   "source": [
    "g = sns.FacetGrid(df, col=\"top_category\", col_wrap=2, height=4, sharey=True)\n",
    "\n",
    "def plot_table(data, color, **kwargs):\n",
    "    average_jargon = data.groupby(\"link_flair_text\")[\"jargon_proportion\"].mean().sort_values(ascending=False)\n",
    "    top_category = data[\"top_category\"].iloc[0]\n",
    "    palette = sns.color_palette(pal_id, len(average_jargon))\n",
    "    sns_plot = sns.lineplot(data=data, x=\"year\", y=\"jargon_proportion\", hue=\"link_flair_text\", **kwargs, legend=False, palette=palette,hue_order=average_jargon.index)\n",
    "    sns_plot.legend(title=top_category, loc=\"upper right\", handles = [ plt.Line2D([], [], color=palette[i], label=flair) for (i, flair) in enumerate(average_jargon.index)])\n",
    "    sns_plot.set_title(top_category)\n",
    "    plt.ylabel(\"Jargon Proportion\")\n",
    "\n",
    "    \n",
    "\n",
    "g.map_dataframe(plot_table)\n",
    "unique_top_categories = df[\"top_category\"].unique()\n",
    "# Create a custom legend\n",
    "handles = []\n",
    "for i, cat in enumerate(unique_top_categories):\n",
    "    flairs = df[df[\"top_category\"] == cat][\"link_flair_text\"].unique()\n",
    "    handles.append(plt.Line2D([], [], color=\"white\", label=f\"\\n{cat}\"))\n",
    "    palette = sns.color_palette(pal_id, len(flairs))\n",
    "    for i, flair in enumerate(flairs):\n",
    "        handles.append(\n",
    "            plt.Line2D([], [], color=palette[i], label=flair)\n",
    "        )\n",
    "\n",
    "plt.legend(handles=handles, title=\"Reddit Categories (Grouped by Field)\", loc=\"center left\", bbox_to_anchor=(1, 0.5), ncol=2)\n",
    "plt.subplots_adjust(right=0.85)"
   ],
   "id": "74c0e427401519dd"
  },
  {
   "metadata": {},
   "cell_type": "code",
   "outputs": [],
   "execution_count": null,
   "source": "# genetics over the years\n",
   "id": "fa8f23cbcbd40350"
  },
  {
   "metadata": {},
   "cell_type": "code",
   "outputs": [],
   "execution_count": null,
   "source": "sns_plot = sns.lineplot(data=df, x=\"month\", y=\"jargon_proportion\", hue=\"year\", palette=\"magma\")",
   "id": "6e309dbb7693597"
  },
  {
   "metadata": {},
   "cell_type": "code",
   "outputs": [],
   "execution_count": null,
   "source": [
    "# normalized jargon by year\n",
    "# show the same as above normalized over the yearly average\n",
    "yearly_averages = df.groupby(by=\"year\")[\"jargon_proportion\"].mean()\n",
    "df[\"jargon_norm_year\"] = df.apply(\n",
    "    lambda x: x[\"jargon_proportion\"] - yearly_averages[ x[\"year\"]],\n",
    "    axis = 1\n",
    ")"
   ],
   "id": "ba3c6f989af3c3ff"
  },
  {
   "metadata": {},
   "cell_type": "code",
   "outputs": [],
   "execution_count": null,
   "source": "sns_plot = sns.lineplot(data=df, x=\"month\", y=\"jargon_norm_year\", hue=\"year\", palette=\"magma\")\n",
   "id": "aaa5398f6b2e0ec7"
  },
  {
   "metadata": {},
   "cell_type": "code",
   "outputs": [],
   "execution_count": null,
   "source": "sns_plot = sns.lineplot(data=df, x=\"month\", y=\"score\", hue=\"year\", palette=\"magma\")",
   "id": "5fb67faf9eb959e3"
  },
  {
   "metadata": {},
   "cell_type": "code",
   "outputs": [],
   "execution_count": null,
   "source": [
    "# normalized jargon by year\n",
    "# show the same as above normalized over the yearly average\n",
    "yearly_averages = df.groupby(by=\"year\")[\"score\"].mean()\n",
    "df[\"score_year_norm\"] = df.apply(\n",
    "    lambda x: x[\"score\"] - yearly_averages[ x[\"year\"]],\n",
    "    axis = 1\n",
    ")"
   ],
   "id": "c9f256314542a974"
  },
  {
   "metadata": {},
   "cell_type": "code",
   "outputs": [],
   "execution_count": null,
   "source": "sns.lineplot(data=df, x=\"month\", y=\"score_year_norm\", hue=\"year\", palette=\"magma\")\n",
   "id": "5ae8a548b2b9856a"
  },
  {
   "metadata": {},
   "cell_type": "code",
   "outputs": [],
   "execution_count": null,
   "source": "sns.lineplot(data=df, x=\"year\", y=\"score\", palette=\"magma\")\n",
   "id": "d73d999413597ae8"
  },
  {
   "metadata": {},
   "cell_type": "code",
   "outputs": [],
   "execution_count": null,
   "source": [
    "df['year_month'] = df.apply(lambda x: str(x['year']) + '_' + str(x['month']), axis=1)\n",
    "\n",
    "# Convert year_month to datetime for proper ordering\n",
    "df['year_month'] = pd.to_datetime(df['year_month'], format='%Y_%m')\n",
    "\n",
    "# Sort the DataFrame by year_month\n",
    "df = df.sort_values('year_month')\n",
    "\n",
    "# Plot the line plot\n",
    "plt.figure(figsize=(12, 6))\n",
    "sns.lmplot(data=df, x=\"month\", y=\"score\", scatter=False, legend=False)\n",
    "sns.lineplot(data=df, x=\"month\", y=\"score\", palette=\"magma\")\n",
    "\n",
    "plt.title('Score Over Months')\n",
    "plt.xlabel('Month')\n",
    "plt.ylabel('Score')\n",
    "plt.show()"
   ],
   "id": "77572f109bad3bc1"
  },
  {
   "metadata": {},
   "cell_type": "markdown",
   "source": "# Jargon Propotion over different categories",
   "id": "9e4207016b33ceef"
  },
  {
   "metadata": {},
   "cell_type": "code",
   "outputs": [],
   "execution_count": null,
   "source": [
    "average_jargon = df.groupby(\"top_category\")[\"jargon_proportion\"].mean().sort_values(ascending=False)\n",
    "median_jargon = df.groupby(\"top_category\")[\"jargon_proportion\"].median().sort_values(ascending=False)\n",
    "median_df = pd.DataFrame({\n",
    "    \"top_category\": median_jargon.index,\n",
    "    \"median_jargon_proportion\": median_jargon.values\n",
    "})\n",
    "\n",
    "plot = sns.barplot(data=df, x=\"top_category\", y=\"jargon_proportion\", errorbar=(\"ci\", 99),  order=average_jargon.index, palette=\"rocket\")\n",
    "plot.set_xticklabels(plot.get_xticklabels(), rotation=45)\n",
    "plt.title(\"Average Jargon Proportion by Reddit Category\")\n",
    "# add legend for error\n",
    "plt.legend(title=\"Error  bars\", loc=\"upper right\", labels=[\"Confidence Interval (99%)\"])\n",
    "plt.xlabel(\"Category\")\n",
    "plt.ylabel(\"Average Jargon Proportion\")\n",
    "# add a dot for the median in this\n",
    "sns.scatterplot(data=median_df, x=\"top_category\", y=\"median_jargon_proportion\", s=100, hue=\"top_category\", palette=\"rocket_r\", legend=False)"
   ],
   "id": "7863263906d28dc3"
  },
  {
   "metadata": {},
   "cell_type": "code",
   "outputs": [],
   "execution_count": null,
   "source": [
    "plt.figure(figsize=(12, 6))\n",
    "average_jargon = df.groupby(\"link_flair_text\")[\"jargon_proportion\"].mean().sort_values(ascending=False)\n",
    "median_jargon = df.groupby(\"link_flair_text\")[\"jargon_proportion\"].median().sort_values(ascending=False)\n",
    "median_df = pd.DataFrame({\n",
    "    \"link_flair_text\": median_jargon.index,\n",
    "    \"median_jargon_proportion\": median_jargon.values\n",
    "})\n",
    "\n",
    "plot = sns.barplot(data=df, x=\"link_flair_text\", y=\"jargon_proportion\", errorbar=(\"ci\", 99),  order=average_jargon.index, palette=\"rocket\")\n",
    "plot.set_xticklabels(plot.get_xticklabels(), rotation=45)\n",
    "plt.title(\"Average Jargon Proportion by Reddit Category\")\n",
    "# add legend for error\n",
    "plt.legend(title=\"Error  bars\", loc=\"upper right\", labels=[\"Confidence Interval (99%)\"])\n",
    "plt.xlabel(\"Category\")\n",
    "plt.ylabel(\"Average Jargon Proportion\")\n",
    "# add a dot for the median in this\n",
    "sns.scatterplot(data=median_df, x=\"link_flair_text\", y=\"median_jargon_proportion\", s=10, hue=\"link_flair_text\", palette=\"rocket_r\", legend=False)"
   ],
   "id": "e946dd1f172da19e"
  },
  {
   "metadata": {},
   "cell_type": "code",
   "outputs": [],
   "execution_count": null,
   "source": [
    "plt.figure(figsize=(12, 6))\n",
    "average_jargon = df.groupby(\"link_flair_text\")[\"score\"].mean().sort_values(ascending=False)\n",
    "median_jargon = df.groupby(\"link_flair_text\")[\"score\"].median().sort_values(ascending=False)\n",
    "median_df = pd.DataFrame({\n",
    "    \"link_flair_text\": median_jargon.index,\n",
    "    \"median_jargon_proportion\": median_jargon.values\n",
    "})\n",
    "\n",
    "plot = sns.barplot(data=df, x=\"link_flair_text\", y=\"score\", errorbar=(\"ci\", 99),  order=average_jargon.index, palette=\"rocket\")\n",
    "plot.set_xticklabels(plot.get_xticklabels(), rotation=45)\n",
    "plt.title(\"Average Score by Reddit Category\")\n",
    "# add legend for error\n",
    "plt.legend(title=\"Error  bars\", loc=\"upper right\", labels=[\"Percentile Interval (50%)\"])\n",
    "plt.xlabel(\"Category\")\n",
    "plt.ylabel(\"Average Score\")\n",
    "# add a dot for the median in this\n",
    "sns.scatterplot(data=median_df, x=\"link_flair_text\", y=\"median_jargon_proportion\", s=10, hue=\"link_flair_text\", palette=\"rocket_r\", legend=False)"
   ],
   "id": "eedb575b644e912b"
  },
  {
   "metadata": {},
   "cell_type": "markdown",
   "source": "# Jargon Distribution",
   "id": "c36780e613bb4edd"
  },
  {
   "metadata": {},
   "cell_type": "code",
   "outputs": [],
   "execution_count": null,
   "source": [
    "score_distribution = df['score'].value_counts().sort_index()\n",
    "sns.scatterplot( x = score_distribution.index, y =  score_distribution.values, s=2)\n",
    "plt.xscale('log')\n",
    "plt.yscale('log')\n",
    "plt.xlabel('Score (log scale)')\n",
    "plt.ylabel('Frequency (log scale)')\n",
    "plt.title('Power-Law Distribution of Scores')"
   ],
   "id": "58a35562ed265942"
  },
  {
   "metadata": {},
   "cell_type": "code",
   "outputs": [],
   "execution_count": null,
   "source": [
    "sns.displot(df, x = \"jargon_proportion\", kind=\"kde\", fill=True, hue=\"top_category\")\n",
    "plt.title('Distribution of Jargon Proportion')"
   ],
   "id": "7b269ea460e1649b"
  },
  {
   "metadata": {},
   "cell_type": "markdown",
   "source": " # Jargon regression and scatters",
   "id": "69ba87c1ff4684f4"
  },
  {
   "metadata": {},
   "cell_type": "code",
   "outputs": [],
   "execution_count": null,
   "source": [
    "plt.figure(figsize=(12, 6))\n",
    "sns_plot = sns.lmplot(data=df, x=\"jargon_proportion\", y=\"log_score\", hue=\"top_category\", hue_order=top_categories_order, legend=False, palette=pal_id, scatter=False)\n",
    "sns.kdeplot(data=df, x=\"jargon_proportion\", y=\"log_score\", levels=3, alpha=0.5, legend=False, hue_order=top_categories_order, hue=\"top_category\", palette=pal_id)\n",
    "handles = [plt.Line2D([], [], color=sns.color_palette(pal_id, len(domain_order_for_hue))[i], label=domain) for i, domain in enumerate(top_categories_order)]\n",
    "sns_plot.add_legend(title=\"Science Category\", handles=handles)\n",
    "plt.ylabel(\"Log-transformed Score\")\n",
    "plt.xlabel(\"Jargon Proportion\")"
   ],
   "id": "a553b38a56bf4d58"
  },
  {
   "metadata": {},
   "cell_type": "code",
   "outputs": [],
   "execution_count": null,
   "source": [
    "plt.figure(figsize=(12, 6))\n",
    "sns_plot = sns.lmplot(data=df[df[\"jargon_proportion\"] > 0], x=\"jargon_proportion\", y=\"log_score\", hue=\"top_category\", hue_order=top_categories_order, legend=False, palette=pal_id, scatter=False)\n",
    "sns.kdeplot(data=df[df[\"jargon_proportion\"] > 0], x=\"jargon_proportion\", y=\"log_score\", levels=3, alpha=0.5, legend=False, hue_order=top_categories_order, hue=\"top_category\", palette=pal_id)\n",
    "handles = [plt.Line2D([], [], color=sns.color_palette(pal_id, len(domain_order_for_hue))[i], label=domain) for i, domain in enumerate(top_categories_order)]\n",
    "sns_plot.add_legend(title=\"Science Category\", handles=handles)\n",
    "plt.ylabel(\"Log-transformed Score\")\n",
    "plt.xlabel(\"Jargon Proportion\")"
   ],
   "id": "205bb7a8bfba34ef"
  },
  {
   "metadata": {},
   "cell_type": "code",
   "outputs": [],
   "execution_count": null,
   "source": [
    "plt.figure(figsize=(12, 6))\n",
    "sns_plot = sns.lmplot(data=df, x=\"jargon_proportion\", y=\"log_score\", hue=\"label_voting_manual\", hue_order=domain_order_for_hue, legend=False, palette=pal_id, scatter=False)\n",
    "sns.kdeplot(data=df, x=\"jargon_proportion\", y=\"log_score\", levels=3, alpha=0.5, legend=False, hue_order=domain_order_for_hue, hue=\"label_voting_manual\", palette=pal_id)\n",
    "handles = [plt.Line2D([], [], color=sns.color_palette(pal_id, len(domain_order_for_hue))[i], label=domain) for i, domain in enumerate(domain_order_for_hue)]\n",
    "sns_plot.add_legend(title=\"Domain Category\", handles=handles)\n",
    "plt.ylabel(\"Log-transformed Score\")\n",
    "plt.xlabel(\"Jargon Proportion\")\n"
   ],
   "id": "90e59f0db26cfabb"
  },
  {
   "metadata": {},
   "cell_type": "code",
   "outputs": [],
   "execution_count": null,
   "source": [
    "plt.figure(figsize=(12, 6))\n",
    "sns_plot = sns.lmplot(data=df[df[\"jargon_proportion\"] > 0], x=\"jargon_proportion\", y=\"log_score\", hue=\"label_voting_manual\", hue_order=domain_order_for_hue, legend=False, palette=pal_id, scatter=False)\n",
    "sns.kdeplot(data=df[df[\"jargon_proportion\"] > 0], x=\"jargon_proportion\", y=\"log_score\", levels=3, alpha=0.5, legend=False, hue_order=domain_order_for_hue, hue=\"label_voting_manual\", palette=pal_id)\n",
    "handles = [plt.Line2D([], [], color=sns.color_palette(pal_id, len(domain_order_for_hue))[i], label=domain) for i, domain in enumerate(domain_order_for_hue)]\n",
    "sns_plot.add_legend(title=\"Domain Category\", handles=handles)\n",
    "plt.ylabel(\"Log-transformed Score\")\n",
    "plt.xlabel(\"Jargon Proportion\")\n"
   ],
   "id": "6930fdb2c9a54592"
  },
  {
   "metadata": {},
   "cell_type": "code",
   "outputs": [],
   "execution_count": null,
   "source": [
    "filtered_df = df[df[\"link_flair_text\"].isin(selected_categories) & df[\"jargon_proportion\"] > 0]\n",
    "plt.figure(figsize=(12, 6))\n",
    "# Create a faceted plot with separate plots for each category\n",
    "sns_plot = sns.lmplot(data=filtered_df, x=\"jargon_proportion\", y=\"log_score\", col=\"link_flair_text\", col_order=selected_categories, col_wrap=2, height=4, hue=\"label_voting_manual\", hue_order=domain_order_for_hue, palette=pal_id, legend=False, scatter=False)\n",
    "\n",
    "sns_plot.map(sns.kdeplot, \"jargon_proportion\", \"log_score\", levels=3, alpha=0.5, legend=False)\n",
    "\n",
    "# Set axis labels for clarity\n",
    "sns_plot.set_axis_labels(\"Jargon Proportion\", \"Log-transformed Score\")\n",
    "sns_plot.set_titles(\"{col_name}\")\n",
    "\n",
    "# Add a legend\n",
    "handles = [plt.Line2D([], [], color=sns.color_palette(pal_id, len(domain_order_for_hue))[i], label=domain) for i, domain in enumerate(domain_order_for_hue)]\n",
    "sns_plot.add_legend(title=\"Domain Category\", loc=\"center right\", handles=handles )\n",
    "\n",
    "# Show the plot\n",
    "# add some space above\n",
    "plt.subplots_adjust(top=0.9)\n",
    "\n",
    "sns_plot.fig.suptitle(\"Jargon vs. Log-transformed Score by Category\")"
   ],
   "id": "5bdbf5b992fa27ca"
  },
  {
   "metadata": {},
   "cell_type": "code",
   "outputs": [],
   "execution_count": null,
   "source": [
    "plt.figure(figsize=(12, 6))\n",
    "# Create a faceted plot with separate plots for each category\n",
    "sns_plot = sns.lmplot(data=df, x=\"jargon_proportion\", y=\"log_score\", col=\"top_category\", col_order=top_categories_order, col_wrap=2, height=4, hue=\"link_flair_text\", palette=pal_id, legend=False, scatter=False)\n",
    "\n",
    "sns_plot.map(sns.kdeplot, \"jargon_proportion\", \"log_score\", levels=3, alpha=0.5, legend=False)\n",
    "\n",
    "# Set axis labels for clarity\n",
    "sns_plot.set_axis_labels(\"Jargon Proportion\", \"Log-transformed Score\")\n",
    "sns_plot.set_titles(\"{col_name}\")\n",
    "\n",
    "# Add a legend\n",
    "\n",
    "handles = []\n",
    "for cate in top_categories_order:\n",
    "    flairs = df[df[\"top_category\"] == cate][\"link_flair_text\"].unique()\n",
    "    # add sub header:\n",
    "    handles.append(plt.Line2D([], [], color=\"white\", label=f\"\\n{cate}\"))\n",
    "    handles.extend([plt.Line2D([], [], color=sns.color_palette(pal_id, len(flairs))[i], label=flair) for i, flair in enumerate(flairs)])\n",
    "sns_plot.add_legend(title=\"Domain Category\", loc=\"center right\", handles=handles )\n",
    "\n",
    "# Show the plot\n",
    "# add some space above\n",
    "plt.subplots_adjust(top=0.9)\n",
    "\n",
    "sns_plot.fig.suptitle(\"Jargon vs. Log-transformed Score by Category\")"
   ],
   "id": "bd65ad547fd0a9a8"
  },
  {
   "metadata": {},
   "cell_type": "code",
   "outputs": [],
   "execution_count": null,
   "source": [
    "g = sns.FacetGrid(df, col=\"top_category\", col_wrap=2, height=4, sharey=True)\n",
    "\n",
    "def plot_table(data, color, **kwargs):\n",
    "    top_category = data[\"top_category\"].iloc[0]\n",
    "    link_flairs = data[\"link_flair_text\"].unique()\n",
    "    sns_plot = sns.lmplot(data=data, x=\"jargon_proportion\", y=\"log_score\", hue=\"link_flair_text\", palette=pal_id, scatter=False)\n",
    "    sns.kdeplot(data= data, x= \"jargon_proportion\",y= \"log_score\", levels=3, alpha=0.5, legend=False, hue=\"link_flair_text\", palette=pal_id)\n",
    "    sns_plot.legend(title=top_category, loc=\"upper right\", handles = [ plt.Line2D([], [], color=palette[i], label=flair) for (i, flair) in enumerate(link_flairs)])\n",
    "    sns_plot.set_title(top_category)\n",
    "    plt.ylabel(\"Log-transformed Score\")\n",
    "    plt.xlabel(\"Jargon Proportion\")\n",
    "\n",
    "    \n",
    "\n",
    "g.map_dataframe(plot_table)\n",
    "unique_top_categories = df[\"top_category\"].unique()\n",
    "# Create a custom legend\n",
    "handles = []\n",
    "for i, cat in enumerate(unique_top_categories):\n",
    "    flairs = df[df[\"top_category\"] == cat][\"link_flair_text\"].unique()\n",
    "    handles.append(plt.Line2D([], [], color=\"white\", label=f\"\\n{cat}\"))\n",
    "    palette = sns.color_palette(pal_id, len(flairs))\n",
    "    for i, flair in enumerate(flairs):\n",
    "        handles.append(\n",
    "            plt.Line2D([], [], color=palette[i], label=flair)\n",
    "        )\n",
    "\n",
    "plt.legend(handles=handles, title=\"Reddit Categories (Grouped by Field)\", loc=\"center left\", bbox_to_anchor=(1, 0.5), ncol=2)\n",
    "plt.subplots_adjust(right=0.85)"
   ],
   "id": "d66d54a3e6b2ddfc"
  },
  {
   "metadata": {},
   "cell_type": "code",
   "outputs": [],
   "execution_count": null,
   "source": [
    "handles = []\n",
    "for cate in top_categories_order:\n",
    "    flairs = df[df[\"top_category\"] == cate][\"link_flair_text\"].unique()\n",
    "    # add sub header:\n",
    "    handles.append(plt.Line2D([], [], color=\"white\", label=f\"\\n{cate}\"))\n",
    "    handles.extend([plt.Line2D([], [], color=sns.color_palette(pal_id, len(flairs))[i], label=flair) for i, flair in enumerate(flairs)])\n",
    "sns_plot.add_legend(title=\"Domain Category\", loc=\"center right\", handles=handles )\n",
    "sns_plot.add_legend(title=\"Domain Category\", loc=\"center right\", handles=handles )\n"
   ],
   "id": "beb13ea88161a2fa"
  },
  {
   "metadata": {},
   "cell_type": "code",
   "outputs": [],
   "execution_count": null,
   "source": "sns.lmplot(data=df[df[\"link_flair_text\"] == \"Computer Science\"], x=\"sensationalism_score\", y=\"log_score\", scatter_kws={'s':2})",
   "id": "8d083ef4a956d215"
  },
  {
   "metadata": {},
   "cell_type": "code",
   "outputs": [],
   "execution_count": null,
   "source": [
    "df[\"score_plus_one\"] = df[\"score\"] + 1\n",
    "sns.lmplot(data=df[df[\"link_flair_text\"] == \"Computer Science\"], x=\"jargon_proportion\", y=\"score_plus_one\", scatter_kws={'s':2})\n",
    "sns.histplot(data=df[df[\"link_flair_text\"] == \"Computer Science\"], x=\"jargon_proportion\", y= \"score_plus_one\", bins=20, cbar=True, pmax=.3, pthresh=.05, log_scale=(False, True))"
   ],
   "id": "3e03b15ee4f9eacd"
  },
  {
   "metadata": {},
   "cell_type": "code",
   "outputs": [],
   "execution_count": null,
   "source": "",
   "id": "8a302723a685f76b"
  },
  {
   "metadata": {},
   "cell_type": "markdown",
   "source": "",
   "id": "b0743c9bdab3af81"
  },
  {
   "metadata": {},
   "cell_type": "code",
   "outputs": [],
   "execution_count": null,
   "source": [
    "# plot boxplot of scores for each interval of jargon_proportion (0-1, 1-10, 10-20, ...)\n",
    "\n",
    "bins = [0, 5, 20, 35, 50, 65, 80]\n",
    "labels = ['[0, 5)', '[5, 20)', '[20, 35)', '[35, 50)', '[50, 65)', '[65, 80)']\n",
    "\n",
    "\n",
    "df['jargon_interval'] = pd.cut(df['jargon_proportion'] * 100, bins=bins, labels=labels, right=False)\n",
    "\n",
    "# Plot the boxplot\n",
    "plt.figure(figsize=(12, 6))\n",
    "sns.boxplot(data=df, x='jargon_interval', y='score')\n",
    "\n",
    "plt.title('Boxplot of Scores for Each Interval of Jargon Proportion')\n",
    "plt.xlabel('Jargon Proportion Interval (%)')\n",
    "plt.ylabel('Score')\n",
    "plt.yscale(\"log\")\n",
    "plt.xticks(rotation=45)\n",
    "\n",
    "\n",
    "\n"
   ],
   "id": "28272b7844ae46ba"
  },
  {
   "metadata": {},
   "cell_type": "code",
   "outputs": [],
   "execution_count": null,
   "source": [
    "sns.lmplot(df, x= \"jargon_proportion\", y = \"log_score\", hue='jargon_interval', scatter=False)\n",
    "sns.kdeplot(df, x= \"jargon_proportion\", y = \"log_score\", hue='jargon_interval', legend=False)"
   ],
   "id": "58cbf427b0eeff6"
  },
  {
   "metadata": {},
   "cell_type": "code",
   "outputs": [],
   "execution_count": null,
   "source": [
    "plt.figure(figsize=(12,6))\n",
    "line_kws = {'linestyle': '--', 'linewidth': 2}\n",
    "sns.lmplot(df, x= \"jargon_proportion\", y = \"score\", hue='jargon_interval', scatter=False, line_kws=line_kws)\n",
    "\n",
    "plt.yscale('log')\n",
    "\n",
    "plt.figure(figsize=(12, 6))\n",
    "sns.kdeplot(df, x='jargon_proportion')\n",
    "\n"
   ],
   "id": "394a291c029a45c4"
  },
  {
   "metadata": {},
   "cell_type": "code",
   "outputs": [],
   "execution_count": null,
   "source": [
    "# show me how the proportion for each top_category changed over the years\n",
    "import pandas as pd\n",
    "\n",
    "# Assuming df is your DataFrame\n",
    "# Group by year and top_category and count the number of posts\n",
    "category_counts = df.groupby(['year', 'top_category']).size().reset_index(name='count')\n",
    "\n",
    "# Calculate the total number of posts per year\n",
    "total_counts_per_year = df.groupby('year').size().reset_index(name='total_count')\n",
    "\n",
    "# Merge the counts with the total counts per year\n",
    "category_proportions = pd.merge(category_counts, total_counts_per_year, on='year')\n",
    "\n",
    "# Calculate the proportion of each category per year\n",
    "category_proportions['proportion'] = category_proportions['count'] / category_proportions['total_count']\n",
    "\n",
    "# Display the result\n",
    "print(category_proportions)\n",
    "category_counts = df.groupby(['year', 'top_category']).size().reset_index(name='count')\n",
    "\n",
    "# Calculate the total number of posts per year\n",
    "total_counts_per_year = df.groupby('year').size().reset_index(name='total_count')\n",
    "\n",
    "# Merge the counts with the total counts per year\n",
    "category_proportions = pd.merge(category_counts, total_counts_per_year, on='year')\n",
    "\n",
    "# Calculate the proportion of each category per year\n",
    "category_proportions['proportion'] = category_proportions['count'] / category_proportions['total_count']\n",
    "\n",
    "# Plot the lineplot\n",
    "plt.figure(figsize=(12, 6))\n",
    "sns.lineplot(data=category_proportions, x='year', y='proportion', hue='top_category', marker='o')\n",
    "plt.title('Proportion of Posts for Each Category per Year')\n",
    "plt.xlabel('Year')\n",
    "plt.ylabel('Proportion of Posts')\n",
    "plt.legend(title='Top Category', bbox_to_anchor=(1.05, 1), loc='upper left')\n",
    "plt.grid(True)\n",
    "plt.show()"
   ],
   "id": "c374b924d9bda4d6"
  },
  {
   "metadata": {},
   "cell_type": "code",
   "outputs": [],
   "execution_count": null,
   "source": [
    "sns.displot(\n",
    "    data=df[df['top_category'] == \"Life Sciences\"],\n",
    "    x=\"year\",\n",
    "    hue=\"link_flair_text\",\n",
    "    kind=\"hist\",\n",
    "    multiple=\"fill\",\n",
    "    palette=pal_id\n",
    ")"
   ],
   "id": "eb77996dad2d9548"
  },
  {
   "metadata": {},
   "cell_type": "code",
   "outputs": [],
   "execution_count": null,
   "source": "",
   "id": "23f8a7b19b49fe68"
  },
  {
   "metadata": {},
   "cell_type": "code",
   "outputs": [],
   "execution_count": null,
   "source": [
    "import pandas as pd\n",
    "\n",
    "# Filter the DataFrame for rows where 'jargon_proportion' is between 0 and 0.05\n",
    "filtered_df = df[(df['jargon_proportion'] > 0) & (df['jargon_proportion'] < 0.05) & (df['score'] > 1) ]\n",
    "\n",
    "sns.regplot(df,x = 'jargon_proportion', y = 'score')\n",
    "plt.yscale('log')\n",
    "\n",
    "\n"
   ],
   "id": "ba2ec87efa53a9a4"
  },
  {
   "metadata": {},
   "cell_type": "code",
   "outputs": [],
   "execution_count": null,
   "source": "",
   "id": "33eafa566c8ea4de"
  }
 ],
 "metadata": {
  "kernelspec": {
   "display_name": "Python 3",
   "language": "python",
   "name": "python3"
  },
  "language_info": {
   "codemirror_mode": {
    "name": "ipython",
    "version": 2
   },
   "file_extension": ".py",
   "mimetype": "text/x-python",
   "name": "python",
   "nbconvert_exporter": "python",
   "pygments_lexer": "ipython2",
   "version": "2.7.6"
  }
 },
 "nbformat": 4,
 "nbformat_minor": 5
}
