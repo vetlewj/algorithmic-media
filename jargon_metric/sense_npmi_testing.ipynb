{
 "cells": [
  {
   "metadata": {},
   "cell_type": "raw",
   "source": [
    "The purpose of this notebook is to investigate some words that may have different meanings based on their subfield. \n",
    "\n",
    "**Conclusion**: Simple exploration into sense showed that even though some words have several meanings across subfields, they would still score high in the type pmi metric. For the purpose of this project, I therefore think we dont need to consider the sense of the words, but can rather just rely on the pmi score from the csv files. \n",
    "\n"
   ],
   "id": "fe3087e13c1e9f16"
  },
  {
   "metadata": {
    "ExecuteTime": {
     "end_time": "2024-10-23T21:01:53.977570Z",
     "start_time": "2024-10-23T21:01:53.974883Z"
    }
   },
   "cell_type": "code",
   "source": "import os",
   "id": "2e59b33994fd18d8",
   "outputs": [],
   "execution_count": 4
  },
  {
   "metadata": {
    "ExecuteTime": {
     "end_time": "2024-10-23T21:01:54.008507Z",
     "start_time": "2024-10-23T21:01:54.005235Z"
    }
   },
   "cell_type": "code",
   "source": [
    "# Some words that I know have different meanings based on their subfield \n",
    "# Note: I started the list with some examples, GPT finished it.\n",
    "ambiguous_words = [\"kernel\", \"model\", \"distribution\", \"network\", \"tree\", \"graph\", \"cluster\", \"vector\", \"space\", \"function\", \"feature\", \"variable\", \"state\", \"agent\", \"memory\", \"attention\", \"action\", \"reward\", \"policy\", \"value\", \"gradient\", \"optimization\", \"loss\", \"error\", \"noise\", \"bias\", \"activation\", \"layer\", \"unit\", \"neuron\", \"weight\", \"training\", \"testing\", \"validation\", \"generalization\", \"overfitting\", \"underfitting\", \"regularization\", \"dropout\", \"batch\", \"epoch\", \"iteration\", \"learning\", \"inference\", \"prediction\", \"generation\", \"representation\", \"embedding\", \"encoding\", \"decoding\", \"attention\", \"translation\", \"generation\", \"captioning\", \"summarization\", \"classification\", \"detection\", \"segmentation\", \"localization\", \"recognition\", \"verification\", \"synthesis\", \"generation\", \"reconstruction\"]\n"
   ],
   "id": "5ec517c6a9c234f5",
   "outputs": [],
   "execution_count": 5
  },
  {
   "metadata": {
    "ExecuteTime": {
     "end_time": "2024-10-23T21:01:54.027647Z",
     "start_time": "2024-10-23T21:01:54.024609Z"
    }
   },
   "cell_type": "code",
   "source": "all_categories = os.listdir(\"data/category\")",
   "id": "f6c09a54f790e3d0",
   "outputs": [],
   "execution_count": 6
  },
  {
   "metadata": {
    "ExecuteTime": {
     "end_time": "2024-10-23T21:02:12.430893Z",
     "start_time": "2024-10-23T21:01:54.040755Z"
    }
   },
   "cell_type": "code",
   "source": [
    "scores: dict = {k:[] for k in ambiguous_words}\n",
    "\n",
    "for word in ambiguous_words:\n",
    "    for category in all_categories:\n",
    "        with open(f\"data/category/{category}\", \"r\") as f:\n",
    "            for line in f:\n",
    "                if word in line:\n",
    "                    scores[word].append((category, line.split(\",\")[1]))\n",
    "                    break\n",
    "    scores[word].sort(key=lambda x: x[1], reverse=True)\n",
    "\n"
   ],
   "id": "cff2e4e5a7ea1811",
   "outputs": [],
   "execution_count": 7
  },
  {
   "metadata": {
    "ExecuteTime": {
     "end_time": "2024-10-23T21:02:12.443769Z",
     "start_time": "2024-10-23T21:02:12.440902Z"
    }
   },
   "cell_type": "code",
   "source": "# print(scores)",
   "id": "89c676ed028c7f53",
   "outputs": [],
   "execution_count": 8
  },
  {
   "metadata": {
    "ExecuteTime": {
     "end_time": "2024-10-23T21:02:12.459530Z",
     "start_time": "2024-10-23T21:02:12.456441Z"
    }
   },
   "cell_type": "code",
   "source": "print(scores[\"kernel\"][:5])",
   "id": "55187c751d747504",
   "outputs": [
    {
     "name": "stdout",
     "output_type": "stream",
     "text": [
      "[('pattern recognition', '0.21420922892873487'), ('parallel computing', '0.20988628666197595'), ('applied mathematics', '0.1823459986838418'), ('machine learning', '0.1781620260781008'), ('OTHER mathematics', '0.17664558150913037')]\n"
     ]
    }
   ],
   "execution_count": 9
  },
  {
   "metadata": {
    "ExecuteTime": {
     "end_time": "2024-10-23T21:02:16.914618Z",
     "start_time": "2024-10-23T21:02:16.911160Z"
    }
   },
   "cell_type": "code",
   "source": "print(scores[\"tree\"][:5])",
   "id": "ec99cef0529ae5b7",
   "outputs": [
    {
     "name": "stdout",
     "output_type": "stream",
     "text": [
      "[('physical chemistry', '0.2102971625050107'), ('combinatorics', '0.1882238401814271'), ('discrete mathematics', '0.16856588338658374'), ('evolutionary biology', '0.15704437397416746'), ('programming language', '0.08755504891782255')]\n"
     ]
    }
   ],
   "execution_count": 11
  },
  {
   "metadata": {
    "ExecuteTime": {
     "end_time": "2024-10-23T21:02:12.713464Z",
     "start_time": "2024-10-23T21:02:12.711024Z"
    }
   },
   "cell_type": "code",
   "source": "",
   "id": "3fe4340f3f218dd4",
   "outputs": [],
   "execution_count": null
  }
 ],
 "metadata": {
  "kernelspec": {
   "display_name": "Python 3",
   "language": "python",
   "name": "python3"
  },
  "language_info": {
   "codemirror_mode": {
    "name": "ipython",
    "version": 2
   },
   "file_extension": ".py",
   "mimetype": "text/x-python",
   "name": "python",
   "nbconvert_exporter": "python",
   "pygments_lexer": "ipython2",
   "version": "2.7.6"
  }
 },
 "nbformat": 4,
 "nbformat_minor": 5
}
