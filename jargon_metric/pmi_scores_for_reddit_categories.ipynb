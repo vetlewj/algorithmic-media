{
 "cells": [
  {
   "metadata": {},
   "cell_type": "markdown",
   "source": "# Creating a list of jargon words for each reddit category",
   "id": "9c7dc2b42620ac6"
  },
  {
   "metadata": {
    "ExecuteTime": {
     "end_time": "2024-10-24T07:35:56.202097Z",
     "start_time": "2024-10-24T07:35:55.858799Z"
    }
   },
   "cell_type": "code",
   "outputs": [],
   "execution_count": 1,
   "source": [
    "import json\n",
    "import pandas as pd"
   ],
   "id": "54dceecdfe8e042f"
  },
  {
   "metadata": {},
   "cell_type": "code",
   "outputs": [],
   "execution_count": null,
   "source": "",
   "id": "fd7d912ef23c9648"
  },
  {
   "metadata": {
    "collapsed": true,
    "ExecuteTime": {
     "end_time": "2024-10-24T07:35:56.230357Z",
     "start_time": "2024-10-24T07:35:56.227141Z"
    }
   },
   "cell_type": "code",
   "source": [
    "# Read reddit_to_csv_categories.json\n",
    "with open('data/reddit_to_csv_categories.json', 'r') as f:\n",
    "    reddit_to_csv_categories = json.load(f)\n",
    "    "
   ],
   "id": "initial_id",
   "outputs": [],
   "execution_count": 2
  },
  {
   "metadata": {
    "ExecuteTime": {
     "end_time": "2024-10-24T07:35:56.356003Z",
     "start_time": "2024-10-24T07:35:56.354312Z"
    }
   },
   "cell_type": "code",
   "source": "",
   "id": "a1e3a9edd0d33ee3",
   "outputs": [],
   "execution_count": null
  },
  {
   "metadata": {
    "ExecuteTime": {
     "end_time": "2024-10-24T07:59:26.445151Z",
     "start_time": "2024-10-24T07:57:14.334757Z"
    }
   },
   "cell_type": "code",
   "source": [
    "# for each category in reddit_to_csv_categories, read the csv file with the corresponding name inside the category folder and add each row with a pmi score over 0.1 to a list representing the category\n",
    "\n",
    "categories_jargon_words = {}\n",
    "\n",
    "for category in reddit_to_csv_categories:\n",
    "    print(f\"Category {list(reddit_to_csv_categories.keys()).index(category)+1} of {len(reddit_to_csv_categories)}\")\n",
    "    subfield_jargon_words = []\n",
    "    for subfield in reddit_to_csv_categories[category]:\n",
    "        df = pd.read_csv(f'data/category/{subfield}')\n",
    "        for index, row in df.iterrows():\n",
    "            if row['pmi'] > 0.1:\n",
    "                subfield_jargon_words.append(row['word'])\n",
    "    categories_jargon_words[category] = subfield_jargon_words\n",
    "    pd.DataFrame(subfield_jargon_words).drop_duplicates().to_csv(f'data/reddit_categories_pmi/{category}', index=False)\n",
    "    "
   ],
   "id": "d6bb13f6ead9f51e",
   "outputs": [
    {
     "name": "stdout",
     "output_type": "stream",
     "text": [
      "Category 1 of 24\n",
      "Category 2 of 24\n",
      "Category 3 of 24\n",
      "Category 4 of 24\n",
      "Category 5 of 24\n",
      "Category 6 of 24\n",
      "Category 7 of 24\n",
      "Category 8 of 24\n",
      "Category 9 of 24\n",
      "Category 10 of 24\n",
      "Category 11 of 24\n",
      "Category 12 of 24\n",
      "Category 13 of 24\n",
      "Category 14 of 24\n",
      "Category 15 of 24\n",
      "Category 16 of 24\n",
      "Category 17 of 24\n",
      "Category 18 of 24\n",
      "Category 19 of 24\n",
      "Category 20 of 24\n",
      "Category 21 of 24\n",
      "Category 22 of 24\n",
      "Category 23 of 24\n",
      "Category 24 of 24\n"
     ]
    }
   ],
   "execution_count": 5
  },
  {
   "metadata": {
    "ExecuteTime": {
     "end_time": "2024-10-24T07:36:05.240520Z",
     "start_time": "2024-10-24T07:35:47.924473Z"
    }
   },
   "cell_type": "code",
   "source": "",
   "id": "126a28f5a38702a1",
   "outputs": [],
   "execution_count": null
  }
 ],
 "metadata": {
  "kernelspec": {
   "display_name": "Python 3",
   "language": "python",
   "name": "python3"
  },
  "language_info": {
   "codemirror_mode": {
    "name": "ipython",
    "version": 2
   },
   "file_extension": ".py",
   "mimetype": "text/x-python",
   "name": "python",
   "nbconvert_exporter": "python",
   "pygments_lexer": "ipython2",
   "version": "2.7.6"
  }
 },
 "nbformat": 4,
 "nbformat_minor": 5
}
