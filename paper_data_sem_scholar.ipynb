{
 "cells": [
  {
   "cell_type": "code",
   "execution_count": null,
   "id": "initial_id",
   "metadata": {
    "collapsed": true
   },
   "outputs": [],
   "source": [
    "# Request to this api: \n",
    "# https://api.semanticscholar.org/graph/v1/paper/search/match?query=Discovering differences in the representation\n",
    "# Gives this data: \n",
    "{\n",
    "    \"data\": [\n",
    "        {\n",
    "            \"paperId\": \"7f5801f8036e71658a12d16203617b2ab25ef14f\",\n",
    "            \"title\": \"Discovering Differences in the Representation of People using Contextualized Semantic Axes\",\n",
    "            \"matchScore\": 80.19562\n",
    "        }\n",
    "    ]\n",
    "}\n",
    "\n",
    "# Then request to this api to get the paper details: https://api.semanticscholar.org/graph/v1/paper/7f5801f8036e71658a12d16203617b2ab25ef14f\n",
    "\n",
    "\n",
    "\n"
   ]
  }
 ],
 "metadata": {
  "kernelspec": {
   "display_name": "Python 3",
   "language": "python",
   "name": "python3"
  },
  "language_info": {
   "codemirror_mode": {
    "name": "ipython",
    "version": 2
   },
   "file_extension": ".py",
   "mimetype": "text/x-python",
   "name": "python",
   "nbconvert_exporter": "python",
   "pygments_lexer": "ipython2",
   "version": "2.7.6"
  }
 },
 "nbformat": 4,
 "nbformat_minor": 5
}
